{
 "cells": [
  {
   "cell_type": "markdown",
   "metadata": {
    "id": "tXCZkAYo3kwf"
   },
   "source": [
    "___\n",
    "\n",
    "<p style=\"text-align: center;\"><img src=\"https://docs.google.com/uc?id=1lY0Uj5R04yMY3-ZppPWxqCr5pvBLYPnV\" class=\"img-fluid\" alt=\"CLRSWY\"></p>\n",
    "\n",
    "___"
   ]
  },
  {
   "cell_type": "markdown",
   "metadata": {
    "id": "gAsNz-QL3kwi"
   },
   "source": [
    "<h1 style=\"text-align: center;\">Deep Learning<br><br>Assignment-1 (ANN)<br><br>Churn Prediction for Bank Customer<br><h1>"
   ]
  },
  {
   "cell_type": "markdown",
   "metadata": {
    "id": "F1bS1lCk3kwi"
   },
   "source": [
    "# Dataset Info"
   ]
  },
  {
   "cell_type": "markdown",
   "metadata": {
    "id": "TDj3h5GE3kwi"
   },
   "source": [
    "We have a dataset in which there are details of a bank's customers and the target variable is a binary variable reflecting the fact whether the customer left the bank (closed his account) or he continues to be a customer.\n",
    "\n",
    "The features in the given dataset are:\n",
    "- **rownumber:** Row Numbers from 1 to 10000.\n",
    "- **customerid:** A unique ID that identifies each customer.\n",
    "- **surname:** The customer’s surname.\n",
    "- **creditscore:** A credit score is a number between 300–850 that depicts a consumer's creditworthiness.\n",
    "- **geography:** The country from which the customer belongs to.\n",
    "- **Gender:** The customer’s gender: Male, Female\n",
    "- **Age:** The customer’s current age, in years, at the time of being customer.\n",
    "- **tenure:** The number of years for which the customer has been with the bank.\n",
    "- **balance:** Bank balance of the customer.\n",
    "- **numofproducts:** the number of bank products the customer is utilising.\n",
    "- **hascrcard:** The number of credit cards given to the customer by the bank.\n",
    "- **isactivemember:** Binary Flag for indicating if the client is active or not with the bank before the moment where the client exits the company (recorded in the variable \"exited\")\n",
    "- **exited:** Binary flag 1 if the customer closed account with bank and 0 if the customer is retained."
   ]
  },
  {
   "cell_type": "markdown",
   "metadata": {
    "id": "L2R30Vf_3kwj"
   },
   "source": [
    "# Improt Libraries & Data"
   ]
  },
  {
   "cell_type": "code",
   "execution_count": 5,
   "metadata": {
    "id": "Ya_b1qJz3kwj"
   },
   "outputs": [],
   "source": [
    "import numpy as np\n",
    "import pandas as pd\n",
    "\n",
    "# For visualization\n",
    "import matplotlib.pyplot as plt\n",
    "%matplotlib inline\n",
    "import seaborn as sns\n",
    "pd.options.display.max_rows = None\n",
    "pd.options.display.max_columns = None"
   ]
  },
  {
   "cell_type": "code",
   "execution_count": 6,
   "metadata": {
    "colab": {
     "base_uri": "https://localhost:8080/"
    },
    "id": "0vU7cCUU3kwk",
    "outputId": "6703e3bb-c07d-4f42-b662-364feb0fca8f"
   },
   "outputs": [
    {
     "name": "stdout",
     "output_type": "stream",
     "text": [
      "Drive already mounted at /content/drive; to attempt to forcibly remount, call drive.mount(\"/content/drive\", force_remount=True).\n"
     ]
    }
   ],
   "source": [
    "from google.colab import drive\n",
    "drive.mount('/content/drive')"
   ]
  },
  {
   "cell_type": "code",
   "execution_count": 7,
   "metadata": {
    "colab": {
     "base_uri": "https://localhost:8080/"
    },
    "id": "UUf-2bnosUOC",
    "outputId": "b3563c2e-e6c4-4db4-e8bc-b6f7f05ac2b1"
   },
   "outputs": [
    {
     "data": {
      "text/plain": [
       "(10000, 14)"
      ]
     },
     "execution_count": 7,
     "metadata": {},
     "output_type": "execute_result"
    }
   ],
   "source": [
    "df = pd.read_csv('Churn_Modelling.csv')\n",
    "df.shape"
   ]
  },
  {
   "cell_type": "code",
   "execution_count": 8,
   "metadata": {
    "colab": {
     "base_uri": "https://localhost:8080/"
    },
    "id": "VJ6riUfPsVtq",
    "outputId": "40ab8ab2-ea83-42c0-b06f-2c56b18f2034"
   },
   "outputs": [
    {
     "data": {
      "text/plain": [
       "RowNumber          0\n",
       "CustomerId         0\n",
       "Surname            0\n",
       "CreditScore        0\n",
       "Geography          0\n",
       "Gender             0\n",
       "Age                0\n",
       "Tenure             0\n",
       "Balance            0\n",
       "NumOfProducts      0\n",
       "HasCrCard          0\n",
       "IsActiveMember     0\n",
       "EstimatedSalary    0\n",
       "Exited             0\n",
       "dtype: int64"
      ]
     },
     "execution_count": 8,
     "metadata": {},
     "output_type": "execute_result"
    }
   ],
   "source": [
    "# Check columns list and missing values\n",
    "df.isnull().sum()"
   ]
  },
  {
   "cell_type": "code",
   "execution_count": 9,
   "metadata": {
    "colab": {
     "base_uri": "https://localhost:8080/"
    },
    "id": "oKAwv4j1ssaA",
    "outputId": "a52f81dd-48da-4431-a6d4-ea377b5ae9b0"
   },
   "outputs": [
    {
     "data": {
      "text/plain": [
       "RowNumber          10000\n",
       "CustomerId         10000\n",
       "Surname             2932\n",
       "CreditScore          460\n",
       "Geography              3\n",
       "Gender                 2\n",
       "Age                   70\n",
       "Tenure                11\n",
       "Balance             6382\n",
       "NumOfProducts          4\n",
       "HasCrCard              2\n",
       "IsActiveMember         2\n",
       "EstimatedSalary     9999\n",
       "Exited                 2\n",
       "dtype: int64"
      ]
     },
     "execution_count": 9,
     "metadata": {},
     "output_type": "execute_result"
    }
   ],
   "source": [
    "df.nunique()"
   ]
  },
  {
   "cell_type": "code",
   "execution_count": 10,
   "metadata": {
    "id": "YX0g2a56ss2C"
   },
   "outputs": [],
   "source": [
    "# Drop the columns as explained above\n"
   ]
  },
  {
   "cell_type": "code",
   "execution_count": 11,
   "metadata": {
    "colab": {
     "base_uri": "https://localhost:8080/",
     "height": 206
    },
    "id": "IIABmiFjsW0q",
    "outputId": "7c4efc25-c817-4a3c-f4b4-064dd63857c0"
   },
   "outputs": [
    {
     "data": {
      "text/html": [
       "\n",
       "  <div id=\"df-9b23b2b7-c10c-41c6-a8cb-ac2afaf1ccd3\" class=\"colab-df-container\">\n",
       "    <div>\n",
       "<style scoped>\n",
       "    .dataframe tbody tr th:only-of-type {\n",
       "        vertical-align: middle;\n",
       "    }\n",
       "\n",
       "    .dataframe tbody tr th {\n",
       "        vertical-align: top;\n",
       "    }\n",
       "\n",
       "    .dataframe thead th {\n",
       "        text-align: right;\n",
       "    }\n",
       "</style>\n",
       "<table border=\"1\" class=\"dataframe\">\n",
       "  <thead>\n",
       "    <tr style=\"text-align: right;\">\n",
       "      <th></th>\n",
       "      <th>RowNumber</th>\n",
       "      <th>CustomerId</th>\n",
       "      <th>Surname</th>\n",
       "      <th>CreditScore</th>\n",
       "      <th>Geography</th>\n",
       "      <th>Gender</th>\n",
       "      <th>Age</th>\n",
       "      <th>Tenure</th>\n",
       "      <th>Balance</th>\n",
       "      <th>NumOfProducts</th>\n",
       "      <th>HasCrCard</th>\n",
       "      <th>IsActiveMember</th>\n",
       "      <th>EstimatedSalary</th>\n",
       "      <th>Exited</th>\n",
       "    </tr>\n",
       "  </thead>\n",
       "  <tbody>\n",
       "    <tr>\n",
       "      <th>0</th>\n",
       "      <td>1</td>\n",
       "      <td>15634602</td>\n",
       "      <td>Hargrave</td>\n",
       "      <td>619</td>\n",
       "      <td>France</td>\n",
       "      <td>Female</td>\n",
       "      <td>42</td>\n",
       "      <td>2</td>\n",
       "      <td>0.00</td>\n",
       "      <td>1</td>\n",
       "      <td>1</td>\n",
       "      <td>1</td>\n",
       "      <td>101348.88</td>\n",
       "      <td>1</td>\n",
       "    </tr>\n",
       "    <tr>\n",
       "      <th>1</th>\n",
       "      <td>2</td>\n",
       "      <td>15647311</td>\n",
       "      <td>Hill</td>\n",
       "      <td>608</td>\n",
       "      <td>Spain</td>\n",
       "      <td>Female</td>\n",
       "      <td>41</td>\n",
       "      <td>1</td>\n",
       "      <td>83807.86</td>\n",
       "      <td>1</td>\n",
       "      <td>0</td>\n",
       "      <td>1</td>\n",
       "      <td>112542.58</td>\n",
       "      <td>0</td>\n",
       "    </tr>\n",
       "    <tr>\n",
       "      <th>2</th>\n",
       "      <td>3</td>\n",
       "      <td>15619304</td>\n",
       "      <td>Onio</td>\n",
       "      <td>502</td>\n",
       "      <td>France</td>\n",
       "      <td>Female</td>\n",
       "      <td>42</td>\n",
       "      <td>8</td>\n",
       "      <td>159660.80</td>\n",
       "      <td>3</td>\n",
       "      <td>1</td>\n",
       "      <td>0</td>\n",
       "      <td>113931.57</td>\n",
       "      <td>1</td>\n",
       "    </tr>\n",
       "    <tr>\n",
       "      <th>3</th>\n",
       "      <td>4</td>\n",
       "      <td>15701354</td>\n",
       "      <td>Boni</td>\n",
       "      <td>699</td>\n",
       "      <td>France</td>\n",
       "      <td>Female</td>\n",
       "      <td>39</td>\n",
       "      <td>1</td>\n",
       "      <td>0.00</td>\n",
       "      <td>2</td>\n",
       "      <td>0</td>\n",
       "      <td>0</td>\n",
       "      <td>93826.63</td>\n",
       "      <td>0</td>\n",
       "    </tr>\n",
       "    <tr>\n",
       "      <th>4</th>\n",
       "      <td>5</td>\n",
       "      <td>15737888</td>\n",
       "      <td>Mitchell</td>\n",
       "      <td>850</td>\n",
       "      <td>Spain</td>\n",
       "      <td>Female</td>\n",
       "      <td>43</td>\n",
       "      <td>2</td>\n",
       "      <td>125510.82</td>\n",
       "      <td>1</td>\n",
       "      <td>1</td>\n",
       "      <td>1</td>\n",
       "      <td>79084.10</td>\n",
       "      <td>0</td>\n",
       "    </tr>\n",
       "  </tbody>\n",
       "</table>\n",
       "</div>\n",
       "    <div class=\"colab-df-buttons\">\n",
       "\n",
       "  <div class=\"colab-df-container\">\n",
       "    <button class=\"colab-df-convert\" onclick=\"convertToInteractive('df-9b23b2b7-c10c-41c6-a8cb-ac2afaf1ccd3')\"\n",
       "            title=\"Convert this dataframe to an interactive table.\"\n",
       "            style=\"display:none;\">\n",
       "\n",
       "  <svg xmlns=\"http://www.w3.org/2000/svg\" height=\"24px\" viewBox=\"0 -960 960 960\">\n",
       "    <path d=\"M120-120v-720h720v720H120Zm60-500h600v-160H180v160Zm220 220h160v-160H400v160Zm0 220h160v-160H400v160ZM180-400h160v-160H180v160Zm440 0h160v-160H620v160ZM180-180h160v-160H180v160Zm440 0h160v-160H620v160Z\"/>\n",
       "  </svg>\n",
       "    </button>\n",
       "\n",
       "  <style>\n",
       "    .colab-df-container {\n",
       "      display:flex;\n",
       "      gap: 12px;\n",
       "    }\n",
       "\n",
       "    .colab-df-convert {\n",
       "      background-color: #E8F0FE;\n",
       "      border: none;\n",
       "      border-radius: 50%;\n",
       "      cursor: pointer;\n",
       "      display: none;\n",
       "      fill: #1967D2;\n",
       "      height: 32px;\n",
       "      padding: 0 0 0 0;\n",
       "      width: 32px;\n",
       "    }\n",
       "\n",
       "    .colab-df-convert:hover {\n",
       "      background-color: #E2EBFA;\n",
       "      box-shadow: 0px 1px 2px rgba(60, 64, 67, 0.3), 0px 1px 3px 1px rgba(60, 64, 67, 0.15);\n",
       "      fill: #174EA6;\n",
       "    }\n",
       "\n",
       "    .colab-df-buttons div {\n",
       "      margin-bottom: 4px;\n",
       "    }\n",
       "\n",
       "    [theme=dark] .colab-df-convert {\n",
       "      background-color: #3B4455;\n",
       "      fill: #D2E3FC;\n",
       "    }\n",
       "\n",
       "    [theme=dark] .colab-df-convert:hover {\n",
       "      background-color: #434B5C;\n",
       "      box-shadow: 0px 1px 3px 1px rgba(0, 0, 0, 0.15);\n",
       "      filter: drop-shadow(0px 1px 2px rgba(0, 0, 0, 0.3));\n",
       "      fill: #FFFFFF;\n",
       "    }\n",
       "  </style>\n",
       "\n",
       "    <script>\n",
       "      const buttonEl =\n",
       "        document.querySelector('#df-9b23b2b7-c10c-41c6-a8cb-ac2afaf1ccd3 button.colab-df-convert');\n",
       "      buttonEl.style.display =\n",
       "        google.colab.kernel.accessAllowed ? 'block' : 'none';\n",
       "\n",
       "      async function convertToInteractive(key) {\n",
       "        const element = document.querySelector('#df-9b23b2b7-c10c-41c6-a8cb-ac2afaf1ccd3');\n",
       "        const dataTable =\n",
       "          await google.colab.kernel.invokeFunction('convertToInteractive',\n",
       "                                                    [key], {});\n",
       "        if (!dataTable) return;\n",
       "\n",
       "        const docLinkHtml = 'Like what you see? Visit the ' +\n",
       "          '<a target=\"_blank\" href=https://colab.research.google.com/notebooks/data_table.ipynb>data table notebook</a>'\n",
       "          + ' to learn more about interactive tables.';\n",
       "        element.innerHTML = '';\n",
       "        dataTable['output_type'] = 'display_data';\n",
       "        await google.colab.output.renderOutput(dataTable, element);\n",
       "        const docLink = document.createElement('div');\n",
       "        docLink.innerHTML = docLinkHtml;\n",
       "        element.appendChild(docLink);\n",
       "      }\n",
       "    </script>\n",
       "  </div>\n",
       "\n",
       "\n",
       "<div id=\"df-649ad41a-dcb9-436a-a1c3-0fae6b447321\">\n",
       "  <button class=\"colab-df-quickchart\" onclick=\"quickchart('df-649ad41a-dcb9-436a-a1c3-0fae6b447321')\"\n",
       "            title=\"Suggest charts.\"\n",
       "            style=\"display:none;\">\n",
       "\n",
       "<svg xmlns=\"http://www.w3.org/2000/svg\" height=\"24px\"viewBox=\"0 0 24 24\"\n",
       "     width=\"24px\">\n",
       "    <g>\n",
       "        <path d=\"M19 3H5c-1.1 0-2 .9-2 2v14c0 1.1.9 2 2 2h14c1.1 0 2-.9 2-2V5c0-1.1-.9-2-2-2zM9 17H7v-7h2v7zm4 0h-2V7h2v10zm4 0h-2v-4h2v4z\"/>\n",
       "    </g>\n",
       "</svg>\n",
       "  </button>\n",
       "\n",
       "<style>\n",
       "  .colab-df-quickchart {\n",
       "      --bg-color: #E8F0FE;\n",
       "      --fill-color: #1967D2;\n",
       "      --hover-bg-color: #E2EBFA;\n",
       "      --hover-fill-color: #174EA6;\n",
       "      --disabled-fill-color: #AAA;\n",
       "      --disabled-bg-color: #DDD;\n",
       "  }\n",
       "\n",
       "  [theme=dark] .colab-df-quickchart {\n",
       "      --bg-color: #3B4455;\n",
       "      --fill-color: #D2E3FC;\n",
       "      --hover-bg-color: #434B5C;\n",
       "      --hover-fill-color: #FFFFFF;\n",
       "      --disabled-bg-color: #3B4455;\n",
       "      --disabled-fill-color: #666;\n",
       "  }\n",
       "\n",
       "  .colab-df-quickchart {\n",
       "    background-color: var(--bg-color);\n",
       "    border: none;\n",
       "    border-radius: 50%;\n",
       "    cursor: pointer;\n",
       "    display: none;\n",
       "    fill: var(--fill-color);\n",
       "    height: 32px;\n",
       "    padding: 0;\n",
       "    width: 32px;\n",
       "  }\n",
       "\n",
       "  .colab-df-quickchart:hover {\n",
       "    background-color: var(--hover-bg-color);\n",
       "    box-shadow: 0 1px 2px rgba(60, 64, 67, 0.3), 0 1px 3px 1px rgba(60, 64, 67, 0.15);\n",
       "    fill: var(--button-hover-fill-color);\n",
       "  }\n",
       "\n",
       "  .colab-df-quickchart-complete:disabled,\n",
       "  .colab-df-quickchart-complete:disabled:hover {\n",
       "    background-color: var(--disabled-bg-color);\n",
       "    fill: var(--disabled-fill-color);\n",
       "    box-shadow: none;\n",
       "  }\n",
       "\n",
       "  .colab-df-spinner {\n",
       "    border: 2px solid var(--fill-color);\n",
       "    border-color: transparent;\n",
       "    border-bottom-color: var(--fill-color);\n",
       "    animation:\n",
       "      spin 1s steps(1) infinite;\n",
       "  }\n",
       "\n",
       "  @keyframes spin {\n",
       "    0% {\n",
       "      border-color: transparent;\n",
       "      border-bottom-color: var(--fill-color);\n",
       "      border-left-color: var(--fill-color);\n",
       "    }\n",
       "    20% {\n",
       "      border-color: transparent;\n",
       "      border-left-color: var(--fill-color);\n",
       "      border-top-color: var(--fill-color);\n",
       "    }\n",
       "    30% {\n",
       "      border-color: transparent;\n",
       "      border-left-color: var(--fill-color);\n",
       "      border-top-color: var(--fill-color);\n",
       "      border-right-color: var(--fill-color);\n",
       "    }\n",
       "    40% {\n",
       "      border-color: transparent;\n",
       "      border-right-color: var(--fill-color);\n",
       "      border-top-color: var(--fill-color);\n",
       "    }\n",
       "    60% {\n",
       "      border-color: transparent;\n",
       "      border-right-color: var(--fill-color);\n",
       "    }\n",
       "    80% {\n",
       "      border-color: transparent;\n",
       "      border-right-color: var(--fill-color);\n",
       "      border-bottom-color: var(--fill-color);\n",
       "    }\n",
       "    90% {\n",
       "      border-color: transparent;\n",
       "      border-bottom-color: var(--fill-color);\n",
       "    }\n",
       "  }\n",
       "</style>\n",
       "\n",
       "  <script>\n",
       "    async function quickchart(key) {\n",
       "      const quickchartButtonEl =\n",
       "        document.querySelector('#' + key + ' button');\n",
       "      quickchartButtonEl.disabled = true;  // To prevent multiple clicks.\n",
       "      quickchartButtonEl.classList.add('colab-df-spinner');\n",
       "      try {\n",
       "        const charts = await google.colab.kernel.invokeFunction(\n",
       "            'suggestCharts', [key], {});\n",
       "      } catch (error) {\n",
       "        console.error('Error during call to suggestCharts:', error);\n",
       "      }\n",
       "      quickchartButtonEl.classList.remove('colab-df-spinner');\n",
       "      quickchartButtonEl.classList.add('colab-df-quickchart-complete');\n",
       "    }\n",
       "    (() => {\n",
       "      let quickchartButtonEl =\n",
       "        document.querySelector('#df-649ad41a-dcb9-436a-a1c3-0fae6b447321 button');\n",
       "      quickchartButtonEl.style.display =\n",
       "        google.colab.kernel.accessAllowed ? 'block' : 'none';\n",
       "    })();\n",
       "  </script>\n",
       "</div>\n",
       "    </div>\n",
       "  </div>\n"
      ],
      "text/plain": [
       "   RowNumber  CustomerId   Surname  CreditScore Geography  Gender  Age  \\\n",
       "0          1    15634602  Hargrave          619    France  Female   42   \n",
       "1          2    15647311      Hill          608     Spain  Female   41   \n",
       "2          3    15619304      Onio          502    France  Female   42   \n",
       "3          4    15701354      Boni          699    France  Female   39   \n",
       "4          5    15737888  Mitchell          850     Spain  Female   43   \n",
       "\n",
       "   Tenure    Balance  NumOfProducts  HasCrCard  IsActiveMember  \\\n",
       "0       2       0.00              1          1               1   \n",
       "1       1   83807.86              1          0               1   \n",
       "2       8  159660.80              3          1               0   \n",
       "3       1       0.00              2          0               0   \n",
       "4       2  125510.82              1          1               1   \n",
       "\n",
       "   EstimatedSalary  Exited  \n",
       "0        101348.88       1  \n",
       "1        112542.58       0  \n",
       "2        113931.57       1  \n",
       "3         93826.63       0  \n",
       "4         79084.10       0  "
      ]
     },
     "execution_count": 11,
     "metadata": {},
     "output_type": "execute_result"
    }
   ],
   "source": [
    "df.head()"
   ]
  },
  {
   "cell_type": "code",
   "execution_count": 12,
   "metadata": {
    "colab": {
     "base_uri": "https://localhost:8080/"
    },
    "id": "GOE8OR6gs-j_",
    "outputId": "c67240bc-f5ca-4426-c1fd-bf27c5a8ba12"
   },
   "outputs": [
    {
     "data": {
      "text/plain": [
       "RowNumber            int64\n",
       "CustomerId           int64\n",
       "Surname             object\n",
       "CreditScore          int64\n",
       "Geography           object\n",
       "Gender              object\n",
       "Age                  int64\n",
       "Tenure               int64\n",
       "Balance            float64\n",
       "NumOfProducts        int64\n",
       "HasCrCard            int64\n",
       "IsActiveMember       int64\n",
       "EstimatedSalary    float64\n",
       "Exited               int64\n",
       "dtype: object"
      ]
     },
     "execution_count": 12,
     "metadata": {},
     "output_type": "execute_result"
    }
   ],
   "source": [
    "df.dtypes"
   ]
  },
  {
   "cell_type": "markdown",
   "metadata": {
    "id": "fQeujCw83kwk"
   },
   "source": [
    "# Exploratory Data Analysis and Visualization"
   ]
  },
  {
   "cell_type": "markdown",
   "metadata": {
    "id": "brF-HBGT3kwk"
   },
   "source": [
    "1. Implement basic steps to see how is your data looks like\n",
    "2. Check for missing values\n",
    "3. Drop the features that not suitable for modelling\n",
    "4. Implement basic visualization steps such as histogram, countplot, heatmap\n",
    "5. Convert categorical variables to dummy variables"
   ]
  },
  {
   "cell_type": "code",
   "execution_count": 13,
   "metadata": {
    "colab": {
     "base_uri": "https://localhost:8080/",
     "height": 683
    },
    "id": "wz7_4z2b3kwl",
    "outputId": "ae98f593-827f-4cd8-b31e-c94dd013f09b"
   },
   "outputs": [
    {
     "data": {
      "image/png": "[encoded data removed]",
      "text/plain": [
       "<Figure size 1000x800 with 1 Axes>"
      ]
     },
     "metadata": {},
     "output_type": "display_data"
    }
   ],
   "source": [
    "labels = 'Exited', 'Retained'\n",
    "sizes = [df.Exited[df['Exited']==1].count(), df.Exited[df['Exited']==0].count()]\n",
    "explode = (0, 0.1)\n",
    "fig1, ax1 = plt.subplots(figsize=(10, 8))\n",
    "ax1.pie(sizes, explode=explode, labels=labels, autopct='%1.1f%%',\n",
    "        shadow=True, startangle=90)\n",
    "ax1.axis('equal')\n",
    "plt.title(\"Proportion of customer churned and retained\", size = 20)\n",
    "plt.show()"
   ]
  },
  {
   "cell_type": "markdown",
   "metadata": {
    "id": "MuKGlzsQ3kwl"
   },
   "source": [
    "# Preprocessing of Data\n",
    "- Train | Test Split, Scalling"
   ]
  },
  {
   "cell_type": "code",
   "execution_count": 14,
   "metadata": {
    "colab": {
     "base_uri": "https://localhost:8080/"
    },
    "id": "cW-WXZUh3kwl",
    "outputId": "11c8baff-900e-40b5-ec50-5a71aeda5f94"
   },
   "outputs": [
    {
     "data": {
      "text/plain": [
       "Index(['CreditScore', 'Geography', 'Gender', 'Age', 'Tenure', 'Balance',\n",
       "       'NumOfProducts', 'HasCrCard', 'IsActiveMember', 'EstimatedSalary',\n",
       "       'Exited'],\n",
       "      dtype='object')"
      ]
     },
     "execution_count": 14,
     "metadata": {},
     "output_type": "execute_result"
    }
   ],
   "source": [
    "df.drop(['RowNumber','CustomerId','Surname'], axis=1, inplace=True)\n",
    "df.columns"
   ]
  },
  {
   "cell_type": "code",
   "execution_count": 15,
   "metadata": {
    "id": "NyuS8gcEL93-"
   },
   "outputs": [],
   "source": [
    "df = pd.get_dummies(df,drop_first=True)"
   ]
  },
  {
   "cell_type": "code",
   "execution_count": 16,
   "metadata": {
    "id": "BmmykwVJucb9"
   },
   "outputs": [],
   "source": [
    "from sklearn.model_selection import train_test_split\n",
    "from sklearn.preprocessing import MinMaxScaler"
   ]
  },
  {
   "cell_type": "code",
   "execution_count": 17,
   "metadata": {
    "id": "xsyJM3MPuclm"
   },
   "outputs": [],
   "source": [
    "X = df.drop('Exited', axis=1)\n",
    "y = df['Exited']"
   ]
  },
  {
   "cell_type": "code",
   "execution_count": 18,
   "metadata": {
    "id": "sLSQAYohukb7"
   },
   "outputs": [],
   "source": [
    "seed = 42"
   ]
  },
  {
   "cell_type": "code",
   "execution_count": 19,
   "metadata": {
    "id": "_VMV4xAUuklv"
   },
   "outputs": [],
   "source": [
    "X_train, X_test, y_train, y_test = train_test_split(X, y, stratify = y, test_size = 0.10, random_state = seed)"
   ]
  },
  {
   "cell_type": "code",
   "execution_count": 20,
   "metadata": {
    "id": "HgI1JJWsuyXt"
   },
   "outputs": [],
   "source": [
    "scaler = MinMaxScaler()"
   ]
  },
  {
   "cell_type": "code",
   "execution_count": 21,
   "metadata": {
    "id": "TxDV6RLMuykD"
   },
   "outputs": [],
   "source": [
    "X_train= scaler.fit_transform(X_train)\n",
    "X_test = scaler.transform(X_test)"
   ]
  },
  {
   "cell_type": "code",
   "execution_count": 21,
   "metadata": {
    "id": "MKLNIvDhvDFl"
   },
   "outputs": [],
   "source": []
  },
  {
   "cell_type": "code",
   "execution_count": 21,
   "metadata": {
    "id": "-0RaFihqvDQM"
   },
   "outputs": [],
   "source": []
  },
  {
   "cell_type": "markdown",
   "metadata": {
    "id": "Ha9hDt_AoGaE"
   },
   "source": [
    "# Modelling & Model Performance"
   ]
  },
  {
   "cell_type": "markdown",
   "metadata": {
    "id": "WSsjUxLJ3kwm"
   },
   "source": [
    "## without class_weigth"
   ]
  },
  {
   "cell_type": "markdown",
   "metadata": {
    "id": "FNkMrRsv3kwm"
   },
   "source": [
    "### Create The Model"
   ]
  },
  {
   "cell_type": "code",
   "execution_count": 22,
   "metadata": {
    "id": "pnB3siW-3kwm"
   },
   "outputs": [],
   "source": [
    "import tensorflow as tf\n",
    "from tensorflow.keras.models import Sequential\n",
    "from tensorflow.keras.layers import Dense, Activation\n",
    "from sklearn.metrics import classification_report, confusion_matrix\n",
    "from sklearn.metrics import  roc_auc_score, roc_curve\n",
    "from sklearn.model_selection import cross_val_score, cross_validate\n",
    "from sklearn.model_selection import GridSearchCV"
   ]
  },
  {
   "cell_type": "code",
   "execution_count": 23,
   "metadata": {
    "colab": {
     "base_uri": "https://localhost:8080/"
    },
    "id": "XQvyaBQJyYqj",
    "outputId": "ca7ae6d2-897e-49fa-ec48-7043aacfebbd"
   },
   "outputs": [
    {
     "data": {
      "text/plain": [
       "(9000, 11)"
      ]
     },
     "execution_count": 23,
     "metadata": {},
     "output_type": "execute_result"
    }
   ],
   "source": [
    "X_train.shape"
   ]
  },
  {
   "cell_type": "code",
   "execution_count": 24,
   "metadata": {
    "colab": {
     "base_uri": "https://localhost:8080/"
    },
    "id": "jHq5O10YyY4d",
    "outputId": "fdd8c3b2-fde3-49d3-aa72-15d1f9ed7053"
   },
   "outputs": [
    {
     "data": {
      "text/plain": [
       "(1000, 11)"
      ]
     },
     "execution_count": 24,
     "metadata": {},
     "output_type": "execute_result"
    }
   ],
   "source": [
    "X_test.shape"
   ]
  },
  {
   "cell_type": "code",
   "execution_count": 25,
   "metadata": {
    "id": "lRsjYDTEyuYk"
   },
   "outputs": [],
   "source": [
    "tf.random.set_seed(seed)\n",
    "\n",
    "model = Sequential()\n",
    "\n",
    "model.add(Dense(20, activation = \"relu\", input_dim = X_train.shape[1]))\n",
    "model.add(Dense(10, activation = \"relu\"))\n",
    "model.add(Dense(5, activation = \"relu\"))\n",
    "model.add(Dense(1, activation = \"sigmoid\"))\n",
    "\n",
    "model.compile(optimizer = \"adam\", loss = \"binary_crossentropy\", metrics = [\"accuracy\"])"
   ]
  },
  {
   "cell_type": "code",
   "execution_count": 26,
   "metadata": {
    "colab": {
     "base_uri": "https://localhost:8080/"
    },
    "id": "_JlJB2rKVWZj",
    "outputId": "4bff5c9a-1054-4f66-f55a-b1035cc76262"
   },
   "outputs": [
    {
     "name": "stdout",
     "output_type": "stream",
     "text": [
      "Epoch 1/100\n",
      "254/254 [==============================] - 3s 5ms/step - loss: 0.5107 - accuracy: 0.7962 - val_loss: 0.4638 - val_accuracy: 0.7989\n",
      "Epoch 2/100\n",
      "254/254 [==============================] - 1s 3ms/step - loss: 0.4654 - accuracy: 0.7960 - val_loss: 0.4397 - val_accuracy: 0.7989\n",
      "Epoch 3/100\n",
      "254/254 [==============================] - 1s 2ms/step - loss: 0.4469 - accuracy: 0.7960 - val_loss: 0.4133 - val_accuracy: 0.8078\n",
      "Epoch 4/100\n",
      "254/254 [==============================] - 1s 2ms/step - loss: 0.4296 - accuracy: 0.8070 - val_loss: 0.3950 - val_accuracy: 0.8389\n",
      "Epoch 5/100\n",
      "254/254 [==============================] - 1s 2ms/step - loss: 0.4140 - accuracy: 0.8226 - val_loss: 0.3728 - val_accuracy: 0.8411\n",
      "Epoch 6/100\n",
      "254/254 [==============================] - 1s 2ms/step - loss: 0.3969 - accuracy: 0.8311 - val_loss: 0.3504 - val_accuracy: 0.8756\n",
      "Epoch 7/100\n",
      "254/254 [==============================] - 1s 2ms/step - loss: 0.3805 - accuracy: 0.8417 - val_loss: 0.3343 - val_accuracy: 0.8700\n",
      "Epoch 8/100\n",
      "254/254 [==============================] - 1s 2ms/step - loss: 0.3726 - accuracy: 0.8462 - val_loss: 0.3340 - val_accuracy: 0.8778\n",
      "Epoch 9/100\n",
      "254/254 [==============================] - 1s 2ms/step - loss: 0.3669 - accuracy: 0.8478 - val_loss: 0.3179 - val_accuracy: 0.8778\n",
      "Epoch 10/100\n",
      "254/254 [==============================] - 1s 2ms/step - loss: 0.3635 - accuracy: 0.8493 - val_loss: 0.3147 - val_accuracy: 0.8811\n",
      "Epoch 11/100\n",
      "254/254 [==============================] - 1s 2ms/step - loss: 0.3610 - accuracy: 0.8506 - val_loss: 0.3209 - val_accuracy: 0.8733\n",
      "Epoch 12/100\n",
      "254/254 [==============================] - 1s 2ms/step - loss: 0.3597 - accuracy: 0.8515 - val_loss: 0.3185 - val_accuracy: 0.8811\n",
      "Epoch 13/100\n",
      "254/254 [==============================] - 1s 2ms/step - loss: 0.3587 - accuracy: 0.8522 - val_loss: 0.3144 - val_accuracy: 0.8833\n",
      "Epoch 14/100\n",
      "254/254 [==============================] - 1s 2ms/step - loss: 0.3577 - accuracy: 0.8526 - val_loss: 0.3269 - val_accuracy: 0.8778\n",
      "Epoch 15/100\n",
      "254/254 [==============================] - 1s 2ms/step - loss: 0.3575 - accuracy: 0.8538 - val_loss: 0.3209 - val_accuracy: 0.8844\n",
      "Epoch 16/100\n",
      "254/254 [==============================] - 1s 2ms/step - loss: 0.3559 - accuracy: 0.8506 - val_loss: 0.3089 - val_accuracy: 0.8756\n",
      "Epoch 17/100\n",
      "254/254 [==============================] - 1s 2ms/step - loss: 0.3549 - accuracy: 0.8511 - val_loss: 0.3100 - val_accuracy: 0.8822\n",
      "Epoch 18/100\n",
      "254/254 [==============================] - 1s 2ms/step - loss: 0.3549 - accuracy: 0.8546 - val_loss: 0.3088 - val_accuracy: 0.8844\n",
      "Epoch 19/100\n",
      "254/254 [==============================] - 1s 2ms/step - loss: 0.3547 - accuracy: 0.8485 - val_loss: 0.3085 - val_accuracy: 0.8833\n",
      "Epoch 20/100\n",
      "254/254 [==============================] - 1s 3ms/step - loss: 0.3537 - accuracy: 0.8521 - val_loss: 0.3114 - val_accuracy: 0.8767\n",
      "Epoch 21/100\n",
      "254/254 [==============================] - 1s 5ms/step - loss: 0.3527 - accuracy: 0.8568 - val_loss: 0.3085 - val_accuracy: 0.8856\n",
      "Epoch 22/100\n",
      "254/254 [==============================] - 1s 3ms/step - loss: 0.3526 - accuracy: 0.8547 - val_loss: 0.3095 - val_accuracy: 0.8822\n",
      "Epoch 23/100\n",
      "254/254 [==============================] - 1s 3ms/step - loss: 0.3525 - accuracy: 0.8533 - val_loss: 0.3079 - val_accuracy: 0.8789\n",
      "Epoch 24/100\n",
      "254/254 [==============================] - 1s 3ms/step - loss: 0.3518 - accuracy: 0.8551 - val_loss: 0.3141 - val_accuracy: 0.8833\n",
      "Epoch 25/100\n",
      "254/254 [==============================] - 1s 3ms/step - loss: 0.3508 - accuracy: 0.8532 - val_loss: 0.3062 - val_accuracy: 0.8800\n",
      "Epoch 26/100\n",
      "254/254 [==============================] - 1s 2ms/step - loss: 0.3508 - accuracy: 0.8546 - val_loss: 0.3114 - val_accuracy: 0.8867\n",
      "Epoch 27/100\n",
      "254/254 [==============================] - 1s 2ms/step - loss: 0.3517 - accuracy: 0.8549 - val_loss: 0.3101 - val_accuracy: 0.8833\n",
      "Epoch 28/100\n",
      "254/254 [==============================] - 1s 2ms/step - loss: 0.3484 - accuracy: 0.8543 - val_loss: 0.3077 - val_accuracy: 0.8811\n",
      "Epoch 29/100\n",
      "254/254 [==============================] - 1s 2ms/step - loss: 0.3484 - accuracy: 0.8559 - val_loss: 0.3088 - val_accuracy: 0.8922\n",
      "Epoch 30/100\n",
      "254/254 [==============================] - 1s 2ms/step - loss: 0.3478 - accuracy: 0.8547 - val_loss: 0.3057 - val_accuracy: 0.8833\n",
      "Epoch 31/100\n",
      "254/254 [==============================] - 1s 2ms/step - loss: 0.3480 - accuracy: 0.8547 - val_loss: 0.3059 - val_accuracy: 0.8878\n",
      "Epoch 32/100\n",
      "254/254 [==============================] - 1s 2ms/step - loss: 0.3484 - accuracy: 0.8564 - val_loss: 0.3036 - val_accuracy: 0.8811\n",
      "Epoch 33/100\n",
      "254/254 [==============================] - 1s 2ms/step - loss: 0.3468 - accuracy: 0.8543 - val_loss: 0.3059 - val_accuracy: 0.8800\n",
      "Epoch 34/100\n",
      "254/254 [==============================] - 1s 2ms/step - loss: 0.3479 - accuracy: 0.8574 - val_loss: 0.3059 - val_accuracy: 0.8867\n",
      "Epoch 35/100\n",
      "254/254 [==============================] - 1s 2ms/step - loss: 0.3475 - accuracy: 0.8564 - val_loss: 0.3041 - val_accuracy: 0.8811\n",
      "Epoch 36/100\n",
      "254/254 [==============================] - 1s 2ms/step - loss: 0.3473 - accuracy: 0.8601 - val_loss: 0.3044 - val_accuracy: 0.8867\n",
      "Epoch 37/100\n",
      "254/254 [==============================] - 1s 2ms/step - loss: 0.3455 - accuracy: 0.8575 - val_loss: 0.3059 - val_accuracy: 0.8889\n",
      "Epoch 38/100\n",
      "254/254 [==============================] - 1s 2ms/step - loss: 0.3471 - accuracy: 0.8570 - val_loss: 0.3145 - val_accuracy: 0.8889\n",
      "Epoch 39/100\n",
      "254/254 [==============================] - 1s 2ms/step - loss: 0.3453 - accuracy: 0.8595 - val_loss: 0.3043 - val_accuracy: 0.8878\n",
      "Epoch 40/100\n",
      "254/254 [==============================] - 1s 2ms/step - loss: 0.3444 - accuracy: 0.8573 - val_loss: 0.3084 - val_accuracy: 0.8767\n",
      "Epoch 41/100\n",
      "254/254 [==============================] - 1s 2ms/step - loss: 0.3449 - accuracy: 0.8569 - val_loss: 0.3109 - val_accuracy: 0.8833\n",
      "Epoch 42/100\n",
      "254/254 [==============================] - 1s 2ms/step - loss: 0.3443 - accuracy: 0.8556 - val_loss: 0.3033 - val_accuracy: 0.8844\n",
      "Epoch 43/100\n",
      "254/254 [==============================] - 1s 2ms/step - loss: 0.3447 - accuracy: 0.8574 - val_loss: 0.3029 - val_accuracy: 0.8844\n",
      "Epoch 44/100\n",
      "254/254 [==============================] - 1s 3ms/step - loss: 0.3427 - accuracy: 0.8573 - val_loss: 0.3123 - val_accuracy: 0.8856\n",
      "Epoch 45/100\n",
      "254/254 [==============================] - 1s 3ms/step - loss: 0.3431 - accuracy: 0.8594 - val_loss: 0.3042 - val_accuracy: 0.8822\n",
      "Epoch 46/100\n",
      "254/254 [==============================] - 1s 3ms/step - loss: 0.3429 - accuracy: 0.8578 - val_loss: 0.3118 - val_accuracy: 0.8822\n",
      "Epoch 47/100\n",
      "254/254 [==============================] - 1s 3ms/step - loss: 0.3423 - accuracy: 0.8574 - val_loss: 0.3046 - val_accuracy: 0.8911\n",
      "Epoch 48/100\n",
      "254/254 [==============================] - 1s 4ms/step - loss: 0.3424 - accuracy: 0.8581 - val_loss: 0.3072 - val_accuracy: 0.8833\n",
      "Epoch 49/100\n",
      "254/254 [==============================] - 1s 3ms/step - loss: 0.3417 - accuracy: 0.8601 - val_loss: 0.3030 - val_accuracy: 0.8833\n",
      "Epoch 50/100\n",
      "254/254 [==============================] - 1s 2ms/step - loss: 0.3423 - accuracy: 0.8586 - val_loss: 0.3082 - val_accuracy: 0.8833\n",
      "Epoch 51/100\n",
      "254/254 [==============================] - 1s 2ms/step - loss: 0.3411 - accuracy: 0.8585 - val_loss: 0.3066 - val_accuracy: 0.8822\n",
      "Epoch 52/100\n",
      "254/254 [==============================] - 1s 2ms/step - loss: 0.3418 - accuracy: 0.8590 - val_loss: 0.3064 - val_accuracy: 0.8822\n",
      "Epoch 53/100\n",
      "254/254 [==============================] - 1s 2ms/step - loss: 0.3407 - accuracy: 0.8584 - val_loss: 0.3088 - val_accuracy: 0.8844\n",
      "Epoch 54/100\n",
      "254/254 [==============================] - 1s 2ms/step - loss: 0.3414 - accuracy: 0.8589 - val_loss: 0.3018 - val_accuracy: 0.8800\n",
      "Epoch 55/100\n",
      "254/254 [==============================] - 1s 2ms/step - loss: 0.3407 - accuracy: 0.8586 - val_loss: 0.3067 - val_accuracy: 0.8944\n",
      "Epoch 56/100\n",
      "254/254 [==============================] - 1s 2ms/step - loss: 0.3408 - accuracy: 0.8594 - val_loss: 0.3102 - val_accuracy: 0.8822\n",
      "Epoch 57/100\n",
      "254/254 [==============================] - 1s 2ms/step - loss: 0.3404 - accuracy: 0.8577 - val_loss: 0.3022 - val_accuracy: 0.8867\n",
      "Epoch 58/100\n",
      "254/254 [==============================] - 1s 2ms/step - loss: 0.3390 - accuracy: 0.8588 - val_loss: 0.3076 - val_accuracy: 0.8844\n",
      "Epoch 59/100\n",
      "254/254 [==============================] - 1s 2ms/step - loss: 0.3396 - accuracy: 0.8611 - val_loss: 0.3050 - val_accuracy: 0.8889\n",
      "Epoch 60/100\n",
      "254/254 [==============================] - 1s 2ms/step - loss: 0.3403 - accuracy: 0.8589 - val_loss: 0.3056 - val_accuracy: 0.8933\n",
      "Epoch 61/100\n",
      "254/254 [==============================] - 1s 2ms/step - loss: 0.3385 - accuracy: 0.8599 - val_loss: 0.3030 - val_accuracy: 0.8800\n",
      "Epoch 62/100\n",
      "254/254 [==============================] - 1s 2ms/step - loss: 0.3387 - accuracy: 0.8586 - val_loss: 0.3032 - val_accuracy: 0.8811\n",
      "Epoch 63/100\n",
      "254/254 [==============================] - 1s 2ms/step - loss: 0.3383 - accuracy: 0.8596 - val_loss: 0.3142 - val_accuracy: 0.8922\n",
      "Epoch 64/100\n",
      "254/254 [==============================] - 1s 2ms/step - loss: 0.3394 - accuracy: 0.8570 - val_loss: 0.3063 - val_accuracy: 0.8833\n",
      "Epoch 65/100\n",
      "254/254 [==============================] - 1s 2ms/step - loss: 0.3374 - accuracy: 0.8593 - val_loss: 0.3050 - val_accuracy: 0.8867\n",
      "Epoch 66/100\n",
      "254/254 [==============================] - 1s 2ms/step - loss: 0.3382 - accuracy: 0.8589 - val_loss: 0.3077 - val_accuracy: 0.8911\n",
      "Epoch 67/100\n",
      "254/254 [==============================] - 1s 3ms/step - loss: 0.3388 - accuracy: 0.8606 - val_loss: 0.3036 - val_accuracy: 0.8767\n",
      "Epoch 68/100\n",
      "254/254 [==============================] - 1s 3ms/step - loss: 0.3385 - accuracy: 0.8594 - val_loss: 0.3011 - val_accuracy: 0.8833\n",
      "Epoch 69/100\n",
      "254/254 [==============================] - 1s 3ms/step - loss: 0.3379 - accuracy: 0.8600 - val_loss: 0.3082 - val_accuracy: 0.8844\n",
      "Epoch 70/100\n",
      "254/254 [==============================] - 1s 3ms/step - loss: 0.3379 - accuracy: 0.8606 - val_loss: 0.3083 - val_accuracy: 0.8856\n",
      "Epoch 71/100\n",
      "254/254 [==============================] - 1s 3ms/step - loss: 0.3376 - accuracy: 0.8599 - val_loss: 0.3069 - val_accuracy: 0.8822\n",
      "Epoch 72/100\n",
      "254/254 [==============================] - 1s 4ms/step - loss: 0.3365 - accuracy: 0.8623 - val_loss: 0.3029 - val_accuracy: 0.8867\n",
      "Epoch 73/100\n",
      "254/254 [==============================] - 1s 2ms/step - loss: 0.3376 - accuracy: 0.8617 - val_loss: 0.3011 - val_accuracy: 0.8833\n",
      "Epoch 74/100\n",
      "254/254 [==============================] - 1s 2ms/step - loss: 0.3377 - accuracy: 0.8631 - val_loss: 0.3048 - val_accuracy: 0.8722\n",
      "Epoch 75/100\n",
      "254/254 [==============================] - 1s 2ms/step - loss: 0.3364 - accuracy: 0.8599 - val_loss: 0.3007 - val_accuracy: 0.8833\n",
      "Epoch 76/100\n",
      "254/254 [==============================] - 1s 2ms/step - loss: 0.3381 - accuracy: 0.8611 - val_loss: 0.3050 - val_accuracy: 0.8822\n",
      "Epoch 77/100\n",
      "254/254 [==============================] - 1s 2ms/step - loss: 0.3367 - accuracy: 0.8605 - val_loss: 0.2993 - val_accuracy: 0.8833\n",
      "Epoch 78/100\n",
      "254/254 [==============================] - 1s 2ms/step - loss: 0.3370 - accuracy: 0.8585 - val_loss: 0.3006 - val_accuracy: 0.8800\n",
      "Epoch 79/100\n",
      "254/254 [==============================] - 1s 2ms/step - loss: 0.3363 - accuracy: 0.8611 - val_loss: 0.3054 - val_accuracy: 0.8789\n",
      "Epoch 80/100\n",
      "254/254 [==============================] - 1s 2ms/step - loss: 0.3367 - accuracy: 0.8606 - val_loss: 0.3027 - val_accuracy: 0.8744\n",
      "Epoch 81/100\n",
      "254/254 [==============================] - 1s 2ms/step - loss: 0.3364 - accuracy: 0.8606 - val_loss: 0.3059 - val_accuracy: 0.8844\n",
      "Epoch 82/100\n",
      "254/254 [==============================] - 1s 2ms/step - loss: 0.3355 - accuracy: 0.8600 - val_loss: 0.3016 - val_accuracy: 0.8844\n",
      "Epoch 83/100\n",
      "254/254 [==============================] - 1s 2ms/step - loss: 0.3361 - accuracy: 0.8607 - val_loss: 0.3079 - val_accuracy: 0.8844\n",
      "Epoch 84/100\n",
      "254/254 [==============================] - 1s 2ms/step - loss: 0.3369 - accuracy: 0.8606 - val_loss: 0.3023 - val_accuracy: 0.8844\n",
      "Epoch 85/100\n",
      "254/254 [==============================] - 1s 2ms/step - loss: 0.3339 - accuracy: 0.8631 - val_loss: 0.3013 - val_accuracy: 0.8900\n",
      "Epoch 86/100\n",
      "254/254 [==============================] - 1s 2ms/step - loss: 0.3359 - accuracy: 0.8612 - val_loss: 0.3064 - val_accuracy: 0.8811\n",
      "Epoch 87/100\n",
      "254/254 [==============================] - 1s 2ms/step - loss: 0.3347 - accuracy: 0.8609 - val_loss: 0.3045 - val_accuracy: 0.8900\n",
      "Epoch 88/100\n",
      "254/254 [==============================] - 1s 2ms/step - loss: 0.3351 - accuracy: 0.8599 - val_loss: 0.3087 - val_accuracy: 0.8900\n",
      "Epoch 89/100\n",
      "254/254 [==============================] - 1s 2ms/step - loss: 0.3368 - accuracy: 0.8602 - val_loss: 0.3003 - val_accuracy: 0.8922\n",
      "Epoch 90/100\n",
      "254/254 [==============================] - 1s 2ms/step - loss: 0.3347 - accuracy: 0.8606 - val_loss: 0.3030 - val_accuracy: 0.8856\n",
      "Epoch 91/100\n",
      "254/254 [==============================] - 1s 3ms/step - loss: 0.3349 - accuracy: 0.8630 - val_loss: 0.3137 - val_accuracy: 0.8900\n",
      "Epoch 92/100\n",
      "254/254 [==============================] - 1s 3ms/step - loss: 0.3346 - accuracy: 0.8623 - val_loss: 0.3055 - val_accuracy: 0.8922\n",
      "Epoch 93/100\n",
      "254/254 [==============================] - 1s 3ms/step - loss: 0.3346 - accuracy: 0.8601 - val_loss: 0.2988 - val_accuracy: 0.8878\n",
      "Epoch 94/100\n",
      "254/254 [==============================] - 1s 3ms/step - loss: 0.3339 - accuracy: 0.8609 - val_loss: 0.3036 - val_accuracy: 0.8900\n",
      "Epoch 95/100\n",
      "254/254 [==============================] - 1s 3ms/step - loss: 0.3345 - accuracy: 0.8612 - val_loss: 0.3031 - val_accuracy: 0.8900\n",
      "Epoch 96/100\n",
      "254/254 [==============================] - 1s 3ms/step - loss: 0.3360 - accuracy: 0.8590 - val_loss: 0.3005 - val_accuracy: 0.8878\n",
      "Epoch 97/100\n",
      "254/254 [==============================] - 1s 2ms/step - loss: 0.3364 - accuracy: 0.8610 - val_loss: 0.3068 - val_accuracy: 0.8889\n",
      "Epoch 98/100\n",
      "254/254 [==============================] - 1s 2ms/step - loss: 0.3341 - accuracy: 0.8637 - val_loss: 0.3054 - val_accuracy: 0.8822\n",
      "Epoch 99/100\n",
      "254/254 [==============================] - 1s 2ms/step - loss: 0.3330 - accuracy: 0.8616 - val_loss: 0.3019 - val_accuracy: 0.8856\n",
      "Epoch 100/100\n",
      "254/254 [==============================] - 1s 2ms/step - loss: 0.3344 - accuracy: 0.8631 - val_loss: 0.3013 - val_accuracy: 0.8889\n"
     ]
    },
    {
     "data": {
      "text/plain": [
       "<keras.src.callbacks.History at 0x7ee8e8477ee0>"
      ]
     },
     "execution_count": 26,
     "metadata": {},
     "output_type": "execute_result"
    }
   ],
   "source": [
    "model.fit(x = X_train, y = y_train, validation_split = 0.1, batch_size = 32, epochs = 100, verbose=1)"
   ]
  },
  {
   "cell_type": "code",
   "execution_count": 26,
   "metadata": {
    "id": "wzhmtZtvVW-B"
   },
   "outputs": [],
   "source": []
  },
  {
   "cell_type": "code",
   "execution_count": 26,
   "metadata": {
    "id": "tmDQLXb7VlIh"
   },
   "outputs": [],
   "source": []
  },
  {
   "cell_type": "code",
   "execution_count": 26,
   "metadata": {
    "id": "uxCWMrUKWApd"
   },
   "outputs": [],
   "source": []
  },
  {
   "cell_type": "code",
   "execution_count": 26,
   "metadata": {
    "id": "IJ5zwb9CWUut"
   },
   "outputs": [],
   "source": []
  },
  {
   "cell_type": "code",
   "execution_count": 26,
   "metadata": {
    "id": "XlGpjc8ZWbhU"
   },
   "outputs": [],
   "source": []
  },
  {
   "cell_type": "markdown",
   "metadata": {
    "id": "PE_8RcH93kwn"
   },
   "source": [
    "### Evaluate The Model\n",
    "\n",
    "- Plot the model history to observe the changing of metrics\n",
    "- Make prediction to see \"confusion matrix\" and \"classification report\"\n",
    "- Check ROC (Receiver Operating Curve) and AUC (Area Under Curve) for the model"
   ]
  },
  {
   "cell_type": "code",
   "execution_count": 27,
   "metadata": {
    "colab": {
     "base_uri": "https://localhost:8080/"
    },
    "id": "-QXCNrSn3kwn",
    "outputId": "5d69cd84-ebcc-470e-8f0a-fab8678ff90b"
   },
   "outputs": [
    {
     "name": "stdout",
     "output_type": "stream",
     "text": [
      "Model: \"sequential\"\n",
      "_________________________________________________________________\n",
      " Layer (type)                Output Shape              Param #   \n",
      "=================================================================\n",
      " dense (Dense)               (None, 20)                240       \n",
      "                                                                 \n",
      " dense_1 (Dense)             (None, 10)                210       \n",
      "                                                                 \n",
      " dense_2 (Dense)             (None, 5)                 55        \n",
      "                                                                 \n",
      " dense_3 (Dense)             (None, 1)                 6         \n",
      "                                                                 \n",
      "=================================================================\n",
      "Total params: 511 (2.00 KB)\n",
      "Trainable params: 511 (2.00 KB)\n",
      "Non-trainable params: 0 (0.00 Byte)\n",
      "_________________________________________________________________\n"
     ]
    }
   ],
   "source": [
    "model.summary()"
   ]
  },
  {
   "cell_type": "code",
   "execution_count": 28,
   "metadata": {
    "colab": {
     "base_uri": "https://localhost:8080/",
     "height": 206
    },
    "id": "43EWIekeWxiG",
    "outputId": "b9d38515-8f38-408f-a33e-ab059e65ccf6"
   },
   "outputs": [
    {
     "data": {
      "text/html": [
       "\n",
       "  <div id=\"df-7927c870-158f-4926-922f-fa018b107ff4\" class=\"colab-df-container\">\n",
       "    <div>\n",
       "<style scoped>\n",
       "    .dataframe tbody tr th:only-of-type {\n",
       "        vertical-align: middle;\n",
       "    }\n",
       "\n",
       "    .dataframe tbody tr th {\n",
       "        vertical-align: top;\n",
       "    }\n",
       "\n",
       "    .dataframe thead th {\n",
       "        text-align: right;\n",
       "    }\n",
       "</style>\n",
       "<table border=\"1\" class=\"dataframe\">\n",
       "  <thead>\n",
       "    <tr style=\"text-align: right;\">\n",
       "      <th></th>\n",
       "      <th>loss</th>\n",
       "      <th>accuracy</th>\n",
       "      <th>val_loss</th>\n",
       "      <th>val_accuracy</th>\n",
       "    </tr>\n",
       "  </thead>\n",
       "  <tbody>\n",
       "    <tr>\n",
       "      <th>0</th>\n",
       "      <td>0.510720</td>\n",
       "      <td>0.796173</td>\n",
       "      <td>0.463823</td>\n",
       "      <td>0.798889</td>\n",
       "    </tr>\n",
       "    <tr>\n",
       "      <th>1</th>\n",
       "      <td>0.465433</td>\n",
       "      <td>0.796049</td>\n",
       "      <td>0.439672</td>\n",
       "      <td>0.798889</td>\n",
       "    </tr>\n",
       "    <tr>\n",
       "      <th>2</th>\n",
       "      <td>0.446896</td>\n",
       "      <td>0.796049</td>\n",
       "      <td>0.413286</td>\n",
       "      <td>0.807778</td>\n",
       "    </tr>\n",
       "    <tr>\n",
       "      <th>3</th>\n",
       "      <td>0.429563</td>\n",
       "      <td>0.807037</td>\n",
       "      <td>0.394999</td>\n",
       "      <td>0.838889</td>\n",
       "    </tr>\n",
       "    <tr>\n",
       "      <th>4</th>\n",
       "      <td>0.413966</td>\n",
       "      <td>0.822593</td>\n",
       "      <td>0.372846</td>\n",
       "      <td>0.841111</td>\n",
       "    </tr>\n",
       "  </tbody>\n",
       "</table>\n",
       "</div>\n",
       "    <div class=\"colab-df-buttons\">\n",
       "\n",
       "  <div class=\"colab-df-container\">\n",
       "    <button class=\"colab-df-convert\" onclick=\"convertToInteractive('df-7927c870-158f-4926-922f-fa018b107ff4')\"\n",
       "            title=\"Convert this dataframe to an interactive table.\"\n",
       "            style=\"display:none;\">\n",
       "\n",
       "  <svg xmlns=\"http://www.w3.org/2000/svg\" height=\"24px\" viewBox=\"0 -960 960 960\">\n",
       "    <path d=\"M120-120v-720h720v720H120Zm60-500h600v-160H180v160Zm220 220h160v-160H400v160Zm0 220h160v-160H400v160ZM180-400h160v-160H180v160Zm440 0h160v-160H620v160ZM180-180h160v-160H180v160Zm440 0h160v-160H620v160Z\"/>\n",
       "  </svg>\n",
       "    </button>\n",
       "\n",
       "  <style>\n",
       "    .colab-df-container {\n",
       "      display:flex;\n",
       "      gap: 12px;\n",
       "    }\n",
       "\n",
       "    .colab-df-convert {\n",
       "      background-color: #E8F0FE;\n",
       "      border: none;\n",
       "      border-radius: 50%;\n",
       "      cursor: pointer;\n",
       "      display: none;\n",
       "      fill: #1967D2;\n",
       "      height: 32px;\n",
       "      padding: 0 0 0 0;\n",
       "      width: 32px;\n",
       "    }\n",
       "\n",
       "    .colab-df-convert:hover {\n",
       "      background-color: #E2EBFA;\n",
       "      box-shadow: 0px 1px 2px rgba(60, 64, 67, 0.3), 0px 1px 3px 1px rgba(60, 64, 67, 0.15);\n",
       "      fill: #174EA6;\n",
       "    }\n",
       "\n",
       "    .colab-df-buttons div {\n",
       "      margin-bottom: 4px;\n",
       "    }\n",
       "\n",
       "    [theme=dark] .colab-df-convert {\n",
       "      background-color: #3B4455;\n",
       "      fill: #D2E3FC;\n",
       "    }\n",
       "\n",
       "    [theme=dark] .colab-df-convert:hover {\n",
       "      background-color: #434B5C;\n",
       "      box-shadow: 0px 1px 3px 1px rgba(0, 0, 0, 0.15);\n",
       "      filter: drop-shadow(0px 1px 2px rgba(0, 0, 0, 0.3));\n",
       "      fill: #FFFFFF;\n",
       "    }\n",
       "  </style>\n",
       "\n",
       "    <script>\n",
       "      const buttonEl =\n",
       "        document.querySelector('#df-7927c870-158f-4926-922f-fa018b107ff4 button.colab-df-convert');\n",
       "      buttonEl.style.display =\n",
       "        google.colab.kernel.accessAllowed ? 'block' : 'none';\n",
       "\n",
       "      async function convertToInteractive(key) {\n",
       "        const element = document.querySelector('#df-7927c870-158f-4926-922f-fa018b107ff4');\n",
       "        const dataTable =\n",
       "          await google.colab.kernel.invokeFunction('convertToInteractive',\n",
       "                                                    [key], {});\n",
       "        if (!dataTable) return;\n",
       "\n",
       "        const docLinkHtml = 'Like what you see? Visit the ' +\n",
       "          '<a target=\"_blank\" href=https://colab.research.google.com/notebooks/data_table.ipynb>data table notebook</a>'\n",
       "          + ' to learn more about interactive tables.';\n",
       "        element.innerHTML = '';\n",
       "        dataTable['output_type'] = 'display_data';\n",
       "        await google.colab.output.renderOutput(dataTable, element);\n",
       "        const docLink = document.createElement('div');\n",
       "        docLink.innerHTML = docLinkHtml;\n",
       "        element.appendChild(docLink);\n",
       "      }\n",
       "    </script>\n",
       "  </div>\n",
       "\n",
       "\n",
       "<div id=\"df-1768bd4d-aba1-4276-a86a-e78da940fb6c\">\n",
       "  <button class=\"colab-df-quickchart\" onclick=\"quickchart('df-1768bd4d-aba1-4276-a86a-e78da940fb6c')\"\n",
       "            title=\"Suggest charts.\"\n",
       "            style=\"display:none;\">\n",
       "\n",
       "<svg xmlns=\"http://www.w3.org/2000/svg\" height=\"24px\"viewBox=\"0 0 24 24\"\n",
       "     width=\"24px\">\n",
       "    <g>\n",
       "        <path d=\"M19 3H5c-1.1 0-2 .9-2 2v14c0 1.1.9 2 2 2h14c1.1 0 2-.9 2-2V5c0-1.1-.9-2-2-2zM9 17H7v-7h2v7zm4 0h-2V7h2v10zm4 0h-2v-4h2v4z\"/>\n",
       "    </g>\n",
       "</svg>\n",
       "  </button>\n",
       "\n",
       "<style>\n",
       "  .colab-df-quickchart {\n",
       "      --bg-color: #E8F0FE;\n",
       "      --fill-color: #1967D2;\n",
       "      --hover-bg-color: #E2EBFA;\n",
       "      --hover-fill-color: #174EA6;\n",
       "      --disabled-fill-color: #AAA;\n",
       "      --disabled-bg-color: #DDD;\n",
       "  }\n",
       "\n",
       "  [theme=dark] .colab-df-quickchart {\n",
       "      --bg-color: #3B4455;\n",
       "      --fill-color: #D2E3FC;\n",
       "      --hover-bg-color: #434B5C;\n",
       "      --hover-fill-color: #FFFFFF;\n",
       "      --disabled-bg-color: #3B4455;\n",
       "      --disabled-fill-color: #666;\n",
       "  }\n",
       "\n",
       "  .colab-df-quickchart {\n",
       "    background-color: var(--bg-color);\n",
       "    border: none;\n",
       "    border-radius: 50%;\n",
       "    cursor: pointer;\n",
       "    display: none;\n",
       "    fill: var(--fill-color);\n",
       "    height: 32px;\n",
       "    padding: 0;\n",
       "    width: 32px;\n",
       "  }\n",
       "\n",
       "  .colab-df-quickchart:hover {\n",
       "    background-color: var(--hover-bg-color);\n",
       "    box-shadow: 0 1px 2px rgba(60, 64, 67, 0.3), 0 1px 3px 1px rgba(60, 64, 67, 0.15);\n",
       "    fill: var(--button-hover-fill-color);\n",
       "  }\n",
       "\n",
       "  .colab-df-quickchart-complete:disabled,\n",
       "  .colab-df-quickchart-complete:disabled:hover {\n",
       "    background-color: var(--disabled-bg-color);\n",
       "    fill: var(--disabled-fill-color);\n",
       "    box-shadow: none;\n",
       "  }\n",
       "\n",
       "  .colab-df-spinner {\n",
       "    border: 2px solid var(--fill-color);\n",
       "    border-color: transparent;\n",
       "    border-bottom-color: var(--fill-color);\n",
       "    animation:\n",
       "      spin 1s steps(1) infinite;\n",
       "  }\n",
       "\n",
       "  @keyframes spin {\n",
       "    0% {\n",
       "      border-color: transparent;\n",
       "      border-bottom-color: var(--fill-color);\n",
       "      border-left-color: var(--fill-color);\n",
       "    }\n",
       "    20% {\n",
       "      border-color: transparent;\n",
       "      border-left-color: var(--fill-color);\n",
       "      border-top-color: var(--fill-color);\n",
       "    }\n",
       "    30% {\n",
       "      border-color: transparent;\n",
       "      border-left-color: var(--fill-color);\n",
       "      border-top-color: var(--fill-color);\n",
       "      border-right-color: var(--fill-color);\n",
       "    }\n",
       "    40% {\n",
       "      border-color: transparent;\n",
       "      border-right-color: var(--fill-color);\n",
       "      border-top-color: var(--fill-color);\n",
       "    }\n",
       "    60% {\n",
       "      border-color: transparent;\n",
       "      border-right-color: var(--fill-color);\n",
       "    }\n",
       "    80% {\n",
       "      border-color: transparent;\n",
       "      border-right-color: var(--fill-color);\n",
       "      border-bottom-color: var(--fill-color);\n",
       "    }\n",
       "    90% {\n",
       "      border-color: transparent;\n",
       "      border-bottom-color: var(--fill-color);\n",
       "    }\n",
       "  }\n",
       "</style>\n",
       "\n",
       "  <script>\n",
       "    async function quickchart(key) {\n",
       "      const quickchartButtonEl =\n",
       "        document.querySelector('#' + key + ' button');\n",
       "      quickchartButtonEl.disabled = true;  // To prevent multiple clicks.\n",
       "      quickchartButtonEl.classList.add('colab-df-spinner');\n",
       "      try {\n",
       "        const charts = await google.colab.kernel.invokeFunction(\n",
       "            'suggestCharts', [key], {});\n",
       "      } catch (error) {\n",
       "        console.error('Error during call to suggestCharts:', error);\n",
       "      }\n",
       "      quickchartButtonEl.classList.remove('colab-df-spinner');\n",
       "      quickchartButtonEl.classList.add('colab-df-quickchart-complete');\n",
       "    }\n",
       "    (() => {\n",
       "      let quickchartButtonEl =\n",
       "        document.querySelector('#df-1768bd4d-aba1-4276-a86a-e78da940fb6c button');\n",
       "      quickchartButtonEl.style.display =\n",
       "        google.colab.kernel.accessAllowed ? 'block' : 'none';\n",
       "    })();\n",
       "  </script>\n",
       "</div>\n",
       "    </div>\n",
       "  </div>\n"
      ],
      "text/plain": [
       "       loss  accuracy  val_loss  val_accuracy\n",
       "0  0.510720  0.796173  0.463823      0.798889\n",
       "1  0.465433  0.796049  0.439672      0.798889\n",
       "2  0.446896  0.796049  0.413286      0.807778\n",
       "3  0.429563  0.807037  0.394999      0.838889\n",
       "4  0.413966  0.822593  0.372846      0.841111"
      ]
     },
     "execution_count": 28,
     "metadata": {},
     "output_type": "execute_result"
    }
   ],
   "source": [
    "loss_df = pd.DataFrame(model.history.history)\n",
    "loss_df.head()"
   ]
  },
  {
   "cell_type": "code",
   "execution_count": 29,
   "metadata": {
    "colab": {
     "base_uri": "https://localhost:8080/",
     "height": 430
    },
    "id": "sDOF30VlWxuX",
    "outputId": "e96b880b-b220-4313-b1ee-d29f62693b45"
   },
   "outputs": [
    {
     "data": {
      "image/png": "[encoded data removed]",
      "text/plain": [
       "<Figure size 640x480 with 1 Axes>"
      ]
     },
     "metadata": {},
     "output_type": "display_data"
    }
   ],
   "source": [
    "loss_df.plot();"
   ]
  },
  {
   "cell_type": "code",
   "execution_count": 30,
   "metadata": {
    "colab": {
     "base_uri": "https://localhost:8080/"
    },
    "id": "1kFuxWeFW2sc",
    "outputId": "1ebc20f3-31d1-4bc5-b833-16425580c29f"
   },
   "outputs": [
    {
     "name": "stdout",
     "output_type": "stream",
     "text": [
      "loss :  0.34306955337524414\n",
      "accuracy :  0.8610000014305115\n"
     ]
    }
   ],
   "source": [
    "loss, accuracy = model.evaluate(X_test, y_test, verbose=0)\n",
    "print(\"loss : \", loss)\n",
    "print(\"accuracy : \", accuracy)"
   ]
  },
  {
   "cell_type": "code",
   "execution_count": 31,
   "metadata": {
    "colab": {
     "base_uri": "https://localhost:8080/"
    },
    "id": "y6-4uUVQW210",
    "outputId": "64dfc277-964a-4fed-d987-497d0000990d"
   },
   "outputs": [
    {
     "name": "stdout",
     "output_type": "stream",
     "text": [
      "32/32 [==============================] - 0s 1ms/step\n",
      "[[755  41]\n",
      " [ 98 106]]\n",
      "              precision    recall  f1-score   support\n",
      "\n",
      "           0       0.89      0.95      0.92       796\n",
      "           1       0.72      0.52      0.60       204\n",
      "\n",
      "    accuracy                           0.86      1000\n",
      "   macro avg       0.80      0.73      0.76      1000\n",
      "weighted avg       0.85      0.86      0.85      1000\n",
      "\n"
     ]
    }
   ],
   "source": [
    "y_pred = model.predict(X_test) > 0.5\n",
    "#y_pred = model.predict_classes(X_test) for tf 2.5.0\n",
    "print(confusion_matrix(y_test, y_pred))\n",
    "print(classification_report(y_test, y_pred))"
   ]
  },
  {
   "cell_type": "code",
   "execution_count": 31,
   "metadata": {
    "id": "JcHmNifcXVAI"
   },
   "outputs": [],
   "source": []
  },
  {
   "cell_type": "markdown",
   "metadata": {
    "id": "tqs44oFl3kwn"
   },
   "source": [
    "## with class_weigth\n",
    "\n",
    "Investigate how the \"class_weight\" hyper-parameter is used in a Neural Network."
   ]
  },
  {
   "cell_type": "markdown",
   "metadata": {
    "id": "ieASzJz53kwn"
   },
   "source": [
    "### Create The Model"
   ]
  },
  {
   "cell_type": "code",
   "execution_count": 32,
   "metadata": {
    "id": "euESK0Up3kwn"
   },
   "outputs": [],
   "source": [
    "tf.random.set_seed(seed)\n",
    "\n",
    "model = Sequential()\n",
    "\n",
    "model.add(Dense(20, activation = \"relu\", input_dim = X_train.shape[1]))\n",
    "model.add(Dense(10, activation = \"relu\"))\n",
    "model.add(Dense(5, activation = \"relu\"))\n",
    "model.add(Dense(1, activation = \"sigmoid\"))\n",
    "\n",
    "model.compile(optimizer = \"adam\", loss = \"binary_crossentropy\", metrics = [\"accuracy\"])"
   ]
  },
  {
   "cell_type": "code",
   "execution_count": 33,
   "metadata": {
    "colab": {
     "base_uri": "https://localhost:8080/"
    },
    "id": "1U_qBexcNsZ1",
    "outputId": "168307f5-ecf5-40cf-a52b-2da2b5c8ad02"
   },
   "outputs": [
    {
     "data": {
      "text/plain": [
       "{0: 0.6278777731268314, 1: 2.454991816693944}"
      ]
     },
     "execution_count": 33,
     "metadata": {},
     "output_type": "execute_result"
    }
   ],
   "source": [
    "from sklearn.utils import class_weight\n",
    "class_weights = class_weight.compute_class_weight(\"balanced\",\n",
    "                                                  classes=np.unique(y_train),\n",
    "                                                  y=y_train)\n",
    "class_weights = {0: class_weights[0], 1: class_weights[1]}\n",
    "class_weights"
   ]
  },
  {
   "cell_type": "code",
   "execution_count": 34,
   "metadata": {
    "colab": {
     "base_uri": "https://localhost:8080/"
    },
    "id": "2EclxnfANsnS",
    "outputId": "1fa88e4b-d0e6-4782-c69e-c5a974c9bb7b"
   },
   "outputs": [
    {
     "name": "stdout",
     "output_type": "stream",
     "text": [
      "Epoch 1/100\n",
      "254/254 [==============================] - 2s 3ms/step - loss: 0.6681 - accuracy: 0.3990 - val_loss: 0.7027 - val_accuracy: 0.6044\n",
      "Epoch 2/100\n",
      "254/254 [==============================] - 1s 2ms/step - loss: 0.6354 - accuracy: 0.6259 - val_loss: 0.6804 - val_accuracy: 0.6589\n",
      "Epoch 3/100\n",
      "254/254 [==============================] - 1s 3ms/step - loss: 0.6121 - accuracy: 0.6706 - val_loss: 0.6333 - val_accuracy: 0.7289\n",
      "Epoch 4/100\n",
      "254/254 [==============================] - 1s 2ms/step - loss: 0.5943 - accuracy: 0.7016 - val_loss: 0.6202 - val_accuracy: 0.7289\n",
      "Epoch 5/100\n",
      "254/254 [==============================] - 1s 2ms/step - loss: 0.5818 - accuracy: 0.7226 - val_loss: 0.5613 - val_accuracy: 0.7878\n",
      "Epoch 6/100\n",
      "254/254 [==============================] - 1s 2ms/step - loss: 0.5712 - accuracy: 0.7385 - val_loss: 0.5808 - val_accuracy: 0.7478\n",
      "Epoch 7/100\n",
      "254/254 [==============================] - 1s 2ms/step - loss: 0.5615 - accuracy: 0.7431 - val_loss: 0.5270 - val_accuracy: 0.8056\n",
      "Epoch 8/100\n",
      "254/254 [==============================] - 1s 2ms/step - loss: 0.5536 - accuracy: 0.7567 - val_loss: 0.5744 - val_accuracy: 0.7400\n",
      "Epoch 9/100\n",
      "254/254 [==============================] - 1s 2ms/step - loss: 0.5434 - accuracy: 0.7538 - val_loss: 0.5314 - val_accuracy: 0.7900\n",
      "Epoch 10/100\n",
      "254/254 [==============================] - 1s 3ms/step - loss: 0.5330 - accuracy: 0.7693 - val_loss: 0.5120 - val_accuracy: 0.8033\n",
      "Epoch 11/100\n",
      "254/254 [==============================] - 1s 3ms/step - loss: 0.5233 - accuracy: 0.7722 - val_loss: 0.5487 - val_accuracy: 0.7544\n",
      "Epoch 12/100\n",
      "254/254 [==============================] - 1s 4ms/step - loss: 0.5152 - accuracy: 0.7651 - val_loss: 0.4969 - val_accuracy: 0.7944\n",
      "Epoch 13/100\n",
      "254/254 [==============================] - 1s 4ms/step - loss: 0.5084 - accuracy: 0.7736 - val_loss: 0.4844 - val_accuracy: 0.8044\n",
      "Epoch 14/100\n",
      "254/254 [==============================] - 1s 3ms/step - loss: 0.5042 - accuracy: 0.7730 - val_loss: 0.5135 - val_accuracy: 0.7744\n",
      "Epoch 15/100\n",
      "254/254 [==============================] - 1s 2ms/step - loss: 0.5001 - accuracy: 0.7740 - val_loss: 0.4939 - val_accuracy: 0.7789\n",
      "Epoch 16/100\n",
      "254/254 [==============================] - 1s 2ms/step - loss: 0.4973 - accuracy: 0.7763 - val_loss: 0.4676 - val_accuracy: 0.8056\n",
      "Epoch 17/100\n",
      "254/254 [==============================] - 1s 2ms/step - loss: 0.4921 - accuracy: 0.7823 - val_loss: 0.4666 - val_accuracy: 0.7944\n",
      "Epoch 18/100\n",
      "254/254 [==============================] - 1s 2ms/step - loss: 0.4904 - accuracy: 0.7806 - val_loss: 0.4680 - val_accuracy: 0.7956\n",
      "Epoch 19/100\n",
      "254/254 [==============================] - 1s 2ms/step - loss: 0.4891 - accuracy: 0.7821 - val_loss: 0.4515 - val_accuracy: 0.8056\n",
      "Epoch 20/100\n",
      "254/254 [==============================] - 1s 2ms/step - loss: 0.4875 - accuracy: 0.7807 - val_loss: 0.4064 - val_accuracy: 0.8500\n",
      "Epoch 21/100\n",
      "254/254 [==============================] - 1s 2ms/step - loss: 0.4863 - accuracy: 0.7801 - val_loss: 0.4420 - val_accuracy: 0.8167\n",
      "Epoch 22/100\n",
      "254/254 [==============================] - 1s 2ms/step - loss: 0.4835 - accuracy: 0.7832 - val_loss: 0.4706 - val_accuracy: 0.7956\n",
      "Epoch 23/100\n",
      "254/254 [==============================] - 1s 2ms/step - loss: 0.4835 - accuracy: 0.7775 - val_loss: 0.4158 - val_accuracy: 0.8300\n",
      "Epoch 24/100\n",
      "254/254 [==============================] - 1s 2ms/step - loss: 0.4824 - accuracy: 0.7848 - val_loss: 0.4950 - val_accuracy: 0.7744\n",
      "Epoch 25/100\n",
      "254/254 [==============================] - 1s 2ms/step - loss: 0.4807 - accuracy: 0.7814 - val_loss: 0.4232 - val_accuracy: 0.8233\n",
      "Epoch 26/100\n",
      "254/254 [==============================] - 1s 2ms/step - loss: 0.4796 - accuracy: 0.7806 - val_loss: 0.4467 - val_accuracy: 0.8089\n",
      "Epoch 27/100\n",
      "254/254 [==============================] - 1s 2ms/step - loss: 0.4790 - accuracy: 0.7842 - val_loss: 0.4778 - val_accuracy: 0.7789\n",
      "Epoch 28/100\n",
      "254/254 [==============================] - 1s 2ms/step - loss: 0.4774 - accuracy: 0.7837 - val_loss: 0.4262 - val_accuracy: 0.8156\n",
      "Epoch 29/100\n",
      "254/254 [==============================] - 1s 2ms/step - loss: 0.4749 - accuracy: 0.7836 - val_loss: 0.4625 - val_accuracy: 0.7900\n",
      "Epoch 30/100\n",
      "254/254 [==============================] - 1s 2ms/step - loss: 0.4737 - accuracy: 0.7878 - val_loss: 0.4425 - val_accuracy: 0.8033\n",
      "Epoch 31/100\n",
      "254/254 [==============================] - 1s 2ms/step - loss: 0.4747 - accuracy: 0.7843 - val_loss: 0.4203 - val_accuracy: 0.8211\n",
      "Epoch 32/100\n",
      "254/254 [==============================] - 1s 3ms/step - loss: 0.4738 - accuracy: 0.7822 - val_loss: 0.4324 - val_accuracy: 0.8078\n",
      "Epoch 33/100\n",
      "254/254 [==============================] - 1s 4ms/step - loss: 0.4728 - accuracy: 0.7844 - val_loss: 0.4126 - val_accuracy: 0.8322\n",
      "Epoch 34/100\n",
      "254/254 [==============================] - 1s 4ms/step - loss: 0.4730 - accuracy: 0.7868 - val_loss: 0.4299 - val_accuracy: 0.8122\n",
      "Epoch 35/100\n",
      "254/254 [==============================] - 2s 8ms/step - loss: 0.4736 - accuracy: 0.7831 - val_loss: 0.4311 - val_accuracy: 0.8122\n",
      "Epoch 36/100\n",
      "254/254 [==============================] - 1s 2ms/step - loss: 0.4702 - accuracy: 0.7914 - val_loss: 0.4051 - val_accuracy: 0.8411\n",
      "Epoch 37/100\n",
      "254/254 [==============================] - 1s 2ms/step - loss: 0.4720 - accuracy: 0.7864 - val_loss: 0.4626 - val_accuracy: 0.7822\n",
      "Epoch 38/100\n",
      "254/254 [==============================] - 1s 2ms/step - loss: 0.4710 - accuracy: 0.7883 - val_loss: 0.4567 - val_accuracy: 0.7944\n",
      "Epoch 39/100\n",
      "254/254 [==============================] - 1s 2ms/step - loss: 0.4705 - accuracy: 0.7873 - val_loss: 0.4299 - val_accuracy: 0.8089\n",
      "Epoch 40/100\n",
      "254/254 [==============================] - 1s 2ms/step - loss: 0.4682 - accuracy: 0.7868 - val_loss: 0.3977 - val_accuracy: 0.8344\n",
      "Epoch 41/100\n",
      "254/254 [==============================] - 1s 2ms/step - loss: 0.4679 - accuracy: 0.7895 - val_loss: 0.4484 - val_accuracy: 0.8000\n",
      "Epoch 42/100\n",
      "254/254 [==============================] - 1s 2ms/step - loss: 0.4676 - accuracy: 0.7863 - val_loss: 0.4235 - val_accuracy: 0.8189\n",
      "Epoch 43/100\n",
      "254/254 [==============================] - 1s 2ms/step - loss: 0.4681 - accuracy: 0.7860 - val_loss: 0.4291 - val_accuracy: 0.8122\n",
      "Epoch 44/100\n",
      "254/254 [==============================] - 1s 2ms/step - loss: 0.4675 - accuracy: 0.7869 - val_loss: 0.4542 - val_accuracy: 0.7956\n",
      "Epoch 45/100\n",
      "254/254 [==============================] - 1s 2ms/step - loss: 0.4664 - accuracy: 0.7888 - val_loss: 0.4378 - val_accuracy: 0.8044\n",
      "Epoch 46/100\n",
      "254/254 [==============================] - 1s 3ms/step - loss: 0.4671 - accuracy: 0.7875 - val_loss: 0.4450 - val_accuracy: 0.8000\n",
      "Epoch 47/100\n",
      "254/254 [==============================] - 1s 2ms/step - loss: 0.4657 - accuracy: 0.7890 - val_loss: 0.4251 - val_accuracy: 0.8167\n",
      "Epoch 48/100\n",
      "254/254 [==============================] - 1s 2ms/step - loss: 0.4668 - accuracy: 0.7878 - val_loss: 0.4168 - val_accuracy: 0.8200\n",
      "Epoch 49/100\n",
      "254/254 [==============================] - 1s 2ms/step - loss: 0.4641 - accuracy: 0.7902 - val_loss: 0.4154 - val_accuracy: 0.8256\n",
      "Epoch 50/100\n",
      "254/254 [==============================] - 1s 2ms/step - loss: 0.4646 - accuracy: 0.7925 - val_loss: 0.4503 - val_accuracy: 0.7911\n",
      "Epoch 51/100\n",
      "254/254 [==============================] - 1s 2ms/step - loss: 0.4639 - accuracy: 0.7868 - val_loss: 0.4086 - val_accuracy: 0.8267\n",
      "Epoch 52/100\n",
      "254/254 [==============================] - 1s 2ms/step - loss: 0.4644 - accuracy: 0.7869 - val_loss: 0.4546 - val_accuracy: 0.7889\n",
      "Epoch 53/100\n",
      "254/254 [==============================] - 1s 4ms/step - loss: 0.4640 - accuracy: 0.7885 - val_loss: 0.4283 - val_accuracy: 0.8089\n",
      "Epoch 54/100\n",
      "254/254 [==============================] - 1s 3ms/step - loss: 0.4641 - accuracy: 0.7872 - val_loss: 0.4177 - val_accuracy: 0.8156\n",
      "Epoch 55/100\n",
      "254/254 [==============================] - 1s 3ms/step - loss: 0.4636 - accuracy: 0.7923 - val_loss: 0.4317 - val_accuracy: 0.8056\n",
      "Epoch 56/100\n",
      "254/254 [==============================] - 1s 4ms/step - loss: 0.4621 - accuracy: 0.7865 - val_loss: 0.4442 - val_accuracy: 0.7811\n",
      "Epoch 57/100\n",
      "254/254 [==============================] - 1s 3ms/step - loss: 0.4654 - accuracy: 0.7870 - val_loss: 0.4256 - val_accuracy: 0.8111\n",
      "Epoch 58/100\n",
      "254/254 [==============================] - 1s 2ms/step - loss: 0.4617 - accuracy: 0.7911 - val_loss: 0.4448 - val_accuracy: 0.7856\n",
      "Epoch 59/100\n",
      "254/254 [==============================] - 1s 2ms/step - loss: 0.4612 - accuracy: 0.7899 - val_loss: 0.4456 - val_accuracy: 0.7911\n",
      "Epoch 60/100\n",
      "254/254 [==============================] - 1s 2ms/step - loss: 0.4621 - accuracy: 0.7859 - val_loss: 0.4573 - val_accuracy: 0.7678\n",
      "Epoch 61/100\n",
      "254/254 [==============================] - 1s 2ms/step - loss: 0.4612 - accuracy: 0.7883 - val_loss: 0.4212 - val_accuracy: 0.8156\n",
      "Epoch 62/100\n",
      "254/254 [==============================] - 1s 2ms/step - loss: 0.4594 - accuracy: 0.7901 - val_loss: 0.4245 - val_accuracy: 0.8144\n",
      "Epoch 63/100\n",
      "254/254 [==============================] - 1s 2ms/step - loss: 0.4602 - accuracy: 0.7923 - val_loss: 0.4557 - val_accuracy: 0.7733\n",
      "Epoch 64/100\n",
      "254/254 [==============================] - 1s 2ms/step - loss: 0.4617 - accuracy: 0.7883 - val_loss: 0.4281 - val_accuracy: 0.8167\n",
      "Epoch 65/100\n",
      "254/254 [==============================] - 1s 2ms/step - loss: 0.4585 - accuracy: 0.7899 - val_loss: 0.4089 - val_accuracy: 0.8289\n",
      "Epoch 66/100\n",
      "254/254 [==============================] - 1s 2ms/step - loss: 0.4593 - accuracy: 0.7906 - val_loss: 0.4910 - val_accuracy: 0.7456\n",
      "Epoch 67/100\n",
      "254/254 [==============================] - 1s 2ms/step - loss: 0.4602 - accuracy: 0.7867 - val_loss: 0.3823 - val_accuracy: 0.8444\n",
      "Epoch 68/100\n",
      "254/254 [==============================] - 1s 2ms/step - loss: 0.4601 - accuracy: 0.7910 - val_loss: 0.4148 - val_accuracy: 0.8189\n",
      "Epoch 69/100\n",
      "254/254 [==============================] - 1s 2ms/step - loss: 0.4589 - accuracy: 0.7893 - val_loss: 0.4377 - val_accuracy: 0.7889\n",
      "Epoch 70/100\n",
      "254/254 [==============================] - 1s 2ms/step - loss: 0.4582 - accuracy: 0.7906 - val_loss: 0.4340 - val_accuracy: 0.7922\n",
      "Epoch 71/100\n",
      "254/254 [==============================] - 1s 2ms/step - loss: 0.4593 - accuracy: 0.7883 - val_loss: 0.4090 - val_accuracy: 0.8211\n",
      "Epoch 72/100\n",
      "254/254 [==============================] - 1s 2ms/step - loss: 0.4572 - accuracy: 0.7922 - val_loss: 0.4371 - val_accuracy: 0.7956\n",
      "Epoch 73/100\n",
      "254/254 [==============================] - 1s 2ms/step - loss: 0.4570 - accuracy: 0.7938 - val_loss: 0.4120 - val_accuracy: 0.8200\n",
      "Epoch 74/100\n",
      "254/254 [==============================] - 1s 3ms/step - loss: 0.4585 - accuracy: 0.7874 - val_loss: 0.4045 - val_accuracy: 0.8289\n",
      "Epoch 75/100\n",
      "254/254 [==============================] - 1s 3ms/step - loss: 0.4568 - accuracy: 0.7949 - val_loss: 0.3867 - val_accuracy: 0.8433\n",
      "Epoch 76/100\n",
      "254/254 [==============================] - 1s 3ms/step - loss: 0.4579 - accuracy: 0.7869 - val_loss: 0.4166 - val_accuracy: 0.8189\n",
      "Epoch 77/100\n",
      "254/254 [==============================] - 1s 3ms/step - loss: 0.4573 - accuracy: 0.7901 - val_loss: 0.4131 - val_accuracy: 0.8167\n",
      "Epoch 78/100\n",
      "254/254 [==============================] - 1s 3ms/step - loss: 0.4578 - accuracy: 0.7885 - val_loss: 0.4107 - val_accuracy: 0.8256\n",
      "Epoch 79/100\n",
      "254/254 [==============================] - 1s 3ms/step - loss: 0.4567 - accuracy: 0.7909 - val_loss: 0.3952 - val_accuracy: 0.8367\n",
      "Epoch 80/100\n",
      "254/254 [==============================] - 1s 2ms/step - loss: 0.4549 - accuracy: 0.7907 - val_loss: 0.3889 - val_accuracy: 0.8422\n",
      "Epoch 81/100\n",
      "254/254 [==============================] - 1s 2ms/step - loss: 0.4560 - accuracy: 0.7942 - val_loss: 0.4081 - val_accuracy: 0.8367\n",
      "Epoch 82/100\n",
      "254/254 [==============================] - 1s 2ms/step - loss: 0.4552 - accuracy: 0.7916 - val_loss: 0.4273 - val_accuracy: 0.8056\n",
      "Epoch 83/100\n",
      "254/254 [==============================] - 1s 2ms/step - loss: 0.4559 - accuracy: 0.7919 - val_loss: 0.4364 - val_accuracy: 0.7978\n",
      "Epoch 84/100\n",
      "254/254 [==============================] - 1s 2ms/step - loss: 0.4565 - accuracy: 0.7885 - val_loss: 0.4180 - val_accuracy: 0.8156\n",
      "Epoch 85/100\n",
      "254/254 [==============================] - 1s 2ms/step - loss: 0.4533 - accuracy: 0.7907 - val_loss: 0.4150 - val_accuracy: 0.8089\n",
      "Epoch 86/100\n",
      "254/254 [==============================] - 1s 3ms/step - loss: 0.4545 - accuracy: 0.7902 - val_loss: 0.4294 - val_accuracy: 0.8122\n",
      "Epoch 87/100\n",
      "254/254 [==============================] - 1s 2ms/step - loss: 0.4538 - accuracy: 0.7907 - val_loss: 0.4400 - val_accuracy: 0.7978\n",
      "Epoch 88/100\n",
      "254/254 [==============================] - 1s 2ms/step - loss: 0.4533 - accuracy: 0.7917 - val_loss: 0.4348 - val_accuracy: 0.7944\n",
      "Epoch 89/100\n",
      "254/254 [==============================] - 1s 2ms/step - loss: 0.4558 - accuracy: 0.7912 - val_loss: 0.4449 - val_accuracy: 0.7767\n",
      "Epoch 90/100\n",
      "254/254 [==============================] - 1s 2ms/step - loss: 0.4542 - accuracy: 0.7884 - val_loss: 0.4115 - val_accuracy: 0.8244\n",
      "Epoch 91/100\n",
      "254/254 [==============================] - 1s 2ms/step - loss: 0.4537 - accuracy: 0.7944 - val_loss: 0.4730 - val_accuracy: 0.7567\n",
      "Epoch 92/100\n",
      "254/254 [==============================] - 1s 2ms/step - loss: 0.4534 - accuracy: 0.7911 - val_loss: 0.4773 - val_accuracy: 0.7411\n",
      "Epoch 93/100\n",
      "254/254 [==============================] - 1s 2ms/step - loss: 0.4533 - accuracy: 0.7926 - val_loss: 0.4229 - val_accuracy: 0.8122\n",
      "Epoch 94/100\n",
      "254/254 [==============================] - 1s 2ms/step - loss: 0.4533 - accuracy: 0.7914 - val_loss: 0.4521 - val_accuracy: 0.7811\n",
      "Epoch 95/100\n",
      "254/254 [==============================] - 1s 2ms/step - loss: 0.4530 - accuracy: 0.7919 - val_loss: 0.4339 - val_accuracy: 0.8011\n",
      "Epoch 96/100\n",
      "254/254 [==============================] - 1s 3ms/step - loss: 0.4538 - accuracy: 0.7916 - val_loss: 0.4096 - val_accuracy: 0.8278\n",
      "Epoch 97/100\n",
      "254/254 [==============================] - 1s 3ms/step - loss: 0.4543 - accuracy: 0.7914 - val_loss: 0.4347 - val_accuracy: 0.7956\n",
      "Epoch 98/100\n",
      "254/254 [==============================] - 1s 4ms/step - loss: 0.4528 - accuracy: 0.7895 - val_loss: 0.4166 - val_accuracy: 0.8189\n",
      "Epoch 99/100\n",
      "254/254 [==============================] - 1s 4ms/step - loss: 0.4506 - accuracy: 0.7996 - val_loss: 0.4169 - val_accuracy: 0.8133\n",
      "Epoch 100/100\n",
      "254/254 [==============================] - 1s 3ms/step - loss: 0.4513 - accuracy: 0.7941 - val_loss: 0.4588 - val_accuracy: 0.7633\n"
     ]
    },
    {
     "data": {
      "text/plain": [
       "<keras.src.callbacks.History at 0x7ee8daf09450>"
      ]
     },
     "execution_count": 34,
     "metadata": {},
     "output_type": "execute_result"
    }
   ],
   "source": [
    "model.fit(x=X_train,\n",
    "          y=y_train,\n",
    "          validation_split=.1,\n",
    "          batch_size=32,\n",
    "          epochs=100,\n",
    "          verbose=1,\n",
    "          class_weight=class_weights)"
   ]
  },
  {
   "cell_type": "code",
   "execution_count": 34,
   "metadata": {
    "id": "gp1iXTSDN4CF"
   },
   "outputs": [],
   "source": []
  },
  {
   "cell_type": "code",
   "execution_count": 34,
   "metadata": {
    "id": "_K-O7BYrN4Qg"
   },
   "outputs": [],
   "source": []
  },
  {
   "cell_type": "markdown",
   "metadata": {
    "id": "7IT-dFDt3kwn"
   },
   "source": [
    "### Evaluate The Model\n",
    "\n",
    "- Plot the model history to observe the changing of metrics\n",
    "- Make prediction to see \"confusion matrix\" and \"classification report\"\n",
    "- Check ROC (Receiver Operating Curve) and AUC (Area Under Curve) for the model"
   ]
  },
  {
   "cell_type": "code",
   "execution_count": 35,
   "metadata": {
    "colab": {
     "base_uri": "https://localhost:8080/",
     "height": 430
    },
    "id": "rEr15Bn33kwn",
    "outputId": "9705f515-17c2-4593-9615-c767f0a6f059"
   },
   "outputs": [
    {
     "data": {
      "image/png": "[encoded data removed]",
      "text/plain": [
       "<Figure size 640x480 with 1 Axes>"
      ]
     },
     "metadata": {},
     "output_type": "display_data"
    }
   ],
   "source": [
    "loss_df = pd.DataFrame(model.history.history)\n",
    "loss_df.plot();"
   ]
  },
  {
   "cell_type": "code",
   "execution_count": 36,
   "metadata": {
    "colab": {
     "base_uri": "https://localhost:8080/"
    },
    "id": "DIx4pjWdOJXE",
    "outputId": "cdd633e3-b722-460f-8428-198071f3227a"
   },
   "outputs": [
    {
     "name": "stdout",
     "output_type": "stream",
     "text": [
      "loss :  0.5148178339004517\n",
      "accuracy :  0.753000020980835\n"
     ]
    }
   ],
   "source": [
    "loss, accuracy = model.evaluate(X_test, y_test, verbose=0)\n",
    "print(\"loss : \", loss)\n",
    "print(\"accuracy : \", accuracy)"
   ]
  },
  {
   "cell_type": "code",
   "execution_count": 37,
   "metadata": {
    "colab": {
     "base_uri": "https://localhost:8080/"
    },
    "id": "d3Jlw7kXOJhg",
    "outputId": "4343fff1-ff4d-4b0e-faf5-1fa24cc839df"
   },
   "outputs": [
    {
     "name": "stdout",
     "output_type": "stream",
     "text": [
      "32/32 [==============================] - 0s 1ms/step\n",
      "[[597 199]\n",
      " [ 48 156]]\n",
      "              precision    recall  f1-score   support\n",
      "\n",
      "           0       0.93      0.75      0.83       796\n",
      "           1       0.44      0.76      0.56       204\n",
      "\n",
      "    accuracy                           0.75      1000\n",
      "   macro avg       0.68      0.76      0.69      1000\n",
      "weighted avg       0.83      0.75      0.77      1000\n",
      "\n"
     ]
    }
   ],
   "source": [
    "y_pred = model.predict(X_test) > 0.5\n",
    "#y_pred = model.predict_classes(X_test) for tf 2.5.0\n",
    "print(confusion_matrix(y_test, y_pred))\n",
    "print(classification_report(y_test, y_pred))"
   ]
  },
  {
   "cell_type": "markdown",
   "metadata": {
    "id": "GA7NcjOn3kwn"
   },
   "source": [
    "## Implementation Different Methods to Develop The Model\n",
    "\n",
    "- Implement the following methods on model creating with \"class_weight\" parameter\n",
    "- Create and evaluate model for each method"
   ]
  },
  {
   "cell_type": "markdown",
   "metadata": {
    "id": "ObNhy2gn3kwo"
   },
   "source": [
    "### Increase The Learning Rate and Observe The Results"
   ]
  },
  {
   "cell_type": "code",
   "execution_count": 38,
   "metadata": {
    "id": "N-IS1sc-3kwo"
   },
   "outputs": [],
   "source": [
    "from tensorflow.keras.optimizers import Adam"
   ]
  },
  {
   "cell_type": "code",
   "execution_count": 39,
   "metadata": {
    "colab": {
     "base_uri": "https://localhost:8080/"
    },
    "id": "Y_owlXVWOgMV",
    "outputId": "6b07c909-840c-4d49-aa1f-9c967df49c94"
   },
   "outputs": [
    {
     "name": "stderr",
     "output_type": "stream",
     "text": [
      "WARNING:absl:`lr` is deprecated in Keras optimizer, please use `learning_rate` or use the legacy optimizer, e.g.,tf.keras.optimizers.legacy.Adam.\n"
     ]
    }
   ],
   "source": [
    "tf.random.set_seed(seed)\n",
    "\n",
    "model = Sequential()\n",
    "\n",
    "model.add(Dense(20, activation = \"relu\", input_dim = X_train.shape[1]))\n",
    "model.add(Dense(10, activation = \"relu\"))\n",
    "model.add(Dense(5, activation = \"relu\"))\n",
    "model.add(Dense(1, activation = \"sigmoid\"))\n",
    "\n",
    "opt = Adam(lr = 0.005)\n",
    "model.compile(optimizer = opt, loss = \"binary_crossentropy\", metrics = [\"accuracy\"])"
   ]
  },
  {
   "cell_type": "code",
   "execution_count": 40,
   "metadata": {
    "colab": {
     "base_uri": "https://localhost:8080/"
    },
    "id": "dxRjLQjyOgWI",
    "outputId": "92e3064e-c04f-4261-96fb-a7e17d22f25a"
   },
   "outputs": [
    {
     "name": "stdout",
     "output_type": "stream",
     "text": [
      "Epoch 1/100\n",
      "254/254 [==============================] - 2s 3ms/step - loss: 0.6664 - accuracy: 0.5878 - val_loss: 0.6362 - val_accuracy: 0.6744\n",
      "Epoch 2/100\n",
      "254/254 [==============================] - 1s 2ms/step - loss: 0.6195 - accuracy: 0.6620 - val_loss: 0.5770 - val_accuracy: 0.7222\n",
      "Epoch 3/100\n",
      "254/254 [==============================] - 1s 2ms/step - loss: 0.5931 - accuracy: 0.6822 - val_loss: 0.5668 - val_accuracy: 0.7167\n",
      "Epoch 4/100\n",
      "254/254 [==============================] - 1s 2ms/step - loss: 0.5821 - accuracy: 0.6937 - val_loss: 0.5887 - val_accuracy: 0.6933\n",
      "Epoch 5/100\n",
      "254/254 [==============================] - 1s 2ms/step - loss: 0.5763 - accuracy: 0.7016 - val_loss: 0.5287 - val_accuracy: 0.7611\n",
      "Epoch 6/100\n",
      "254/254 [==============================] - 1s 2ms/step - loss: 0.5672 - accuracy: 0.7132 - val_loss: 0.5452 - val_accuracy: 0.7456\n",
      "Epoch 7/100\n",
      "254/254 [==============================] - 1s 2ms/step - loss: 0.5576 - accuracy: 0.7223 - val_loss: 0.4993 - val_accuracy: 0.7689\n",
      "Epoch 8/100\n",
      "254/254 [==============================] - 1s 2ms/step - loss: 0.5495 - accuracy: 0.7293 - val_loss: 0.5980 - val_accuracy: 0.6933\n",
      "Epoch 9/100\n",
      "254/254 [==============================] - 1s 2ms/step - loss: 0.5393 - accuracy: 0.7384 - val_loss: 0.4806 - val_accuracy: 0.7922\n",
      "Epoch 10/100\n",
      "254/254 [==============================] - 1s 2ms/step - loss: 0.5283 - accuracy: 0.7527 - val_loss: 0.4930 - val_accuracy: 0.7856\n",
      "Epoch 11/100\n",
      "254/254 [==============================] - 1s 3ms/step - loss: 0.5196 - accuracy: 0.7625 - val_loss: 0.5262 - val_accuracy: 0.7489\n",
      "Epoch 12/100\n",
      "254/254 [==============================] - 1s 3ms/step - loss: 0.5132 - accuracy: 0.7610 - val_loss: 0.4939 - val_accuracy: 0.7789\n",
      "Epoch 13/100\n",
      "254/254 [==============================] - 1s 3ms/step - loss: 0.5071 - accuracy: 0.7654 - val_loss: 0.4947 - val_accuracy: 0.7767\n",
      "Epoch 14/100\n",
      "254/254 [==============================] - 1s 3ms/step - loss: 0.5042 - accuracy: 0.7648 - val_loss: 0.5881 - val_accuracy: 0.6922\n",
      "Epoch 15/100\n",
      "254/254 [==============================] - 1s 3ms/step - loss: 0.4996 - accuracy: 0.7648 - val_loss: 0.4694 - val_accuracy: 0.7900\n",
      "Epoch 16/100\n",
      "254/254 [==============================] - 1s 3ms/step - loss: 0.4957 - accuracy: 0.7704 - val_loss: 0.4510 - val_accuracy: 0.7933\n",
      "Epoch 17/100\n",
      "254/254 [==============================] - 1s 2ms/step - loss: 0.4926 - accuracy: 0.7730 - val_loss: 0.4619 - val_accuracy: 0.7889\n",
      "Epoch 18/100\n",
      "254/254 [==============================] - 1s 2ms/step - loss: 0.4904 - accuracy: 0.7720 - val_loss: 0.4573 - val_accuracy: 0.7911\n",
      "Epoch 19/100\n",
      "254/254 [==============================] - 1s 2ms/step - loss: 0.4884 - accuracy: 0.7707 - val_loss: 0.4365 - val_accuracy: 0.8167\n",
      "Epoch 20/100\n",
      "254/254 [==============================] - 1s 2ms/step - loss: 0.4882 - accuracy: 0.7744 - val_loss: 0.3873 - val_accuracy: 0.8444\n",
      "Epoch 21/100\n",
      "254/254 [==============================] - 1s 2ms/step - loss: 0.4864 - accuracy: 0.7731 - val_loss: 0.4406 - val_accuracy: 0.8022\n",
      "Epoch 22/100\n",
      "254/254 [==============================] - 1s 2ms/step - loss: 0.4847 - accuracy: 0.7746 - val_loss: 0.4586 - val_accuracy: 0.7922\n",
      "Epoch 23/100\n",
      "254/254 [==============================] - 1s 2ms/step - loss: 0.4860 - accuracy: 0.7704 - val_loss: 0.3958 - val_accuracy: 0.8378\n",
      "Epoch 24/100\n",
      "254/254 [==============================] - 1s 2ms/step - loss: 0.4834 - accuracy: 0.7702 - val_loss: 0.5219 - val_accuracy: 0.7367\n",
      "Epoch 25/100\n",
      "254/254 [==============================] - 1s 2ms/step - loss: 0.4810 - accuracy: 0.7786 - val_loss: 0.4031 - val_accuracy: 0.8344\n",
      "Epoch 26/100\n",
      "254/254 [==============================] - 1s 2ms/step - loss: 0.4804 - accuracy: 0.7744 - val_loss: 0.4839 - val_accuracy: 0.7622\n",
      "Epoch 27/100\n",
      "254/254 [==============================] - 1s 2ms/step - loss: 0.4808 - accuracy: 0.7779 - val_loss: 0.4743 - val_accuracy: 0.7756\n",
      "Epoch 28/100\n",
      "254/254 [==============================] - 1s 2ms/step - loss: 0.4781 - accuracy: 0.7768 - val_loss: 0.4230 - val_accuracy: 0.8189\n",
      "Epoch 29/100\n",
      "254/254 [==============================] - 1s 2ms/step - loss: 0.4759 - accuracy: 0.7784 - val_loss: 0.4389 - val_accuracy: 0.8011\n",
      "Epoch 30/100\n",
      "254/254 [==============================] - 1s 2ms/step - loss: 0.4756 - accuracy: 0.7786 - val_loss: 0.4296 - val_accuracy: 0.8089\n",
      "Epoch 31/100\n",
      "254/254 [==============================] - 1s 2ms/step - loss: 0.4759 - accuracy: 0.7757 - val_loss: 0.4552 - val_accuracy: 0.7867\n",
      "Epoch 32/100\n",
      "254/254 [==============================] - 1s 2ms/step - loss: 0.4762 - accuracy: 0.7786 - val_loss: 0.3987 - val_accuracy: 0.8411\n",
      "Epoch 33/100\n",
      "254/254 [==============================] - 1s 3ms/step - loss: 0.4746 - accuracy: 0.7778 - val_loss: 0.3994 - val_accuracy: 0.8389\n",
      "Epoch 34/100\n",
      "254/254 [==============================] - 1s 3ms/step - loss: 0.4758 - accuracy: 0.7798 - val_loss: 0.4358 - val_accuracy: 0.8056\n",
      "Epoch 35/100\n",
      "254/254 [==============================] - 1s 3ms/step - loss: 0.4754 - accuracy: 0.7770 - val_loss: 0.3931 - val_accuracy: 0.8444\n",
      "Epoch 36/100\n",
      "254/254 [==============================] - 1s 4ms/step - loss: 0.4729 - accuracy: 0.7801 - val_loss: 0.4023 - val_accuracy: 0.8344\n",
      "Epoch 37/100\n",
      "254/254 [==============================] - 1s 3ms/step - loss: 0.4728 - accuracy: 0.7800 - val_loss: 0.4418 - val_accuracy: 0.7889\n",
      "Epoch 38/100\n",
      "254/254 [==============================] - 1s 3ms/step - loss: 0.4751 - accuracy: 0.7784 - val_loss: 0.4870 - val_accuracy: 0.7656\n",
      "Epoch 39/100\n",
      "254/254 [==============================] - 1s 2ms/step - loss: 0.4727 - accuracy: 0.7800 - val_loss: 0.4040 - val_accuracy: 0.8289\n",
      "Epoch 40/100\n",
      "254/254 [==============================] - 1s 2ms/step - loss: 0.4712 - accuracy: 0.7812 - val_loss: 0.3903 - val_accuracy: 0.8444\n",
      "Epoch 41/100\n",
      "254/254 [==============================] - 1s 2ms/step - loss: 0.4717 - accuracy: 0.7796 - val_loss: 0.4510 - val_accuracy: 0.7944\n",
      "Epoch 42/100\n",
      "254/254 [==============================] - 1s 2ms/step - loss: 0.4700 - accuracy: 0.7762 - val_loss: 0.4601 - val_accuracy: 0.7822\n",
      "Epoch 43/100\n",
      "254/254 [==============================] - 1s 2ms/step - loss: 0.4711 - accuracy: 0.7775 - val_loss: 0.4502 - val_accuracy: 0.7878\n",
      "Epoch 44/100\n",
      "254/254 [==============================] - 1s 2ms/step - loss: 0.4695 - accuracy: 0.7807 - val_loss: 0.4728 - val_accuracy: 0.7689\n",
      "Epoch 45/100\n",
      "254/254 [==============================] - 1s 2ms/step - loss: 0.4699 - accuracy: 0.7791 - val_loss: 0.4111 - val_accuracy: 0.8200\n",
      "Epoch 46/100\n",
      "254/254 [==============================] - 1s 2ms/step - loss: 0.4686 - accuracy: 0.7783 - val_loss: 0.4681 - val_accuracy: 0.7800\n",
      "Epoch 47/100\n",
      "254/254 [==============================] - 1s 2ms/step - loss: 0.4684 - accuracy: 0.7778 - val_loss: 0.4348 - val_accuracy: 0.8022\n",
      "Epoch 48/100\n",
      "254/254 [==============================] - 1s 2ms/step - loss: 0.4697 - accuracy: 0.7809 - val_loss: 0.4270 - val_accuracy: 0.8122\n",
      "Epoch 49/100\n",
      "254/254 [==============================] - 1s 2ms/step - loss: 0.4677 - accuracy: 0.7806 - val_loss: 0.4023 - val_accuracy: 0.8233\n",
      "Epoch 50/100\n",
      "254/254 [==============================] - 1s 2ms/step - loss: 0.4682 - accuracy: 0.7762 - val_loss: 0.4339 - val_accuracy: 0.8067\n",
      "Epoch 51/100\n",
      "254/254 [==============================] - 1s 2ms/step - loss: 0.4665 - accuracy: 0.7800 - val_loss: 0.3938 - val_accuracy: 0.8367\n",
      "Epoch 52/100\n",
      "254/254 [==============================] - 1s 3ms/step - loss: 0.4671 - accuracy: 0.7799 - val_loss: 0.4203 - val_accuracy: 0.8156\n",
      "Epoch 53/100\n",
      "254/254 [==============================] - 1s 2ms/step - loss: 0.4672 - accuracy: 0.7810 - val_loss: 0.4391 - val_accuracy: 0.8067\n",
      "Epoch 54/100\n",
      "254/254 [==============================] - 1s 2ms/step - loss: 0.4675 - accuracy: 0.7777 - val_loss: 0.3956 - val_accuracy: 0.8311\n",
      "Epoch 55/100\n",
      "254/254 [==============================] - 1s 3ms/step - loss: 0.4675 - accuracy: 0.7794 - val_loss: 0.4447 - val_accuracy: 0.7933\n",
      "Epoch 56/100\n",
      "254/254 [==============================] - 1s 4ms/step - loss: 0.4657 - accuracy: 0.7779 - val_loss: 0.4329 - val_accuracy: 0.8011\n",
      "Epoch 57/100\n",
      "254/254 [==============================] - 1s 3ms/step - loss: 0.4667 - accuracy: 0.7783 - val_loss: 0.4245 - val_accuracy: 0.8078\n",
      "Epoch 58/100\n",
      "254/254 [==============================] - 1s 3ms/step - loss: 0.4640 - accuracy: 0.7807 - val_loss: 0.4576 - val_accuracy: 0.7778\n",
      "Epoch 59/100\n",
      "254/254 [==============================] - 1s 3ms/step - loss: 0.4648 - accuracy: 0.7811 - val_loss: 0.4334 - val_accuracy: 0.8000\n",
      "Epoch 60/100\n",
      "254/254 [==============================] - 1s 3ms/step - loss: 0.4645 - accuracy: 0.7783 - val_loss: 0.4660 - val_accuracy: 0.7744\n",
      "Epoch 61/100\n",
      "254/254 [==============================] - 1s 3ms/step - loss: 0.4627 - accuracy: 0.7785 - val_loss: 0.4091 - val_accuracy: 0.8222\n",
      "Epoch 62/100\n",
      "254/254 [==============================] - 1s 2ms/step - loss: 0.4625 - accuracy: 0.7812 - val_loss: 0.4360 - val_accuracy: 0.8011\n",
      "Epoch 63/100\n",
      "254/254 [==============================] - 1s 3ms/step - loss: 0.4626 - accuracy: 0.7870 - val_loss: 0.5036 - val_accuracy: 0.7478\n",
      "Epoch 64/100\n",
      "254/254 [==============================] - 1s 2ms/step - loss: 0.4640 - accuracy: 0.7770 - val_loss: 0.4377 - val_accuracy: 0.7944\n",
      "Epoch 65/100\n",
      "254/254 [==============================] - 1s 2ms/step - loss: 0.4601 - accuracy: 0.7820 - val_loss: 0.4200 - val_accuracy: 0.8156\n",
      "Epoch 66/100\n",
      "254/254 [==============================] - 1s 2ms/step - loss: 0.4608 - accuracy: 0.7841 - val_loss: 0.4721 - val_accuracy: 0.7700\n",
      "Epoch 67/100\n",
      "254/254 [==============================] - 1s 2ms/step - loss: 0.4618 - accuracy: 0.7805 - val_loss: 0.3711 - val_accuracy: 0.8511\n",
      "Epoch 68/100\n",
      "254/254 [==============================] - 1s 2ms/step - loss: 0.4602 - accuracy: 0.7830 - val_loss: 0.3938 - val_accuracy: 0.8289\n",
      "Epoch 69/100\n",
      "254/254 [==============================] - 1s 2ms/step - loss: 0.4585 - accuracy: 0.7811 - val_loss: 0.4311 - val_accuracy: 0.8000\n",
      "Epoch 70/100\n",
      "254/254 [==============================] - 1s 5ms/step - loss: 0.4597 - accuracy: 0.7790 - val_loss: 0.4219 - val_accuracy: 0.8089\n",
      "Epoch 71/100\n",
      "254/254 [==============================] - 1s 2ms/step - loss: 0.4588 - accuracy: 0.7831 - val_loss: 0.4156 - val_accuracy: 0.8156\n",
      "Epoch 72/100\n",
      "254/254 [==============================] - 1s 2ms/step - loss: 0.4569 - accuracy: 0.7805 - val_loss: 0.4374 - val_accuracy: 0.7933\n",
      "Epoch 73/100\n",
      "254/254 [==============================] - 1s 2ms/step - loss: 0.4583 - accuracy: 0.7840 - val_loss: 0.3909 - val_accuracy: 0.8322\n",
      "Epoch 74/100\n",
      "254/254 [==============================] - 1s 2ms/step - loss: 0.4579 - accuracy: 0.7767 - val_loss: 0.3828 - val_accuracy: 0.8456\n",
      "Epoch 75/100\n",
      "254/254 [==============================] - 1s 3ms/step - loss: 0.4564 - accuracy: 0.7881 - val_loss: 0.4019 - val_accuracy: 0.8289\n",
      "Epoch 76/100\n",
      "254/254 [==============================] - 1s 3ms/step - loss: 0.4585 - accuracy: 0.7860 - val_loss: 0.4084 - val_accuracy: 0.8200\n",
      "Epoch 77/100\n",
      "254/254 [==============================] - 1s 3ms/step - loss: 0.4587 - accuracy: 0.7823 - val_loss: 0.4076 - val_accuracy: 0.8122\n",
      "Epoch 78/100\n",
      "254/254 [==============================] - 1s 3ms/step - loss: 0.4575 - accuracy: 0.7778 - val_loss: 0.4315 - val_accuracy: 0.8033\n",
      "Epoch 79/100\n",
      "254/254 [==============================] - 1s 3ms/step - loss: 0.4570 - accuracy: 0.7822 - val_loss: 0.3606 - val_accuracy: 0.8500\n",
      "Epoch 80/100\n",
      "254/254 [==============================] - 1s 3ms/step - loss: 0.4545 - accuracy: 0.7831 - val_loss: 0.3759 - val_accuracy: 0.8511\n",
      "Epoch 81/100\n",
      "254/254 [==============================] - 1s 2ms/step - loss: 0.4557 - accuracy: 0.7848 - val_loss: 0.4094 - val_accuracy: 0.8144\n",
      "Epoch 82/100\n",
      "254/254 [==============================] - 1s 2ms/step - loss: 0.4550 - accuracy: 0.7841 - val_loss: 0.3842 - val_accuracy: 0.8378\n",
      "Epoch 83/100\n",
      "254/254 [==============================] - 1s 2ms/step - loss: 0.4546 - accuracy: 0.7840 - val_loss: 0.4115 - val_accuracy: 0.8178\n",
      "Epoch 84/100\n",
      "254/254 [==============================] - 1s 2ms/step - loss: 0.4567 - accuracy: 0.7841 - val_loss: 0.4162 - val_accuracy: 0.8089\n",
      "Epoch 85/100\n",
      "254/254 [==============================] - 1s 2ms/step - loss: 0.4523 - accuracy: 0.7874 - val_loss: 0.4265 - val_accuracy: 0.7978\n",
      "Epoch 86/100\n",
      "254/254 [==============================] - 1s 2ms/step - loss: 0.4547 - accuracy: 0.7857 - val_loss: 0.4232 - val_accuracy: 0.8011\n",
      "Epoch 87/100\n",
      "254/254 [==============================] - 1s 2ms/step - loss: 0.4541 - accuracy: 0.7827 - val_loss: 0.4367 - val_accuracy: 0.7967\n",
      "Epoch 88/100\n",
      "254/254 [==============================] - 1s 2ms/step - loss: 0.4529 - accuracy: 0.7842 - val_loss: 0.4499 - val_accuracy: 0.7767\n",
      "Epoch 89/100\n",
      "254/254 [==============================] - 1s 2ms/step - loss: 0.4556 - accuracy: 0.7880 - val_loss: 0.4568 - val_accuracy: 0.7767\n",
      "Epoch 90/100\n",
      "254/254 [==============================] - 1s 2ms/step - loss: 0.4529 - accuracy: 0.7823 - val_loss: 0.4016 - val_accuracy: 0.8178\n",
      "Epoch 91/100\n",
      "254/254 [==============================] - 1s 2ms/step - loss: 0.4535 - accuracy: 0.7849 - val_loss: 0.4596 - val_accuracy: 0.7722\n",
      "Epoch 92/100\n",
      "254/254 [==============================] - 1s 2ms/step - loss: 0.4519 - accuracy: 0.7837 - val_loss: 0.4515 - val_accuracy: 0.7844\n",
      "Epoch 93/100\n",
      "254/254 [==============================] - 1s 2ms/step - loss: 0.4526 - accuracy: 0.7893 - val_loss: 0.4232 - val_accuracy: 0.8044\n",
      "Epoch 94/100\n",
      "254/254 [==============================] - 1s 2ms/step - loss: 0.4505 - accuracy: 0.7864 - val_loss: 0.4362 - val_accuracy: 0.8000\n",
      "Epoch 95/100\n",
      "254/254 [==============================] - 1s 2ms/step - loss: 0.4521 - accuracy: 0.7877 - val_loss: 0.4396 - val_accuracy: 0.7900\n",
      "Epoch 96/100\n",
      "254/254 [==============================] - 1s 2ms/step - loss: 0.4523 - accuracy: 0.7873 - val_loss: 0.4168 - val_accuracy: 0.8111\n",
      "Epoch 97/100\n",
      "254/254 [==============================] - 1s 3ms/step - loss: 0.4532 - accuracy: 0.7844 - val_loss: 0.4500 - val_accuracy: 0.7778\n",
      "Epoch 98/100\n",
      "254/254 [==============================] - 1s 3ms/step - loss: 0.4521 - accuracy: 0.7863 - val_loss: 0.3965 - val_accuracy: 0.8378\n",
      "Epoch 99/100\n",
      "254/254 [==============================] - 1s 3ms/step - loss: 0.4491 - accuracy: 0.7873 - val_loss: 0.4038 - val_accuracy: 0.8189\n",
      "Epoch 100/100\n",
      "254/254 [==============================] - 1s 3ms/step - loss: 0.4503 - accuracy: 0.7889 - val_loss: 0.4653 - val_accuracy: 0.7711\n"
     ]
    },
    {
     "data": {
      "text/plain": [
       "<keras.src.callbacks.History at 0x7ee8dad1e800>"
      ]
     },
     "execution_count": 40,
     "metadata": {},
     "output_type": "execute_result"
    }
   ],
   "source": [
    "model.fit(x=X_train,\n",
    "          y=y_train,\n",
    "          validation_split=.1,\n",
    "          batch_size=32,\n",
    "          epochs=100,\n",
    "          verbose=1,\n",
    "          class_weight=class_weights)"
   ]
  },
  {
   "cell_type": "code",
   "execution_count": 41,
   "metadata": {
    "colab": {
     "base_uri": "https://localhost:8080/",
     "height": 447
    },
    "id": "s5AePIFQOqux",
    "outputId": "607934a6-b956-4e62-94df-6969057afada"
   },
   "outputs": [
    {
     "data": {
      "text/plain": [
       "<Axes: >"
      ]
     },
     "execution_count": 41,
     "metadata": {},
     "output_type": "execute_result"
    },
    {
     "data": {
      "image/png": "[encoded data removed]",
      "text/plain": [
       "<Figure size 640x480 with 1 Axes>"
      ]
     },
     "metadata": {},
     "output_type": "display_data"
    }
   ],
   "source": [
    "loss_df = pd.DataFrame(model.history.history)\n",
    "loss_df.plot()"
   ]
  },
  {
   "cell_type": "code",
   "execution_count": 42,
   "metadata": {
    "colab": {
     "base_uri": "https://localhost:8080/"
    },
    "id": "CrReE94sPXpf",
    "outputId": "0c20e839-057b-4658-fb4e-2d65a8f888f2"
   },
   "outputs": [
    {
     "name": "stdout",
     "output_type": "stream",
     "text": [
      "loss :  0.5099055767059326\n",
      "accuracy :  0.7409999966621399\n"
     ]
    }
   ],
   "source": [
    "loss, accuracy = model.evaluate(X_test, y_test, verbose=0)\n",
    "print(\"loss : \", loss)\n",
    "print(\"accuracy : \", accuracy)"
   ]
  },
  {
   "cell_type": "code",
   "execution_count": 43,
   "metadata": {
    "colab": {
     "base_uri": "https://localhost:8080/"
    },
    "id": "TQeeE6guPX0S",
    "outputId": "8eeff7a5-876c-4165-801e-553a7d29dce7"
   },
   "outputs": [
    {
     "name": "stdout",
     "output_type": "stream",
     "text": [
      "32/32 [==============================] - 0s 2ms/step\n",
      "[[577 219]\n",
      " [ 40 164]]\n",
      "              precision    recall  f1-score   support\n",
      "\n",
      "           0       0.94      0.72      0.82       796\n",
      "           1       0.43      0.80      0.56       204\n",
      "\n",
      "    accuracy                           0.74      1000\n",
      "   macro avg       0.68      0.76      0.69      1000\n",
      "weighted avg       0.83      0.74      0.76      1000\n",
      "\n"
     ]
    }
   ],
   "source": [
    "y_pred = model.predict(X_test) > 0.5\n",
    "#y_pred = model.predict_classes(X_test) for tf 2.5.0\n",
    "print(confusion_matrix(y_test, y_pred))\n",
    "print(classification_report(y_test, y_pred))"
   ]
  },
  {
   "cell_type": "markdown",
   "metadata": {
    "id": "wbZaPx8D3kwo"
   },
   "source": [
    "### Add Dropout Layer"
   ]
  },
  {
   "cell_type": "code",
   "execution_count": 44,
   "metadata": {
    "id": "US1kbYHu3kwo"
   },
   "outputs": [],
   "source": [
    "from tensorflow.keras.layers import Dropout"
   ]
  },
  {
   "cell_type": "code",
   "execution_count": 45,
   "metadata": {
    "colab": {
     "base_uri": "https://localhost:8080/"
    },
    "id": "Pt-hh97LPpbd",
    "outputId": "82cc832c-9352-4d2e-e226-c0f606cca7f8"
   },
   "outputs": [
    {
     "name": "stderr",
     "output_type": "stream",
     "text": [
      "WARNING:absl:`lr` is deprecated in Keras optimizer, please use `learning_rate` or use the legacy optimizer, e.g.,tf.keras.optimizers.legacy.Adam.\n"
     ]
    }
   ],
   "source": [
    "tf.random.set_seed(seed)\n",
    "\n",
    "model = Sequential()\n",
    "\n",
    "model.add(Dense(20, activation=\"relu\", input_dim = X_train.shape[1]))\n",
    "model.add(Dropout(0.5))\n",
    "\n",
    "model.add(Dense(10, activation=\"relu\"))\n",
    "model.add(Dropout(0.5))\n",
    "\n",
    "model.add(Dense(5, activation=\"relu\"))\n",
    "model.add(Dropout(0.5))\n",
    "\n",
    "model.add(Dense(1, activation=\"sigmoid\"))\n",
    "\n",
    "opt = Adam(lr = 0.001)\n",
    "model.compile(optimizer = opt, loss = \"binary_crossentropy\", metrics = [\"accuracy\"])"
   ]
  },
  {
   "cell_type": "code",
   "execution_count": 46,
   "metadata": {
    "colab": {
     "base_uri": "https://localhost:8080/"
    },
    "id": "GpzneV5hPptF",
    "outputId": "d87e12db-7265-49dc-ec8f-61d907dc1c10"
   },
   "outputs": [
    {
     "name": "stdout",
     "output_type": "stream",
     "text": [
      "Epoch 1/100\n",
      "254/254 [==============================] - 2s 3ms/step - loss: 0.7059 - accuracy: 0.4078 - val_loss: 0.7039 - val_accuracy: 0.2889\n",
      "Epoch 2/100\n",
      "254/254 [==============================] - 1s 2ms/step - loss: 0.6943 - accuracy: 0.3154 - val_loss: 0.7067 - val_accuracy: 0.2322\n",
      "Epoch 3/100\n",
      "254/254 [==============================] - 1s 2ms/step - loss: 0.6892 - accuracy: 0.2910 - val_loss: 0.7015 - val_accuracy: 0.3067\n",
      "Epoch 4/100\n",
      "254/254 [==============================] - 1s 2ms/step - loss: 0.6870 - accuracy: 0.3183 - val_loss: 0.6871 - val_accuracy: 0.4278\n",
      "Epoch 5/100\n",
      "254/254 [==============================] - 1s 2ms/step - loss: 0.6868 - accuracy: 0.3335 - val_loss: 0.6920 - val_accuracy: 0.3956\n",
      "Epoch 6/100\n",
      "254/254 [==============================] - 1s 2ms/step - loss: 0.6800 - accuracy: 0.3793 - val_loss: 0.6812 - val_accuracy: 0.5378\n",
      "Epoch 7/100\n",
      "254/254 [==============================] - 1s 2ms/step - loss: 0.6738 - accuracy: 0.5053 - val_loss: 0.6650 - val_accuracy: 0.6411\n",
      "Epoch 8/100\n",
      "254/254 [==============================] - 1s 2ms/step - loss: 0.6794 - accuracy: 0.5032 - val_loss: 0.6754 - val_accuracy: 0.6200\n",
      "Epoch 9/100\n",
      "254/254 [==============================] - 1s 3ms/step - loss: 0.6751 - accuracy: 0.5488 - val_loss: 0.6685 - val_accuracy: 0.6256\n",
      "Epoch 10/100\n",
      "254/254 [==============================] - 1s 2ms/step - loss: 0.6743 - accuracy: 0.6104 - val_loss: 0.6506 - val_accuracy: 0.6922\n",
      "Epoch 11/100\n",
      "254/254 [==============================] - 1s 2ms/step - loss: 0.6651 - accuracy: 0.5389 - val_loss: 0.6434 - val_accuracy: 0.6911\n",
      "Epoch 12/100\n",
      "254/254 [==============================] - 1s 3ms/step - loss: 0.6682 - accuracy: 0.5464 - val_loss: 0.6428 - val_accuracy: 0.6989\n",
      "Epoch 13/100\n",
      "254/254 [==============================] - 1s 2ms/step - loss: 0.6673 - accuracy: 0.5406 - val_loss: 0.6534 - val_accuracy: 0.6489\n",
      "Epoch 14/100\n",
      "254/254 [==============================] - 1s 2ms/step - loss: 0.6577 - accuracy: 0.5406 - val_loss: 0.6369 - val_accuracy: 0.6678\n",
      "Epoch 15/100\n",
      "254/254 [==============================] - 1s 3ms/step - loss: 0.6549 - accuracy: 0.5898 - val_loss: 0.6093 - val_accuracy: 0.7122\n",
      "Epoch 16/100\n",
      "254/254 [==============================] - 1s 4ms/step - loss: 0.6526 - accuracy: 0.5922 - val_loss: 0.5949 - val_accuracy: 0.7133\n",
      "Epoch 17/100\n",
      "254/254 [==============================] - 1s 3ms/step - loss: 0.6566 - accuracy: 0.5780 - val_loss: 0.6131 - val_accuracy: 0.7122\n",
      "Epoch 18/100\n",
      "254/254 [==============================] - 1s 4ms/step - loss: 0.6478 - accuracy: 0.5902 - val_loss: 0.6152 - val_accuracy: 0.7000\n",
      "Epoch 19/100\n",
      "254/254 [==============================] - 1s 3ms/step - loss: 0.6482 - accuracy: 0.6056 - val_loss: 0.5997 - val_accuracy: 0.7133\n",
      "Epoch 20/100\n",
      "254/254 [==============================] - 1s 2ms/step - loss: 0.6435 - accuracy: 0.6025 - val_loss: 0.6182 - val_accuracy: 0.6778\n",
      "Epoch 21/100\n",
      "254/254 [==============================] - 1s 2ms/step - loss: 0.6420 - accuracy: 0.5881 - val_loss: 0.6076 - val_accuracy: 0.6744\n",
      "Epoch 22/100\n",
      "254/254 [==============================] - 1s 2ms/step - loss: 0.6342 - accuracy: 0.6089 - val_loss: 0.6040 - val_accuracy: 0.6756\n",
      "Epoch 23/100\n",
      "254/254 [==============================] - 1s 2ms/step - loss: 0.6298 - accuracy: 0.6200 - val_loss: 0.5615 - val_accuracy: 0.7156\n",
      "Epoch 24/100\n",
      "254/254 [==============================] - 1s 2ms/step - loss: 0.6281 - accuracy: 0.6374 - val_loss: 0.5778 - val_accuracy: 0.7044\n",
      "Epoch 25/100\n",
      "254/254 [==============================] - 1s 2ms/step - loss: 0.6277 - accuracy: 0.6293 - val_loss: 0.5738 - val_accuracy: 0.7122\n",
      "Epoch 26/100\n",
      "254/254 [==============================] - 1s 2ms/step - loss: 0.6206 - accuracy: 0.6430 - val_loss: 0.5608 - val_accuracy: 0.7233\n",
      "Epoch 27/100\n",
      "254/254 [==============================] - 1s 2ms/step - loss: 0.6245 - accuracy: 0.6365 - val_loss: 0.5826 - val_accuracy: 0.7089\n",
      "Epoch 28/100\n",
      "254/254 [==============================] - 1s 4ms/step - loss: 0.6197 - accuracy: 0.6347 - val_loss: 0.5611 - val_accuracy: 0.7289\n",
      "Epoch 29/100\n",
      "254/254 [==============================] - 1s 2ms/step - loss: 0.6206 - accuracy: 0.6349 - val_loss: 0.5689 - val_accuracy: 0.7044\n",
      "Epoch 30/100\n",
      "254/254 [==============================] - 1s 2ms/step - loss: 0.6176 - accuracy: 0.6463 - val_loss: 0.5802 - val_accuracy: 0.6811\n",
      "Epoch 31/100\n",
      "254/254 [==============================] - 1s 2ms/step - loss: 0.6173 - accuracy: 0.6309 - val_loss: 0.5784 - val_accuracy: 0.6844\n",
      "Epoch 32/100\n",
      "254/254 [==============================] - 1s 2ms/step - loss: 0.6185 - accuracy: 0.6362 - val_loss: 0.5531 - val_accuracy: 0.7289\n",
      "Epoch 33/100\n",
      "254/254 [==============================] - 1s 2ms/step - loss: 0.6211 - accuracy: 0.6419 - val_loss: 0.5811 - val_accuracy: 0.6922\n",
      "Epoch 34/100\n",
      "254/254 [==============================] - 1s 2ms/step - loss: 0.6088 - accuracy: 0.6568 - val_loss: 0.5335 - val_accuracy: 0.7389\n",
      "Epoch 35/100\n",
      "254/254 [==============================] - 1s 3ms/step - loss: 0.6117 - accuracy: 0.6485 - val_loss: 0.5698 - val_accuracy: 0.6967\n",
      "Epoch 36/100\n",
      "254/254 [==============================] - 1s 4ms/step - loss: 0.6159 - accuracy: 0.6395 - val_loss: 0.5641 - val_accuracy: 0.6956\n",
      "Epoch 37/100\n",
      "254/254 [==============================] - 1s 3ms/step - loss: 0.6099 - accuracy: 0.6375 - val_loss: 0.5406 - val_accuracy: 0.7244\n",
      "Epoch 38/100\n",
      "254/254 [==============================] - 1s 3ms/step - loss: 0.5994 - accuracy: 0.6590 - val_loss: 0.5461 - val_accuracy: 0.7111\n",
      "Epoch 39/100\n",
      "254/254 [==============================] - 1s 4ms/step - loss: 0.6052 - accuracy: 0.6459 - val_loss: 0.5394 - val_accuracy: 0.7389\n",
      "Epoch 40/100\n",
      "254/254 [==============================] - 1s 3ms/step - loss: 0.6044 - accuracy: 0.6548 - val_loss: 0.5343 - val_accuracy: 0.7244\n",
      "Epoch 41/100\n",
      "254/254 [==============================] - 1s 2ms/step - loss: 0.6118 - accuracy: 0.6491 - val_loss: 0.5572 - val_accuracy: 0.7167\n",
      "Epoch 42/100\n",
      "254/254 [==============================] - 1s 2ms/step - loss: 0.6088 - accuracy: 0.6468 - val_loss: 0.5424 - val_accuracy: 0.7322\n",
      "Epoch 43/100\n",
      "254/254 [==============================] - 1s 2ms/step - loss: 0.5974 - accuracy: 0.6594 - val_loss: 0.5317 - val_accuracy: 0.7378\n",
      "Epoch 44/100\n",
      "254/254 [==============================] - 1s 2ms/step - loss: 0.6043 - accuracy: 0.6599 - val_loss: 0.5562 - val_accuracy: 0.7078\n",
      "Epoch 45/100\n",
      "254/254 [==============================] - 1s 2ms/step - loss: 0.6002 - accuracy: 0.6494 - val_loss: 0.5570 - val_accuracy: 0.7022\n",
      "Epoch 46/100\n",
      "254/254 [==============================] - 1s 2ms/step - loss: 0.6081 - accuracy: 0.6494 - val_loss: 0.5321 - val_accuracy: 0.7333\n",
      "Epoch 47/100\n",
      "254/254 [==============================] - 1s 2ms/step - loss: 0.6014 - accuracy: 0.6598 - val_loss: 0.5436 - val_accuracy: 0.7244\n",
      "Epoch 48/100\n",
      "254/254 [==============================] - 1s 2ms/step - loss: 0.6001 - accuracy: 0.6519 - val_loss: 0.5448 - val_accuracy: 0.7211\n",
      "Epoch 49/100\n",
      "254/254 [==============================] - 1s 2ms/step - loss: 0.6032 - accuracy: 0.6562 - val_loss: 0.5358 - val_accuracy: 0.7367\n",
      "Epoch 50/100\n",
      "254/254 [==============================] - 1s 2ms/step - loss: 0.6049 - accuracy: 0.6643 - val_loss: 0.5567 - val_accuracy: 0.7156\n",
      "Epoch 51/100\n",
      "254/254 [==============================] - 1s 2ms/step - loss: 0.6031 - accuracy: 0.6481 - val_loss: 0.5729 - val_accuracy: 0.6744\n",
      "Epoch 52/100\n",
      "254/254 [==============================] - 1s 2ms/step - loss: 0.6018 - accuracy: 0.6312 - val_loss: 0.5364 - val_accuracy: 0.7289\n",
      "Epoch 53/100\n",
      "254/254 [==============================] - 1s 2ms/step - loss: 0.5981 - accuracy: 0.6567 - val_loss: 0.5489 - val_accuracy: 0.7233\n",
      "Epoch 54/100\n",
      "254/254 [==============================] - 1s 2ms/step - loss: 0.5927 - accuracy: 0.6528 - val_loss: 0.4956 - val_accuracy: 0.7600\n",
      "Epoch 55/100\n",
      "254/254 [==============================] - 1s 2ms/step - loss: 0.5982 - accuracy: 0.6593 - val_loss: 0.5420 - val_accuracy: 0.7133\n",
      "Epoch 56/100\n",
      "254/254 [==============================] - 1s 3ms/step - loss: 0.5941 - accuracy: 0.6432 - val_loss: 0.5766 - val_accuracy: 0.6611\n",
      "Epoch 57/100\n",
      "254/254 [==============================] - 1s 3ms/step - loss: 0.6007 - accuracy: 0.6459 - val_loss: 0.5514 - val_accuracy: 0.7100\n",
      "Epoch 58/100\n",
      "254/254 [==============================] - 1s 3ms/step - loss: 0.5895 - accuracy: 0.6463 - val_loss: 0.5226 - val_accuracy: 0.7189\n",
      "Epoch 59/100\n",
      "254/254 [==============================] - 1s 4ms/step - loss: 0.5997 - accuracy: 0.6472 - val_loss: 0.5460 - val_accuracy: 0.7056\n",
      "Epoch 60/100\n",
      "254/254 [==============================] - 1s 3ms/step - loss: 0.5952 - accuracy: 0.6563 - val_loss: 0.5506 - val_accuracy: 0.6911\n",
      "Epoch 61/100\n",
      "254/254 [==============================] - 1s 3ms/step - loss: 0.5908 - accuracy: 0.6491 - val_loss: 0.5233 - val_accuracy: 0.7133\n",
      "Epoch 62/100\n",
      "254/254 [==============================] - 1s 2ms/step - loss: 0.5932 - accuracy: 0.6611 - val_loss: 0.5484 - val_accuracy: 0.6967\n",
      "Epoch 63/100\n",
      "254/254 [==============================] - 1s 2ms/step - loss: 0.5980 - accuracy: 0.6564 - val_loss: 0.5298 - val_accuracy: 0.7367\n",
      "Epoch 64/100\n",
      "254/254 [==============================] - 1s 2ms/step - loss: 0.5949 - accuracy: 0.6664 - val_loss: 0.5424 - val_accuracy: 0.7311\n",
      "Epoch 65/100\n",
      "254/254 [==============================] - 1s 2ms/step - loss: 0.5935 - accuracy: 0.6651 - val_loss: 0.5202 - val_accuracy: 0.7400\n",
      "Epoch 66/100\n",
      "254/254 [==============================] - 1s 2ms/step - loss: 0.5856 - accuracy: 0.6789 - val_loss: 0.5488 - val_accuracy: 0.7189\n",
      "Epoch 67/100\n",
      "254/254 [==============================] - 1s 2ms/step - loss: 0.5927 - accuracy: 0.6600 - val_loss: 0.5222 - val_accuracy: 0.7322\n",
      "Epoch 68/100\n",
      "254/254 [==============================] - 1s 2ms/step - loss: 0.5926 - accuracy: 0.6565 - val_loss: 0.5450 - val_accuracy: 0.7100\n",
      "Epoch 69/100\n",
      "254/254 [==============================] - 1s 2ms/step - loss: 0.5875 - accuracy: 0.6465 - val_loss: 0.5268 - val_accuracy: 0.7133\n",
      "Epoch 70/100\n",
      "254/254 [==============================] - 1s 2ms/step - loss: 0.5865 - accuracy: 0.6583 - val_loss: 0.5464 - val_accuracy: 0.7033\n",
      "Epoch 71/100\n",
      "254/254 [==============================] - 1s 2ms/step - loss: 0.5791 - accuracy: 0.6628 - val_loss: 0.5151 - val_accuracy: 0.7244\n",
      "Epoch 72/100\n",
      "254/254 [==============================] - 1s 2ms/step - loss: 0.5841 - accuracy: 0.6636 - val_loss: 0.5429 - val_accuracy: 0.7167\n",
      "Epoch 73/100\n",
      "254/254 [==============================] - 1s 2ms/step - loss: 0.5877 - accuracy: 0.6693 - val_loss: 0.5367 - val_accuracy: 0.7256\n",
      "Epoch 74/100\n",
      "254/254 [==============================] - 1s 2ms/step - loss: 0.5842 - accuracy: 0.6727 - val_loss: 0.5067 - val_accuracy: 0.7644\n",
      "Epoch 75/100\n",
      "254/254 [==============================] - 1s 2ms/step - loss: 0.5879 - accuracy: 0.6681 - val_loss: 0.5205 - val_accuracy: 0.7367\n",
      "Epoch 76/100\n",
      "254/254 [==============================] - 1s 2ms/step - loss: 0.5877 - accuracy: 0.6604 - val_loss: 0.5183 - val_accuracy: 0.7467\n",
      "Epoch 77/100\n",
      "254/254 [==============================] - 1s 2ms/step - loss: 0.5869 - accuracy: 0.6607 - val_loss: 0.5170 - val_accuracy: 0.7433\n",
      "Epoch 78/100\n",
      "254/254 [==============================] - 1s 3ms/step - loss: 0.5883 - accuracy: 0.6668 - val_loss: 0.5209 - val_accuracy: 0.7233\n",
      "Epoch 79/100\n",
      "254/254 [==============================] - 1s 3ms/step - loss: 0.5897 - accuracy: 0.6538 - val_loss: 0.5254 - val_accuracy: 0.7211\n",
      "Epoch 80/100\n",
      "254/254 [==============================] - 1s 4ms/step - loss: 0.5777 - accuracy: 0.6659 - val_loss: 0.5251 - val_accuracy: 0.7133\n",
      "Epoch 81/100\n",
      "254/254 [==============================] - 1s 4ms/step - loss: 0.5832 - accuracy: 0.6699 - val_loss: 0.5056 - val_accuracy: 0.7522\n",
      "Epoch 82/100\n",
      "254/254 [==============================] - 1s 4ms/step - loss: 0.5850 - accuracy: 0.6658 - val_loss: 0.5153 - val_accuracy: 0.7367\n",
      "Epoch 83/100\n",
      "254/254 [==============================] - 1s 2ms/step - loss: 0.5910 - accuracy: 0.6680 - val_loss: 0.5291 - val_accuracy: 0.7256\n",
      "Epoch 84/100\n",
      "254/254 [==============================] - 1s 2ms/step - loss: 0.5848 - accuracy: 0.6625 - val_loss: 0.5194 - val_accuracy: 0.7500\n",
      "Epoch 85/100\n",
      "254/254 [==============================] - 1s 2ms/step - loss: 0.5816 - accuracy: 0.6693 - val_loss: 0.5195 - val_accuracy: 0.7322\n",
      "Epoch 86/100\n",
      "254/254 [==============================] - 1s 2ms/step - loss: 0.5832 - accuracy: 0.6686 - val_loss: 0.5175 - val_accuracy: 0.7222\n",
      "Epoch 87/100\n",
      "254/254 [==============================] - 1s 3ms/step - loss: 0.5790 - accuracy: 0.6632 - val_loss: 0.4966 - val_accuracy: 0.7589\n",
      "Epoch 88/100\n",
      "254/254 [==============================] - 1s 2ms/step - loss: 0.5813 - accuracy: 0.6695 - val_loss: 0.5354 - val_accuracy: 0.7100\n",
      "Epoch 89/100\n",
      "254/254 [==============================] - 1s 2ms/step - loss: 0.5796 - accuracy: 0.6578 - val_loss: 0.4992 - val_accuracy: 0.7567\n",
      "Epoch 90/100\n",
      "254/254 [==============================] - 1s 2ms/step - loss: 0.5886 - accuracy: 0.6477 - val_loss: 0.5013 - val_accuracy: 0.7700\n",
      "Epoch 91/100\n",
      "254/254 [==============================] - 1s 2ms/step - loss: 0.5884 - accuracy: 0.6716 - val_loss: 0.5366 - val_accuracy: 0.7111\n",
      "Epoch 92/100\n",
      "254/254 [==============================] - 1s 2ms/step - loss: 0.5799 - accuracy: 0.6733 - val_loss: 0.5525 - val_accuracy: 0.7044\n",
      "Epoch 93/100\n",
      "254/254 [==============================] - 1s 2ms/step - loss: 0.5761 - accuracy: 0.6849 - val_loss: 0.4877 - val_accuracy: 0.7778\n",
      "Epoch 94/100\n",
      "254/254 [==============================] - 1s 2ms/step - loss: 0.5776 - accuracy: 0.6684 - val_loss: 0.5226 - val_accuracy: 0.7144\n",
      "Epoch 95/100\n",
      "254/254 [==============================] - 1s 2ms/step - loss: 0.5882 - accuracy: 0.6600 - val_loss: 0.5456 - val_accuracy: 0.7200\n",
      "Epoch 96/100\n",
      "254/254 [==============================] - 1s 2ms/step - loss: 0.5808 - accuracy: 0.6585 - val_loss: 0.5152 - val_accuracy: 0.7256\n",
      "Epoch 97/100\n",
      "254/254 [==============================] - 1s 2ms/step - loss: 0.5773 - accuracy: 0.6731 - val_loss: 0.5039 - val_accuracy: 0.7511\n",
      "Epoch 98/100\n",
      "254/254 [==============================] - 1s 2ms/step - loss: 0.5846 - accuracy: 0.6719 - val_loss: 0.5241 - val_accuracy: 0.7367\n",
      "Epoch 99/100\n",
      "254/254 [==============================] - 1s 3ms/step - loss: 0.5835 - accuracy: 0.6694 - val_loss: 0.5364 - val_accuracy: 0.6989\n",
      "Epoch 100/100\n",
      "254/254 [==============================] - 1s 4ms/step - loss: 0.5810 - accuracy: 0.6543 - val_loss: 0.5119 - val_accuracy: 0.7244\n"
     ]
    },
    {
     "data": {
      "text/plain": [
       "<keras.src.callbacks.History at 0x7ee8d9a53c10>"
      ]
     },
     "execution_count": 46,
     "metadata": {},
     "output_type": "execute_result"
    }
   ],
   "source": [
    "model.fit(x=X_train,\n",
    "          y=y_train,\n",
    "          validation_split=.1,\n",
    "          batch_size=32,\n",
    "          epochs=100,\n",
    "          verbose=1,\n",
    "          class_weight=class_weights)"
   ]
  },
  {
   "cell_type": "code",
   "execution_count": 47,
   "metadata": {
    "colab": {
     "base_uri": "https://localhost:8080/",
     "height": 449
    },
    "id": "CDAaBtuMP47d",
    "outputId": "2eaf4fe5-ba82-4c4f-8b18-2df0afe98308"
   },
   "outputs": [
    {
     "data": {
      "text/plain": [
       "<Axes: >"
      ]
     },
     "execution_count": 47,
     "metadata": {},
     "output_type": "execute_result"
    },
    {
     "data": {
      "image/png": "[encoded data removed]",
      "text/plain": [
       "<Figure size 640x480 with 1 Axes>"
      ]
     },
     "metadata": {},
     "output_type": "display_data"
    }
   ],
   "source": [
    "loss_df = pd.DataFrame(model.history.history)\n",
    "loss_df.plot()"
   ]
  },
  {
   "cell_type": "code",
   "execution_count": 48,
   "metadata": {
    "colab": {
     "base_uri": "https://localhost:8080/"
    },
    "id": "d5DlQMFYP5Ku",
    "outputId": "50a32229-ae09-475e-fa28-d34d622e267f"
   },
   "outputs": [
    {
     "name": "stdout",
     "output_type": "stream",
     "text": [
      "loss :  0.5254000425338745\n",
      "accuracy :  0.7179999947547913\n"
     ]
    }
   ],
   "source": [
    "loss, accuracy = model.evaluate(X_test, y_test, verbose=0)\n",
    "print(\"loss : \", loss)\n",
    "print(\"accuracy : \", accuracy)"
   ]
  },
  {
   "cell_type": "code",
   "execution_count": 49,
   "metadata": {
    "colab": {
     "base_uri": "https://localhost:8080/"
    },
    "id": "nJKiD7t1QU04",
    "outputId": "2c1f9ede-b80f-4fbe-ad93-bb9853b3b789"
   },
   "outputs": [
    {
     "name": "stdout",
     "output_type": "stream",
     "text": [
      "32/32 [==============================] - 0s 2ms/step\n",
      "[[549 247]\n",
      " [ 35 169]]\n",
      "              precision    recall  f1-score   support\n",
      "\n",
      "           0       0.94      0.69      0.80       796\n",
      "           1       0.41      0.83      0.55       204\n",
      "\n",
      "    accuracy                           0.72      1000\n",
      "   macro avg       0.67      0.76      0.67      1000\n",
      "weighted avg       0.83      0.72      0.74      1000\n",
      "\n"
     ]
    }
   ],
   "source": [
    "y_pred = model.predict(X_test) > 0.5\n",
    "#y_pred = model.predict_classes(X_test) for tf 2.5.0\n",
    "print(confusion_matrix(y_test, y_pred))\n",
    "print(classification_report(y_test, y_pred))"
   ]
  },
  {
   "cell_type": "code",
   "execution_count": 49,
   "metadata": {
    "id": "Fv7mObbaQVDl"
   },
   "outputs": [],
   "source": []
  },
  {
   "cell_type": "markdown",
   "metadata": {
    "id": "_11XdmIf3kwo"
   },
   "source": [
    "### Add Early Stop"
   ]
  },
  {
   "cell_type": "markdown",
   "metadata": {
    "id": "On3Xs9dx3kwo"
   },
   "source": [
    "#### Monitor the \"val_loss\" as metric"
   ]
  },
  {
   "cell_type": "code",
   "execution_count": 50,
   "metadata": {
    "id": "0PY2oKjY3kwp"
   },
   "outputs": [],
   "source": [
    "from tensorflow.keras.callbacks import EarlyStopping"
   ]
  },
  {
   "cell_type": "code",
   "execution_count": 51,
   "metadata": {
    "id": "qyjgik3YQm94"
   },
   "outputs": [],
   "source": [
    "tf.random.set_seed(seed)\n",
    "\n",
    "model = Sequential()\n",
    "\n",
    "model.add(Dense(20, activation = \"relu\", input_dim = X_train.shape[1]))\n",
    "model.add(Dense(10, activation = \"relu\"))\n",
    "model.add(Dense(5, activation = \"relu\"))\n",
    "model.add(Dense(1, activation = \"sigmoid\"))\n",
    "\n",
    "model.compile(optimizer = \"adam\", loss = \"binary_crossentropy\", metrics = [\"accuracy\"])"
   ]
  },
  {
   "cell_type": "code",
   "execution_count": 52,
   "metadata": {
    "id": "ta_QTsK2Qna8"
   },
   "outputs": [],
   "source": [
    "early_stop = EarlyStopping(monitor=\"val_loss\",\n",
    "                           mode=\"min\",\n",
    "                           verbose=1,\n",
    "                           patience=25,\n",
    "                           restore_best_weights = True)"
   ]
  },
  {
   "cell_type": "code",
   "execution_count": 53,
   "metadata": {
    "colab": {
     "base_uri": "https://localhost:8080/"
    },
    "id": "7PaODT98Qvd7",
    "outputId": "ef1dfce2-0d0c-480d-d3c0-7aa366aa9ff0"
   },
   "outputs": [
    {
     "name": "stdout",
     "output_type": "stream",
     "text": [
      "Epoch 1/100\n",
      "254/254 [==============================] - 2s 3ms/step - loss: 0.6681 - accuracy: 0.7095 - val_loss: 0.5950 - val_accuracy: 0.7056\n",
      "Epoch 2/100\n",
      "254/254 [==============================] - 1s 2ms/step - loss: 0.6160 - accuracy: 0.6620 - val_loss: 0.5871 - val_accuracy: 0.6967\n",
      "Epoch 3/100\n",
      "254/254 [==============================] - 1s 2ms/step - loss: 0.5880 - accuracy: 0.6944 - val_loss: 0.5489 - val_accuracy: 0.7156\n",
      "Epoch 4/100\n",
      "254/254 [==============================] - 1s 2ms/step - loss: 0.5731 - accuracy: 0.7017 - val_loss: 0.5508 - val_accuracy: 0.7078\n",
      "Epoch 5/100\n",
      "254/254 [==============================] - 1s 2ms/step - loss: 0.5622 - accuracy: 0.7141 - val_loss: 0.5241 - val_accuracy: 0.7422\n",
      "Epoch 6/100\n",
      "254/254 [==============================] - 1s 2ms/step - loss: 0.5483 - accuracy: 0.7178 - val_loss: 0.5199 - val_accuracy: 0.7300\n",
      "Epoch 7/100\n",
      "254/254 [==============================] - 1s 2ms/step - loss: 0.5333 - accuracy: 0.7310 - val_loss: 0.4473 - val_accuracy: 0.7878\n",
      "Epoch 8/100\n",
      "254/254 [==============================] - 1s 2ms/step - loss: 0.5222 - accuracy: 0.7390 - val_loss: 0.5326 - val_accuracy: 0.6922\n",
      "Epoch 9/100\n",
      "254/254 [==============================] - 1s 2ms/step - loss: 0.5080 - accuracy: 0.7442 - val_loss: 0.4422 - val_accuracy: 0.7922\n",
      "Epoch 10/100\n",
      "254/254 [==============================] - 1s 2ms/step - loss: 0.4981 - accuracy: 0.7609 - val_loss: 0.4561 - val_accuracy: 0.7667\n",
      "Epoch 11/100\n",
      "254/254 [==============================] - 1s 2ms/step - loss: 0.4926 - accuracy: 0.7672 - val_loss: 0.4657 - val_accuracy: 0.7556\n",
      "Epoch 12/100\n",
      "254/254 [==============================] - 1s 2ms/step - loss: 0.4883 - accuracy: 0.7653 - val_loss: 0.4744 - val_accuracy: 0.7578\n",
      "Epoch 13/100\n",
      "254/254 [==============================] - 1s 2ms/step - loss: 0.4865 - accuracy: 0.7673 - val_loss: 0.4704 - val_accuracy: 0.7556\n",
      "Epoch 14/100\n",
      "254/254 [==============================] - 1s 2ms/step - loss: 0.4839 - accuracy: 0.7700 - val_loss: 0.5413 - val_accuracy: 0.6956\n",
      "Epoch 15/100\n",
      "254/254 [==============================] - 1s 2ms/step - loss: 0.4828 - accuracy: 0.7712 - val_loss: 0.4564 - val_accuracy: 0.7722\n",
      "Epoch 16/100\n",
      "254/254 [==============================] - 1s 2ms/step - loss: 0.4806 - accuracy: 0.7715 - val_loss: 0.4284 - val_accuracy: 0.8067\n",
      "Epoch 17/100\n",
      "254/254 [==============================] - 1s 2ms/step - loss: 0.4781 - accuracy: 0.7819 - val_loss: 0.3899 - val_accuracy: 0.8344\n",
      "Epoch 18/100\n",
      "254/254 [==============================] - 1s 3ms/step - loss: 0.4776 - accuracy: 0.7746 - val_loss: 0.4069 - val_accuracy: 0.8144\n",
      "Epoch 19/100\n",
      "254/254 [==============================] - 1s 3ms/step - loss: 0.4771 - accuracy: 0.7796 - val_loss: 0.4082 - val_accuracy: 0.8078\n",
      "Epoch 20/100\n",
      "254/254 [==============================] - 1s 4ms/step - loss: 0.4758 - accuracy: 0.7728 - val_loss: 0.3682 - val_accuracy: 0.8489\n",
      "Epoch 21/100\n",
      "254/254 [==============================] - 1s 3ms/step - loss: 0.4745 - accuracy: 0.7773 - val_loss: 0.4230 - val_accuracy: 0.8044\n",
      "Epoch 22/100\n",
      "254/254 [==============================] - 1s 3ms/step - loss: 0.4730 - accuracy: 0.7796 - val_loss: 0.4439 - val_accuracy: 0.7811\n",
      "Epoch 23/100\n",
      "254/254 [==============================] - 1s 2ms/step - loss: 0.4730 - accuracy: 0.7789 - val_loss: 0.3685 - val_accuracy: 0.8567\n",
      "Epoch 24/100\n",
      "254/254 [==============================] - 1s 2ms/step - loss: 0.4724 - accuracy: 0.7795 - val_loss: 0.4998 - val_accuracy: 0.7233\n",
      "Epoch 25/100\n",
      "254/254 [==============================] - 1s 2ms/step - loss: 0.4701 - accuracy: 0.7823 - val_loss: 0.3959 - val_accuracy: 0.8322\n",
      "Epoch 26/100\n",
      "254/254 [==============================] - 1s 2ms/step - loss: 0.4711 - accuracy: 0.7796 - val_loss: 0.4532 - val_accuracy: 0.7633\n",
      "Epoch 27/100\n",
      "254/254 [==============================] - 1s 2ms/step - loss: 0.4716 - accuracy: 0.7833 - val_loss: 0.4636 - val_accuracy: 0.7600\n",
      "Epoch 28/100\n",
      "254/254 [==============================] - 1s 2ms/step - loss: 0.4678 - accuracy: 0.7865 - val_loss: 0.4090 - val_accuracy: 0.8033\n",
      "Epoch 29/100\n",
      "254/254 [==============================] - 1s 2ms/step - loss: 0.4655 - accuracy: 0.7841 - val_loss: 0.4401 - val_accuracy: 0.7811\n",
      "Epoch 30/100\n",
      "254/254 [==============================] - 1s 2ms/step - loss: 0.4658 - accuracy: 0.7811 - val_loss: 0.4238 - val_accuracy: 0.7978\n",
      "Epoch 31/100\n",
      "254/254 [==============================] - 1s 2ms/step - loss: 0.4658 - accuracy: 0.7833 - val_loss: 0.4162 - val_accuracy: 0.8089\n",
      "Epoch 32/100\n",
      "254/254 [==============================] - 1s 2ms/step - loss: 0.4666 - accuracy: 0.7838 - val_loss: 0.3874 - val_accuracy: 0.8433\n",
      "Epoch 33/100\n",
      "254/254 [==============================] - 1s 2ms/step - loss: 0.4640 - accuracy: 0.7840 - val_loss: 0.3733 - val_accuracy: 0.8556\n",
      "Epoch 34/100\n",
      "254/254 [==============================] - 1s 2ms/step - loss: 0.4662 - accuracy: 0.7846 - val_loss: 0.4051 - val_accuracy: 0.8100\n",
      "Epoch 35/100\n",
      "254/254 [==============================] - 1s 2ms/step - loss: 0.4660 - accuracy: 0.7826 - val_loss: 0.3859 - val_accuracy: 0.8411\n",
      "Epoch 36/100\n",
      "254/254 [==============================] - 1s 2ms/step - loss: 0.4634 - accuracy: 0.7847 - val_loss: 0.3816 - val_accuracy: 0.8500\n",
      "Epoch 37/100\n",
      "254/254 [==============================] - 1s 2ms/step - loss: 0.4629 - accuracy: 0.7859 - val_loss: 0.4367 - val_accuracy: 0.7778\n",
      "Epoch 38/100\n",
      "254/254 [==============================] - 1s 2ms/step - loss: 0.4649 - accuracy: 0.7844 - val_loss: 0.4742 - val_accuracy: 0.7411\n",
      "Epoch 39/100\n",
      "254/254 [==============================] - 1s 2ms/step - loss: 0.4626 - accuracy: 0.7898 - val_loss: 0.4007 - val_accuracy: 0.8200\n",
      "Epoch 40/100\n",
      "254/254 [==============================] - 1s 3ms/step - loss: 0.4610 - accuracy: 0.7836 - val_loss: 0.3725 - val_accuracy: 0.8567\n",
      "Epoch 41/100\n",
      "254/254 [==============================] - 1s 4ms/step - loss: 0.4622 - accuracy: 0.7886 - val_loss: 0.4302 - val_accuracy: 0.7822\n",
      "Epoch 42/100\n",
      "254/254 [==============================] - 1s 3ms/step - loss: 0.4595 - accuracy: 0.7843 - val_loss: 0.4032 - val_accuracy: 0.8178\n",
      "Epoch 43/100\n",
      "254/254 [==============================] - 1s 4ms/step - loss: 0.4601 - accuracy: 0.7849 - val_loss: 0.4075 - val_accuracy: 0.8133\n",
      "Epoch 44/100\n",
      "254/254 [==============================] - 1s 3ms/step - loss: 0.4584 - accuracy: 0.7889 - val_loss: 0.4234 - val_accuracy: 0.7989\n",
      "Epoch 45/100\n",
      "232/254 [==========================>...] - ETA: 0s - loss: 0.4610 - accuracy: 0.7899Restoring model weights from the end of the best epoch: 20.\n",
      "254/254 [==============================] - 1s 2ms/step - loss: 0.4596 - accuracy: 0.7902 - val_loss: 0.4002 - val_accuracy: 0.8222\n",
      "Epoch 45: early stopping\n"
     ]
    },
    {
     "data": {
      "text/plain": [
       "<keras.src.callbacks.History at 0x7ee8da04dc00>"
      ]
     },
     "execution_count": 53,
     "metadata": {},
     "output_type": "execute_result"
    }
   ],
   "source": [
    "model.fit(x=X_train,\n",
    "          y=y_train,\n",
    "          validation_split=.1,\n",
    "          batch_size=32,\n",
    "          epochs=100,\n",
    "          verbose=1,\n",
    "          callbacks = [early_stop],\n",
    "          class_weight=class_weights)"
   ]
  },
  {
   "cell_type": "code",
   "execution_count": 54,
   "metadata": {
    "colab": {
     "base_uri": "https://localhost:8080/",
     "height": 447
    },
    "id": "bPzMx1NjQ2JS",
    "outputId": "6fa68e87-eadd-4a26-c8c5-5f17c070bbcb"
   },
   "outputs": [
    {
     "data": {
      "text/plain": [
       "<Axes: >"
      ]
     },
     "execution_count": 54,
     "metadata": {},
     "output_type": "execute_result"
    },
    {
     "data": {
      "image/png": "[encoded data removed]",
      "text/plain": [
       "<Figure size 640x480 with 1 Axes>"
      ]
     },
     "metadata": {},
     "output_type": "display_data"
    }
   ],
   "source": [
    "loss_df = pd.DataFrame(model.history.history)\n",
    "loss_df.plot()"
   ]
  },
  {
   "cell_type": "code",
   "execution_count": 55,
   "metadata": {
    "colab": {
     "base_uri": "https://localhost:8080/"
    },
    "id": "t2GHuw94RQXj",
    "outputId": "aedd7846-ca1b-48db-be75-a89dc4e04f09"
   },
   "outputs": [
    {
     "name": "stdout",
     "output_type": "stream",
     "text": [
      "loss :  0.4114350378513336\n",
      "accuracy :  0.8069999814033508\n"
     ]
    }
   ],
   "source": [
    "loss, accuracy = model.evaluate(X_test, y_test, verbose=0)\n",
    "print(\"loss : \", loss)\n",
    "print(\"accuracy : \", accuracy)"
   ]
  },
  {
   "cell_type": "markdown",
   "metadata": {
    "id": "u_kdtet23kwp"
   },
   "source": [
    "#### Monitor the \"val_recall\" as metric"
   ]
  },
  {
   "cell_type": "code",
   "execution_count": 56,
   "metadata": {
    "colab": {
     "base_uri": "https://localhost:8080/"
    },
    "id": "Xxi-Fo1w3kwp",
    "outputId": "448bef7c-ed5e-42ce-d356-87ca572c53cc"
   },
   "outputs": [
    {
     "name": "stdout",
     "output_type": "stream",
     "text": [
      "32/32 [==============================] - 0s 1ms/step\n",
      "[[671 125]\n",
      " [ 68 136]]\n",
      "              precision    recall  f1-score   support\n",
      "\n",
      "           0       0.91      0.84      0.87       796\n",
      "           1       0.52      0.67      0.58       204\n",
      "\n",
      "    accuracy                           0.81      1000\n",
      "   macro avg       0.71      0.75      0.73      1000\n",
      "weighted avg       0.83      0.81      0.82      1000\n",
      "\n"
     ]
    }
   ],
   "source": [
    "y_pred = model.predict(X_test) > 0.5\n",
    "#y_pred = model.predict_classes(X_test) for tf 2.5.0\n",
    "print(confusion_matrix(y_test, y_pred))\n",
    "print(classification_report(y_test, y_pred))"
   ]
  },
  {
   "cell_type": "code",
   "execution_count": 56,
   "metadata": {
    "id": "K26Ih8u0RaCZ"
   },
   "outputs": [],
   "source": []
  },
  {
   "cell_type": "markdown",
   "metadata": {
    "id": "Qw_-rXAg3kwp"
   },
   "source": [
    "## Optuna"
   ]
  },
  {
   "cell_type": "code",
   "execution_count": 90,
   "metadata": {
    "colab": {
     "base_uri": "https://localhost:8080/"
    },
    "id": "qYDC_-_n3kwp",
    "outputId": "a5265606-cb1b-4ea3-bbca-cb02083ed9b9"
   },
   "outputs": [
    {
     "name": "stdout",
     "output_type": "stream",
     "text": [
      "Collecting optuna\n",
      "  Downloading optuna-3.4.0-py3-none-any.whl (409 kB)\n",
      "\u001b[2K     \u001b[90m━━━━━━━━━━━━━━━━━━━━━━━━━━━━━━━━━━━━━━━━\u001b[0m \u001b[32m409.6/409.6 kB\u001b[0m \u001b[31m5.6 MB/s\u001b[0m eta \u001b[36m0:00:00\u001b[0m\n",
      "\u001b[?25hCollecting alembic>=1.5.0 (from optuna)\n",
      "  Downloading alembic-1.12.1-py3-none-any.whl (226 kB)\n",
      "\u001b[2K     \u001b[90m━━━━━━━━━━━━━━━━━━━━━━━━━━━━━━━━━━━━━━━━\u001b[0m \u001b[32m226.8/226.8 kB\u001b[0m \u001b[31m27.6 MB/s\u001b[0m eta \u001b[36m0:00:00\u001b[0m\n",
      "\u001b[?25hCollecting colorlog (from optuna)\n",
      "  Downloading colorlog-6.7.0-py2.py3-none-any.whl (11 kB)\n",
      "Requirement already satisfied: numpy in /usr/local/lib/python3.10/dist-packages (from optuna) (1.23.5)\n",
      "Requirement already satisfied: packaging>=20.0 in /usr/local/lib/python3.10/dist-packages (from optuna) (23.2)\n",
      "Requirement already satisfied: sqlalchemy>=1.3.0 in /usr/local/lib/python3.10/dist-packages (from optuna) (2.0.22)\n",
      "Requirement already satisfied: tqdm in /usr/local/lib/python3.10/dist-packages (from optuna) (4.66.1)\n",
      "Requirement already satisfied: PyYAML in /usr/local/lib/python3.10/dist-packages (from optuna) (6.0.1)\n",
      "Collecting Mako (from alembic>=1.5.0->optuna)\n",
      "  Downloading Mako-1.2.4-py3-none-any.whl (78 kB)\n",
      "\u001b[2K     \u001b[90m━━━━━━━━━━━━━━━━━━━━━━━━━━━━━━━━━━━━━━━━\u001b[0m \u001b[32m78.7/78.7 kB\u001b[0m \u001b[31m11.5 MB/s\u001b[0m eta \u001b[36m0:00:00\u001b[0m\n",
      "\u001b[?25hRequirement already satisfied: typing-extensions>=4 in /usr/local/lib/python3.10/dist-packages (from alembic>=1.5.0->optuna) (4.5.0)\n",
      "Requirement already satisfied: greenlet!=0.4.17 in /usr/local/lib/python3.10/dist-packages (from sqlalchemy>=1.3.0->optuna) (3.0.0)\n",
      "Requirement already satisfied: MarkupSafe>=0.9.2 in /usr/local/lib/python3.10/dist-packages (from Mako->alembic>=1.5.0->optuna) (2.1.3)\n",
      "Installing collected packages: Mako, colorlog, alembic, optuna\n",
      "Successfully installed Mako-1.2.4 alembic-1.12.1 colorlog-6.7.0 optuna-3.4.0\n"
     ]
    }
   ],
   "source": [
    "!pip install optuna"
   ]
  },
  {
   "cell_type": "code",
   "execution_count": 91,
   "metadata": {
    "id": "5oMw9P_y9XFk"
   },
   "outputs": [],
   "source": [
    "from tensorflow.keras.optimizers import Adam, Adadelta, RMSprop, Nadam\n",
    "import optuna"
   ]
  },
  {
   "cell_type": "code",
   "execution_count": 92,
   "metadata": {
    "id": "PWbGUhvW9Xl_"
   },
   "outputs": [],
   "source": [
    "early_stop = EarlyStopping(\n",
    "    monitor=\"val_loss\", mode=\"min\", verbose=1, patience=15, restore_best_weights=True\n",
    ")"
   ]
  },
  {
   "cell_type": "code",
   "execution_count": 93,
   "metadata": {
    "id": "QBSwy0o49m4o"
   },
   "outputs": [],
   "source": [
    "trial_metric = \"accuracy\"\n",
    "batch_size = 64\n",
    "\n",
    "\n",
    "def create_model(trial):\n",
    "    # Some hyperparameters we want to optimize\n",
    "    n_units1 = trial.suggest_int(\"n_units1\", 8, 128)\n",
    "    n_units2 = trial.suggest_int(\"n_units2\", 8, 128)\n",
    "    optimizer = trial.suggest_categorical(\"optimizer\", [Adam, Adadelta, RMSprop, Nadam])\n",
    "    learning_rate = trial.suggest_loguniform(\"learning_rate\", 1e-5, 1.3e-1)\n",
    "\n",
    "    model = Sequential()\n",
    "    model.add(Dense(n_units1, input_dim=X_train.shape[1], activation=\"relu\"))\n",
    "    model.add(Dense(n_units2, activation=\"relu\"))\n",
    "    model.add(Dense(1, activation=\"sigmoid\"))\n",
    "    model.compile(\n",
    "        loss=\"binary_crossentropy\",\n",
    "        optimizer=optimizer(learning_rate=learning_rate),\n",
    "        metrics=[trial_metric],\n",
    "    )\n",
    "    return model\n",
    "\n",
    "\n",
    "def objective(trial):\n",
    "    model = create_model(trial)\n",
    "    w0 = trial.suggest_loguniform(\"w0\", 0.01, 5)\n",
    "    w1 = trial.suggest_loguniform(\"w1\", 0.01, 5)\n",
    "    model.fit(\n",
    "        X_train,\n",
    "        y_train,\n",
    "        validation_data=(X_test, y_test),\n",
    "        batch_size=batch_size,\n",
    "        epochs=100,\n",
    "        callbacks=[early_stop],\n",
    "        class_weight={0: w0, 1: w1},\n",
    "        verbose=0,\n",
    "    )\n",
    "    score = model.evaluate(X_test, y_test, verbose=0)[1]\n",
    "    return score"
   ]
  },
  {
   "cell_type": "code",
   "execution_count": 94,
   "metadata": {
    "colab": {
     "base_uri": "https://localhost:8080/"
    },
    "id": "LthHWbGv9nHr",
    "outputId": "06a23e56-e63f-4c9e-f0e3-f91cc3db035b"
   },
   "outputs": [
    {
     "name": "stderr",
     "output_type": "stream",
     "text": [
      "[I 2023-10-30 09:43:53,489] A new study created in memory with name: no-name-f6f38229-dd30-4f05-922d-73f61ba26f0c\n",
      "/usr/local/lib/python3.10/dist-packages/optuna/distributions.py:524: UserWarning: Choices for a categorical distribution should be a tuple of None, bool, int, float and str for persistent storage but contains <class 'keras.src.optimizers.adam.Adam'> which is of type type.\n",
      "  warnings.warn(message)\n",
      "/usr/local/lib/python3.10/dist-packages/optuna/distributions.py:524: UserWarning: Choices for a categorical distribution should be a tuple of None, bool, int, float and str for persistent storage but contains <class 'keras.src.optimizers.adadelta.Adadelta'> which is of type type.\n",
      "  warnings.warn(message)\n",
      "/usr/local/lib/python3.10/dist-packages/optuna/distributions.py:524: UserWarning: Choices for a categorical distribution should be a tuple of None, bool, int, float and str for persistent storage but contains <class 'keras.src.optimizers.rmsprop.RMSprop'> which is of type type.\n",
      "  warnings.warn(message)\n",
      "/usr/local/lib/python3.10/dist-packages/optuna/distributions.py:524: UserWarning: Choices for a categorical distribution should be a tuple of None, bool, int, float and str for persistent storage but contains <class 'keras.src.optimizers.nadam.Nadam'> which is of type type.\n",
      "  warnings.warn(message)\n",
      "<ipython-input-93-5795d0e2a5f6>:10: FutureWarning: suggest_loguniform has been deprecated in v3.0.0. This feature will be removed in v6.0.0. See https://github.com/optuna/optuna/releases/tag/v3.0.0. Use suggest_float(..., log=True) instead.\n",
      "  learning_rate = trial.suggest_loguniform(\"learning_rate\", 1e-5, 1.3e-1)\n",
      "<ipython-input-93-5795d0e2a5f6>:26: FutureWarning: suggest_loguniform has been deprecated in v3.0.0. This feature will be removed in v6.0.0. See https://github.com/optuna/optuna/releases/tag/v3.0.0. Use suggest_float(..., log=True) instead.\n",
      "  w0 = trial.suggest_loguniform(\"w0\", 0.01, 5)\n",
      "<ipython-input-93-5795d0e2a5f6>:27: FutureWarning: suggest_loguniform has been deprecated in v3.0.0. This feature will be removed in v6.0.0. See https://github.com/optuna/optuna/releases/tag/v3.0.0. Use suggest_float(..., log=True) instead.\n",
      "  w1 = trial.suggest_loguniform(\"w1\", 0.01, 5)\n",
      "[I 2023-10-30 09:44:36,228] Trial 0 finished with value: 0.8460000157356262 and parameters: {'n_units1': 62, 'n_units2': 87, 'optimizer': <class 'keras.src.optimizers.adam.Adam'>, 'learning_rate': 0.00015559947983955863, 'w0': 0.03397866942738752, 'w1': 0.01473310073451455}. Best is trial 0 with value: 0.8460000157356262.\n",
      "[I 2023-10-30 09:45:14,004] Trial 1 finished with value: 0.3370000123977661 and parameters: {'n_units1': 101, 'n_units2': 121, 'optimizer': <class 'keras.src.optimizers.adadelta.Adadelta'>, 'learning_rate': 0.000335685148171452, 'w0': 0.04417029145876222, 'w1': 0.0377749677208022}. Best is trial 0 with value: 0.8460000157356262.\n"
     ]
    },
    {
     "name": "stdout",
     "output_type": "stream",
     "text": [
      "Restoring model weights from the end of the best epoch: 1.\n",
      "Epoch 16: early stopping\n"
     ]
    },
    {
     "name": "stderr",
     "output_type": "stream",
     "text": [
      "[I 2023-10-30 09:45:25,780] Trial 2 finished with value: 0.7960000038146973 and parameters: {'n_units1': 55, 'n_units2': 88, 'optimizer': <class 'keras.src.optimizers.nadam.Nadam'>, 'learning_rate': 0.00022782640080474598, 'w0': 0.25708576419058327, 'w1': 0.020773779674516542}. Best is trial 0 with value: 0.8460000157356262.\n",
      "[I 2023-10-30 09:46:07,841] Trial 3 finished with value: 0.8209999799728394 and parameters: {'n_units1': 99, 'n_units2': 48, 'optimizer': <class 'keras.src.optimizers.adadelta.Adadelta'>, 'learning_rate': 0.04927288498619446, 'w0': 0.5094593628790042, 'w1': 0.491309135975964}. Best is trial 0 with value: 0.8460000157356262.\n"
     ]
    },
    {
     "name": "stdout",
     "output_type": "stream",
     "text": [
      "Restoring model weights from the end of the best epoch: 2.\n",
      "Epoch 17: early stopping\n"
     ]
    },
    {
     "name": "stderr",
     "output_type": "stream",
     "text": [
      "[I 2023-10-30 09:46:19,046] Trial 4 finished with value: 0.7960000038146973 and parameters: {'n_units1': 65, 'n_units2': 83, 'optimizer': <class 'keras.src.optimizers.adadelta.Adadelta'>, 'learning_rate': 0.03230526127301458, 'w0': 2.299672746724185, 'w1': 0.2503858539424828}. Best is trial 0 with value: 0.8460000157356262.\n"
     ]
    },
    {
     "name": "stdout",
     "output_type": "stream",
     "text": [
      "Restoring model weights from the end of the best epoch: 7.\n",
      "Epoch 22: early stopping\n"
     ]
    },
    {
     "name": "stderr",
     "output_type": "stream",
     "text": [
      "[I 2023-10-30 09:46:27,467] Trial 5 finished with value: 0.8080000281333923 and parameters: {'n_units1': 120, 'n_units2': 116, 'optimizer': <class 'keras.src.optimizers.rmsprop.RMSprop'>, 'learning_rate': 0.07478955648311345, 'w0': 0.011449407485870394, 'w1': 0.05477582154503622}. Best is trial 0 with value: 0.8460000157356262.\n",
      "[I 2023-10-30 09:47:05,393] Trial 6 finished with value: 0.8220000267028809 and parameters: {'n_units1': 29, 'n_units2': 109, 'optimizer': <class 'keras.src.optimizers.nadam.Nadam'>, 'learning_rate': 5.7100181424408746e-05, 'w0': 0.01880767456949216, 'w1': 0.023344105128348086}. Best is trial 0 with value: 0.8460000157356262.\n",
      "[I 2023-10-30 09:47:47,335] Trial 7 finished with value: 0.7950000166893005 and parameters: {'n_units1': 114, 'n_units2': 45, 'optimizer': <class 'keras.src.optimizers.adadelta.Adadelta'>, 'learning_rate': 0.0001287187636988572, 'w0': 1.8507512847268233, 'w1': 0.1807571145260586}. Best is trial 0 with value: 0.8460000157356262.\n"
     ]
    },
    {
     "name": "stdout",
     "output_type": "stream",
     "text": [
      "Restoring model weights from the end of the best epoch: 3.\n",
      "Epoch 18: early stopping\n"
     ]
    },
    {
     "name": "stderr",
     "output_type": "stream",
     "text": [
      "[I 2023-10-30 09:47:58,351] Trial 8 finished with value: 0.7960000038146973 and parameters: {'n_units1': 120, 'n_units2': 30, 'optimizer': <class 'keras.src.optimizers.rmsprop.RMSprop'>, 'learning_rate': 9.88740414399861e-05, 'w0': 0.18006723946733752, 'w1': 0.023401001841305866}. Best is trial 0 with value: 0.8460000157356262.\n",
      "[I 2023-10-30 09:48:40,768] Trial 9 finished with value: 0.628000020980835 and parameters: {'n_units1': 87, 'n_units2': 15, 'optimizer': <class 'keras.src.optimizers.adam.Adam'>, 'learning_rate': 1.7836379116786057e-05, 'w0': 0.21362191016973836, 'w1': 0.9519778847292512}. Best is trial 0 with value: 0.8460000157356262.\n"
     ]
    },
    {
     "data": {
      "text/plain": [
       "{'n_units1': 62,\n",
       " 'n_units2': 87,\n",
       " 'optimizer': keras.src.optimizers.adam.Adam,\n",
       " 'learning_rate': 0.00015559947983955863,\n",
       " 'w0': 0.03397866942738752,\n",
       " 'w1': 0.01473310073451455}"
      ]
     },
     "execution_count": 94,
     "metadata": {},
     "output_type": "execute_result"
    }
   ],
   "source": [
    "study = optuna.create_study(direction=\"maximize\")\n",
    "study.optimize(objective, n_trials=10)\n",
    "study.best_params"
   ]
  },
  {
   "cell_type": "code",
   "execution_count": 95,
   "metadata": {
    "colab": {
     "base_uri": "https://localhost:8080/"
    },
    "id": "w2E5uZGd9_Jm",
    "outputId": "f514e373-af27-490c-fe5c-87604a594f32"
   },
   "outputs": [
    {
     "name": "stdout",
     "output_type": "stream",
     "text": [
      "Epoch 1/100\n",
      "16/16 [==============================] - 1s 16ms/step - loss: 0.6576 - recall: 0.2839 - val_loss: 0.6300 - val_recall: 0.0608\n",
      "Epoch 2/100\n",
      "16/16 [==============================] - 0s 5ms/step - loss: 0.6091 - recall: 0.0157 - val_loss: 0.5877 - val_recall: 0.0000e+00\n",
      "Epoch 3/100\n",
      "16/16 [==============================] - 0s 7ms/step - loss: 0.5718 - recall: 0.0000e+00 - val_loss: 0.5563 - val_recall: 0.0000e+00\n",
      "Epoch 4/100\n",
      "16/16 [==============================] - 0s 6ms/step - loss: 0.5442 - recall: 0.0000e+00 - val_loss: 0.5336 - val_recall: 0.0000e+00\n",
      "Epoch 5/100\n",
      "16/16 [==============================] - 0s 6ms/step - loss: 0.5251 - recall: 0.0000e+00 - val_loss: 0.5177 - val_recall: 0.0000e+00\n",
      "Epoch 6/100\n",
      "16/16 [==============================] - 0s 6ms/step - loss: 0.5118 - recall: 0.0000e+00 - val_loss: 0.5075 - val_recall: 0.0000e+00\n",
      "Epoch 7/100\n",
      "16/16 [==============================] - 0s 5ms/step - loss: 0.5038 - recall: 0.0000e+00 - val_loss: 0.5006 - val_recall: 0.0000e+00\n",
      "Epoch 8/100\n",
      "16/16 [==============================] - 0s 7ms/step - loss: 0.4983 - recall: 0.0000e+00 - val_loss: 0.4956 - val_recall: 0.0000e+00\n",
      "Epoch 9/100\n",
      "16/16 [==============================] - 0s 6ms/step - loss: 0.4943 - recall: 0.0000e+00 - val_loss: 0.4915 - val_recall: 0.0000e+00\n",
      "Epoch 10/100\n",
      "16/16 [==============================] - 0s 6ms/step - loss: 0.4910 - recall: 0.0000e+00 - val_loss: 0.4876 - val_recall: 0.0000e+00\n",
      "Epoch 11/100\n",
      "16/16 [==============================] - 0s 6ms/step - loss: 0.4878 - recall: 0.0000e+00 - val_loss: 0.4839 - val_recall: 0.0000e+00\n",
      "Epoch 12/100\n",
      "16/16 [==============================] - 0s 6ms/step - loss: 0.4848 - recall: 0.0000e+00 - val_loss: 0.4805 - val_recall: 0.0000e+00\n",
      "Epoch 13/100\n",
      "16/16 [==============================] - 0s 7ms/step - loss: 0.4821 - recall: 0.0000e+00 - val_loss: 0.4773 - val_recall: 0.0000e+00\n",
      "Epoch 14/100\n",
      "16/16 [==============================] - 0s 6ms/step - loss: 0.4796 - recall: 0.0000e+00 - val_loss: 0.4743 - val_recall: 0.0000e+00\n",
      "Epoch 15/100\n",
      "16/16 [==============================] - 0s 5ms/step - loss: 0.4774 - recall: 0.0000e+00 - val_loss: 0.4714 - val_recall: 0.0000e+00\n",
      "Epoch 16/100\n",
      "16/16 [==============================] - 0s 5ms/step - loss: 0.4752 - recall: 0.0000e+00 - val_loss: 0.4689 - val_recall: 0.0000e+00\n",
      "Epoch 17/100\n",
      "16/16 [==============================] - 0s 6ms/step - loss: 0.4734 - recall: 0.0000e+00 - val_loss: 0.4663 - val_recall: 0.0000e+00\n",
      "Epoch 18/100\n",
      "16/16 [==============================] - 0s 6ms/step - loss: 0.4715 - recall: 0.0000e+00 - val_loss: 0.4638 - val_recall: 0.0000e+00\n",
      "Epoch 19/100\n",
      "16/16 [==============================] - 0s 6ms/step - loss: 0.4698 - recall: 0.0000e+00 - val_loss: 0.4615 - val_recall: 0.0000e+00\n",
      "Epoch 20/100\n",
      "16/16 [==============================] - 0s 6ms/step - loss: 0.4682 - recall: 0.0000e+00 - val_loss: 0.4592 - val_recall: 0.0000e+00\n",
      "Epoch 21/100\n",
      "16/16 [==============================] - 0s 5ms/step - loss: 0.4666 - recall: 0.0012 - val_loss: 0.4569 - val_recall: 0.0055\n",
      "Epoch 22/100\n",
      "16/16 [==============================] - 0s 6ms/step - loss: 0.4651 - recall: 0.0030 - val_loss: 0.4549 - val_recall: 0.0055\n",
      "Epoch 23/100\n",
      "16/16 [==============================] - 0s 6ms/step - loss: 0.4637 - recall: 0.0048 - val_loss: 0.4529 - val_recall: 0.0055\n",
      "Epoch 24/100\n",
      "16/16 [==============================] - 0s 5ms/step - loss: 0.4622 - recall: 0.0121 - val_loss: 0.4508 - val_recall: 0.0166\n",
      "Epoch 25/100\n",
      "16/16 [==============================] - 0s 6ms/step - loss: 0.4608 - recall: 0.0151 - val_loss: 0.4488 - val_recall: 0.0166\n",
      "Epoch 26/100\n",
      "16/16 [==============================] - 0s 5ms/step - loss: 0.4594 - recall: 0.0248 - val_loss: 0.4468 - val_recall: 0.0221\n",
      "Epoch 27/100\n",
      "16/16 [==============================] - 0s 5ms/step - loss: 0.4579 - recall: 0.0315 - val_loss: 0.4449 - val_recall: 0.0387\n",
      "Epoch 28/100\n",
      "16/16 [==============================] - 0s 5ms/step - loss: 0.4564 - recall: 0.0381 - val_loss: 0.4430 - val_recall: 0.0552\n",
      "Epoch 29/100\n",
      "16/16 [==============================] - 0s 6ms/step - loss: 0.4550 - recall: 0.0436 - val_loss: 0.4412 - val_recall: 0.0608\n",
      "Epoch 30/100\n",
      "16/16 [==============================] - 0s 5ms/step - loss: 0.4537 - recall: 0.0478 - val_loss: 0.4395 - val_recall: 0.0663\n",
      "Epoch 31/100\n",
      "16/16 [==============================] - 0s 6ms/step - loss: 0.4522 - recall: 0.0502 - val_loss: 0.4378 - val_recall: 0.0718\n",
      "Epoch 32/100\n",
      "16/16 [==============================] - 0s 6ms/step - loss: 0.4509 - recall: 0.0545 - val_loss: 0.4361 - val_recall: 0.0829\n",
      "Epoch 33/100\n",
      "16/16 [==============================] - 0s 5ms/step - loss: 0.4497 - recall: 0.0563 - val_loss: 0.4344 - val_recall: 0.0829\n",
      "Epoch 34/100\n",
      "16/16 [==============================] - 0s 7ms/step - loss: 0.4484 - recall: 0.0636 - val_loss: 0.4328 - val_recall: 0.0939\n",
      "Epoch 35/100\n",
      "16/16 [==============================] - 0s 6ms/step - loss: 0.4471 - recall: 0.0678 - val_loss: 0.4313 - val_recall: 0.0939\n",
      "Epoch 36/100\n",
      "16/16 [==============================] - 0s 5ms/step - loss: 0.4459 - recall: 0.0708 - val_loss: 0.4298 - val_recall: 0.1160\n",
      "Epoch 37/100\n",
      "16/16 [==============================] - 0s 6ms/step - loss: 0.4447 - recall: 0.0811 - val_loss: 0.4284 - val_recall: 0.1215\n",
      "Epoch 38/100\n",
      "16/16 [==============================] - 0s 5ms/step - loss: 0.4435 - recall: 0.0860 - val_loss: 0.4270 - val_recall: 0.1326\n",
      "Epoch 39/100\n",
      "16/16 [==============================] - 0s 5ms/step - loss: 0.4424 - recall: 0.0920 - val_loss: 0.4257 - val_recall: 0.1326\n",
      "Epoch 40/100\n",
      "16/16 [==============================] - 0s 5ms/step - loss: 0.4414 - recall: 0.0999 - val_loss: 0.4244 - val_recall: 0.1326\n",
      "Epoch 41/100\n",
      "16/16 [==============================] - 0s 6ms/step - loss: 0.4404 - recall: 0.1005 - val_loss: 0.4233 - val_recall: 0.1271\n",
      "Epoch 42/100\n",
      "16/16 [==============================] - 0s 5ms/step - loss: 0.4396 - recall: 0.1168 - val_loss: 0.4221 - val_recall: 0.1436\n",
      "Epoch 43/100\n",
      "16/16 [==============================] - 0s 6ms/step - loss: 0.4383 - recall: 0.1132 - val_loss: 0.4208 - val_recall: 0.1436\n",
      "Epoch 44/100\n",
      "16/16 [==============================] - 0s 6ms/step - loss: 0.4374 - recall: 0.1162 - val_loss: 0.4196 - val_recall: 0.1492\n",
      "Epoch 45/100\n",
      "16/16 [==============================] - 0s 7ms/step - loss: 0.4365 - recall: 0.1344 - val_loss: 0.4185 - val_recall: 0.1547\n",
      "Epoch 46/100\n",
      "16/16 [==============================] - 0s 5ms/step - loss: 0.4357 - recall: 0.1344 - val_loss: 0.4174 - val_recall: 0.1547\n",
      "Epoch 47/100\n",
      "16/16 [==============================] - 0s 6ms/step - loss: 0.4348 - recall: 0.1410 - val_loss: 0.4165 - val_recall: 0.1547\n",
      "Epoch 48/100\n",
      "16/16 [==============================] - 0s 5ms/step - loss: 0.4340 - recall: 0.1459 - val_loss: 0.4154 - val_recall: 0.1768\n",
      "Epoch 49/100\n",
      "16/16 [==============================] - 0s 6ms/step - loss: 0.4332 - recall: 0.1453 - val_loss: 0.4145 - val_recall: 0.1878\n",
      "Epoch 50/100\n",
      "16/16 [==============================] - 0s 5ms/step - loss: 0.4324 - recall: 0.1501 - val_loss: 0.4137 - val_recall: 0.1823\n",
      "Epoch 51/100\n",
      "16/16 [==============================] - 0s 5ms/step - loss: 0.4318 - recall: 0.1459 - val_loss: 0.4128 - val_recall: 0.2044\n",
      "Epoch 52/100\n",
      "16/16 [==============================] - 0s 6ms/step - loss: 0.4312 - recall: 0.1695 - val_loss: 0.4119 - val_recall: 0.1989\n",
      "Epoch 53/100\n",
      "16/16 [==============================] - 0s 6ms/step - loss: 0.4305 - recall: 0.1628 - val_loss: 0.4112 - val_recall: 0.2044\n",
      "Epoch 54/100\n",
      "16/16 [==============================] - 0s 5ms/step - loss: 0.4299 - recall: 0.1725 - val_loss: 0.4105 - val_recall: 0.2044\n",
      "Epoch 55/100\n",
      "16/16 [==============================] - 0s 5ms/step - loss: 0.4293 - recall: 0.1701 - val_loss: 0.4098 - val_recall: 0.2044\n",
      "Epoch 56/100\n",
      "16/16 [==============================] - 0s 7ms/step - loss: 0.4288 - recall: 0.1719 - val_loss: 0.4090 - val_recall: 0.2099\n",
      "Epoch 57/100\n",
      "16/16 [==============================] - 0s 6ms/step - loss: 0.4283 - recall: 0.1786 - val_loss: 0.4083 - val_recall: 0.2099\n",
      "Epoch 58/100\n",
      "16/16 [==============================] - 0s 5ms/step - loss: 0.4277 - recall: 0.1877 - val_loss: 0.4078 - val_recall: 0.2210\n",
      "Epoch 59/100\n",
      "16/16 [==============================] - 0s 5ms/step - loss: 0.4274 - recall: 0.1762 - val_loss: 0.4072 - val_recall: 0.2210\n",
      "Epoch 60/100\n",
      "16/16 [==============================] - 0s 5ms/step - loss: 0.4267 - recall: 0.1913 - val_loss: 0.4067 - val_recall: 0.2320\n",
      "Epoch 61/100\n",
      "16/16 [==============================] - 0s 6ms/step - loss: 0.4263 - recall: 0.1919 - val_loss: 0.4062 - val_recall: 0.2320\n",
      "Epoch 62/100\n",
      "16/16 [==============================] - 0s 5ms/step - loss: 0.4262 - recall: 0.1768 - val_loss: 0.4058 - val_recall: 0.2320\n",
      "Epoch 63/100\n",
      "16/16 [==============================] - 0s 6ms/step - loss: 0.4258 - recall: 0.2131 - val_loss: 0.4051 - val_recall: 0.2541\n",
      "Epoch 64/100\n",
      "16/16 [==============================] - 0s 7ms/step - loss: 0.4250 - recall: 0.1889 - val_loss: 0.4047 - val_recall: 0.2376\n",
      "Epoch 65/100\n",
      "16/16 [==============================] - 0s 6ms/step - loss: 0.4247 - recall: 0.2028 - val_loss: 0.4042 - val_recall: 0.2707\n",
      "Epoch 66/100\n",
      "16/16 [==============================] - 0s 5ms/step - loss: 0.4243 - recall: 0.1955 - val_loss: 0.4039 - val_recall: 0.2320\n",
      "Epoch 67/100\n",
      "16/16 [==============================] - 0s 5ms/step - loss: 0.4240 - recall: 0.2125 - val_loss: 0.4034 - val_recall: 0.2707\n",
      "Epoch 68/100\n",
      "16/16 [==============================] - 0s 7ms/step - loss: 0.4233 - recall: 0.2004 - val_loss: 0.4029 - val_recall: 0.2486\n",
      "Epoch 69/100\n",
      "16/16 [==============================] - 0s 5ms/step - loss: 0.4231 - recall: 0.2064 - val_loss: 0.4023 - val_recall: 0.2762\n",
      "Epoch 70/100\n",
      "16/16 [==============================] - 0s 5ms/step - loss: 0.4226 - recall: 0.2143 - val_loss: 0.4018 - val_recall: 0.2762\n",
      "Epoch 71/100\n",
      "16/16 [==============================] - 0s 6ms/step - loss: 0.4223 - recall: 0.2185 - val_loss: 0.4015 - val_recall: 0.2762\n",
      "Epoch 72/100\n",
      "16/16 [==============================] - 0s 7ms/step - loss: 0.4219 - recall: 0.2082 - val_loss: 0.4011 - val_recall: 0.2762\n",
      "Epoch 73/100\n",
      "16/16 [==============================] - 0s 5ms/step - loss: 0.4216 - recall: 0.2167 - val_loss: 0.4007 - val_recall: 0.2873\n",
      "Epoch 74/100\n",
      "16/16 [==============================] - 0s 7ms/step - loss: 0.4211 - recall: 0.2173 - val_loss: 0.4003 - val_recall: 0.2873\n",
      "Epoch 75/100\n",
      "16/16 [==============================] - 0s 5ms/step - loss: 0.4206 - recall: 0.2222 - val_loss: 0.3998 - val_recall: 0.2928\n",
      "Epoch 76/100\n",
      "16/16 [==============================] - 0s 6ms/step - loss: 0.4205 - recall: 0.2131 - val_loss: 0.3994 - val_recall: 0.2928\n",
      "Epoch 77/100\n",
      "16/16 [==============================] - 0s 8ms/step - loss: 0.4199 - recall: 0.2343 - val_loss: 0.3989 - val_recall: 0.2928\n",
      "Epoch 78/100\n",
      "16/16 [==============================] - 0s 8ms/step - loss: 0.4195 - recall: 0.2222 - val_loss: 0.3984 - val_recall: 0.2873\n",
      "Epoch 79/100\n",
      "16/16 [==============================] - 0s 8ms/step - loss: 0.4191 - recall: 0.2276 - val_loss: 0.3981 - val_recall: 0.2983\n",
      "Epoch 80/100\n",
      "16/16 [==============================] - 0s 9ms/step - loss: 0.4190 - recall: 0.2179 - val_loss: 0.3976 - val_recall: 0.2983\n",
      "Epoch 81/100\n",
      "16/16 [==============================] - 0s 9ms/step - loss: 0.4182 - recall: 0.2379 - val_loss: 0.3970 - val_recall: 0.2983\n",
      "Epoch 82/100\n",
      "16/16 [==============================] - 0s 8ms/step - loss: 0.4178 - recall: 0.2258 - val_loss: 0.3967 - val_recall: 0.2928\n",
      "Epoch 83/100\n",
      "16/16 [==============================] - 0s 7ms/step - loss: 0.4174 - recall: 0.2270 - val_loss: 0.3961 - val_recall: 0.2983\n",
      "Epoch 84/100\n",
      "16/16 [==============================] - 0s 9ms/step - loss: 0.4169 - recall: 0.2385 - val_loss: 0.3957 - val_recall: 0.2983\n",
      "Epoch 85/100\n",
      "16/16 [==============================] - 0s 8ms/step - loss: 0.4167 - recall: 0.2294 - val_loss: 0.3950 - val_recall: 0.3039\n",
      "Epoch 86/100\n",
      "16/16 [==============================] - 0s 8ms/step - loss: 0.4161 - recall: 0.2409 - val_loss: 0.3947 - val_recall: 0.3039\n",
      "Epoch 87/100\n",
      "16/16 [==============================] - 0s 8ms/step - loss: 0.4157 - recall: 0.2464 - val_loss: 0.3942 - val_recall: 0.2928\n",
      "Epoch 88/100\n",
      "16/16 [==============================] - 0s 8ms/step - loss: 0.4153 - recall: 0.2282 - val_loss: 0.3938 - val_recall: 0.2928\n",
      "Epoch 89/100\n",
      "16/16 [==============================] - 0s 9ms/step - loss: 0.4148 - recall: 0.2476 - val_loss: 0.3934 - val_recall: 0.3149\n",
      "Epoch 90/100\n",
      "16/16 [==============================] - 0s 8ms/step - loss: 0.4143 - recall: 0.2421 - val_loss: 0.3927 - val_recall: 0.2983\n",
      "Epoch 91/100\n",
      "16/16 [==============================] - 0s 8ms/step - loss: 0.4140 - recall: 0.2379 - val_loss: 0.3922 - val_recall: 0.3039\n",
      "Epoch 92/100\n",
      "16/16 [==============================] - 0s 9ms/step - loss: 0.4136 - recall: 0.2470 - val_loss: 0.3918 - val_recall: 0.3094\n",
      "Epoch 93/100\n",
      "16/16 [==============================] - 0s 9ms/step - loss: 0.4130 - recall: 0.2512 - val_loss: 0.3913 - val_recall: 0.3094\n",
      "Epoch 94/100\n",
      "16/16 [==============================] - 0s 7ms/step - loss: 0.4125 - recall: 0.2512 - val_loss: 0.3908 - val_recall: 0.3094\n",
      "Epoch 95/100\n",
      "16/16 [==============================] - 0s 8ms/step - loss: 0.4120 - recall: 0.2482 - val_loss: 0.3902 - val_recall: 0.3039\n",
      "Epoch 96/100\n",
      "16/16 [==============================] - 0s 8ms/step - loss: 0.4117 - recall: 0.2530 - val_loss: 0.3897 - val_recall: 0.3315\n",
      "Epoch 97/100\n",
      "16/16 [==============================] - 0s 9ms/step - loss: 0.4111 - recall: 0.2458 - val_loss: 0.3893 - val_recall: 0.3094\n",
      "Epoch 98/100\n",
      "16/16 [==============================] - 0s 9ms/step - loss: 0.4107 - recall: 0.2536 - val_loss: 0.3888 - val_recall: 0.3315\n",
      "Epoch 99/100\n",
      "16/16 [==============================] - 0s 9ms/step - loss: 0.4102 - recall: 0.2488 - val_loss: 0.3881 - val_recall: 0.3149\n",
      "Epoch 100/100\n",
      "16/16 [==============================] - 0s 9ms/step - loss: 0.4096 - recall: 0.2512 - val_loss: 0.3878 - val_recall: 0.3315\n"
     ]
    },
    {
     "data": {
      "text/plain": [
       "<keras.src.callbacks.History at 0x7ee8d7282fe0>"
      ]
     },
     "execution_count": 95,
     "metadata": {},
     "output_type": "execute_result"
    }
   ],
   "source": [
    "# build model with optuna parameters\n",
    "unit1, unit2, optimizer, lr, w0, w1 = (\n",
    "    study.best_params[\"n_units1\"],\n",
    "    study.best_params[\"n_units2\"],\n",
    "    study.best_params[\"optimizer\"],\n",
    "    study.best_params[\"learning_rate\"],\n",
    "    study.best_params[\"w0\"],\n",
    "    study.best_params[\"w1\"],\n",
    ")\n",
    "\n",
    "model = Sequential()\n",
    "model.add(Dense(unit1, activation=\"relu\"))\n",
    "model.add(Dense(unit2, activation=\"relu\"))\n",
    "model.add(Dense(1, activation=\"sigmoid\"))\n",
    "opt = optimizer(learning_rate=lr)\n",
    "model.compile(optimizer=opt, loss=\"binary_crossentropy\", metrics=[\"Recall\"])\n",
    "\n",
    "# train model\n",
    "model.fit(\n",
    "    X_train,\n",
    "    y_train,\n",
    "    validation_split=0.1,\n",
    "    batch_size=512,\n",
    "    epochs=100,\n",
    "    callbacks=[early_stop],\n",
    "    verbose=1,\n",
    ")"
   ]
  },
  {
   "cell_type": "code",
   "execution_count": 96,
   "metadata": {
    "id": "F__C_8T_A3oQ"
   },
   "outputs": [],
   "source": [
    "history = model.history.history"
   ]
  },
  {
   "cell_type": "code",
   "execution_count": 98,
   "metadata": {
    "colab": {
     "base_uri": "https://localhost:8080/"
    },
    "id": "KfDVZJF1A-Pl",
    "outputId": "cfe167c5-70b2-4228-bd55-784bb14070b6"
   },
   "outputs": [
    {
     "name": "stdout",
     "output_type": "stream",
     "text": [
      "32/32 [==============================] - 0s 2ms/step\n",
      "[[768  28]\n",
      " [161  43]]\n",
      "              precision    recall  f1-score   support\n",
      "\n",
      "           0       0.83      0.96      0.89       796\n",
      "           1       0.61      0.21      0.31       204\n",
      "\n",
      "    accuracy                           0.81      1000\n",
      "   macro avg       0.72      0.59      0.60      1000\n",
      "weighted avg       0.78      0.81      0.77      1000\n",
      "\n"
     ]
    }
   ],
   "source": [
    "y_pred = (model.predict(X_test) > 0.5).astype(\"int32\")\n",
    "print(confusion_matrix(y_test, y_pred))\n",
    "print(classification_report(y_test, y_pred))"
   ]
  },
  {
   "cell_type": "markdown",
   "metadata": {
    "id": "yPGZmFrb3kwp"
   },
   "source": [
    "### Evaluate The Model\n",
    "\n",
    "- Plot the model history to observe the changing of metrics\n",
    "- Make prediction to see \"confusion matrix\" and \"classification report\"\n",
    "- Check ROC (Receiver Operating Curve) and AUC (Area Under Curve) for the model"
   ]
  },
  {
   "cell_type": "code",
   "execution_count": 57,
   "metadata": {
    "colab": {
     "base_uri": "https://localhost:8080/",
     "height": 489
    },
    "id": "ONp4E5qP3kwp",
    "outputId": "12efe089-fe46-4459-d397-4285f58c4d82"
   },
   "outputs": [
    {
     "name": "stdout",
     "output_type": "stream",
     "text": [
      "32/32 [==============================] - 0s 1ms/step\n"
     ]
    },
    {
     "data": {
      "image/png": "[encoded data removed]",
      "text/plain": [
       "<Figure size 640x480 with 1 Axes>"
      ]
     },
     "metadata": {},
     "output_type": "display_data"
    }
   ],
   "source": [
    "y_pred_proba = model.predict(X_test)\n",
    "fpr, tpr, thresholds = roc_curve(y_test, y_pred_proba)\n",
    "plt.plot([0,1],[0,1],'k--')\n",
    "plt.plot(fpr,tpr, label='ANN')\n",
    "plt.xlabel('fpr')\n",
    "plt.ylabel('tpr')\n",
    "plt.title('ROC curve')\n",
    "plt.show()"
   ]
  },
  {
   "cell_type": "code",
   "execution_count": 58,
   "metadata": {
    "colab": {
     "base_uri": "https://localhost:8080/"
    },
    "id": "CdpD5DzDRoTt",
    "outputId": "c093a364-8126-4028-a689-d67acf3194b0"
   },
   "outputs": [
    {
     "data": {
      "text/plain": [
       "0.8534276776037049"
      ]
     },
     "execution_count": 58,
     "metadata": {},
     "output_type": "execute_result"
    }
   ],
   "source": [
    "roc_auc_score(y_test, y_pred_proba)"
   ]
  },
  {
   "cell_type": "code",
   "execution_count": 59,
   "metadata": {
    "colab": {
     "base_uri": "https://localhost:8080/"
    },
    "id": "YYlQEHOJRt7v",
    "outputId": "cef12bdd-4a95-42c1-9df2-e396e07f1423"
   },
   "outputs": [
    {
     "data": {
      "text/plain": [
       "0.8534276776037049"
      ]
     },
     "execution_count": 59,
     "metadata": {},
     "output_type": "execute_result"
    }
   ],
   "source": [
    "roc_auc_score(y_test, y_pred_proba)"
   ]
  },
  {
   "cell_type": "markdown",
   "metadata": {
    "id": "1Vn3tJ1H3kwp"
   },
   "source": [
    "# Final Model and Model Deployment"
   ]
  },
  {
   "cell_type": "code",
   "execution_count": 79,
   "metadata": {
    "id": "Bd8211FF3kwp"
   },
   "outputs": [],
   "source": [
    "import pickle\n",
    "pickle.dump(scaler, open(\"scaler_exited\", 'wb'))"
   ]
  },
  {
   "cell_type": "code",
   "execution_count": 61,
   "metadata": {
    "id": "Dy2wb1boSBWt"
   },
   "outputs": [],
   "source": [
    "tf.random.set_seed(seed)\n",
    "\n",
    "model = Sequential()\n",
    "\n",
    "model.add(Dense(20, activation = \"relu\", input_dim = X_train.shape[1]))\n",
    "model.add(Dense(10, activation = \"relu\"))\n",
    "model.add(Dense(5, activation = \"relu\"))\n",
    "model.add(Dense(1, activation = \"sigmoid\"))\n",
    "\n",
    "model.compile(optimizer = \"adam\", loss = \"binary_crossentropy\", metrics = [\"accuracy\"])"
   ]
  },
  {
   "cell_type": "code",
   "execution_count": 62,
   "metadata": {
    "id": "9fvHrd_qSBiE"
   },
   "outputs": [],
   "source": [
    "early_stop = EarlyStopping(monitor = \"val_loss\", mode = \"min\", verbose = 1, patience = 15, restore_best_weights = True)"
   ]
  },
  {
   "cell_type": "code",
   "execution_count": 63,
   "metadata": {
    "colab": {
     "base_uri": "https://localhost:8080/"
    },
    "id": "3yHAmsGoSKEo",
    "outputId": "26646af7-2a7c-4ede-ce81-fff8e60cf1e9"
   },
   "outputs": [
    {
     "name": "stdout",
     "output_type": "stream",
     "text": [
      "Epoch 1/200\n",
      "282/282 [==============================] - 2s 3ms/step - loss: 0.5420 - accuracy: 0.7712 - val_loss: 0.4780 - val_accuracy: 0.7960\n",
      "Epoch 2/200\n",
      "282/282 [==============================] - 1s 2ms/step - loss: 0.4606 - accuracy: 0.7963 - val_loss: 0.4542 - val_accuracy: 0.7960\n",
      "Epoch 3/200\n",
      "282/282 [==============================] - 1s 2ms/step - loss: 0.4421 - accuracy: 0.7963 - val_loss: 0.4437 - val_accuracy: 0.8000\n",
      "Epoch 4/200\n",
      "282/282 [==============================] - 1s 2ms/step - loss: 0.4276 - accuracy: 0.8020 - val_loss: 0.4308 - val_accuracy: 0.8040\n",
      "Epoch 5/200\n",
      "282/282 [==============================] - 1s 2ms/step - loss: 0.4128 - accuracy: 0.8109 - val_loss: 0.4121 - val_accuracy: 0.8170\n",
      "Epoch 6/200\n",
      "282/282 [==============================] - 1s 2ms/step - loss: 0.3955 - accuracy: 0.8241 - val_loss: 0.3971 - val_accuracy: 0.8270\n",
      "Epoch 7/200\n",
      "282/282 [==============================] - 1s 2ms/step - loss: 0.3856 - accuracy: 0.8343 - val_loss: 0.3886 - val_accuracy: 0.8330\n",
      "Epoch 8/200\n",
      "282/282 [==============================] - 1s 2ms/step - loss: 0.3783 - accuracy: 0.8390 - val_loss: 0.3794 - val_accuracy: 0.8420\n",
      "Epoch 9/200\n",
      "282/282 [==============================] - 1s 2ms/step - loss: 0.3729 - accuracy: 0.8418 - val_loss: 0.3748 - val_accuracy: 0.8430\n",
      "Epoch 10/200\n",
      "282/282 [==============================] - 1s 2ms/step - loss: 0.3679 - accuracy: 0.8440 - val_loss: 0.3741 - val_accuracy: 0.8450\n",
      "Epoch 11/200\n",
      "282/282 [==============================] - 1s 2ms/step - loss: 0.3641 - accuracy: 0.8460 - val_loss: 0.3698 - val_accuracy: 0.8460\n",
      "Epoch 12/200\n",
      "282/282 [==============================] - 1s 3ms/step - loss: 0.3636 - accuracy: 0.8452 - val_loss: 0.3703 - val_accuracy: 0.8470\n",
      "Epoch 13/200\n",
      "282/282 [==============================] - 1s 3ms/step - loss: 0.3626 - accuracy: 0.8450 - val_loss: 0.3666 - val_accuracy: 0.8500\n",
      "Epoch 14/200\n",
      "282/282 [==============================] - 1s 3ms/step - loss: 0.3595 - accuracy: 0.8499 - val_loss: 0.3646 - val_accuracy: 0.8490\n",
      "Epoch 15/200\n",
      "282/282 [==============================] - 1s 3ms/step - loss: 0.3576 - accuracy: 0.8482 - val_loss: 0.3636 - val_accuracy: 0.8480\n",
      "Epoch 16/200\n",
      "282/282 [==============================] - 1s 3ms/step - loss: 0.3570 - accuracy: 0.8487 - val_loss: 0.3630 - val_accuracy: 0.8520\n",
      "Epoch 17/200\n",
      "282/282 [==============================] - 1s 2ms/step - loss: 0.3555 - accuracy: 0.8498 - val_loss: 0.3608 - val_accuracy: 0.8560\n",
      "Epoch 18/200\n",
      "282/282 [==============================] - 1s 2ms/step - loss: 0.3546 - accuracy: 0.8509 - val_loss: 0.3614 - val_accuracy: 0.8530\n",
      "Epoch 19/200\n",
      "282/282 [==============================] - 1s 2ms/step - loss: 0.3531 - accuracy: 0.8513 - val_loss: 0.3603 - val_accuracy: 0.8520\n",
      "Epoch 20/200\n",
      "282/282 [==============================] - 1s 2ms/step - loss: 0.3517 - accuracy: 0.8554 - val_loss: 0.3692 - val_accuracy: 0.8400\n",
      "Epoch 21/200\n",
      "282/282 [==============================] - 1s 2ms/step - loss: 0.3514 - accuracy: 0.8532 - val_loss: 0.3584 - val_accuracy: 0.8520\n",
      "Epoch 22/200\n",
      "282/282 [==============================] - 1s 2ms/step - loss: 0.3501 - accuracy: 0.8538 - val_loss: 0.3589 - val_accuracy: 0.8500\n",
      "Epoch 23/200\n",
      "282/282 [==============================] - 1s 2ms/step - loss: 0.3492 - accuracy: 0.8537 - val_loss: 0.3606 - val_accuracy: 0.8500\n",
      "Epoch 24/200\n",
      "282/282 [==============================] - 1s 2ms/step - loss: 0.3493 - accuracy: 0.8520 - val_loss: 0.3599 - val_accuracy: 0.8510\n",
      "Epoch 25/200\n",
      "282/282 [==============================] - 1s 2ms/step - loss: 0.3479 - accuracy: 0.8552 - val_loss: 0.3631 - val_accuracy: 0.8490\n",
      "Epoch 26/200\n",
      "282/282 [==============================] - 1s 2ms/step - loss: 0.3484 - accuracy: 0.8563 - val_loss: 0.3588 - val_accuracy: 0.8540\n",
      "Epoch 27/200\n",
      "282/282 [==============================] - 1s 2ms/step - loss: 0.3467 - accuracy: 0.8568 - val_loss: 0.3615 - val_accuracy: 0.8520\n",
      "Epoch 28/200\n",
      "282/282 [==============================] - 1s 2ms/step - loss: 0.3461 - accuracy: 0.8560 - val_loss: 0.3585 - val_accuracy: 0.8500\n",
      "Epoch 29/200\n",
      "282/282 [==============================] - 1s 2ms/step - loss: 0.3464 - accuracy: 0.8559 - val_loss: 0.3579 - val_accuracy: 0.8530\n",
      "Epoch 30/200\n",
      "282/282 [==============================] - 1s 2ms/step - loss: 0.3461 - accuracy: 0.8579 - val_loss: 0.3592 - val_accuracy: 0.8480\n",
      "Epoch 31/200\n",
      "282/282 [==============================] - 1s 2ms/step - loss: 0.3459 - accuracy: 0.8560 - val_loss: 0.3581 - val_accuracy: 0.8470\n",
      "Epoch 32/200\n",
      "282/282 [==============================] - 1s 2ms/step - loss: 0.3441 - accuracy: 0.8552 - val_loss: 0.3574 - val_accuracy: 0.8550\n",
      "Epoch 33/200\n",
      "282/282 [==============================] - 1s 2ms/step - loss: 0.3446 - accuracy: 0.8550 - val_loss: 0.3576 - val_accuracy: 0.8520\n",
      "Epoch 34/200\n",
      "282/282 [==============================] - 1s 3ms/step - loss: 0.3447 - accuracy: 0.8558 - val_loss: 0.3585 - val_accuracy: 0.8500\n",
      "Epoch 35/200\n",
      "282/282 [==============================] - 1s 3ms/step - loss: 0.3433 - accuracy: 0.8562 - val_loss: 0.3666 - val_accuracy: 0.8580\n",
      "Epoch 36/200\n",
      "282/282 [==============================] - 1s 3ms/step - loss: 0.3429 - accuracy: 0.8572 - val_loss: 0.3594 - val_accuracy: 0.8490\n",
      "Epoch 37/200\n",
      "282/282 [==============================] - 1s 3ms/step - loss: 0.3437 - accuracy: 0.8571 - val_loss: 0.3591 - val_accuracy: 0.8440\n",
      "Epoch 38/200\n",
      "282/282 [==============================] - 1s 3ms/step - loss: 0.3434 - accuracy: 0.8577 - val_loss: 0.3596 - val_accuracy: 0.8500\n",
      "Epoch 39/200\n",
      "282/282 [==============================] - 1s 2ms/step - loss: 0.3418 - accuracy: 0.8553 - val_loss: 0.3599 - val_accuracy: 0.8500\n",
      "Epoch 40/200\n",
      "282/282 [==============================] - 1s 2ms/step - loss: 0.3410 - accuracy: 0.8596 - val_loss: 0.3588 - val_accuracy: 0.8500\n",
      "Epoch 41/200\n",
      "282/282 [==============================] - 1s 2ms/step - loss: 0.3431 - accuracy: 0.8602 - val_loss: 0.3578 - val_accuracy: 0.8520\n",
      "Epoch 42/200\n",
      "282/282 [==============================] - 1s 2ms/step - loss: 0.3417 - accuracy: 0.8582 - val_loss: 0.3645 - val_accuracy: 0.8460\n",
      "Epoch 43/200\n",
      "282/282 [==============================] - 1s 2ms/step - loss: 0.3418 - accuracy: 0.8569 - val_loss: 0.3610 - val_accuracy: 0.8480\n",
      "Epoch 44/200\n",
      "282/282 [==============================] - 1s 2ms/step - loss: 0.3419 - accuracy: 0.8598 - val_loss: 0.3580 - val_accuracy: 0.8470\n",
      "Epoch 45/200\n",
      "282/282 [==============================] - 1s 2ms/step - loss: 0.3407 - accuracy: 0.8584 - val_loss: 0.3581 - val_accuracy: 0.8500\n",
      "Epoch 46/200\n",
      "282/282 [==============================] - 1s 2ms/step - loss: 0.3414 - accuracy: 0.8578 - val_loss: 0.3576 - val_accuracy: 0.8480\n",
      "Epoch 47/200\n",
      "278/282 [============================>.] - ETA: 0s - loss: 0.3400 - accuracy: 0.8579Restoring model weights from the end of the best epoch: 32.\n",
      "282/282 [==============================] - 1s 2ms/step - loss: 0.3401 - accuracy: 0.8577 - val_loss: 0.3665 - val_accuracy: 0.8460\n",
      "Epoch 47: early stopping\n"
     ]
    },
    {
     "data": {
      "text/plain": [
       "<keras.src.callbacks.History at 0x7ee8dadbf220>"
      ]
     },
     "execution_count": 63,
     "metadata": {},
     "output_type": "execute_result"
    }
   ],
   "source": [
    "model.fit(x = X_train, y = y_train, validation_data = (X_test, y_test), batch_size = 32, epochs = 200, verbose = 1,\n",
    "          callbacks = [early_stop])"
   ]
  },
  {
   "cell_type": "code",
   "execution_count": 64,
   "metadata": {
    "colab": {
     "base_uri": "https://localhost:8080/",
     "height": 447
    },
    "id": "_c0Y6vqoSm7I",
    "outputId": "85c84e60-240b-476a-89f9-7e38d29ce86e"
   },
   "outputs": [
    {
     "data": {
      "text/plain": [
       "<Axes: >"
      ]
     },
     "execution_count": 64,
     "metadata": {},
     "output_type": "execute_result"
    },
    {
     "data": {
      "image/png": "[encoded data removed]",
      "text/plain": [
       "<Figure size 640x480 with 1 Axes>"
      ]
     },
     "metadata": {},
     "output_type": "display_data"
    }
   ],
   "source": [
    "loss_df = pd.DataFrame(model.history.history)\n",
    "loss_df.plot()"
   ]
  },
  {
   "cell_type": "code",
   "execution_count": 65,
   "metadata": {
    "colab": {
     "base_uri": "https://localhost:8080/"
    },
    "id": "3on50_8HSs_4",
    "outputId": "3641c08f-7dc4-4af7-b216-3c4c07a1d77f"
   },
   "outputs": [
    {
     "name": "stdout",
     "output_type": "stream",
     "text": [
      "loss :  0.3573884665966034\n",
      "accuracy :  0.8550000190734863\n"
     ]
    }
   ],
   "source": [
    "loss, accuracy = model.evaluate(X_test, y_test, verbose=0)\n",
    "print(\"loss : \", loss)\n",
    "print(\"accuracy : \", accuracy)"
   ]
  },
  {
   "cell_type": "code",
   "execution_count": 66,
   "metadata": {
    "colab": {
     "base_uri": "https://localhost:8080/"
    },
    "id": "-7w6EDezStKV",
    "outputId": "b5edb7f3-0b5f-40af-ab06-b449aae874ea"
   },
   "outputs": [
    {
     "name": "stdout",
     "output_type": "stream",
     "text": [
      "32/32 [==============================] - 0s 1ms/step\n",
      "[[765  31]\n",
      " [114  90]]\n",
      "              precision    recall  f1-score   support\n",
      "\n",
      "           0       0.87      0.96      0.91       796\n",
      "           1       0.74      0.44      0.55       204\n",
      "\n",
      "    accuracy                           0.85      1000\n",
      "   macro avg       0.81      0.70      0.73      1000\n",
      "weighted avg       0.84      0.85      0.84      1000\n",
      "\n"
     ]
    }
   ],
   "source": [
    "y_pred = model.predict(X_test) > 0.5\n",
    "#y_pred = model.predict_classes(X_test) for tf 2.5.0\n",
    "print(confusion_matrix(y_test, y_pred))\n",
    "print(classification_report(y_test, y_pred))"
   ]
  },
  {
   "cell_type": "code",
   "execution_count": 67,
   "metadata": {
    "colab": {
     "base_uri": "https://localhost:8080/"
    },
    "id": "urHSnXORS9V3",
    "outputId": "c864b8bb-8727-47bf-8a10-f5ffd0dcead8"
   },
   "outputs": [
    {
     "name": "stderr",
     "output_type": "stream",
     "text": [
      "/usr/local/lib/python3.10/dist-packages/keras/src/engine/training.py:3079: UserWarning: You are saving your model as an HDF5 file via `model.save()`. This file format is considered legacy. We recommend using instead the native Keras format, e.g. `model.save('my_model.keras')`.\n",
      "  saving_api.save_model(\n"
     ]
    }
   ],
   "source": [
    "model.save('model_exited.h5')"
   ]
  },
  {
   "cell_type": "code",
   "execution_count": 75,
   "metadata": {
    "id": "htAOu5WE6X0y"
   },
   "outputs": [],
   "source": [
    "from tensorflow.keras.models import load_model"
   ]
  },
  {
   "cell_type": "code",
   "execution_count": 76,
   "metadata": {
    "id": "WqUGYzOH6YDv"
   },
   "outputs": [],
   "source": [
    "model_exited = load_model(\"model_exited.h5\")"
   ]
  },
  {
   "cell_type": "code",
   "execution_count": 80,
   "metadata": {
    "id": "GnBjT5q16mYp"
   },
   "outputs": [],
   "source": [
    "scaler_exited = pickle.load(open(\"scaler_exited\", \"rb\"))"
   ]
  },
  {
   "cell_type": "markdown",
   "metadata": {
    "id": "Cq10ovAX6daY"
   },
   "source": [
    "## Prediction"
   ]
  },
  {
   "cell_type": "code",
   "execution_count": 68,
   "metadata": {
    "id": "HpcgNak73kwq"
   },
   "outputs": [],
   "source": []
  },
  {
   "cell_type": "code",
   "execution_count": 100,
   "metadata": {
    "colab": {
     "base_uri": "https://localhost:8080/",
     "height": 80
    },
    "id": "dSjCawm3Xn2l",
    "outputId": "08001c3f-87b5-4ed0-93d6-fe8a2a3d5813"
   },
   "outputs": [
    {
     "data": {
      "text/html": [
       "\n",
       "  <div id=\"df-1a633e90-a8fc-4ab0-b284-88fad7e3a898\" class=\"colab-df-container\">\n",
       "    <div>\n",
       "<style scoped>\n",
       "    .dataframe tbody tr th:only-of-type {\n",
       "        vertical-align: middle;\n",
       "    }\n",
       "\n",
       "    .dataframe tbody tr th {\n",
       "        vertical-align: top;\n",
       "    }\n",
       "\n",
       "    .dataframe thead th {\n",
       "        text-align: right;\n",
       "    }\n",
       "</style>\n",
       "<table border=\"1\" class=\"dataframe\">\n",
       "  <thead>\n",
       "    <tr style=\"text-align: right;\">\n",
       "      <th></th>\n",
       "      <th>CreditScore</th>\n",
       "      <th>Age</th>\n",
       "      <th>Tenure</th>\n",
       "      <th>Balance</th>\n",
       "      <th>NumOfProducts</th>\n",
       "      <th>HasCrCard</th>\n",
       "      <th>IsActiveMember</th>\n",
       "      <th>EstimatedSalary</th>\n",
       "      <th>Geography_Germany</th>\n",
       "      <th>Geography_Spain</th>\n",
       "      <th>Gender_Male</th>\n",
       "    </tr>\n",
       "  </thead>\n",
       "  <tbody>\n",
       "    <tr>\n",
       "      <th>0</th>\n",
       "      <td>619</td>\n",
       "      <td>42</td>\n",
       "      <td>2</td>\n",
       "      <td>0.0</td>\n",
       "      <td>1</td>\n",
       "      <td>1</td>\n",
       "      <td>1</td>\n",
       "      <td>101348.88</td>\n",
       "      <td>0</td>\n",
       "      <td>0</td>\n",
       "      <td>0</td>\n",
       "    </tr>\n",
       "  </tbody>\n",
       "</table>\n",
       "</div>\n",
       "    <div class=\"colab-df-buttons\">\n",
       "\n",
       "  <div class=\"colab-df-container\">\n",
       "    <button class=\"colab-df-convert\" onclick=\"convertToInteractive('df-1a633e90-a8fc-4ab0-b284-88fad7e3a898')\"\n",
       "            title=\"Convert this dataframe to an interactive table.\"\n",
       "            style=\"display:none;\">\n",
       "\n",
       "  <svg xmlns=\"http://www.w3.org/2000/svg\" height=\"24px\" viewBox=\"0 -960 960 960\">\n",
       "    <path d=\"M120-120v-720h720v720H120Zm60-500h600v-160H180v160Zm220 220h160v-160H400v160Zm0 220h160v-160H400v160ZM180-400h160v-160H180v160Zm440 0h160v-160H620v160ZM180-180h160v-160H180v160Zm440 0h160v-160H620v160Z\"/>\n",
       "  </svg>\n",
       "    </button>\n",
       "\n",
       "  <style>\n",
       "    .colab-df-container {\n",
       "      display:flex;\n",
       "      gap: 12px;\n",
       "    }\n",
       "\n",
       "    .colab-df-convert {\n",
       "      background-color: #E8F0FE;\n",
       "      border: none;\n",
       "      border-radius: 50%;\n",
       "      cursor: pointer;\n",
       "      display: none;\n",
       "      fill: #1967D2;\n",
       "      height: 32px;\n",
       "      padding: 0 0 0 0;\n",
       "      width: 32px;\n",
       "    }\n",
       "\n",
       "    .colab-df-convert:hover {\n",
       "      background-color: #E2EBFA;\n",
       "      box-shadow: 0px 1px 2px rgba(60, 64, 67, 0.3), 0px 1px 3px 1px rgba(60, 64, 67, 0.15);\n",
       "      fill: #174EA6;\n",
       "    }\n",
       "\n",
       "    .colab-df-buttons div {\n",
       "      margin-bottom: 4px;\n",
       "    }\n",
       "\n",
       "    [theme=dark] .colab-df-convert {\n",
       "      background-color: #3B4455;\n",
       "      fill: #D2E3FC;\n",
       "    }\n",
       "\n",
       "    [theme=dark] .colab-df-convert:hover {\n",
       "      background-color: #434B5C;\n",
       "      box-shadow: 0px 1px 3px 1px rgba(0, 0, 0, 0.15);\n",
       "      filter: drop-shadow(0px 1px 2px rgba(0, 0, 0, 0.3));\n",
       "      fill: #FFFFFF;\n",
       "    }\n",
       "  </style>\n",
       "\n",
       "    <script>\n",
       "      const buttonEl =\n",
       "        document.querySelector('#df-1a633e90-a8fc-4ab0-b284-88fad7e3a898 button.colab-df-convert');\n",
       "      buttonEl.style.display =\n",
       "        google.colab.kernel.accessAllowed ? 'block' : 'none';\n",
       "\n",
       "      async function convertToInteractive(key) {\n",
       "        const element = document.querySelector('#df-1a633e90-a8fc-4ab0-b284-88fad7e3a898');\n",
       "        const dataTable =\n",
       "          await google.colab.kernel.invokeFunction('convertToInteractive',\n",
       "                                                    [key], {});\n",
       "        if (!dataTable) return;\n",
       "\n",
       "        const docLinkHtml = 'Like what you see? Visit the ' +\n",
       "          '<a target=\"_blank\" href=https://colab.research.google.com/notebooks/data_table.ipynb>data table notebook</a>'\n",
       "          + ' to learn more about interactive tables.';\n",
       "        element.innerHTML = '';\n",
       "        dataTable['output_type'] = 'display_data';\n",
       "        await google.colab.output.renderOutput(dataTable, element);\n",
       "        const docLink = document.createElement('div');\n",
       "        docLink.innerHTML = docLinkHtml;\n",
       "        element.appendChild(docLink);\n",
       "      }\n",
       "    </script>\n",
       "  </div>\n",
       "\n",
       "    </div>\n",
       "  </div>\n"
      ],
      "text/plain": [
       "   CreditScore  Age  Tenure  Balance  NumOfProducts  HasCrCard  \\\n",
       "0          619   42       2      0.0              1          1   \n",
       "\n",
       "   IsActiveMember  EstimatedSalary  Geography_Germany  Geography_Spain  \\\n",
       "0               1        101348.88                  0                0   \n",
       "\n",
       "   Gender_Male  \n",
       "0            0  "
      ]
     },
     "execution_count": 100,
     "metadata": {},
     "output_type": "execute_result"
    }
   ],
   "source": [
    "exited_prob = df.drop(\"Exited\", axis=1).iloc[0:1, :]\n",
    "exited_prob"
   ]
  },
  {
   "cell_type": "code",
   "execution_count": 101,
   "metadata": {
    "colab": {
     "base_uri": "https://localhost:8080/"
    },
    "id": "W0bUZ_G5XoDs",
    "outputId": "919a33bc-a208-4441-b027-9c92d8bbaf09"
   },
   "outputs": [
    {
     "data": {
      "text/plain": [
       "array([[0.538     , 0.32432432, 0.2       , 0.        , 0.        ,\n",
       "        1.        , 1.        , 0.50673489, 0.        , 0.        ,\n",
       "        0.        ]])"
      ]
     },
     "execution_count": 101,
     "metadata": {},
     "output_type": "execute_result"
    }
   ],
   "source": [
    "exited_prob = scaler_exited.transform(exited_prob)\n",
    "exited_prob"
   ]
  },
  {
   "cell_type": "code",
   "execution_count": 102,
   "metadata": {
    "colab": {
     "base_uri": "https://localhost:8080/"
    },
    "id": "hLyrei2u7hKZ",
    "outputId": "881daa82-b5a1-4d0c-8e36-b7b506d33d8d"
   },
   "outputs": [
    {
     "name": "stdout",
     "output_type": "stream",
     "text": [
      "1/1 [==============================] - 0s 20ms/step\n"
     ]
    },
    {
     "data": {
      "text/plain": [
       "array([[0]], dtype=int32)"
      ]
     },
     "execution_count": 102,
     "metadata": {},
     "output_type": "execute_result"
    }
   ],
   "source": [
    "(model_exited.predict(exited_prob) > 0.5).astype(\"int32\")"
   ]
  },
  {
   "cell_type": "code",
   "execution_count": 103,
   "metadata": {
    "colab": {
     "base_uri": "https://localhost:8080/"
    },
    "id": "zH19cJ7x7qvx",
    "outputId": "f21b5a6a-7302-47bb-bbbf-abf252a66c2a"
   },
   "outputs": [
    {
     "data": {
      "text/plain": [
       "1"
      ]
     },
     "execution_count": 103,
     "metadata": {},
     "output_type": "execute_result"
    }
   ],
   "source": [
    "df[\"Exited\"].iloc[0]"
   ]
  },
  {
   "cell_type": "markdown",
   "metadata": {
    "id": "-5wLG7_93kwq"
   },
   "source": [
    "___\n",
    "\n",
    "<p style=\"text-align: center;\"><img src=\"https://docs.google.com/uc?id=1lY0Uj5R04yMY3-ZppPWxqCr5pvBLYPnV\" class=\"img-fluid\" alt=\"CLRSWY\"></p>\n",
    "\n",
    "___"
   ]
  }
 ],
 "metadata": {
  "colab": {
   "provenance": []
  },
  "kernelspec": {
   "display_name": "Python 3 (ipykernel)",
   "language": "python",
   "name": "python3"
  },
  "language_info": {
   "codemirror_mode": {
    "name": "ipython",
    "version": 3
   },
   "file_extension": ".py",
   "mimetype": "text/x-python",
   "name": "python",
   "nbconvert_exporter": "python",
   "pygments_lexer": "ipython3",
   "version": "3.11.4"
  },
  "toc": {
   "base_numbering": 1,
   "nav_menu": {},
   "number_sections": false,
   "sideBar": true,
   "skip_h1_title": false,
   "title_cell": "Table of Contents",
   "title_sidebar": "Contents",
   "toc_cell": false,
   "toc_position": {},
   "toc_section_display": true,
   "toc_window_display": true
  }
 },
 "nbformat": 4,
 "nbformat_minor": 1
}
