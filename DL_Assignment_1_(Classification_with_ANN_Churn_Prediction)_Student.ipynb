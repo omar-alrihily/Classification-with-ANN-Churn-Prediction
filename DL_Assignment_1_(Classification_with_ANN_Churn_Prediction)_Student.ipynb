{
  "cells": [
    {
      "cell_type": "markdown",
      "metadata": {
        "id": "tXCZkAYo3kwf"
      },
      "source": [
        "___\n",
        "\n",
        "<p style=\"text-align: center;\"><img src=\"https://docs.google.com/uc?id=1lY0Uj5R04yMY3-ZppPWxqCr5pvBLYPnV\" class=\"img-fluid\" alt=\"CLRSWY\"></p>\n",
        "\n",
        "___"
      ]
    },
    {
      "cell_type": "markdown",
      "metadata": {
        "id": "gAsNz-QL3kwi"
      },
      "source": [
        "<h1 style=\"text-align: center;\">Deep Learning<br><br>Assignment-1 (ANN)<br><br>Churn Prediction for Bank Customer<br><h1>"
      ]
    },
    {
      "cell_type": "markdown",
      "metadata": {
        "id": "F1bS1lCk3kwi"
      },
      "source": [
        "# Dataset Info"
      ]
    },
    {
      "cell_type": "markdown",
      "metadata": {
        "id": "TDj3h5GE3kwi"
      },
      "source": [
        "We have a dataset in which there are details of a bank's customers and the target variable is a binary variable reflecting the fact whether the customer left the bank (closed his account) or he continues to be a customer.\n",
        "\n",
        "The features in the given dataset are:\n",
        "- **rownumber:** Row Numbers from 1 to 10000.\n",
        "- **customerid:** A unique ID that identifies each customer.\n",
        "- **surname:** The customer’s surname.\n",
        "- **creditscore:** A credit score is a number between 300–850 that depicts a consumer's creditworthiness.\n",
        "- **geography:** The country from which the customer belongs to.\n",
        "- **Gender:** The customer’s gender: Male, Female\n",
        "- **Age:** The customer’s current age, in years, at the time of being customer.\n",
        "- **tenure:** The number of years for which the customer has been with the bank.\n",
        "- **balance:** Bank balance of the customer.\n",
        "- **numofproducts:** the number of bank products the customer is utilising.\n",
        "- **hascrcard:** The number of credit cards given to the customer by the bank.\n",
        "- **isactivemember:** Binary Flag for indicating if the client is active or not with the bank before the moment where the client exits the company (recorded in the variable \"exited\")\n",
        "- **exited:** Binary flag 1 if the customer closed account with bank and 0 if the customer is retained."
      ]
    },
    {
      "cell_type": "markdown",
      "metadata": {
        "id": "L2R30Vf_3kwj"
      },
      "source": [
        "# Improt Libraries & Data"
      ]
    },
    {
      "cell_type": "code",
      "execution_count": 53,
      "metadata": {
        "id": "Ya_b1qJz3kwj"
      },
      "outputs": [],
      "source": [
        "import numpy as np\n",
        "import pandas as pd\n",
        "\n",
        "# For visualization\n",
        "import matplotlib.pyplot as plt\n",
        "%matplotlib inline\n",
        "import seaborn as sns\n",
        "pd.options.display.max_rows = None\n",
        "pd.options.display.max_columns = None"
      ]
    },
    {
      "cell_type": "code",
      "execution_count": 54,
      "metadata": {
        "id": "0vU7cCUU3kwk",
        "colab": {
          "base_uri": "https://localhost:8080/"
        },
        "outputId": "0488556b-65df-4025-9c83-e10c80acff2e"
      },
      "outputs": [
        {
          "output_type": "stream",
          "name": "stdout",
          "text": [
            "Drive already mounted at /content/drive; to attempt to forcibly remount, call drive.mount(\"/content/drive\", force_remount=True).\n"
          ]
        }
      ],
      "source": [
        "from google.colab import drive\n",
        "drive.mount('/content/drive')"
      ]
    },
    {
      "cell_type": "code",
      "source": [
        "df = pd.read_csv('/content/drive/MyDrive/Churn_Modelling (1).csv')\n",
        "df.shape"
      ],
      "metadata": {
        "colab": {
          "base_uri": "https://localhost:8080/"
        },
        "id": "UUf-2bnosUOC",
        "outputId": "92470d1f-f779-45c2-c198-9135e79aa294"
      },
      "execution_count": 55,
      "outputs": [
        {
          "output_type": "execute_result",
          "data": {
            "text/plain": [
              "(10000, 14)"
            ]
          },
          "metadata": {},
          "execution_count": 55
        }
      ]
    },
    {
      "cell_type": "code",
      "source": [
        "# Check columns list and missing values\n",
        "df.isnull().sum()"
      ],
      "metadata": {
        "colab": {
          "base_uri": "https://localhost:8080/"
        },
        "id": "VJ6riUfPsVtq",
        "outputId": "21caf405-caf7-47f8-c0f8-61b441851944"
      },
      "execution_count": 56,
      "outputs": [
        {
          "output_type": "execute_result",
          "data": {
            "text/plain": [
              "RowNumber          0\n",
              "CustomerId         0\n",
              "Surname            0\n",
              "CreditScore        0\n",
              "Geography          0\n",
              "Gender             0\n",
              "Age                0\n",
              "Tenure             0\n",
              "Balance            0\n",
              "NumOfProducts      0\n",
              "HasCrCard          0\n",
              "IsActiveMember     0\n",
              "EstimatedSalary    0\n",
              "Exited             0\n",
              "dtype: int64"
            ]
          },
          "metadata": {},
          "execution_count": 56
        }
      ]
    },
    {
      "cell_type": "code",
      "source": [
        "df.nunique()"
      ],
      "metadata": {
        "colab": {
          "base_uri": "https://localhost:8080/"
        },
        "id": "oKAwv4j1ssaA",
        "outputId": "7cd95509-8f29-4fbe-e995-075cd8d98bf2"
      },
      "execution_count": 57,
      "outputs": [
        {
          "output_type": "execute_result",
          "data": {
            "text/plain": [
              "RowNumber          10000\n",
              "CustomerId         10000\n",
              "Surname             2932\n",
              "CreditScore          460\n",
              "Geography              3\n",
              "Gender                 2\n",
              "Age                   70\n",
              "Tenure                11\n",
              "Balance             6382\n",
              "NumOfProducts          4\n",
              "HasCrCard              2\n",
              "IsActiveMember         2\n",
              "EstimatedSalary     9999\n",
              "Exited                 2\n",
              "dtype: int64"
            ]
          },
          "metadata": {},
          "execution_count": 57
        }
      ]
    },
    {
      "cell_type": "code",
      "source": [
        "# Drop the columns as explained above\n"
      ],
      "metadata": {
        "id": "YX0g2a56ss2C"
      },
      "execution_count": 58,
      "outputs": []
    },
    {
      "cell_type": "code",
      "source": [
        "df.head()"
      ],
      "metadata": {
        "colab": {
          "base_uri": "https://localhost:8080/",
          "height": 206
        },
        "id": "IIABmiFjsW0q",
        "outputId": "2c6f3366-98e4-4af0-8b9c-2b5c07171e4f"
      },
      "execution_count": 59,
      "outputs": [
        {
          "output_type": "execute_result",
          "data": {
            "text/plain": [
              "   RowNumber  CustomerId   Surname  CreditScore Geography  Gender  Age  \\\n",
              "0          1    15634602  Hargrave          619    France  Female   42   \n",
              "1          2    15647311      Hill          608     Spain  Female   41   \n",
              "2          3    15619304      Onio          502    France  Female   42   \n",
              "3          4    15701354      Boni          699    France  Female   39   \n",
              "4          5    15737888  Mitchell          850     Spain  Female   43   \n",
              "\n",
              "   Tenure    Balance  NumOfProducts  HasCrCard  IsActiveMember  \\\n",
              "0       2       0.00              1          1               1   \n",
              "1       1   83807.86              1          0               1   \n",
              "2       8  159660.80              3          1               0   \n",
              "3       1       0.00              2          0               0   \n",
              "4       2  125510.82              1          1               1   \n",
              "\n",
              "   EstimatedSalary  Exited  \n",
              "0        101348.88       1  \n",
              "1        112542.58       0  \n",
              "2        113931.57       1  \n",
              "3         93826.63       0  \n",
              "4         79084.10       0  "
            ],
            "text/html": [
              "\n",
              "  <div id=\"df-0b6212a0-249e-4a43-a819-5cb776d3c375\" class=\"colab-df-container\">\n",
              "    <div>\n",
              "<style scoped>\n",
              "    .dataframe tbody tr th:only-of-type {\n",
              "        vertical-align: middle;\n",
              "    }\n",
              "\n",
              "    .dataframe tbody tr th {\n",
              "        vertical-align: top;\n",
              "    }\n",
              "\n",
              "    .dataframe thead th {\n",
              "        text-align: right;\n",
              "    }\n",
              "</style>\n",
              "<table border=\"1\" class=\"dataframe\">\n",
              "  <thead>\n",
              "    <tr style=\"text-align: right;\">\n",
              "      <th></th>\n",
              "      <th>RowNumber</th>\n",
              "      <th>CustomerId</th>\n",
              "      <th>Surname</th>\n",
              "      <th>CreditScore</th>\n",
              "      <th>Geography</th>\n",
              "      <th>Gender</th>\n",
              "      <th>Age</th>\n",
              "      <th>Tenure</th>\n",
              "      <th>Balance</th>\n",
              "      <th>NumOfProducts</th>\n",
              "      <th>HasCrCard</th>\n",
              "      <th>IsActiveMember</th>\n",
              "      <th>EstimatedSalary</th>\n",
              "      <th>Exited</th>\n",
              "    </tr>\n",
              "  </thead>\n",
              "  <tbody>\n",
              "    <tr>\n",
              "      <th>0</th>\n",
              "      <td>1</td>\n",
              "      <td>15634602</td>\n",
              "      <td>Hargrave</td>\n",
              "      <td>619</td>\n",
              "      <td>France</td>\n",
              "      <td>Female</td>\n",
              "      <td>42</td>\n",
              "      <td>2</td>\n",
              "      <td>0.00</td>\n",
              "      <td>1</td>\n",
              "      <td>1</td>\n",
              "      <td>1</td>\n",
              "      <td>101348.88</td>\n",
              "      <td>1</td>\n",
              "    </tr>\n",
              "    <tr>\n",
              "      <th>1</th>\n",
              "      <td>2</td>\n",
              "      <td>15647311</td>\n",
              "      <td>Hill</td>\n",
              "      <td>608</td>\n",
              "      <td>Spain</td>\n",
              "      <td>Female</td>\n",
              "      <td>41</td>\n",
              "      <td>1</td>\n",
              "      <td>83807.86</td>\n",
              "      <td>1</td>\n",
              "      <td>0</td>\n",
              "      <td>1</td>\n",
              "      <td>112542.58</td>\n",
              "      <td>0</td>\n",
              "    </tr>\n",
              "    <tr>\n",
              "      <th>2</th>\n",
              "      <td>3</td>\n",
              "      <td>15619304</td>\n",
              "      <td>Onio</td>\n",
              "      <td>502</td>\n",
              "      <td>France</td>\n",
              "      <td>Female</td>\n",
              "      <td>42</td>\n",
              "      <td>8</td>\n",
              "      <td>159660.80</td>\n",
              "      <td>3</td>\n",
              "      <td>1</td>\n",
              "      <td>0</td>\n",
              "      <td>113931.57</td>\n",
              "      <td>1</td>\n",
              "    </tr>\n",
              "    <tr>\n",
              "      <th>3</th>\n",
              "      <td>4</td>\n",
              "      <td>15701354</td>\n",
              "      <td>Boni</td>\n",
              "      <td>699</td>\n",
              "      <td>France</td>\n",
              "      <td>Female</td>\n",
              "      <td>39</td>\n",
              "      <td>1</td>\n",
              "      <td>0.00</td>\n",
              "      <td>2</td>\n",
              "      <td>0</td>\n",
              "      <td>0</td>\n",
              "      <td>93826.63</td>\n",
              "      <td>0</td>\n",
              "    </tr>\n",
              "    <tr>\n",
              "      <th>4</th>\n",
              "      <td>5</td>\n",
              "      <td>15737888</td>\n",
              "      <td>Mitchell</td>\n",
              "      <td>850</td>\n",
              "      <td>Spain</td>\n",
              "      <td>Female</td>\n",
              "      <td>43</td>\n",
              "      <td>2</td>\n",
              "      <td>125510.82</td>\n",
              "      <td>1</td>\n",
              "      <td>1</td>\n",
              "      <td>1</td>\n",
              "      <td>79084.10</td>\n",
              "      <td>0</td>\n",
              "    </tr>\n",
              "  </tbody>\n",
              "</table>\n",
              "</div>\n",
              "    <div class=\"colab-df-buttons\">\n",
              "\n",
              "  <div class=\"colab-df-container\">\n",
              "    <button class=\"colab-df-convert\" onclick=\"convertToInteractive('df-0b6212a0-249e-4a43-a819-5cb776d3c375')\"\n",
              "            title=\"Convert this dataframe to an interactive table.\"\n",
              "            style=\"display:none;\">\n",
              "\n",
              "  <svg xmlns=\"http://www.w3.org/2000/svg\" height=\"24px\" viewBox=\"0 -960 960 960\">\n",
              "    <path d=\"M120-120v-720h720v720H120Zm60-500h600v-160H180v160Zm220 220h160v-160H400v160Zm0 220h160v-160H400v160ZM180-400h160v-160H180v160Zm440 0h160v-160H620v160ZM180-180h160v-160H180v160Zm440 0h160v-160H620v160Z\"/>\n",
              "  </svg>\n",
              "    </button>\n",
              "\n",
              "  <style>\n",
              "    .colab-df-container {\n",
              "      display:flex;\n",
              "      gap: 12px;\n",
              "    }\n",
              "\n",
              "    .colab-df-convert {\n",
              "      background-color: #E8F0FE;\n",
              "      border: none;\n",
              "      border-radius: 50%;\n",
              "      cursor: pointer;\n",
              "      display: none;\n",
              "      fill: #1967D2;\n",
              "      height: 32px;\n",
              "      padding: 0 0 0 0;\n",
              "      width: 32px;\n",
              "    }\n",
              "\n",
              "    .colab-df-convert:hover {\n",
              "      background-color: #E2EBFA;\n",
              "      box-shadow: 0px 1px 2px rgba(60, 64, 67, 0.3), 0px 1px 3px 1px rgba(60, 64, 67, 0.15);\n",
              "      fill: #174EA6;\n",
              "    }\n",
              "\n",
              "    .colab-df-buttons div {\n",
              "      margin-bottom: 4px;\n",
              "    }\n",
              "\n",
              "    [theme=dark] .colab-df-convert {\n",
              "      background-color: #3B4455;\n",
              "      fill: #D2E3FC;\n",
              "    }\n",
              "\n",
              "    [theme=dark] .colab-df-convert:hover {\n",
              "      background-color: #434B5C;\n",
              "      box-shadow: 0px 1px 3px 1px rgba(0, 0, 0, 0.15);\n",
              "      filter: drop-shadow(0px 1px 2px rgba(0, 0, 0, 0.3));\n",
              "      fill: #FFFFFF;\n",
              "    }\n",
              "  </style>\n",
              "\n",
              "    <script>\n",
              "      const buttonEl =\n",
              "        document.querySelector('#df-0b6212a0-249e-4a43-a819-5cb776d3c375 button.colab-df-convert');\n",
              "      buttonEl.style.display =\n",
              "        google.colab.kernel.accessAllowed ? 'block' : 'none';\n",
              "\n",
              "      async function convertToInteractive(key) {\n",
              "        const element = document.querySelector('#df-0b6212a0-249e-4a43-a819-5cb776d3c375');\n",
              "        const dataTable =\n",
              "          await google.colab.kernel.invokeFunction('convertToInteractive',\n",
              "                                                    [key], {});\n",
              "        if (!dataTable) return;\n",
              "\n",
              "        const docLinkHtml = 'Like what you see? Visit the ' +\n",
              "          '<a target=\"_blank\" href=https://colab.research.google.com/notebooks/data_table.ipynb>data table notebook</a>'\n",
              "          + ' to learn more about interactive tables.';\n",
              "        element.innerHTML = '';\n",
              "        dataTable['output_type'] = 'display_data';\n",
              "        await google.colab.output.renderOutput(dataTable, element);\n",
              "        const docLink = document.createElement('div');\n",
              "        docLink.innerHTML = docLinkHtml;\n",
              "        element.appendChild(docLink);\n",
              "      }\n",
              "    </script>\n",
              "  </div>\n",
              "\n",
              "\n",
              "<div id=\"df-9192fe17-4b2d-4ba9-8bf6-1f6db12fd481\">\n",
              "  <button class=\"colab-df-quickchart\" onclick=\"quickchart('df-9192fe17-4b2d-4ba9-8bf6-1f6db12fd481')\"\n",
              "            title=\"Suggest charts.\"\n",
              "            style=\"display:none;\">\n",
              "\n",
              "<svg xmlns=\"http://www.w3.org/2000/svg\" height=\"24px\"viewBox=\"0 0 24 24\"\n",
              "     width=\"24px\">\n",
              "    <g>\n",
              "        <path d=\"M19 3H5c-1.1 0-2 .9-2 2v14c0 1.1.9 2 2 2h14c1.1 0 2-.9 2-2V5c0-1.1-.9-2-2-2zM9 17H7v-7h2v7zm4 0h-2V7h2v10zm4 0h-2v-4h2v4z\"/>\n",
              "    </g>\n",
              "</svg>\n",
              "  </button>\n",
              "\n",
              "<style>\n",
              "  .colab-df-quickchart {\n",
              "      --bg-color: #E8F0FE;\n",
              "      --fill-color: #1967D2;\n",
              "      --hover-bg-color: #E2EBFA;\n",
              "      --hover-fill-color: #174EA6;\n",
              "      --disabled-fill-color: #AAA;\n",
              "      --disabled-bg-color: #DDD;\n",
              "  }\n",
              "\n",
              "  [theme=dark] .colab-df-quickchart {\n",
              "      --bg-color: #3B4455;\n",
              "      --fill-color: #D2E3FC;\n",
              "      --hover-bg-color: #434B5C;\n",
              "      --hover-fill-color: #FFFFFF;\n",
              "      --disabled-bg-color: #3B4455;\n",
              "      --disabled-fill-color: #666;\n",
              "  }\n",
              "\n",
              "  .colab-df-quickchart {\n",
              "    background-color: var(--bg-color);\n",
              "    border: none;\n",
              "    border-radius: 50%;\n",
              "    cursor: pointer;\n",
              "    display: none;\n",
              "    fill: var(--fill-color);\n",
              "    height: 32px;\n",
              "    padding: 0;\n",
              "    width: 32px;\n",
              "  }\n",
              "\n",
              "  .colab-df-quickchart:hover {\n",
              "    background-color: var(--hover-bg-color);\n",
              "    box-shadow: 0 1px 2px rgba(60, 64, 67, 0.3), 0 1px 3px 1px rgba(60, 64, 67, 0.15);\n",
              "    fill: var(--button-hover-fill-color);\n",
              "  }\n",
              "\n",
              "  .colab-df-quickchart-complete:disabled,\n",
              "  .colab-df-quickchart-complete:disabled:hover {\n",
              "    background-color: var(--disabled-bg-color);\n",
              "    fill: var(--disabled-fill-color);\n",
              "    box-shadow: none;\n",
              "  }\n",
              "\n",
              "  .colab-df-spinner {\n",
              "    border: 2px solid var(--fill-color);\n",
              "    border-color: transparent;\n",
              "    border-bottom-color: var(--fill-color);\n",
              "    animation:\n",
              "      spin 1s steps(1) infinite;\n",
              "  }\n",
              "\n",
              "  @keyframes spin {\n",
              "    0% {\n",
              "      border-color: transparent;\n",
              "      border-bottom-color: var(--fill-color);\n",
              "      border-left-color: var(--fill-color);\n",
              "    }\n",
              "    20% {\n",
              "      border-color: transparent;\n",
              "      border-left-color: var(--fill-color);\n",
              "      border-top-color: var(--fill-color);\n",
              "    }\n",
              "    30% {\n",
              "      border-color: transparent;\n",
              "      border-left-color: var(--fill-color);\n",
              "      border-top-color: var(--fill-color);\n",
              "      border-right-color: var(--fill-color);\n",
              "    }\n",
              "    40% {\n",
              "      border-color: transparent;\n",
              "      border-right-color: var(--fill-color);\n",
              "      border-top-color: var(--fill-color);\n",
              "    }\n",
              "    60% {\n",
              "      border-color: transparent;\n",
              "      border-right-color: var(--fill-color);\n",
              "    }\n",
              "    80% {\n",
              "      border-color: transparent;\n",
              "      border-right-color: var(--fill-color);\n",
              "      border-bottom-color: var(--fill-color);\n",
              "    }\n",
              "    90% {\n",
              "      border-color: transparent;\n",
              "      border-bottom-color: var(--fill-color);\n",
              "    }\n",
              "  }\n",
              "</style>\n",
              "\n",
              "  <script>\n",
              "    async function quickchart(key) {\n",
              "      const quickchartButtonEl =\n",
              "        document.querySelector('#' + key + ' button');\n",
              "      quickchartButtonEl.disabled = true;  // To prevent multiple clicks.\n",
              "      quickchartButtonEl.classList.add('colab-df-spinner');\n",
              "      try {\n",
              "        const charts = await google.colab.kernel.invokeFunction(\n",
              "            'suggestCharts', [key], {});\n",
              "      } catch (error) {\n",
              "        console.error('Error during call to suggestCharts:', error);\n",
              "      }\n",
              "      quickchartButtonEl.classList.remove('colab-df-spinner');\n",
              "      quickchartButtonEl.classList.add('colab-df-quickchart-complete');\n",
              "    }\n",
              "    (() => {\n",
              "      let quickchartButtonEl =\n",
              "        document.querySelector('#df-9192fe17-4b2d-4ba9-8bf6-1f6db12fd481 button');\n",
              "      quickchartButtonEl.style.display =\n",
              "        google.colab.kernel.accessAllowed ? 'block' : 'none';\n",
              "    })();\n",
              "  </script>\n",
              "</div>\n",
              "    </div>\n",
              "  </div>\n"
            ]
          },
          "metadata": {},
          "execution_count": 59
        }
      ]
    },
    {
      "cell_type": "code",
      "source": [
        "df.dtypes"
      ],
      "metadata": {
        "colab": {
          "base_uri": "https://localhost:8080/"
        },
        "id": "GOE8OR6gs-j_",
        "outputId": "fd864cab-cdf9-4770-9ab1-8461037659fa"
      },
      "execution_count": 60,
      "outputs": [
        {
          "output_type": "execute_result",
          "data": {
            "text/plain": [
              "RowNumber            int64\n",
              "CustomerId           int64\n",
              "Surname             object\n",
              "CreditScore          int64\n",
              "Geography           object\n",
              "Gender              object\n",
              "Age                  int64\n",
              "Tenure               int64\n",
              "Balance            float64\n",
              "NumOfProducts        int64\n",
              "HasCrCard            int64\n",
              "IsActiveMember       int64\n",
              "EstimatedSalary    float64\n",
              "Exited               int64\n",
              "dtype: object"
            ]
          },
          "metadata": {},
          "execution_count": 60
        }
      ]
    },
    {
      "cell_type": "markdown",
      "metadata": {
        "id": "fQeujCw83kwk"
      },
      "source": [
        "# Exploratory Data Analysis and Visualization"
      ]
    },
    {
      "cell_type": "markdown",
      "metadata": {
        "id": "brF-HBGT3kwk"
      },
      "source": [
        "1. Implement basic steps to see how is your data looks like\n",
        "2. Check for missing values\n",
        "3. Drop the features that not suitable for modelling\n",
        "4. Implement basic visualization steps such as histogram, countplot, heatmap\n",
        "5. Convert categorical variables to dummy variables"
      ]
    },
    {
      "cell_type": "code",
      "execution_count": 61,
      "metadata": {
        "id": "wz7_4z2b3kwl",
        "colab": {
          "base_uri": "https://localhost:8080/",
          "height": 683
        },
        "outputId": "64874bf4-2be6-4d1a-8af3-3a973e64fe82"
      },
      "outputs": [
        {
          "output_type": "display_data",
          "data": {
            "text/plain": [
              "<Figure size 1000x800 with 1 Axes>"
            ],
            "image/png": "[encoded data removed]"
          },
          "metadata": {}
        }
      ],
      "source": [
        "labels = 'Exited', 'Retained'\n",
        "sizes = [df.Exited[df['Exited']==1].count(), df.Exited[df['Exited']==0].count()]\n",
        "explode = (0, 0.1)\n",
        "fig1, ax1 = plt.subplots(figsize=(10, 8))\n",
        "ax1.pie(sizes, explode=explode, labels=labels, autopct='%1.1f%%',\n",
        "        shadow=True, startangle=90)\n",
        "ax1.axis('equal')\n",
        "plt.title(\"Proportion of customer churned and retained\", size = 20)\n",
        "plt.show()"
      ]
    },
    {
      "cell_type": "markdown",
      "metadata": {
        "id": "MuKGlzsQ3kwl"
      },
      "source": [
        "# Preprocessing of Data\n",
        "- Train | Test Split, Scalling"
      ]
    },
    {
      "cell_type": "code",
      "execution_count": 62,
      "metadata": {
        "id": "cW-WXZUh3kwl",
        "colab": {
          "base_uri": "https://localhost:8080/"
        },
        "outputId": "262e2b34-ac9c-4a4e-f950-8b36f4f2c858"
      },
      "outputs": [
        {
          "output_type": "execute_result",
          "data": {
            "text/plain": [
              "Index(['CreditScore', 'Geography', 'Gender', 'Age', 'Tenure', 'Balance',\n",
              "       'NumOfProducts', 'HasCrCard', 'IsActiveMember', 'EstimatedSalary',\n",
              "       'Exited'],\n",
              "      dtype='object')"
            ]
          },
          "metadata": {},
          "execution_count": 62
        }
      ],
      "source": [
        "df.drop(['RowNumber','CustomerId','Surname'], axis=1, inplace=True)\n",
        "df.columns"
      ]
    },
    {
      "cell_type": "code",
      "source": [
        "df = pd.get_dummies(df,drop_first=True)"
      ],
      "metadata": {
        "id": "NyuS8gcEL93-"
      },
      "execution_count": 63,
      "outputs": []
    },
    {
      "cell_type": "code",
      "source": [
        "from sklearn.model_selection import train_test_split\n",
        "from sklearn.preprocessing import MinMaxScaler"
      ],
      "metadata": {
        "id": "BmmykwVJucb9"
      },
      "execution_count": 64,
      "outputs": []
    },
    {
      "cell_type": "code",
      "source": [
        "X = df.drop('Exited', axis=1)\n",
        "y = df['Exited']"
      ],
      "metadata": {
        "id": "xsyJM3MPuclm"
      },
      "execution_count": 65,
      "outputs": []
    },
    {
      "cell_type": "code",
      "source": [
        "seed = 42"
      ],
      "metadata": {
        "id": "sLSQAYohukb7"
      },
      "execution_count": 66,
      "outputs": []
    },
    {
      "cell_type": "code",
      "source": [
        "X_train, X_test, y_train, y_test = train_test_split(X, y, stratify = y, test_size = 0.10, random_state = seed)"
      ],
      "metadata": {
        "id": "_VMV4xAUuklv"
      },
      "execution_count": 67,
      "outputs": []
    },
    {
      "cell_type": "code",
      "source": [
        "scaler = MinMaxScaler()"
      ],
      "metadata": {
        "id": "HgI1JJWsuyXt"
      },
      "execution_count": 68,
      "outputs": []
    },
    {
      "cell_type": "code",
      "source": [
        "X_train= scaler.fit_transform(X_train)\n",
        "X_test = scaler.transform(X_test)"
      ],
      "metadata": {
        "id": "TxDV6RLMuykD"
      },
      "execution_count": 69,
      "outputs": []
    },
    {
      "cell_type": "code",
      "source": [],
      "metadata": {
        "id": "MKLNIvDhvDFl"
      },
      "execution_count": 69,
      "outputs": []
    },
    {
      "cell_type": "code",
      "source": [],
      "metadata": {
        "id": "-0RaFihqvDQM"
      },
      "execution_count": 69,
      "outputs": []
    },
    {
      "cell_type": "markdown",
      "metadata": {
        "id": "Ha9hDt_AoGaE"
      },
      "source": [
        "# Modelling & Model Performance"
      ]
    },
    {
      "cell_type": "markdown",
      "metadata": {
        "id": "WSsjUxLJ3kwm"
      },
      "source": [
        "## without class_weigth"
      ]
    },
    {
      "cell_type": "markdown",
      "metadata": {
        "id": "FNkMrRsv3kwm"
      },
      "source": [
        "### Create The Model"
      ]
    },
    {
      "cell_type": "code",
      "execution_count": 71,
      "metadata": {
        "id": "pnB3siW-3kwm"
      },
      "outputs": [],
      "source": [
        "import tensorflow as tf\n",
        "from tensorflow.keras.models import Sequential\n",
        "from tensorflow.keras.layers import Dense, Activation\n",
        "from sklearn.metrics import classification_report, confusion_matrix\n",
        "from sklearn.metrics import  roc_auc_score, roc_curve\n",
        "from sklearn.model_selection import cross_val_score, cross_validate\n",
        "from sklearn.model_selection import GridSearchCV"
      ]
    },
    {
      "cell_type": "code",
      "source": [
        "X_train.shape"
      ],
      "metadata": {
        "id": "XQvyaBQJyYqj",
        "colab": {
          "base_uri": "https://localhost:8080/"
        },
        "outputId": "a5a518aa-16a0-452b-b0f4-2ec7eb5655a1"
      },
      "execution_count": 72,
      "outputs": [
        {
          "output_type": "execute_result",
          "data": {
            "text/plain": [
              "(9000, 11)"
            ]
          },
          "metadata": {},
          "execution_count": 72
        }
      ]
    },
    {
      "cell_type": "code",
      "source": [
        "X_test.shape"
      ],
      "metadata": {
        "colab": {
          "base_uri": "https://localhost:8080/"
        },
        "id": "jHq5O10YyY4d",
        "outputId": "03dd03c4-e0e8-4a22-e15f-8bbc87ff1354"
      },
      "execution_count": 73,
      "outputs": [
        {
          "output_type": "execute_result",
          "data": {
            "text/plain": [
              "(1000, 11)"
            ]
          },
          "metadata": {},
          "execution_count": 73
        }
      ]
    },
    {
      "cell_type": "code",
      "source": [
        "tf.random.set_seed(seed)\n",
        "\n",
        "model = Sequential()\n",
        "\n",
        "model.add(Dense(20, activation = \"relu\", input_dim = X_train.shape[1]))\n",
        "model.add(Dense(10, activation = \"relu\"))\n",
        "model.add(Dense(5, activation = \"relu\"))\n",
        "model.add(Dense(1, activation = \"sigmoid\"))\n",
        "\n",
        "model.compile(optimizer = \"adam\", loss = \"binary_crossentropy\", metrics = [\"accuracy\"])"
      ],
      "metadata": {
        "id": "lRsjYDTEyuYk"
      },
      "execution_count": 75,
      "outputs": []
    },
    {
      "cell_type": "code",
      "source": [
        "model.fit(x = X_train, y = y_train, validation_split = 0.1, batch_size = 32, epochs = 100, verbose=1)"
      ],
      "metadata": {
        "colab": {
          "base_uri": "https://localhost:8080/"
        },
        "id": "_JlJB2rKVWZj",
        "outputId": "c4a57c41-aadb-4972-dcf3-7d2a36216010"
      },
      "execution_count": 77,
      "outputs": [
        {
          "output_type": "stream",
          "name": "stdout",
          "text": [
            "Epoch 1/100\n",
            "254/254 [==============================] - 2s 6ms/step - loss: 0.3387 - accuracy: 0.8602 - val_loss: 0.2913 - val_accuracy: 0.8889\n",
            "Epoch 2/100\n",
            "254/254 [==============================] - 2s 8ms/step - loss: 0.3369 - accuracy: 0.8586 - val_loss: 0.2982 - val_accuracy: 0.8844\n",
            "Epoch 3/100\n",
            "254/254 [==============================] - 1s 3ms/step - loss: 0.3371 - accuracy: 0.8611 - val_loss: 0.2900 - val_accuracy: 0.8856\n",
            "Epoch 4/100\n",
            "254/254 [==============================] - 1s 3ms/step - loss: 0.3371 - accuracy: 0.8604 - val_loss: 0.2943 - val_accuracy: 0.8878\n",
            "Epoch 5/100\n",
            "254/254 [==============================] - 1s 2ms/step - loss: 0.3378 - accuracy: 0.8601 - val_loss: 0.2986 - val_accuracy: 0.8856\n",
            "Epoch 6/100\n",
            "254/254 [==============================] - 1s 2ms/step - loss: 0.3374 - accuracy: 0.8607 - val_loss: 0.2911 - val_accuracy: 0.8922\n",
            "Epoch 7/100\n",
            "254/254 [==============================] - 1s 2ms/step - loss: 0.3362 - accuracy: 0.8584 - val_loss: 0.2904 - val_accuracy: 0.8889\n",
            "Epoch 8/100\n",
            "254/254 [==============================] - 1s 2ms/step - loss: 0.3374 - accuracy: 0.8600 - val_loss: 0.3043 - val_accuracy: 0.8944\n",
            "Epoch 9/100\n",
            "254/254 [==============================] - 1s 3ms/step - loss: 0.3364 - accuracy: 0.8628 - val_loss: 0.2877 - val_accuracy: 0.8867\n",
            "Epoch 10/100\n",
            "254/254 [==============================] - 1s 2ms/step - loss: 0.3370 - accuracy: 0.8581 - val_loss: 0.2903 - val_accuracy: 0.8933\n",
            "Epoch 11/100\n",
            "254/254 [==============================] - 1s 3ms/step - loss: 0.3359 - accuracy: 0.8622 - val_loss: 0.2960 - val_accuracy: 0.8922\n",
            "Epoch 12/100\n",
            "254/254 [==============================] - 1s 3ms/step - loss: 0.3358 - accuracy: 0.8602 - val_loss: 0.2958 - val_accuracy: 0.8889\n",
            "Epoch 13/100\n",
            "254/254 [==============================] - 1s 2ms/step - loss: 0.3351 - accuracy: 0.8612 - val_loss: 0.2923 - val_accuracy: 0.8922\n",
            "Epoch 14/100\n",
            "254/254 [==============================] - 1s 3ms/step - loss: 0.3356 - accuracy: 0.8625 - val_loss: 0.3077 - val_accuracy: 0.8867\n",
            "Epoch 15/100\n",
            "254/254 [==============================] - 1s 3ms/step - loss: 0.3361 - accuracy: 0.8616 - val_loss: 0.2940 - val_accuracy: 0.8856\n",
            "Epoch 16/100\n",
            "254/254 [==============================] - 1s 3ms/step - loss: 0.3356 - accuracy: 0.8606 - val_loss: 0.2868 - val_accuracy: 0.8889\n",
            "Epoch 17/100\n",
            "254/254 [==============================] - 1s 4ms/step - loss: 0.3348 - accuracy: 0.8620 - val_loss: 0.2888 - val_accuracy: 0.8911\n",
            "Epoch 18/100\n",
            "254/254 [==============================] - 1s 4ms/step - loss: 0.3351 - accuracy: 0.8611 - val_loss: 0.2911 - val_accuracy: 0.8856\n",
            "Epoch 19/100\n",
            "254/254 [==============================] - 1s 5ms/step - loss: 0.3355 - accuracy: 0.8590 - val_loss: 0.2881 - val_accuracy: 0.8878\n",
            "Epoch 20/100\n",
            "254/254 [==============================] - 1s 4ms/step - loss: 0.3351 - accuracy: 0.8598 - val_loss: 0.2952 - val_accuracy: 0.8811\n",
            "Epoch 21/100\n",
            "254/254 [==============================] - 1s 3ms/step - loss: 0.3345 - accuracy: 0.8627 - val_loss: 0.2911 - val_accuracy: 0.8922\n",
            "Epoch 22/100\n",
            "254/254 [==============================] - 1s 3ms/step - loss: 0.3346 - accuracy: 0.8620 - val_loss: 0.2887 - val_accuracy: 0.8922\n",
            "Epoch 23/100\n",
            "254/254 [==============================] - 1s 3ms/step - loss: 0.3357 - accuracy: 0.8589 - val_loss: 0.2911 - val_accuracy: 0.8822\n",
            "Epoch 24/100\n",
            "254/254 [==============================] - 1s 2ms/step - loss: 0.3346 - accuracy: 0.8627 - val_loss: 0.2927 - val_accuracy: 0.8889\n",
            "Epoch 25/100\n",
            "254/254 [==============================] - 1s 3ms/step - loss: 0.3338 - accuracy: 0.8627 - val_loss: 0.2929 - val_accuracy: 0.8889\n",
            "Epoch 26/100\n",
            "254/254 [==============================] - 1s 3ms/step - loss: 0.3343 - accuracy: 0.8627 - val_loss: 0.2986 - val_accuracy: 0.8889\n",
            "Epoch 27/100\n",
            "254/254 [==============================] - 1s 3ms/step - loss: 0.3345 - accuracy: 0.8627 - val_loss: 0.2964 - val_accuracy: 0.8944\n",
            "Epoch 28/100\n",
            "254/254 [==============================] - 1s 3ms/step - loss: 0.3327 - accuracy: 0.8609 - val_loss: 0.2934 - val_accuracy: 0.8856\n",
            "Epoch 29/100\n",
            "254/254 [==============================] - 1s 3ms/step - loss: 0.3326 - accuracy: 0.8626 - val_loss: 0.2923 - val_accuracy: 0.8922\n",
            "Epoch 30/100\n",
            "254/254 [==============================] - 1s 3ms/step - loss: 0.3322 - accuracy: 0.8638 - val_loss: 0.2889 - val_accuracy: 0.8889\n",
            "Epoch 31/100\n",
            "254/254 [==============================] - 1s 3ms/step - loss: 0.3327 - accuracy: 0.8630 - val_loss: 0.2922 - val_accuracy: 0.8800\n",
            "Epoch 32/100\n",
            "254/254 [==============================] - 1s 3ms/step - loss: 0.3336 - accuracy: 0.8620 - val_loss: 0.2880 - val_accuracy: 0.8856\n",
            "Epoch 33/100\n",
            "254/254 [==============================] - 1s 3ms/step - loss: 0.3319 - accuracy: 0.8620 - val_loss: 0.2911 - val_accuracy: 0.8822\n",
            "Epoch 34/100\n",
            "254/254 [==============================] - 1s 3ms/step - loss: 0.3344 - accuracy: 0.8630 - val_loss: 0.2920 - val_accuracy: 0.8822\n",
            "Epoch 35/100\n",
            "254/254 [==============================] - 1s 4ms/step - loss: 0.3338 - accuracy: 0.8620 - val_loss: 0.2934 - val_accuracy: 0.8844\n",
            "Epoch 36/100\n",
            "254/254 [==============================] - 1s 4ms/step - loss: 0.3329 - accuracy: 0.8632 - val_loss: 0.2872 - val_accuracy: 0.8844\n",
            "Epoch 37/100\n",
            "254/254 [==============================] - 1s 4ms/step - loss: 0.3318 - accuracy: 0.8633 - val_loss: 0.2873 - val_accuracy: 0.8911\n",
            "Epoch 38/100\n",
            "254/254 [==============================] - 1s 4ms/step - loss: 0.3338 - accuracy: 0.8612 - val_loss: 0.2949 - val_accuracy: 0.8933\n",
            "Epoch 39/100\n",
            "254/254 [==============================] - 1s 3ms/step - loss: 0.3322 - accuracy: 0.8635 - val_loss: 0.2886 - val_accuracy: 0.8833\n",
            "Epoch 40/100\n",
            "254/254 [==============================] - 1s 3ms/step - loss: 0.3317 - accuracy: 0.8628 - val_loss: 0.2957 - val_accuracy: 0.8811\n",
            "Epoch 41/100\n",
            "254/254 [==============================] - 1s 3ms/step - loss: 0.3325 - accuracy: 0.8615 - val_loss: 0.2927 - val_accuracy: 0.8867\n",
            "Epoch 42/100\n",
            "254/254 [==============================] - 1s 3ms/step - loss: 0.3313 - accuracy: 0.8627 - val_loss: 0.2870 - val_accuracy: 0.8878\n",
            "Epoch 43/100\n",
            "254/254 [==============================] - 1s 3ms/step - loss: 0.3321 - accuracy: 0.8625 - val_loss: 0.2877 - val_accuracy: 0.8856\n",
            "Epoch 44/100\n",
            "254/254 [==============================] - 1s 3ms/step - loss: 0.3312 - accuracy: 0.8641 - val_loss: 0.2912 - val_accuracy: 0.8900\n",
            "Epoch 45/100\n",
            "254/254 [==============================] - 1s 3ms/step - loss: 0.3320 - accuracy: 0.8646 - val_loss: 0.2898 - val_accuracy: 0.8856\n",
            "Epoch 46/100\n",
            "254/254 [==============================] - 1s 3ms/step - loss: 0.3313 - accuracy: 0.8628 - val_loss: 0.2953 - val_accuracy: 0.8867\n",
            "Epoch 47/100\n",
            "254/254 [==============================] - 1s 3ms/step - loss: 0.3314 - accuracy: 0.8636 - val_loss: 0.2902 - val_accuracy: 0.8900\n",
            "Epoch 48/100\n",
            "254/254 [==============================] - 1s 3ms/step - loss: 0.3322 - accuracy: 0.8631 - val_loss: 0.2884 - val_accuracy: 0.8856\n",
            "Epoch 49/100\n",
            "254/254 [==============================] - 1s 3ms/step - loss: 0.3305 - accuracy: 0.8632 - val_loss: 0.2889 - val_accuracy: 0.8856\n",
            "Epoch 50/100\n",
            "254/254 [==============================] - 1s 3ms/step - loss: 0.3319 - accuracy: 0.8612 - val_loss: 0.2909 - val_accuracy: 0.8867\n",
            "Epoch 51/100\n",
            "254/254 [==============================] - 1s 3ms/step - loss: 0.3314 - accuracy: 0.8636 - val_loss: 0.2841 - val_accuracy: 0.8833\n",
            "Epoch 52/100\n",
            "254/254 [==============================] - 1s 3ms/step - loss: 0.3310 - accuracy: 0.8638 - val_loss: 0.2911 - val_accuracy: 0.8889\n",
            "Epoch 53/100\n",
            "254/254 [==============================] - 1s 3ms/step - loss: 0.3307 - accuracy: 0.8653 - val_loss: 0.2955 - val_accuracy: 0.8889\n",
            "Epoch 54/100\n",
            "254/254 [==============================] - 1s 4ms/step - loss: 0.3316 - accuracy: 0.8643 - val_loss: 0.2854 - val_accuracy: 0.8889\n",
            "Epoch 55/100\n",
            "254/254 [==============================] - 1s 4ms/step - loss: 0.3309 - accuracy: 0.8636 - val_loss: 0.2883 - val_accuracy: 0.8889\n",
            "Epoch 56/100\n",
            "254/254 [==============================] - 1s 5ms/step - loss: 0.3305 - accuracy: 0.8636 - val_loss: 0.2910 - val_accuracy: 0.8889\n",
            "Epoch 57/100\n",
            "254/254 [==============================] - 1s 5ms/step - loss: 0.3316 - accuracy: 0.8627 - val_loss: 0.2906 - val_accuracy: 0.8844\n",
            "Epoch 58/100\n",
            "254/254 [==============================] - 1s 3ms/step - loss: 0.3301 - accuracy: 0.8631 - val_loss: 0.2924 - val_accuracy: 0.8867\n",
            "Epoch 59/100\n",
            "254/254 [==============================] - 1s 3ms/step - loss: 0.3303 - accuracy: 0.8630 - val_loss: 0.2946 - val_accuracy: 0.8844\n",
            "Epoch 60/100\n",
            "254/254 [==============================] - 1s 3ms/step - loss: 0.3314 - accuracy: 0.8633 - val_loss: 0.2902 - val_accuracy: 0.8889\n",
            "Epoch 61/100\n",
            "254/254 [==============================] - 1s 3ms/step - loss: 0.3294 - accuracy: 0.8642 - val_loss: 0.2874 - val_accuracy: 0.8900\n",
            "Epoch 62/100\n",
            "254/254 [==============================] - 1s 3ms/step - loss: 0.3296 - accuracy: 0.8638 - val_loss: 0.2889 - val_accuracy: 0.8856\n",
            "Epoch 63/100\n",
            "254/254 [==============================] - 1s 3ms/step - loss: 0.3302 - accuracy: 0.8648 - val_loss: 0.3006 - val_accuracy: 0.8944\n",
            "Epoch 64/100\n",
            "254/254 [==============================] - 1s 3ms/step - loss: 0.3305 - accuracy: 0.8620 - val_loss: 0.2866 - val_accuracy: 0.8878\n",
            "Epoch 65/100\n",
            "254/254 [==============================] - 1s 3ms/step - loss: 0.3286 - accuracy: 0.8635 - val_loss: 0.2943 - val_accuracy: 0.8933\n",
            "Epoch 66/100\n",
            "254/254 [==============================] - 1s 3ms/step - loss: 0.3298 - accuracy: 0.8643 - val_loss: 0.2941 - val_accuracy: 0.8867\n",
            "Epoch 67/100\n",
            "254/254 [==============================] - 1s 3ms/step - loss: 0.3303 - accuracy: 0.8619 - val_loss: 0.2918 - val_accuracy: 0.8844\n",
            "Epoch 68/100\n",
            "254/254 [==============================] - 1s 3ms/step - loss: 0.3299 - accuracy: 0.8630 - val_loss: 0.2852 - val_accuracy: 0.8889\n",
            "Epoch 69/100\n",
            "254/254 [==============================] - 1s 2ms/step - loss: 0.3298 - accuracy: 0.8652 - val_loss: 0.2995 - val_accuracy: 0.8867\n",
            "Epoch 70/100\n",
            "254/254 [==============================] - 1s 2ms/step - loss: 0.3301 - accuracy: 0.8658 - val_loss: 0.2917 - val_accuracy: 0.8900\n",
            "Epoch 71/100\n",
            "254/254 [==============================] - 1s 2ms/step - loss: 0.3300 - accuracy: 0.8637 - val_loss: 0.2888 - val_accuracy: 0.8867\n",
            "Epoch 72/100\n",
            "254/254 [==============================] - 1s 3ms/step - loss: 0.3278 - accuracy: 0.8640 - val_loss: 0.2957 - val_accuracy: 0.8856\n",
            "Epoch 73/100\n",
            "254/254 [==============================] - 1s 5ms/step - loss: 0.3295 - accuracy: 0.8638 - val_loss: 0.2916 - val_accuracy: 0.8900\n",
            "Epoch 74/100\n",
            "254/254 [==============================] - 1s 4ms/step - loss: 0.3291 - accuracy: 0.8637 - val_loss: 0.2918 - val_accuracy: 0.8878\n",
            "Epoch 75/100\n",
            "254/254 [==============================] - 1s 4ms/step - loss: 0.3295 - accuracy: 0.8653 - val_loss: 0.2896 - val_accuracy: 0.8856\n",
            "Epoch 76/100\n",
            "254/254 [==============================] - 1s 4ms/step - loss: 0.3309 - accuracy: 0.8628 - val_loss: 0.2894 - val_accuracy: 0.8878\n",
            "Epoch 77/100\n",
            "254/254 [==============================] - 1s 3ms/step - loss: 0.3309 - accuracy: 0.8633 - val_loss: 0.2906 - val_accuracy: 0.8878\n",
            "Epoch 78/100\n",
            "254/254 [==============================] - 1s 3ms/step - loss: 0.3295 - accuracy: 0.8633 - val_loss: 0.2895 - val_accuracy: 0.8878\n",
            "Epoch 79/100\n",
            "254/254 [==============================] - 1s 3ms/step - loss: 0.3282 - accuracy: 0.8628 - val_loss: 0.2875 - val_accuracy: 0.8856\n",
            "Epoch 80/100\n",
            "254/254 [==============================] - 1s 3ms/step - loss: 0.3281 - accuracy: 0.8635 - val_loss: 0.2907 - val_accuracy: 0.8867\n",
            "Epoch 81/100\n",
            "254/254 [==============================] - 1s 3ms/step - loss: 0.3292 - accuracy: 0.8628 - val_loss: 0.2993 - val_accuracy: 0.8811\n",
            "Epoch 82/100\n",
            "254/254 [==============================] - 1s 3ms/step - loss: 0.3278 - accuracy: 0.8627 - val_loss: 0.2962 - val_accuracy: 0.8811\n",
            "Epoch 83/100\n",
            "254/254 [==============================] - 1s 3ms/step - loss: 0.3291 - accuracy: 0.8638 - val_loss: 0.2916 - val_accuracy: 0.8844\n",
            "Epoch 84/100\n",
            "254/254 [==============================] - 1s 3ms/step - loss: 0.3297 - accuracy: 0.8630 - val_loss: 0.2917 - val_accuracy: 0.8867\n",
            "Epoch 85/100\n",
            "254/254 [==============================] - 1s 3ms/step - loss: 0.3275 - accuracy: 0.8651 - val_loss: 0.2919 - val_accuracy: 0.8911\n",
            "Epoch 86/100\n",
            "254/254 [==============================] - 1s 3ms/step - loss: 0.3292 - accuracy: 0.8632 - val_loss: 0.2896 - val_accuracy: 0.8867\n",
            "Epoch 87/100\n",
            "254/254 [==============================] - 1s 3ms/step - loss: 0.3281 - accuracy: 0.8646 - val_loss: 0.2991 - val_accuracy: 0.8889\n",
            "Epoch 88/100\n",
            "254/254 [==============================] - 1s 3ms/step - loss: 0.3281 - accuracy: 0.8643 - val_loss: 0.2979 - val_accuracy: 0.8878\n",
            "Epoch 89/100\n",
            "254/254 [==============================] - 1s 2ms/step - loss: 0.3305 - accuracy: 0.8630 - val_loss: 0.2875 - val_accuracy: 0.8867\n",
            "Epoch 90/100\n",
            "254/254 [==============================] - 1s 3ms/step - loss: 0.3290 - accuracy: 0.8642 - val_loss: 0.2885 - val_accuracy: 0.8844\n",
            "Epoch 91/100\n",
            "254/254 [==============================] - 1s 4ms/step - loss: 0.3281 - accuracy: 0.8644 - val_loss: 0.3059 - val_accuracy: 0.8889\n",
            "Epoch 92/100\n",
            "254/254 [==============================] - 1s 4ms/step - loss: 0.3275 - accuracy: 0.8647 - val_loss: 0.2918 - val_accuracy: 0.8922\n",
            "Epoch 93/100\n",
            "254/254 [==============================] - 1s 4ms/step - loss: 0.3277 - accuracy: 0.8628 - val_loss: 0.2932 - val_accuracy: 0.8878\n",
            "Epoch 94/100\n",
            "254/254 [==============================] - 1s 4ms/step - loss: 0.3270 - accuracy: 0.8644 - val_loss: 0.2924 - val_accuracy: 0.8856\n",
            "Epoch 95/100\n",
            "254/254 [==============================] - 1s 4ms/step - loss: 0.3288 - accuracy: 0.8648 - val_loss: 0.2908 - val_accuracy: 0.8844\n",
            "Epoch 96/100\n",
            "254/254 [==============================] - 1s 3ms/step - loss: 0.3284 - accuracy: 0.8616 - val_loss: 0.2853 - val_accuracy: 0.8867\n",
            "Epoch 97/100\n",
            "254/254 [==============================] - 1s 3ms/step - loss: 0.3303 - accuracy: 0.8621 - val_loss: 0.2931 - val_accuracy: 0.8933\n",
            "Epoch 98/100\n",
            "254/254 [==============================] - 1s 2ms/step - loss: 0.3281 - accuracy: 0.8625 - val_loss: 0.2894 - val_accuracy: 0.8856\n",
            "Epoch 99/100\n",
            "254/254 [==============================] - 1s 3ms/step - loss: 0.3262 - accuracy: 0.8637 - val_loss: 0.2902 - val_accuracy: 0.8889\n",
            "Epoch 100/100\n",
            "254/254 [==============================] - 1s 3ms/step - loss: 0.3278 - accuracy: 0.8644 - val_loss: 0.2909 - val_accuracy: 0.8900\n"
          ]
        },
        {
          "output_type": "execute_result",
          "data": {
            "text/plain": [
              "<keras.src.callbacks.History at 0x7cdbc56a4c10>"
            ]
          },
          "metadata": {},
          "execution_count": 77
        }
      ]
    },
    {
      "cell_type": "code",
      "source": [],
      "metadata": {
        "id": "wzhmtZtvVW-B"
      },
      "execution_count": null,
      "outputs": []
    },
    {
      "cell_type": "code",
      "source": [],
      "metadata": {
        "id": "tmDQLXb7VlIh"
      },
      "execution_count": null,
      "outputs": []
    },
    {
      "cell_type": "code",
      "source": [],
      "metadata": {
        "id": "uxCWMrUKWApd"
      },
      "execution_count": null,
      "outputs": []
    },
    {
      "cell_type": "code",
      "source": [],
      "metadata": {
        "id": "IJ5zwb9CWUut"
      },
      "execution_count": null,
      "outputs": []
    },
    {
      "cell_type": "code",
      "source": [],
      "metadata": {
        "id": "XlGpjc8ZWbhU"
      },
      "execution_count": null,
      "outputs": []
    },
    {
      "cell_type": "markdown",
      "metadata": {
        "id": "PE_8RcH93kwn"
      },
      "source": [
        "### Evaluate The Model\n",
        "\n",
        "- Plot the model history to observe the changing of metrics\n",
        "- Make prediction to see \"confusion matrix\" and \"classification report\"\n",
        "- Check ROC (Receiver Operating Curve) and AUC (Area Under Curve) for the model"
      ]
    },
    {
      "cell_type": "code",
      "execution_count": 78,
      "metadata": {
        "id": "-QXCNrSn3kwn",
        "colab": {
          "base_uri": "https://localhost:8080/"
        },
        "outputId": "d53becdf-2f2f-4a6c-a8e1-7bd29d60a007"
      },
      "outputs": [
        {
          "output_type": "stream",
          "name": "stdout",
          "text": [
            "Model: \"sequential_2\"\n",
            "_________________________________________________________________\n",
            " Layer (type)                Output Shape              Param #   \n",
            "=================================================================\n",
            " dense_7 (Dense)             (None, 20)                240       \n",
            "                                                                 \n",
            " dense_8 (Dense)             (None, 10)                210       \n",
            "                                                                 \n",
            " dense_9 (Dense)             (None, 5)                 55        \n",
            "                                                                 \n",
            " dense_10 (Dense)            (None, 1)                 6         \n",
            "                                                                 \n",
            "=================================================================\n",
            "Total params: 511 (2.00 KB)\n",
            "Trainable params: 511 (2.00 KB)\n",
            "Non-trainable params: 0 (0.00 Byte)\n",
            "_________________________________________________________________\n"
          ]
        }
      ],
      "source": [
        "model.summary()"
      ]
    },
    {
      "cell_type": "code",
      "source": [
        "loss_df = pd.DataFrame(model.history.history)\n",
        "loss_df.head()"
      ],
      "metadata": {
        "colab": {
          "base_uri": "https://localhost:8080/",
          "height": 206
        },
        "id": "43EWIekeWxiG",
        "outputId": "5d2bf005-6080-4ac8-faa3-32c1992e1227"
      },
      "execution_count": 79,
      "outputs": [
        {
          "output_type": "execute_result",
          "data": {
            "text/plain": [
              "       loss  accuracy  val_loss  val_accuracy\n",
              "0  0.338713  0.860247  0.291293      0.888889\n",
              "1  0.336902  0.858642  0.298250      0.884444\n",
              "2  0.337077  0.861111  0.289979      0.885556\n",
              "3  0.337139  0.860370  0.294321      0.887778\n",
              "4  0.337843  0.860123  0.298601      0.885556"
            ],
            "text/html": [
              "\n",
              "  <div id=\"df-714e6d28-9b8b-45a2-a8a5-2575d424094f\" class=\"colab-df-container\">\n",
              "    <div>\n",
              "<style scoped>\n",
              "    .dataframe tbody tr th:only-of-type {\n",
              "        vertical-align: middle;\n",
              "    }\n",
              "\n",
              "    .dataframe tbody tr th {\n",
              "        vertical-align: top;\n",
              "    }\n",
              "\n",
              "    .dataframe thead th {\n",
              "        text-align: right;\n",
              "    }\n",
              "</style>\n",
              "<table border=\"1\" class=\"dataframe\">\n",
              "  <thead>\n",
              "    <tr style=\"text-align: right;\">\n",
              "      <th></th>\n",
              "      <th>loss</th>\n",
              "      <th>accuracy</th>\n",
              "      <th>val_loss</th>\n",
              "      <th>val_accuracy</th>\n",
              "    </tr>\n",
              "  </thead>\n",
              "  <tbody>\n",
              "    <tr>\n",
              "      <th>0</th>\n",
              "      <td>0.338713</td>\n",
              "      <td>0.860247</td>\n",
              "      <td>0.291293</td>\n",
              "      <td>0.888889</td>\n",
              "    </tr>\n",
              "    <tr>\n",
              "      <th>1</th>\n",
              "      <td>0.336902</td>\n",
              "      <td>0.858642</td>\n",
              "      <td>0.298250</td>\n",
              "      <td>0.884444</td>\n",
              "    </tr>\n",
              "    <tr>\n",
              "      <th>2</th>\n",
              "      <td>0.337077</td>\n",
              "      <td>0.861111</td>\n",
              "      <td>0.289979</td>\n",
              "      <td>0.885556</td>\n",
              "    </tr>\n",
              "    <tr>\n",
              "      <th>3</th>\n",
              "      <td>0.337139</td>\n",
              "      <td>0.860370</td>\n",
              "      <td>0.294321</td>\n",
              "      <td>0.887778</td>\n",
              "    </tr>\n",
              "    <tr>\n",
              "      <th>4</th>\n",
              "      <td>0.337843</td>\n",
              "      <td>0.860123</td>\n",
              "      <td>0.298601</td>\n",
              "      <td>0.885556</td>\n",
              "    </tr>\n",
              "  </tbody>\n",
              "</table>\n",
              "</div>\n",
              "    <div class=\"colab-df-buttons\">\n",
              "\n",
              "  <div class=\"colab-df-container\">\n",
              "    <button class=\"colab-df-convert\" onclick=\"convertToInteractive('df-714e6d28-9b8b-45a2-a8a5-2575d424094f')\"\n",
              "            title=\"Convert this dataframe to an interactive table.\"\n",
              "            style=\"display:none;\">\n",
              "\n",
              "  <svg xmlns=\"http://www.w3.org/2000/svg\" height=\"24px\" viewBox=\"0 -960 960 960\">\n",
              "    <path d=\"M120-120v-720h720v720H120Zm60-500h600v-160H180v160Zm220 220h160v-160H400v160Zm0 220h160v-160H400v160ZM180-400h160v-160H180v160Zm440 0h160v-160H620v160ZM180-180h160v-160H180v160Zm440 0h160v-160H620v160Z\"/>\n",
              "  </svg>\n",
              "    </button>\n",
              "\n",
              "  <style>\n",
              "    .colab-df-container {\n",
              "      display:flex;\n",
              "      gap: 12px;\n",
              "    }\n",
              "\n",
              "    .colab-df-convert {\n",
              "      background-color: #E8F0FE;\n",
              "      border: none;\n",
              "      border-radius: 50%;\n",
              "      cursor: pointer;\n",
              "      display: none;\n",
              "      fill: #1967D2;\n",
              "      height: 32px;\n",
              "      padding: 0 0 0 0;\n",
              "      width: 32px;\n",
              "    }\n",
              "\n",
              "    .colab-df-convert:hover {\n",
              "      background-color: #E2EBFA;\n",
              "      box-shadow: 0px 1px 2px rgba(60, 64, 67, 0.3), 0px 1px 3px 1px rgba(60, 64, 67, 0.15);\n",
              "      fill: #174EA6;\n",
              "    }\n",
              "\n",
              "    .colab-df-buttons div {\n",
              "      margin-bottom: 4px;\n",
              "    }\n",
              "\n",
              "    [theme=dark] .colab-df-convert {\n",
              "      background-color: #3B4455;\n",
              "      fill: #D2E3FC;\n",
              "    }\n",
              "\n",
              "    [theme=dark] .colab-df-convert:hover {\n",
              "      background-color: #434B5C;\n",
              "      box-shadow: 0px 1px 3px 1px rgba(0, 0, 0, 0.15);\n",
              "      filter: drop-shadow(0px 1px 2px rgba(0, 0, 0, 0.3));\n",
              "      fill: #FFFFFF;\n",
              "    }\n",
              "  </style>\n",
              "\n",
              "    <script>\n",
              "      const buttonEl =\n",
              "        document.querySelector('#df-714e6d28-9b8b-45a2-a8a5-2575d424094f button.colab-df-convert');\n",
              "      buttonEl.style.display =\n",
              "        google.colab.kernel.accessAllowed ? 'block' : 'none';\n",
              "\n",
              "      async function convertToInteractive(key) {\n",
              "        const element = document.querySelector('#df-714e6d28-9b8b-45a2-a8a5-2575d424094f');\n",
              "        const dataTable =\n",
              "          await google.colab.kernel.invokeFunction('convertToInteractive',\n",
              "                                                    [key], {});\n",
              "        if (!dataTable) return;\n",
              "\n",
              "        const docLinkHtml = 'Like what you see? Visit the ' +\n",
              "          '<a target=\"_blank\" href=https://colab.research.google.com/notebooks/data_table.ipynb>data table notebook</a>'\n",
              "          + ' to learn more about interactive tables.';\n",
              "        element.innerHTML = '';\n",
              "        dataTable['output_type'] = 'display_data';\n",
              "        await google.colab.output.renderOutput(dataTable, element);\n",
              "        const docLink = document.createElement('div');\n",
              "        docLink.innerHTML = docLinkHtml;\n",
              "        element.appendChild(docLink);\n",
              "      }\n",
              "    </script>\n",
              "  </div>\n",
              "\n",
              "\n",
              "<div id=\"df-5deef2ec-5094-4c36-98b7-4abc60e12616\">\n",
              "  <button class=\"colab-df-quickchart\" onclick=\"quickchart('df-5deef2ec-5094-4c36-98b7-4abc60e12616')\"\n",
              "            title=\"Suggest charts.\"\n",
              "            style=\"display:none;\">\n",
              "\n",
              "<svg xmlns=\"http://www.w3.org/2000/svg\" height=\"24px\"viewBox=\"0 0 24 24\"\n",
              "     width=\"24px\">\n",
              "    <g>\n",
              "        <path d=\"M19 3H5c-1.1 0-2 .9-2 2v14c0 1.1.9 2 2 2h14c1.1 0 2-.9 2-2V5c0-1.1-.9-2-2-2zM9 17H7v-7h2v7zm4 0h-2V7h2v10zm4 0h-2v-4h2v4z\"/>\n",
              "    </g>\n",
              "</svg>\n",
              "  </button>\n",
              "\n",
              "<style>\n",
              "  .colab-df-quickchart {\n",
              "      --bg-color: #E8F0FE;\n",
              "      --fill-color: #1967D2;\n",
              "      --hover-bg-color: #E2EBFA;\n",
              "      --hover-fill-color: #174EA6;\n",
              "      --disabled-fill-color: #AAA;\n",
              "      --disabled-bg-color: #DDD;\n",
              "  }\n",
              "\n",
              "  [theme=dark] .colab-df-quickchart {\n",
              "      --bg-color: #3B4455;\n",
              "      --fill-color: #D2E3FC;\n",
              "      --hover-bg-color: #434B5C;\n",
              "      --hover-fill-color: #FFFFFF;\n",
              "      --disabled-bg-color: #3B4455;\n",
              "      --disabled-fill-color: #666;\n",
              "  }\n",
              "\n",
              "  .colab-df-quickchart {\n",
              "    background-color: var(--bg-color);\n",
              "    border: none;\n",
              "    border-radius: 50%;\n",
              "    cursor: pointer;\n",
              "    display: none;\n",
              "    fill: var(--fill-color);\n",
              "    height: 32px;\n",
              "    padding: 0;\n",
              "    width: 32px;\n",
              "  }\n",
              "\n",
              "  .colab-df-quickchart:hover {\n",
              "    background-color: var(--hover-bg-color);\n",
              "    box-shadow: 0 1px 2px rgba(60, 64, 67, 0.3), 0 1px 3px 1px rgba(60, 64, 67, 0.15);\n",
              "    fill: var(--button-hover-fill-color);\n",
              "  }\n",
              "\n",
              "  .colab-df-quickchart-complete:disabled,\n",
              "  .colab-df-quickchart-complete:disabled:hover {\n",
              "    background-color: var(--disabled-bg-color);\n",
              "    fill: var(--disabled-fill-color);\n",
              "    box-shadow: none;\n",
              "  }\n",
              "\n",
              "  .colab-df-spinner {\n",
              "    border: 2px solid var(--fill-color);\n",
              "    border-color: transparent;\n",
              "    border-bottom-color: var(--fill-color);\n",
              "    animation:\n",
              "      spin 1s steps(1) infinite;\n",
              "  }\n",
              "\n",
              "  @keyframes spin {\n",
              "    0% {\n",
              "      border-color: transparent;\n",
              "      border-bottom-color: var(--fill-color);\n",
              "      border-left-color: var(--fill-color);\n",
              "    }\n",
              "    20% {\n",
              "      border-color: transparent;\n",
              "      border-left-color: var(--fill-color);\n",
              "      border-top-color: var(--fill-color);\n",
              "    }\n",
              "    30% {\n",
              "      border-color: transparent;\n",
              "      border-left-color: var(--fill-color);\n",
              "      border-top-color: var(--fill-color);\n",
              "      border-right-color: var(--fill-color);\n",
              "    }\n",
              "    40% {\n",
              "      border-color: transparent;\n",
              "      border-right-color: var(--fill-color);\n",
              "      border-top-color: var(--fill-color);\n",
              "    }\n",
              "    60% {\n",
              "      border-color: transparent;\n",
              "      border-right-color: var(--fill-color);\n",
              "    }\n",
              "    80% {\n",
              "      border-color: transparent;\n",
              "      border-right-color: var(--fill-color);\n",
              "      border-bottom-color: var(--fill-color);\n",
              "    }\n",
              "    90% {\n",
              "      border-color: transparent;\n",
              "      border-bottom-color: var(--fill-color);\n",
              "    }\n",
              "  }\n",
              "</style>\n",
              "\n",
              "  <script>\n",
              "    async function quickchart(key) {\n",
              "      const quickchartButtonEl =\n",
              "        document.querySelector('#' + key + ' button');\n",
              "      quickchartButtonEl.disabled = true;  // To prevent multiple clicks.\n",
              "      quickchartButtonEl.classList.add('colab-df-spinner');\n",
              "      try {\n",
              "        const charts = await google.colab.kernel.invokeFunction(\n",
              "            'suggestCharts', [key], {});\n",
              "      } catch (error) {\n",
              "        console.error('Error during call to suggestCharts:', error);\n",
              "      }\n",
              "      quickchartButtonEl.classList.remove('colab-df-spinner');\n",
              "      quickchartButtonEl.classList.add('colab-df-quickchart-complete');\n",
              "    }\n",
              "    (() => {\n",
              "      let quickchartButtonEl =\n",
              "        document.querySelector('#df-5deef2ec-5094-4c36-98b7-4abc60e12616 button');\n",
              "      quickchartButtonEl.style.display =\n",
              "        google.colab.kernel.accessAllowed ? 'block' : 'none';\n",
              "    })();\n",
              "  </script>\n",
              "</div>\n",
              "    </div>\n",
              "  </div>\n"
            ]
          },
          "metadata": {},
          "execution_count": 79
        }
      ]
    },
    {
      "cell_type": "code",
      "source": [
        "loss_df.plot();"
      ],
      "metadata": {
        "colab": {
          "base_uri": "https://localhost:8080/",
          "height": 430
        },
        "id": "sDOF30VlWxuX",
        "outputId": "da3933db-efbf-440f-8745-3872d861bbd5"
      },
      "execution_count": 80,
      "outputs": [
        {
          "output_type": "display_data",
          "data": {
            "text/plain": [
              "<Figure size 640x480 with 1 Axes>"
            ],
            "image/png": "[encoded data removed]"
          },
          "metadata": {}
        }
      ]
    },
    {
      "cell_type": "code",
      "source": [
        "loss, accuracy = model.evaluate(X_test, y_test, verbose=0)\n",
        "print(\"loss : \", loss)\n",
        "print(\"accuracy : \", accuracy)"
      ],
      "metadata": {
        "colab": {
          "base_uri": "https://localhost:8080/"
        },
        "id": "1kFuxWeFW2sc",
        "outputId": "39001314-876f-4a9c-8d4d-844df789e179"
      },
      "execution_count": 81,
      "outputs": [
        {
          "output_type": "stream",
          "name": "stdout",
          "text": [
            "loss :  0.3398001492023468\n",
            "accuracy :  0.859000027179718\n"
          ]
        }
      ]
    },
    {
      "cell_type": "code",
      "source": [
        "y_pred = model.predict(X_test) > 0.5\n",
        "#y_pred = model.predict_classes(X_test) for tf 2.5.0\n",
        "print(confusion_matrix(y_test, y_pred))\n",
        "print(classification_report(y_test, y_pred))"
      ],
      "metadata": {
        "colab": {
          "base_uri": "https://localhost:8080/"
        },
        "id": "y6-4uUVQW210",
        "outputId": "7826333d-6ce4-4ade-9a07-430abaf49558"
      },
      "execution_count": 82,
      "outputs": [
        {
          "output_type": "stream",
          "name": "stdout",
          "text": [
            "32/32 [==============================] - 0s 2ms/step\n",
            "[[757  39]\n",
            " [102 102]]\n",
            "              precision    recall  f1-score   support\n",
            "\n",
            "           0       0.88      0.95      0.91       796\n",
            "           1       0.72      0.50      0.59       204\n",
            "\n",
            "    accuracy                           0.86      1000\n",
            "   macro avg       0.80      0.73      0.75      1000\n",
            "weighted avg       0.85      0.86      0.85      1000\n",
            "\n"
          ]
        }
      ]
    },
    {
      "cell_type": "code",
      "source": [],
      "metadata": {
        "id": "JcHmNifcXVAI"
      },
      "execution_count": null,
      "outputs": []
    },
    {
      "cell_type": "markdown",
      "metadata": {
        "id": "tqs44oFl3kwn"
      },
      "source": [
        "## with class_weigth\n",
        "\n",
        "Investigate how the \"class_weight\" hyper-parameter is used in a Neural Network."
      ]
    },
    {
      "cell_type": "markdown",
      "metadata": {
        "id": "ieASzJz53kwn"
      },
      "source": [
        "### Create The Model"
      ]
    },
    {
      "cell_type": "code",
      "execution_count": 83,
      "metadata": {
        "id": "euESK0Up3kwn"
      },
      "outputs": [],
      "source": [
        "tf.random.set_seed(seed)\n",
        "\n",
        "model = Sequential()\n",
        "\n",
        "model.add(Dense(20, activation = \"relu\", input_dim = X_train.shape[1]))\n",
        "model.add(Dense(10, activation = \"relu\"))\n",
        "model.add(Dense(5, activation = \"relu\"))\n",
        "model.add(Dense(1, activation = \"sigmoid\"))\n",
        "\n",
        "model.compile(optimizer = \"adam\", loss = \"binary_crossentropy\", metrics = [\"accuracy\"])"
      ]
    },
    {
      "cell_type": "code",
      "source": [
        "from sklearn.utils import class_weight\n",
        "class_weights = class_weight.compute_class_weight(\"balanced\",\n",
        "                                                  classes=np.unique(y_train),\n",
        "                                                  y=y_train)\n",
        "class_weights = {0: class_weights[0], 1: class_weights[1]}\n",
        "class_weights"
      ],
      "metadata": {
        "colab": {
          "base_uri": "https://localhost:8080/"
        },
        "id": "1U_qBexcNsZ1",
        "outputId": "49cd833c-4fee-4a55-8ece-44932abbbbf9"
      },
      "execution_count": 84,
      "outputs": [
        {
          "output_type": "execute_result",
          "data": {
            "text/plain": [
              "{0: 0.6278777731268314, 1: 2.454991816693944}"
            ]
          },
          "metadata": {},
          "execution_count": 84
        }
      ]
    },
    {
      "cell_type": "code",
      "source": [
        "model.fit(x=X_train,\n",
        "          y=y_train,\n",
        "          validation_split=.1,\n",
        "          batch_size=32,\n",
        "          epochs=100,\n",
        "          verbose=1,\n",
        "          class_weight=class_weights)"
      ],
      "metadata": {
        "colab": {
          "base_uri": "https://localhost:8080/"
        },
        "id": "2EclxnfANsnS",
        "outputId": "fc4e400e-f5e8-43f8-b622-79ff8d834945"
      },
      "execution_count": 85,
      "outputs": [
        {
          "output_type": "stream",
          "name": "stdout",
          "text": [
            "Epoch 1/100\n",
            "254/254 [==============================] - 2s 5ms/step - loss: 0.6580 - accuracy: 0.5425 - val_loss: 0.6075 - val_accuracy: 0.6744\n",
            "Epoch 2/100\n",
            "254/254 [==============================] - 1s 4ms/step - loss: 0.6215 - accuracy: 0.6395 - val_loss: 0.6055 - val_accuracy: 0.6733\n",
            "Epoch 3/100\n",
            "254/254 [==============================] - 1s 4ms/step - loss: 0.5958 - accuracy: 0.6748 - val_loss: 0.5465 - val_accuracy: 0.7356\n",
            "Epoch 4/100\n",
            "254/254 [==============================] - 1s 3ms/step - loss: 0.5771 - accuracy: 0.6998 - val_loss: 0.5735 - val_accuracy: 0.7044\n",
            "Epoch 5/100\n",
            "254/254 [==============================] - 1s 4ms/step - loss: 0.5609 - accuracy: 0.7191 - val_loss: 0.5146 - val_accuracy: 0.7456\n",
            "Epoch 6/100\n",
            "254/254 [==============================] - 1s 4ms/step - loss: 0.5440 - accuracy: 0.7342 - val_loss: 0.5210 - val_accuracy: 0.7356\n",
            "Epoch 7/100\n",
            "254/254 [==============================] - 1s 5ms/step - loss: 0.5273 - accuracy: 0.7506 - val_loss: 0.4538 - val_accuracy: 0.8033\n",
            "Epoch 8/100\n",
            "254/254 [==============================] - 1s 4ms/step - loss: 0.5186 - accuracy: 0.7478 - val_loss: 0.5427 - val_accuracy: 0.7133\n",
            "Epoch 9/100\n",
            "254/254 [==============================] - 1s 3ms/step - loss: 0.5086 - accuracy: 0.7556 - val_loss: 0.4362 - val_accuracy: 0.8089\n",
            "Epoch 10/100\n",
            "254/254 [==============================] - 1s 3ms/step - loss: 0.5016 - accuracy: 0.7619 - val_loss: 0.4544 - val_accuracy: 0.7856\n",
            "Epoch 11/100\n",
            "254/254 [==============================] - 1s 3ms/step - loss: 0.4957 - accuracy: 0.7656 - val_loss: 0.4771 - val_accuracy: 0.7667\n",
            "Epoch 12/100\n",
            "254/254 [==============================] - 1s 3ms/step - loss: 0.4915 - accuracy: 0.7642 - val_loss: 0.4727 - val_accuracy: 0.7711\n",
            "Epoch 13/100\n",
            "254/254 [==============================] - 1s 3ms/step - loss: 0.4907 - accuracy: 0.7596 - val_loss: 0.4825 - val_accuracy: 0.7567\n",
            "Epoch 14/100\n",
            "254/254 [==============================] - 1s 3ms/step - loss: 0.4889 - accuracy: 0.7664 - val_loss: 0.5627 - val_accuracy: 0.6889\n",
            "Epoch 15/100\n",
            "254/254 [==============================] - 1s 3ms/step - loss: 0.4868 - accuracy: 0.7606 - val_loss: 0.4651 - val_accuracy: 0.7767\n",
            "Epoch 16/100\n",
            "254/254 [==============================] - 1s 3ms/step - loss: 0.4839 - accuracy: 0.7681 - val_loss: 0.4431 - val_accuracy: 0.7844\n",
            "Epoch 17/100\n",
            "254/254 [==============================] - 1s 4ms/step - loss: 0.4802 - accuracy: 0.7691 - val_loss: 0.4243 - val_accuracy: 0.8056\n",
            "Epoch 18/100\n",
            "254/254 [==============================] - 1s 4ms/step - loss: 0.4798 - accuracy: 0.7674 - val_loss: 0.4344 - val_accuracy: 0.7956\n",
            "Epoch 19/100\n",
            "254/254 [==============================] - 1s 4ms/step - loss: 0.4787 - accuracy: 0.7698 - val_loss: 0.4261 - val_accuracy: 0.8000\n",
            "Epoch 20/100\n",
            "254/254 [==============================] - 1s 4ms/step - loss: 0.4785 - accuracy: 0.7694 - val_loss: 0.3836 - val_accuracy: 0.8411\n",
            "Epoch 21/100\n",
            "254/254 [==============================] - 1s 3ms/step - loss: 0.4748 - accuracy: 0.7698 - val_loss: 0.4286 - val_accuracy: 0.7978\n",
            "Epoch 22/100\n",
            "254/254 [==============================] - 1s 3ms/step - loss: 0.4734 - accuracy: 0.7751 - val_loss: 0.4495 - val_accuracy: 0.7789\n",
            "Epoch 23/100\n",
            "254/254 [==============================] - 1s 3ms/step - loss: 0.4740 - accuracy: 0.7696 - val_loss: 0.3857 - val_accuracy: 0.8467\n",
            "Epoch 24/100\n",
            "254/254 [==============================] - 1s 3ms/step - loss: 0.4711 - accuracy: 0.7727 - val_loss: 0.5071 - val_accuracy: 0.7200\n",
            "Epoch 25/100\n",
            "254/254 [==============================] - 1s 3ms/step - loss: 0.4679 - accuracy: 0.7794 - val_loss: 0.3976 - val_accuracy: 0.8256\n",
            "Epoch 26/100\n",
            "254/254 [==============================] - 1s 3ms/step - loss: 0.4687 - accuracy: 0.7793 - val_loss: 0.4589 - val_accuracy: 0.7678\n",
            "Epoch 27/100\n",
            "254/254 [==============================] - 1s 3ms/step - loss: 0.4679 - accuracy: 0.7795 - val_loss: 0.4501 - val_accuracy: 0.7722\n",
            "Epoch 28/100\n",
            "254/254 [==============================] - 1s 3ms/step - loss: 0.4650 - accuracy: 0.7817 - val_loss: 0.4158 - val_accuracy: 0.8056\n",
            "Epoch 29/100\n",
            "254/254 [==============================] - 1s 3ms/step - loss: 0.4621 - accuracy: 0.7868 - val_loss: 0.4440 - val_accuracy: 0.7789\n",
            "Epoch 30/100\n",
            "254/254 [==============================] - 1s 3ms/step - loss: 0.4614 - accuracy: 0.7879 - val_loss: 0.4111 - val_accuracy: 0.8122\n",
            "Epoch 31/100\n",
            "254/254 [==============================] - 1s 3ms/step - loss: 0.4607 - accuracy: 0.7827 - val_loss: 0.4150 - val_accuracy: 0.8167\n",
            "Epoch 32/100\n",
            "254/254 [==============================] - 1s 3ms/step - loss: 0.4615 - accuracy: 0.7851 - val_loss: 0.3926 - val_accuracy: 0.8356\n",
            "Epoch 33/100\n",
            "254/254 [==============================] - 1s 3ms/step - loss: 0.4591 - accuracy: 0.7870 - val_loss: 0.3861 - val_accuracy: 0.8444\n",
            "Epoch 34/100\n",
            "254/254 [==============================] - 1s 3ms/step - loss: 0.4607 - accuracy: 0.7921 - val_loss: 0.4320 - val_accuracy: 0.7889\n",
            "Epoch 35/100\n",
            "254/254 [==============================] - 1s 5ms/step - loss: 0.4595 - accuracy: 0.7859 - val_loss: 0.3901 - val_accuracy: 0.8233\n",
            "Epoch 36/100\n",
            "254/254 [==============================] - 3s 10ms/step - loss: 0.4576 - accuracy: 0.7941 - val_loss: 0.4060 - val_accuracy: 0.8278\n",
            "Epoch 37/100\n",
            "254/254 [==============================] - 2s 8ms/step - loss: 0.4557 - accuracy: 0.7912 - val_loss: 0.4486 - val_accuracy: 0.7889\n",
            "Epoch 38/100\n",
            "254/254 [==============================] - 1s 5ms/step - loss: 0.4575 - accuracy: 0.7889 - val_loss: 0.4814 - val_accuracy: 0.7544\n",
            "Epoch 39/100\n",
            "254/254 [==============================] - 1s 4ms/step - loss: 0.4555 - accuracy: 0.7912 - val_loss: 0.3929 - val_accuracy: 0.8378\n",
            "Epoch 40/100\n",
            "254/254 [==============================] - 1s 3ms/step - loss: 0.4535 - accuracy: 0.7926 - val_loss: 0.3646 - val_accuracy: 0.8533\n",
            "Epoch 41/100\n",
            "254/254 [==============================] - 1s 3ms/step - loss: 0.4537 - accuracy: 0.7940 - val_loss: 0.4300 - val_accuracy: 0.7944\n",
            "Epoch 42/100\n",
            "254/254 [==============================] - 1s 3ms/step - loss: 0.4520 - accuracy: 0.7868 - val_loss: 0.4312 - val_accuracy: 0.7889\n",
            "Epoch 43/100\n",
            "254/254 [==============================] - 1s 3ms/step - loss: 0.4533 - accuracy: 0.7890 - val_loss: 0.4203 - val_accuracy: 0.8000\n",
            "Epoch 44/100\n",
            "254/254 [==============================] - 1s 3ms/step - loss: 0.4509 - accuracy: 0.7904 - val_loss: 0.4359 - val_accuracy: 0.7889\n",
            "Epoch 45/100\n",
            "254/254 [==============================] - 1s 3ms/step - loss: 0.4514 - accuracy: 0.7921 - val_loss: 0.3991 - val_accuracy: 0.8267\n",
            "Epoch 46/100\n",
            "254/254 [==============================] - 1s 3ms/step - loss: 0.4496 - accuracy: 0.7962 - val_loss: 0.4365 - val_accuracy: 0.7956\n",
            "Epoch 47/100\n",
            "254/254 [==============================] - 1s 3ms/step - loss: 0.4511 - accuracy: 0.7915 - val_loss: 0.4264 - val_accuracy: 0.8011\n",
            "Epoch 48/100\n",
            "254/254 [==============================] - 1s 3ms/step - loss: 0.4517 - accuracy: 0.7951 - val_loss: 0.4051 - val_accuracy: 0.8244\n",
            "Epoch 49/100\n",
            "254/254 [==============================] - 1s 3ms/step - loss: 0.4507 - accuracy: 0.7953 - val_loss: 0.3879 - val_accuracy: 0.8389\n",
            "Epoch 50/100\n",
            "254/254 [==============================] - 1s 4ms/step - loss: 0.4499 - accuracy: 0.7928 - val_loss: 0.4102 - val_accuracy: 0.8156\n",
            "Epoch 51/100\n",
            "254/254 [==============================] - 1s 4ms/step - loss: 0.4488 - accuracy: 0.7977 - val_loss: 0.3730 - val_accuracy: 0.8389\n",
            "Epoch 52/100\n",
            "254/254 [==============================] - 1s 4ms/step - loss: 0.4488 - accuracy: 0.7954 - val_loss: 0.4265 - val_accuracy: 0.7900\n",
            "Epoch 53/100\n",
            "254/254 [==============================] - 1s 4ms/step - loss: 0.4490 - accuracy: 0.7956 - val_loss: 0.4130 - val_accuracy: 0.8189\n",
            "Epoch 54/100\n",
            "254/254 [==============================] - 1s 3ms/step - loss: 0.4496 - accuracy: 0.7914 - val_loss: 0.3884 - val_accuracy: 0.8278\n",
            "Epoch 55/100\n",
            "254/254 [==============================] - 1s 3ms/step - loss: 0.4492 - accuracy: 0.7952 - val_loss: 0.4120 - val_accuracy: 0.8067\n",
            "Epoch 56/100\n",
            "254/254 [==============================] - 1s 3ms/step - loss: 0.4481 - accuracy: 0.7943 - val_loss: 0.4064 - val_accuracy: 0.8111\n",
            "Epoch 57/100\n",
            "254/254 [==============================] - 1s 3ms/step - loss: 0.4493 - accuracy: 0.7944 - val_loss: 0.4142 - val_accuracy: 0.7967\n",
            "Epoch 58/100\n",
            "254/254 [==============================] - 1s 3ms/step - loss: 0.4462 - accuracy: 0.7932 - val_loss: 0.4194 - val_accuracy: 0.8022\n",
            "Epoch 59/100\n",
            "254/254 [==============================] - 1s 3ms/step - loss: 0.4464 - accuracy: 0.7977 - val_loss: 0.4419 - val_accuracy: 0.7833\n",
            "Epoch 60/100\n",
            "254/254 [==============================] - 1s 3ms/step - loss: 0.4478 - accuracy: 0.7909 - val_loss: 0.4588 - val_accuracy: 0.7689\n",
            "Epoch 61/100\n",
            "254/254 [==============================] - 1s 3ms/step - loss: 0.4462 - accuracy: 0.7921 - val_loss: 0.3886 - val_accuracy: 0.8278\n",
            "Epoch 62/100\n",
            "254/254 [==============================] - 1s 3ms/step - loss: 0.4459 - accuracy: 0.7925 - val_loss: 0.4361 - val_accuracy: 0.7889\n",
            "Epoch 63/100\n",
            "254/254 [==============================] - 1s 3ms/step - loss: 0.4468 - accuracy: 0.7965 - val_loss: 0.4596 - val_accuracy: 0.7711\n",
            "Epoch 64/100\n",
            "254/254 [==============================] - 1s 3ms/step - loss: 0.4466 - accuracy: 0.7915 - val_loss: 0.4150 - val_accuracy: 0.8033\n",
            "Epoch 65/100\n",
            "254/254 [==============================] - 1s 3ms/step - loss: 0.4438 - accuracy: 0.7984 - val_loss: 0.4000 - val_accuracy: 0.8144\n",
            "Epoch 66/100\n",
            "254/254 [==============================] - 1s 3ms/step - loss: 0.4458 - accuracy: 0.7953 - val_loss: 0.4736 - val_accuracy: 0.7533\n",
            "Epoch 67/100\n",
            "254/254 [==============================] - 1s 3ms/step - loss: 0.4466 - accuracy: 0.7914 - val_loss: 0.3625 - val_accuracy: 0.8522\n",
            "Epoch 68/100\n",
            "254/254 [==============================] - 1s 3ms/step - loss: 0.4460 - accuracy: 0.7965 - val_loss: 0.3828 - val_accuracy: 0.8256\n",
            "Epoch 69/100\n",
            "254/254 [==============================] - 1s 4ms/step - loss: 0.4451 - accuracy: 0.7977 - val_loss: 0.4180 - val_accuracy: 0.8078\n",
            "Epoch 70/100\n",
            "254/254 [==============================] - 1s 4ms/step - loss: 0.4457 - accuracy: 0.7956 - val_loss: 0.4245 - val_accuracy: 0.8089\n",
            "Epoch 71/100\n",
            "254/254 [==============================] - 1s 4ms/step - loss: 0.4444 - accuracy: 0.7953 - val_loss: 0.4057 - val_accuracy: 0.8211\n",
            "Epoch 72/100\n",
            "254/254 [==============================] - 1s 4ms/step - loss: 0.4424 - accuracy: 0.7989 - val_loss: 0.4221 - val_accuracy: 0.8122\n",
            "Epoch 73/100\n",
            "254/254 [==============================] - 1s 3ms/step - loss: 0.4443 - accuracy: 0.7957 - val_loss: 0.3982 - val_accuracy: 0.8178\n",
            "Epoch 74/100\n",
            "254/254 [==============================] - 1s 3ms/step - loss: 0.4448 - accuracy: 0.7904 - val_loss: 0.3766 - val_accuracy: 0.8367\n",
            "Epoch 75/100\n",
            "254/254 [==============================] - 1s 3ms/step - loss: 0.4429 - accuracy: 0.7993 - val_loss: 0.3926 - val_accuracy: 0.8344\n",
            "Epoch 76/100\n",
            "254/254 [==============================] - 1s 3ms/step - loss: 0.4450 - accuracy: 0.7973 - val_loss: 0.4161 - val_accuracy: 0.7956\n",
            "Epoch 77/100\n",
            "254/254 [==============================] - 1s 5ms/step - loss: 0.4451 - accuracy: 0.7952 - val_loss: 0.3883 - val_accuracy: 0.8300\n",
            "Epoch 78/100\n",
            "254/254 [==============================] - 1s 3ms/step - loss: 0.4443 - accuracy: 0.7952 - val_loss: 0.4216 - val_accuracy: 0.7978\n",
            "Epoch 79/100\n",
            "254/254 [==============================] - 1s 3ms/step - loss: 0.4446 - accuracy: 0.7932 - val_loss: 0.3531 - val_accuracy: 0.8556\n",
            "Epoch 80/100\n",
            "254/254 [==============================] - 1s 3ms/step - loss: 0.4424 - accuracy: 0.7970 - val_loss: 0.3652 - val_accuracy: 0.8478\n",
            "Epoch 81/100\n",
            "254/254 [==============================] - 1s 3ms/step - loss: 0.4425 - accuracy: 0.7993 - val_loss: 0.3926 - val_accuracy: 0.8344\n",
            "Epoch 82/100\n",
            "254/254 [==============================] - 1s 3ms/step - loss: 0.4415 - accuracy: 0.7967 - val_loss: 0.3883 - val_accuracy: 0.8322\n",
            "Epoch 83/100\n",
            "254/254 [==============================] - 1s 3ms/step - loss: 0.4416 - accuracy: 0.7977 - val_loss: 0.4114 - val_accuracy: 0.8156\n",
            "Epoch 84/100\n",
            "254/254 [==============================] - 1s 3ms/step - loss: 0.4451 - accuracy: 0.7936 - val_loss: 0.4109 - val_accuracy: 0.8111\n",
            "Epoch 85/100\n",
            "254/254 [==============================] - 1s 3ms/step - loss: 0.4404 - accuracy: 0.7985 - val_loss: 0.4069 - val_accuracy: 0.8044\n",
            "Epoch 86/100\n",
            "254/254 [==============================] - 1s 3ms/step - loss: 0.4430 - accuracy: 0.7954 - val_loss: 0.4066 - val_accuracy: 0.8056\n",
            "Epoch 87/100\n",
            "254/254 [==============================] - 2s 7ms/step - loss: 0.4423 - accuracy: 0.7988 - val_loss: 0.4518 - val_accuracy: 0.7700\n",
            "Epoch 88/100\n",
            "254/254 [==============================] - 2s 8ms/step - loss: 0.4421 - accuracy: 0.7949 - val_loss: 0.4558 - val_accuracy: 0.7611\n",
            "Epoch 89/100\n",
            "254/254 [==============================] - 2s 7ms/step - loss: 0.4450 - accuracy: 0.7969 - val_loss: 0.4462 - val_accuracy: 0.7733\n",
            "Epoch 90/100\n",
            "254/254 [==============================] - 2s 6ms/step - loss: 0.4423 - accuracy: 0.7958 - val_loss: 0.4109 - val_accuracy: 0.8078\n",
            "Epoch 91/100\n",
            "254/254 [==============================] - 1s 5ms/step - loss: 0.4404 - accuracy: 0.7994 - val_loss: 0.4415 - val_accuracy: 0.7867\n",
            "Epoch 92/100\n",
            "254/254 [==============================] - 1s 4ms/step - loss: 0.4400 - accuracy: 0.7946 - val_loss: 0.4514 - val_accuracy: 0.7733\n",
            "Epoch 93/100\n",
            "254/254 [==============================] - 1s 3ms/step - loss: 0.4419 - accuracy: 0.7969 - val_loss: 0.4276 - val_accuracy: 0.7889\n",
            "Epoch 94/100\n",
            "254/254 [==============================] - 1s 3ms/step - loss: 0.4396 - accuracy: 0.7974 - val_loss: 0.4303 - val_accuracy: 0.7956\n",
            "Epoch 95/100\n",
            "254/254 [==============================] - 1s 3ms/step - loss: 0.4410 - accuracy: 0.7972 - val_loss: 0.4280 - val_accuracy: 0.7911\n",
            "Epoch 96/100\n",
            "254/254 [==============================] - 1s 3ms/step - loss: 0.4426 - accuracy: 0.7963 - val_loss: 0.4130 - val_accuracy: 0.8033\n",
            "Epoch 97/100\n",
            "254/254 [==============================] - 1s 5ms/step - loss: 0.4426 - accuracy: 0.7990 - val_loss: 0.4522 - val_accuracy: 0.7722\n",
            "Epoch 98/100\n",
            "254/254 [==============================] - 1s 3ms/step - loss: 0.4414 - accuracy: 0.7972 - val_loss: 0.3930 - val_accuracy: 0.8156\n",
            "Epoch 99/100\n",
            "254/254 [==============================] - 1s 3ms/step - loss: 0.4397 - accuracy: 0.7980 - val_loss: 0.3910 - val_accuracy: 0.8222\n",
            "Epoch 100/100\n",
            "254/254 [==============================] - 1s 4ms/step - loss: 0.4402 - accuracy: 0.8014 - val_loss: 0.4322 - val_accuracy: 0.7878\n"
          ]
        },
        {
          "output_type": "execute_result",
          "data": {
            "text/plain": [
              "<keras.src.callbacks.History at 0x7cdbc73942b0>"
            ]
          },
          "metadata": {},
          "execution_count": 85
        }
      ]
    },
    {
      "cell_type": "code",
      "source": [],
      "metadata": {
        "id": "gp1iXTSDN4CF"
      },
      "execution_count": null,
      "outputs": []
    },
    {
      "cell_type": "code",
      "source": [],
      "metadata": {
        "id": "_K-O7BYrN4Qg"
      },
      "execution_count": null,
      "outputs": []
    },
    {
      "cell_type": "markdown",
      "metadata": {
        "id": "7IT-dFDt3kwn"
      },
      "source": [
        "### Evaluate The Model\n",
        "\n",
        "- Plot the model history to observe the changing of metrics\n",
        "- Make prediction to see \"confusion matrix\" and \"classification report\"\n",
        "- Check ROC (Receiver Operating Curve) and AUC (Area Under Curve) for the model"
      ]
    },
    {
      "cell_type": "code",
      "execution_count": 86,
      "metadata": {
        "id": "rEr15Bn33kwn",
        "colab": {
          "base_uri": "https://localhost:8080/",
          "height": 430
        },
        "outputId": "542c019f-d7b4-4763-f484-7fc24221dc70"
      },
      "outputs": [
        {
          "output_type": "display_data",
          "data": {
            "text/plain": [
              "<Figure size 640x480 with 1 Axes>"
            ],
            "image/png": "[encoded data removed]"
          },
          "metadata": {}
        }
      ],
      "source": [
        "loss_df = pd.DataFrame(model.history.history)\n",
        "loss_df.plot();"
      ]
    },
    {
      "cell_type": "code",
      "source": [
        "loss, accuracy = model.evaluate(X_test, y_test, verbose=0)\n",
        "print(\"loss : \", loss)\n",
        "print(\"accuracy : \", accuracy)"
      ],
      "metadata": {
        "colab": {
          "base_uri": "https://localhost:8080/"
        },
        "id": "DIx4pjWdOJXE",
        "outputId": "42b843e4-fec5-47ba-8c9b-11dfe29f2203"
      },
      "execution_count": 87,
      "outputs": [
        {
          "output_type": "stream",
          "name": "stdout",
          "text": [
            "loss :  0.46780920028686523\n",
            "accuracy :  0.7670000195503235\n"
          ]
        }
      ]
    },
    {
      "cell_type": "code",
      "source": [
        "y_pred = model.predict(X_test) > 0.5\n",
        "#y_pred = model.predict_classes(X_test) for tf 2.5.0\n",
        "print(confusion_matrix(y_test, y_pred))\n",
        "print(classification_report(y_test, y_pred))"
      ],
      "metadata": {
        "colab": {
          "base_uri": "https://localhost:8080/"
        },
        "id": "d3Jlw7kXOJhg",
        "outputId": "c45a0975-710a-4cf1-8035-bc299de75574"
      },
      "execution_count": 88,
      "outputs": [
        {
          "output_type": "stream",
          "name": "stdout",
          "text": [
            "32/32 [==============================] - 0s 2ms/step\n",
            "[[609 187]\n",
            " [ 46 158]]\n",
            "              precision    recall  f1-score   support\n",
            "\n",
            "           0       0.93      0.77      0.84       796\n",
            "           1       0.46      0.77      0.58       204\n",
            "\n",
            "    accuracy                           0.77      1000\n",
            "   macro avg       0.69      0.77      0.71      1000\n",
            "weighted avg       0.83      0.77      0.79      1000\n",
            "\n"
          ]
        }
      ]
    },
    {
      "cell_type": "markdown",
      "metadata": {
        "id": "GA7NcjOn3kwn"
      },
      "source": [
        "## Implementation Different Methods to Develop The Model\n",
        "\n",
        "- Implement the following methods on model creating with \"class_weight\" parameter\n",
        "- Create and evaluate model for each method"
      ]
    },
    {
      "cell_type": "markdown",
      "metadata": {
        "id": "ObNhy2gn3kwo"
      },
      "source": [
        "### Increase The Learning Rate and Observe The Results"
      ]
    },
    {
      "cell_type": "code",
      "execution_count": 89,
      "metadata": {
        "id": "N-IS1sc-3kwo"
      },
      "outputs": [],
      "source": [
        "from tensorflow.keras.optimizers import Adam"
      ]
    },
    {
      "cell_type": "code",
      "source": [
        "tf.random.set_seed(seed)\n",
        "\n",
        "model = Sequential()\n",
        "\n",
        "model.add(Dense(20, activation = \"relu\", input_dim = X_train.shape[1]))\n",
        "model.add(Dense(10, activation = \"relu\"))\n",
        "model.add(Dense(5, activation = \"relu\"))\n",
        "model.add(Dense(1, activation = \"sigmoid\"))\n",
        "\n",
        "opt = Adam(lr = 0.005)\n",
        "model.compile(optimizer = opt, loss = \"binary_crossentropy\", metrics = [\"accuracy\"])"
      ],
      "metadata": {
        "colab": {
          "base_uri": "https://localhost:8080/"
        },
        "id": "Y_owlXVWOgMV",
        "outputId": "65a06cd9-856b-41dc-afad-9d0b3f64baa0"
      },
      "execution_count": 90,
      "outputs": [
        {
          "output_type": "stream",
          "name": "stderr",
          "text": [
            "WARNING:absl:`lr` is deprecated in Keras optimizer, please use `learning_rate` or use the legacy optimizer, e.g.,tf.keras.optimizers.legacy.Adam.\n"
          ]
        }
      ]
    },
    {
      "cell_type": "code",
      "source": [
        "model.fit(x=X_train,\n",
        "          y=y_train,\n",
        "          validation_split=.1,\n",
        "          batch_size=32,\n",
        "          epochs=100,\n",
        "          verbose=1,\n",
        "          class_weight=class_weights)"
      ],
      "metadata": {
        "colab": {
          "base_uri": "https://localhost:8080/"
        },
        "id": "dxRjLQjyOgWI",
        "outputId": "53a19d12-cd33-4f0b-a902-d104238ce5b5"
      },
      "execution_count": 92,
      "outputs": [
        {
          "output_type": "stream",
          "name": "stdout",
          "text": [
            "Epoch 1/100\n",
            "254/254 [==============================] - 1s 6ms/step - loss: 0.4510 - accuracy: 0.7906 - val_loss: 0.4267 - val_accuracy: 0.8000\n",
            "Epoch 2/100\n",
            "254/254 [==============================] - 1s 5ms/step - loss: 0.4495 - accuracy: 0.7928 - val_loss: 0.3982 - val_accuracy: 0.8278\n",
            "Epoch 3/100\n",
            "254/254 [==============================] - 1s 3ms/step - loss: 0.4501 - accuracy: 0.7937 - val_loss: 0.3928 - val_accuracy: 0.8311\n",
            "Epoch 4/100\n",
            "254/254 [==============================] - 1s 3ms/step - loss: 0.4507 - accuracy: 0.7894 - val_loss: 0.4388 - val_accuracy: 0.7789\n",
            "Epoch 5/100\n",
            "254/254 [==============================] - 1s 3ms/step - loss: 0.4505 - accuracy: 0.7911 - val_loss: 0.3946 - val_accuracy: 0.8256\n",
            "Epoch 6/100\n",
            "254/254 [==============================] - 1s 3ms/step - loss: 0.4509 - accuracy: 0.7911 - val_loss: 0.4203 - val_accuracy: 0.8000\n",
            "Epoch 7/100\n",
            "254/254 [==============================] - 1s 3ms/step - loss: 0.4490 - accuracy: 0.7914 - val_loss: 0.3928 - val_accuracy: 0.8244\n",
            "Epoch 8/100\n",
            "254/254 [==============================] - 1s 3ms/step - loss: 0.4509 - accuracy: 0.7943 - val_loss: 0.4989 - val_accuracy: 0.7344\n",
            "Epoch 9/100\n",
            "254/254 [==============================] - 1s 3ms/step - loss: 0.4489 - accuracy: 0.7901 - val_loss: 0.3984 - val_accuracy: 0.8256\n",
            "Epoch 10/100\n",
            "254/254 [==============================] - 1s 3ms/step - loss: 0.4485 - accuracy: 0.7946 - val_loss: 0.4054 - val_accuracy: 0.8156\n",
            "Epoch 11/100\n",
            "254/254 [==============================] - 1s 3ms/step - loss: 0.4483 - accuracy: 0.7940 - val_loss: 0.4696 - val_accuracy: 0.7489\n",
            "Epoch 12/100\n",
            "254/254 [==============================] - 1s 5ms/step - loss: 0.4485 - accuracy: 0.7928 - val_loss: 0.4571 - val_accuracy: 0.7644\n",
            "Epoch 13/100\n",
            "254/254 [==============================] - 1s 6ms/step - loss: 0.4479 - accuracy: 0.7898 - val_loss: 0.4617 - val_accuracy: 0.7622\n",
            "Epoch 14/100\n",
            "254/254 [==============================] - 2s 9ms/step - loss: 0.4490 - accuracy: 0.7907 - val_loss: 0.5214 - val_accuracy: 0.7278\n",
            "Epoch 15/100\n",
            "254/254 [==============================] - 1s 5ms/step - loss: 0.4473 - accuracy: 0.7931 - val_loss: 0.4299 - val_accuracy: 0.8033\n",
            "Epoch 16/100\n",
            "254/254 [==============================] - 1s 3ms/step - loss: 0.4462 - accuracy: 0.7954 - val_loss: 0.4055 - val_accuracy: 0.8100\n",
            "Epoch 17/100\n",
            "254/254 [==============================] - 1s 3ms/step - loss: 0.4464 - accuracy: 0.7964 - val_loss: 0.4136 - val_accuracy: 0.8100\n",
            "Epoch 18/100\n",
            "254/254 [==============================] - 1s 3ms/step - loss: 0.4464 - accuracy: 0.7938 - val_loss: 0.4134 - val_accuracy: 0.8011\n",
            "Epoch 19/100\n",
            "254/254 [==============================] - 1s 3ms/step - loss: 0.4459 - accuracy: 0.7946 - val_loss: 0.4213 - val_accuracy: 0.8000\n",
            "Epoch 20/100\n",
            "254/254 [==============================] - 1s 3ms/step - loss: 0.4458 - accuracy: 0.7936 - val_loss: 0.3582 - val_accuracy: 0.8589\n",
            "Epoch 21/100\n",
            "254/254 [==============================] - 1s 3ms/step - loss: 0.4456 - accuracy: 0.7942 - val_loss: 0.4303 - val_accuracy: 0.7822\n",
            "Epoch 22/100\n",
            "254/254 [==============================] - 1s 3ms/step - loss: 0.4457 - accuracy: 0.7925 - val_loss: 0.4641 - val_accuracy: 0.7578\n",
            "Epoch 23/100\n",
            "254/254 [==============================] - 1s 3ms/step - loss: 0.4477 - accuracy: 0.7933 - val_loss: 0.3595 - val_accuracy: 0.8644\n",
            "Epoch 24/100\n",
            "254/254 [==============================] - 1s 3ms/step - loss: 0.4452 - accuracy: 0.7944 - val_loss: 0.4862 - val_accuracy: 0.7378\n",
            "Epoch 25/100\n",
            "254/254 [==============================] - 1s 3ms/step - loss: 0.4449 - accuracy: 0.7946 - val_loss: 0.3980 - val_accuracy: 0.8300\n",
            "Epoch 26/100\n",
            "254/254 [==============================] - 1s 3ms/step - loss: 0.4444 - accuracy: 0.7937 - val_loss: 0.4891 - val_accuracy: 0.7378\n",
            "Epoch 27/100\n",
            "254/254 [==============================] - 1s 4ms/step - loss: 0.4454 - accuracy: 0.7990 - val_loss: 0.4518 - val_accuracy: 0.7633\n",
            "Epoch 28/100\n",
            "254/254 [==============================] - 1s 3ms/step - loss: 0.4433 - accuracy: 0.7946 - val_loss: 0.4132 - val_accuracy: 0.8078\n",
            "Epoch 29/100\n",
            "254/254 [==============================] - 1s 3ms/step - loss: 0.4418 - accuracy: 0.7994 - val_loss: 0.4357 - val_accuracy: 0.7789\n",
            "Epoch 30/100\n",
            "254/254 [==============================] - 1s 4ms/step - loss: 0.4417 - accuracy: 0.7947 - val_loss: 0.4252 - val_accuracy: 0.7978\n",
            "Epoch 31/100\n",
            "254/254 [==============================] - 1s 4ms/step - loss: 0.4441 - accuracy: 0.7944 - val_loss: 0.4192 - val_accuracy: 0.7956\n",
            "Epoch 32/100\n",
            "254/254 [==============================] - 1s 4ms/step - loss: 0.4422 - accuracy: 0.7963 - val_loss: 0.3962 - val_accuracy: 0.8267\n",
            "Epoch 33/100\n",
            "254/254 [==============================] - 1s 4ms/step - loss: 0.4420 - accuracy: 0.7962 - val_loss: 0.3998 - val_accuracy: 0.8200\n",
            "Epoch 34/100\n",
            "254/254 [==============================] - 1s 3ms/step - loss: 0.4434 - accuracy: 0.7952 - val_loss: 0.4149 - val_accuracy: 0.8000\n",
            "Epoch 35/100\n",
            "254/254 [==============================] - 1s 3ms/step - loss: 0.4439 - accuracy: 0.7940 - val_loss: 0.3823 - val_accuracy: 0.8389\n",
            "Epoch 36/100\n",
            "254/254 [==============================] - 1s 3ms/step - loss: 0.4414 - accuracy: 0.7999 - val_loss: 0.4029 - val_accuracy: 0.8233\n",
            "Epoch 37/100\n",
            "254/254 [==============================] - 1s 3ms/step - loss: 0.4412 - accuracy: 0.7998 - val_loss: 0.4550 - val_accuracy: 0.7633\n",
            "Epoch 38/100\n",
            "254/254 [==============================] - 1s 3ms/step - loss: 0.4434 - accuracy: 0.7940 - val_loss: 0.4711 - val_accuracy: 0.7622\n",
            "Epoch 39/100\n",
            "254/254 [==============================] - 1s 3ms/step - loss: 0.4409 - accuracy: 0.7984 - val_loss: 0.4225 - val_accuracy: 0.7944\n",
            "Epoch 40/100\n",
            "254/254 [==============================] - 1s 3ms/step - loss: 0.4403 - accuracy: 0.7964 - val_loss: 0.3879 - val_accuracy: 0.8422\n",
            "Epoch 41/100\n",
            "254/254 [==============================] - 1s 3ms/step - loss: 0.4432 - accuracy: 0.7962 - val_loss: 0.4396 - val_accuracy: 0.7822\n",
            "Epoch 42/100\n",
            "254/254 [==============================] - 1s 3ms/step - loss: 0.4398 - accuracy: 0.7968 - val_loss: 0.4337 - val_accuracy: 0.7889\n",
            "Epoch 43/100\n",
            "254/254 [==============================] - 1s 3ms/step - loss: 0.4417 - accuracy: 0.7931 - val_loss: 0.4369 - val_accuracy: 0.7844\n",
            "Epoch 44/100\n",
            "254/254 [==============================] - 1s 3ms/step - loss: 0.4388 - accuracy: 0.7990 - val_loss: 0.4384 - val_accuracy: 0.7822\n",
            "Epoch 45/100\n",
            "254/254 [==============================] - 1s 3ms/step - loss: 0.4401 - accuracy: 0.7951 - val_loss: 0.4256 - val_accuracy: 0.7967\n",
            "Epoch 46/100\n",
            "254/254 [==============================] - 1s 3ms/step - loss: 0.4400 - accuracy: 0.7967 - val_loss: 0.4554 - val_accuracy: 0.7722\n",
            "Epoch 47/100\n",
            "254/254 [==============================] - 1s 3ms/step - loss: 0.4392 - accuracy: 0.7960 - val_loss: 0.4082 - val_accuracy: 0.8100\n",
            "Epoch 48/100\n",
            "254/254 [==============================] - 1s 3ms/step - loss: 0.4429 - accuracy: 0.7975 - val_loss: 0.4200 - val_accuracy: 0.8122\n",
            "Epoch 49/100\n",
            "254/254 [==============================] - 1s 4ms/step - loss: 0.4394 - accuracy: 0.7980 - val_loss: 0.4068 - val_accuracy: 0.8067\n",
            "Epoch 50/100\n",
            "254/254 [==============================] - 1s 4ms/step - loss: 0.4395 - accuracy: 0.7980 - val_loss: 0.4441 - val_accuracy: 0.7778\n",
            "Epoch 51/100\n",
            "254/254 [==============================] - 1s 4ms/step - loss: 0.4395 - accuracy: 0.7981 - val_loss: 0.3957 - val_accuracy: 0.8211\n",
            "Epoch 52/100\n",
            "254/254 [==============================] - 1s 4ms/step - loss: 0.4391 - accuracy: 0.8001 - val_loss: 0.4406 - val_accuracy: 0.7811\n",
            "Epoch 53/100\n",
            "254/254 [==============================] - 1s 3ms/step - loss: 0.4395 - accuracy: 0.7996 - val_loss: 0.4316 - val_accuracy: 0.7944\n",
            "Epoch 54/100\n",
            "254/254 [==============================] - 1s 3ms/step - loss: 0.4397 - accuracy: 0.7970 - val_loss: 0.3968 - val_accuracy: 0.8167\n",
            "Epoch 55/100\n",
            "254/254 [==============================] - 1s 3ms/step - loss: 0.4383 - accuracy: 0.7999 - val_loss: 0.4416 - val_accuracy: 0.7822\n",
            "Epoch 56/100\n",
            "254/254 [==============================] - 1s 3ms/step - loss: 0.4388 - accuracy: 0.8002 - val_loss: 0.4160 - val_accuracy: 0.8033\n",
            "Epoch 57/100\n",
            "254/254 [==============================] - 1s 3ms/step - loss: 0.4403 - accuracy: 0.7948 - val_loss: 0.4330 - val_accuracy: 0.7878\n",
            "Epoch 58/100\n",
            "254/254 [==============================] - 1s 3ms/step - loss: 0.4380 - accuracy: 0.7975 - val_loss: 0.4250 - val_accuracy: 0.7889\n",
            "Epoch 59/100\n",
            "254/254 [==============================] - 1s 3ms/step - loss: 0.4384 - accuracy: 0.8016 - val_loss: 0.4843 - val_accuracy: 0.7511\n",
            "Epoch 60/100\n",
            "254/254 [==============================] - 1s 3ms/step - loss: 0.4392 - accuracy: 0.7985 - val_loss: 0.4602 - val_accuracy: 0.7544\n",
            "Epoch 61/100\n",
            "254/254 [==============================] - 1s 3ms/step - loss: 0.4375 - accuracy: 0.7942 - val_loss: 0.3988 - val_accuracy: 0.8156\n",
            "Epoch 62/100\n",
            "254/254 [==============================] - 1s 3ms/step - loss: 0.4372 - accuracy: 0.7980 - val_loss: 0.4267 - val_accuracy: 0.7944\n",
            "Epoch 63/100\n",
            "254/254 [==============================] - 1s 3ms/step - loss: 0.4376 - accuracy: 0.8001 - val_loss: 0.4720 - val_accuracy: 0.7556\n",
            "Epoch 64/100\n",
            "254/254 [==============================] - 1s 3ms/step - loss: 0.4387 - accuracy: 0.7960 - val_loss: 0.4184 - val_accuracy: 0.7967\n",
            "Epoch 65/100\n",
            "254/254 [==============================] - 1s 3ms/step - loss: 0.4361 - accuracy: 0.8027 - val_loss: 0.4320 - val_accuracy: 0.7900\n",
            "Epoch 66/100\n",
            "254/254 [==============================] - 1s 3ms/step - loss: 0.4359 - accuracy: 0.8033 - val_loss: 0.5177 - val_accuracy: 0.7322\n",
            "Epoch 67/100\n",
            "254/254 [==============================] - 1s 3ms/step - loss: 0.4381 - accuracy: 0.7925 - val_loss: 0.3865 - val_accuracy: 0.8300\n",
            "Epoch 68/100\n",
            "254/254 [==============================] - 1s 3ms/step - loss: 0.4372 - accuracy: 0.8004 - val_loss: 0.4054 - val_accuracy: 0.8100\n",
            "Epoch 69/100\n",
            "254/254 [==============================] - 1s 5ms/step - loss: 0.4367 - accuracy: 0.8017 - val_loss: 0.4255 - val_accuracy: 0.8011\n",
            "Epoch 70/100\n",
            "254/254 [==============================] - 1s 4ms/step - loss: 0.4373 - accuracy: 0.7996 - val_loss: 0.4507 - val_accuracy: 0.7744\n",
            "Epoch 71/100\n",
            "254/254 [==============================] - 1s 4ms/step - loss: 0.4371 - accuracy: 0.8019 - val_loss: 0.4208 - val_accuracy: 0.7967\n",
            "Epoch 72/100\n",
            "254/254 [==============================] - 1s 4ms/step - loss: 0.4355 - accuracy: 0.8021 - val_loss: 0.4454 - val_accuracy: 0.7878\n",
            "Epoch 73/100\n",
            "254/254 [==============================] - 1s 3ms/step - loss: 0.4366 - accuracy: 0.7998 - val_loss: 0.3926 - val_accuracy: 0.8256\n",
            "Epoch 74/100\n",
            "254/254 [==============================] - 1s 3ms/step - loss: 0.4369 - accuracy: 0.7941 - val_loss: 0.3966 - val_accuracy: 0.8278\n",
            "Epoch 75/100\n",
            "254/254 [==============================] - 1s 3ms/step - loss: 0.4353 - accuracy: 0.8035 - val_loss: 0.4237 - val_accuracy: 0.7944\n",
            "Epoch 76/100\n",
            "254/254 [==============================] - 1s 3ms/step - loss: 0.4362 - accuracy: 0.8027 - val_loss: 0.4349 - val_accuracy: 0.7789\n",
            "Epoch 77/100\n",
            "254/254 [==============================] - 1s 3ms/step - loss: 0.4363 - accuracy: 0.7972 - val_loss: 0.4031 - val_accuracy: 0.8122\n",
            "Epoch 78/100\n",
            "254/254 [==============================] - 1s 3ms/step - loss: 0.4379 - accuracy: 0.7948 - val_loss: 0.3984 - val_accuracy: 0.8256\n",
            "Epoch 79/100\n",
            "254/254 [==============================] - 1s 3ms/step - loss: 0.4361 - accuracy: 0.7957 - val_loss: 0.3613 - val_accuracy: 0.8511\n",
            "Epoch 80/100\n",
            "254/254 [==============================] - 1s 3ms/step - loss: 0.4365 - accuracy: 0.7981 - val_loss: 0.3860 - val_accuracy: 0.8289\n",
            "Epoch 81/100\n",
            "254/254 [==============================] - 1s 3ms/step - loss: 0.4355 - accuracy: 0.8020 - val_loss: 0.4167 - val_accuracy: 0.7989\n",
            "Epoch 82/100\n",
            "254/254 [==============================] - 1s 3ms/step - loss: 0.4328 - accuracy: 0.8017 - val_loss: 0.4372 - val_accuracy: 0.7933\n",
            "Epoch 83/100\n",
            "254/254 [==============================] - 1s 3ms/step - loss: 0.4347 - accuracy: 0.8000 - val_loss: 0.4748 - val_accuracy: 0.7489\n",
            "Epoch 84/100\n",
            "254/254 [==============================] - 1s 3ms/step - loss: 0.4364 - accuracy: 0.7983 - val_loss: 0.4227 - val_accuracy: 0.7900\n",
            "Epoch 85/100\n",
            "254/254 [==============================] - 1s 3ms/step - loss: 0.4329 - accuracy: 0.8033 - val_loss: 0.4383 - val_accuracy: 0.7811\n",
            "Epoch 86/100\n",
            "254/254 [==============================] - 1s 3ms/step - loss: 0.4361 - accuracy: 0.8002 - val_loss: 0.4299 - val_accuracy: 0.7811\n",
            "Epoch 87/100\n",
            "254/254 [==============================] - 1s 3ms/step - loss: 0.4348 - accuracy: 0.7962 - val_loss: 0.4565 - val_accuracy: 0.7656\n",
            "Epoch 88/100\n",
            "254/254 [==============================] - 1s 4ms/step - loss: 0.4334 - accuracy: 0.8006 - val_loss: 0.4778 - val_accuracy: 0.7489\n",
            "Epoch 89/100\n",
            "254/254 [==============================] - 1s 4ms/step - loss: 0.4353 - accuracy: 0.7991 - val_loss: 0.4668 - val_accuracy: 0.7667\n",
            "Epoch 90/100\n",
            "254/254 [==============================] - 1s 4ms/step - loss: 0.4338 - accuracy: 0.8000 - val_loss: 0.4207 - val_accuracy: 0.8000\n",
            "Epoch 91/100\n",
            "254/254 [==============================] - 1s 4ms/step - loss: 0.4338 - accuracy: 0.8035 - val_loss: 0.4672 - val_accuracy: 0.7578\n",
            "Epoch 92/100\n",
            "254/254 [==============================] - 1s 3ms/step - loss: 0.4319 - accuracy: 0.8005 - val_loss: 0.4591 - val_accuracy: 0.7633\n",
            "Epoch 93/100\n",
            "254/254 [==============================] - 1s 3ms/step - loss: 0.4341 - accuracy: 0.8002 - val_loss: 0.4302 - val_accuracy: 0.7822\n",
            "Epoch 94/100\n",
            "254/254 [==============================] - 1s 3ms/step - loss: 0.4316 - accuracy: 0.8027 - val_loss: 0.4278 - val_accuracy: 0.7944\n",
            "Epoch 95/100\n",
            "254/254 [==============================] - 1s 3ms/step - loss: 0.4323 - accuracy: 0.8010 - val_loss: 0.4471 - val_accuracy: 0.7733\n",
            "Epoch 96/100\n",
            "254/254 [==============================] - 1s 3ms/step - loss: 0.4351 - accuracy: 0.7989 - val_loss: 0.4163 - val_accuracy: 0.7933\n",
            "Epoch 97/100\n",
            "254/254 [==============================] - 1s 3ms/step - loss: 0.4335 - accuracy: 0.8035 - val_loss: 0.4551 - val_accuracy: 0.7744\n",
            "Epoch 98/100\n",
            "254/254 [==============================] - 1s 3ms/step - loss: 0.4326 - accuracy: 0.8000 - val_loss: 0.4160 - val_accuracy: 0.8000\n",
            "Epoch 99/100\n",
            "254/254 [==============================] - 1s 3ms/step - loss: 0.4298 - accuracy: 0.8004 - val_loss: 0.4226 - val_accuracy: 0.7933\n",
            "Epoch 100/100\n",
            "254/254 [==============================] - 1s 3ms/step - loss: 0.4318 - accuracy: 0.8040 - val_loss: 0.4441 - val_accuracy: 0.7700\n"
          ]
        },
        {
          "output_type": "execute_result",
          "data": {
            "text/plain": [
              "<keras.src.callbacks.History at 0x7cdbca987850>"
            ]
          },
          "metadata": {},
          "execution_count": 92
        }
      ]
    },
    {
      "cell_type": "code",
      "source": [
        "loss_df = pd.DataFrame(model.history.history)\n",
        "loss_df.plot()"
      ],
      "metadata": {
        "colab": {
          "base_uri": "https://localhost:8080/",
          "height": 447
        },
        "id": "s5AePIFQOqux",
        "outputId": "a6778402-5d8f-4ba9-82b1-62cc7b16491e"
      },
      "execution_count": 93,
      "outputs": [
        {
          "output_type": "execute_result",
          "data": {
            "text/plain": [
              "<Axes: >"
            ]
          },
          "metadata": {},
          "execution_count": 93
        },
        {
          "output_type": "display_data",
          "data": {
            "text/plain": [
              "<Figure size 640x480 with 1 Axes>"
            ],
            "image/png": "[encoded data removed]"
          },
          "metadata": {}
        }
      ]
    },
    {
      "cell_type": "code",
      "source": [
        "loss, accuracy = model.evaluate(X_test, y_test, verbose=0)\n",
        "print(\"loss : \", loss)\n",
        "print(\"accuracy : \", accuracy)"
      ],
      "metadata": {
        "colab": {
          "base_uri": "https://localhost:8080/"
        },
        "id": "CrReE94sPXpf",
        "outputId": "36500b81-304a-4067-b750-3c760a4cf50a"
      },
      "execution_count": 94,
      "outputs": [
        {
          "output_type": "stream",
          "name": "stdout",
          "text": [
            "loss :  0.4754829406738281\n",
            "accuracy :  0.7730000019073486\n"
          ]
        }
      ]
    },
    {
      "cell_type": "code",
      "source": [
        "y_pred = model.predict(X_test) > 0.5\n",
        "#y_pred = model.predict_classes(X_test) for tf 2.5.0\n",
        "print(confusion_matrix(y_test, y_pred))\n",
        "print(classification_report(y_test, y_pred))"
      ],
      "metadata": {
        "colab": {
          "base_uri": "https://localhost:8080/"
        },
        "id": "TQeeE6guPX0S",
        "outputId": "2852923e-559e-4fe2-d310-acd4c6253450"
      },
      "execution_count": 95,
      "outputs": [
        {
          "output_type": "stream",
          "name": "stdout",
          "text": [
            "32/32 [==============================] - 0s 3ms/step\n",
            "[[617 179]\n",
            " [ 48 156]]\n",
            "              precision    recall  f1-score   support\n",
            "\n",
            "           0       0.93      0.78      0.84       796\n",
            "           1       0.47      0.76      0.58       204\n",
            "\n",
            "    accuracy                           0.77      1000\n",
            "   macro avg       0.70      0.77      0.71      1000\n",
            "weighted avg       0.83      0.77      0.79      1000\n",
            "\n"
          ]
        }
      ]
    },
    {
      "cell_type": "markdown",
      "metadata": {
        "id": "wbZaPx8D3kwo"
      },
      "source": [
        "### Add Dropout Layer"
      ]
    },
    {
      "cell_type": "code",
      "execution_count": 96,
      "metadata": {
        "id": "US1kbYHu3kwo"
      },
      "outputs": [],
      "source": [
        "from tensorflow.keras.layers import Dropout"
      ]
    },
    {
      "cell_type": "code",
      "source": [
        "tf.random.set_seed(seed)\n",
        "\n",
        "model = Sequential()\n",
        "\n",
        "model.add(Dense(20, activation=\"relu\", input_dim = X_train.shape[1]))\n",
        "model.add(Dropout(0.5))\n",
        "\n",
        "model.add(Dense(10, activation=\"relu\"))\n",
        "model.add(Dropout(0.5))\n",
        "\n",
        "model.add(Dense(5, activation=\"relu\"))\n",
        "model.add(Dropout(0.5))\n",
        "\n",
        "model.add(Dense(1, activation=\"sigmoid\"))\n",
        "\n",
        "opt = Adam(lr = 0.001)\n",
        "model.compile(optimizer = opt, loss = \"binary_crossentropy\", metrics = [\"accuracy\"])"
      ],
      "metadata": {
        "colab": {
          "base_uri": "https://localhost:8080/"
        },
        "id": "Pt-hh97LPpbd",
        "outputId": "fa88312a-a1e3-406b-9948-7238d9022cca"
      },
      "execution_count": 97,
      "outputs": [
        {
          "output_type": "stream",
          "name": "stderr",
          "text": [
            "WARNING:absl:`lr` is deprecated in Keras optimizer, please use `learning_rate` or use the legacy optimizer, e.g.,tf.keras.optimizers.legacy.Adam.\n"
          ]
        }
      ]
    },
    {
      "cell_type": "code",
      "source": [
        "model.fit(x=X_train,\n",
        "          y=y_train,\n",
        "          validation_split=.1,\n",
        "          batch_size=32,\n",
        "          epochs=100,\n",
        "          verbose=1,\n",
        "          class_weight=class_weights)"
      ],
      "metadata": {
        "colab": {
          "base_uri": "https://localhost:8080/"
        },
        "id": "GpzneV5hPptF",
        "outputId": "05f2861d-2173-469f-fc6b-53adce557ac3"
      },
      "execution_count": 98,
      "outputs": [
        {
          "output_type": "stream",
          "name": "stdout",
          "text": [
            "Epoch 1/100\n",
            "254/254 [==============================] - 2s 4ms/step - loss: 0.7142 - accuracy: 0.3919 - val_loss: 0.6898 - val_accuracy: 0.7122\n",
            "Epoch 2/100\n",
            "254/254 [==============================] - 1s 3ms/step - loss: 0.6966 - accuracy: 0.6206 - val_loss: 0.6919 - val_accuracy: 0.7722\n",
            "Epoch 3/100\n",
            "254/254 [==============================] - 1s 3ms/step - loss: 0.6875 - accuracy: 0.6344 - val_loss: 0.6829 - val_accuracy: 0.7978\n",
            "Epoch 4/100\n",
            "254/254 [==============================] - 1s 4ms/step - loss: 0.6875 - accuracy: 0.6621 - val_loss: 0.6764 - val_accuracy: 0.8111\n",
            "Epoch 5/100\n",
            "254/254 [==============================] - 1s 5ms/step - loss: 0.6845 - accuracy: 0.6464 - val_loss: 0.6813 - val_accuracy: 0.7433\n",
            "Epoch 6/100\n",
            "254/254 [==============================] - 1s 4ms/step - loss: 0.6798 - accuracy: 0.6359 - val_loss: 0.6706 - val_accuracy: 0.7689\n",
            "Epoch 7/100\n",
            "254/254 [==============================] - 1s 4ms/step - loss: 0.6742 - accuracy: 0.6881 - val_loss: 0.6576 - val_accuracy: 0.7711\n",
            "Epoch 8/100\n",
            "254/254 [==============================] - 1s 3ms/step - loss: 0.6728 - accuracy: 0.6848 - val_loss: 0.6549 - val_accuracy: 0.7678\n",
            "Epoch 9/100\n",
            "254/254 [==============================] - 1s 3ms/step - loss: 0.6679 - accuracy: 0.7067 - val_loss: 0.6321 - val_accuracy: 0.7611\n",
            "Epoch 10/100\n",
            "254/254 [==============================] - 1s 3ms/step - loss: 0.6674 - accuracy: 0.6814 - val_loss: 0.6281 - val_accuracy: 0.7422\n",
            "Epoch 11/100\n",
            "254/254 [==============================] - 1s 3ms/step - loss: 0.6687 - accuracy: 0.6598 - val_loss: 0.6333 - val_accuracy: 0.7311\n",
            "Epoch 12/100\n",
            "254/254 [==============================] - 1s 3ms/step - loss: 0.6596 - accuracy: 0.6581 - val_loss: 0.6306 - val_accuracy: 0.7289\n",
            "Epoch 13/100\n",
            "254/254 [==============================] - 1s 3ms/step - loss: 0.6587 - accuracy: 0.6477 - val_loss: 0.6399 - val_accuracy: 0.6989\n",
            "Epoch 14/100\n",
            "254/254 [==============================] - 1s 3ms/step - loss: 0.6517 - accuracy: 0.6717 - val_loss: 0.6125 - val_accuracy: 0.7411\n",
            "Epoch 15/100\n",
            "254/254 [==============================] - 1s 3ms/step - loss: 0.6482 - accuracy: 0.6875 - val_loss: 0.5947 - val_accuracy: 0.7556\n",
            "Epoch 16/100\n",
            "254/254 [==============================] - 1s 3ms/step - loss: 0.6520 - accuracy: 0.6889 - val_loss: 0.6053 - val_accuracy: 0.7489\n",
            "Epoch 17/100\n",
            "254/254 [==============================] - 1s 3ms/step - loss: 0.6423 - accuracy: 0.6883 - val_loss: 0.5941 - val_accuracy: 0.7711\n",
            "Epoch 18/100\n",
            "254/254 [==============================] - 1s 3ms/step - loss: 0.6405 - accuracy: 0.6986 - val_loss: 0.5982 - val_accuracy: 0.7478\n",
            "Epoch 19/100\n",
            "254/254 [==============================] - 1s 3ms/step - loss: 0.6422 - accuracy: 0.7006 - val_loss: 0.5830 - val_accuracy: 0.7611\n",
            "Epoch 20/100\n",
            "254/254 [==============================] - 1s 3ms/step - loss: 0.6348 - accuracy: 0.7080 - val_loss: 0.5878 - val_accuracy: 0.7522\n",
            "Epoch 21/100\n",
            "254/254 [==============================] - 1s 5ms/step - loss: 0.6331 - accuracy: 0.6927 - val_loss: 0.5694 - val_accuracy: 0.7522\n",
            "Epoch 22/100\n",
            "254/254 [==============================] - 1s 4ms/step - loss: 0.6391 - accuracy: 0.7028 - val_loss: 0.5741 - val_accuracy: 0.7689\n",
            "Epoch 23/100\n",
            "254/254 [==============================] - 1s 4ms/step - loss: 0.6355 - accuracy: 0.7020 - val_loss: 0.5681 - val_accuracy: 0.7689\n",
            "Epoch 24/100\n",
            "254/254 [==============================] - 1s 4ms/step - loss: 0.6317 - accuracy: 0.7244 - val_loss: 0.5593 - val_accuracy: 0.7900\n",
            "Epoch 25/100\n",
            "254/254 [==============================] - 1s 5ms/step - loss: 0.6241 - accuracy: 0.7227 - val_loss: 0.5767 - val_accuracy: 0.7500\n",
            "Epoch 26/100\n",
            "254/254 [==============================] - 1s 6ms/step - loss: 0.6255 - accuracy: 0.7142 - val_loss: 0.5538 - val_accuracy: 0.7900\n",
            "Epoch 27/100\n",
            "254/254 [==============================] - 1s 5ms/step - loss: 0.6212 - accuracy: 0.7194 - val_loss: 0.5616 - val_accuracy: 0.7611\n",
            "Epoch 28/100\n",
            "254/254 [==============================] - 1s 4ms/step - loss: 0.6215 - accuracy: 0.7279 - val_loss: 0.5462 - val_accuracy: 0.7944\n",
            "Epoch 29/100\n",
            "254/254 [==============================] - 1s 3ms/step - loss: 0.6203 - accuracy: 0.7249 - val_loss: 0.5585 - val_accuracy: 0.7756\n",
            "Epoch 30/100\n",
            "254/254 [==============================] - 1s 3ms/step - loss: 0.6135 - accuracy: 0.7346 - val_loss: 0.5593 - val_accuracy: 0.7656\n",
            "Epoch 31/100\n",
            "254/254 [==============================] - 1s 3ms/step - loss: 0.6133 - accuracy: 0.7295 - val_loss: 0.5484 - val_accuracy: 0.7844\n",
            "Epoch 32/100\n",
            "254/254 [==============================] - 1s 3ms/step - loss: 0.6148 - accuracy: 0.7314 - val_loss: 0.5430 - val_accuracy: 0.7989\n",
            "Epoch 33/100\n",
            "254/254 [==============================] - 1s 3ms/step - loss: 0.6092 - accuracy: 0.7344 - val_loss: 0.5235 - val_accuracy: 0.8344\n",
            "Epoch 34/100\n",
            "254/254 [==============================] - 1s 3ms/step - loss: 0.6166 - accuracy: 0.7320 - val_loss: 0.5354 - val_accuracy: 0.8000\n",
            "Epoch 35/100\n",
            "254/254 [==============================] - 1s 4ms/step - loss: 0.6035 - accuracy: 0.7252 - val_loss: 0.5496 - val_accuracy: 0.7656\n",
            "Epoch 36/100\n",
            "254/254 [==============================] - 1s 4ms/step - loss: 0.6052 - accuracy: 0.7432 - val_loss: 0.5138 - val_accuracy: 0.8200\n",
            "Epoch 37/100\n",
            "254/254 [==============================] - 1s 4ms/step - loss: 0.6001 - accuracy: 0.7494 - val_loss: 0.5293 - val_accuracy: 0.8133\n",
            "Epoch 38/100\n",
            "254/254 [==============================] - 1s 4ms/step - loss: 0.5986 - accuracy: 0.7337 - val_loss: 0.5130 - val_accuracy: 0.8233\n",
            "Epoch 39/100\n",
            "254/254 [==============================] - 1s 6ms/step - loss: 0.6011 - accuracy: 0.7375 - val_loss: 0.5166 - val_accuracy: 0.8089\n",
            "Epoch 40/100\n",
            "254/254 [==============================] - 1s 4ms/step - loss: 0.6023 - accuracy: 0.7286 - val_loss: 0.5239 - val_accuracy: 0.8056\n",
            "Epoch 41/100\n",
            "254/254 [==============================] - 1s 5ms/step - loss: 0.6035 - accuracy: 0.7457 - val_loss: 0.5354 - val_accuracy: 0.7867\n",
            "Epoch 42/100\n",
            "254/254 [==============================] - 1s 3ms/step - loss: 0.5922 - accuracy: 0.7409 - val_loss: 0.5123 - val_accuracy: 0.8222\n",
            "Epoch 43/100\n",
            "254/254 [==============================] - 1s 3ms/step - loss: 0.5980 - accuracy: 0.7321 - val_loss: 0.5033 - val_accuracy: 0.8189\n",
            "Epoch 44/100\n",
            "254/254 [==============================] - 1s 3ms/step - loss: 0.6041 - accuracy: 0.7415 - val_loss: 0.5235 - val_accuracy: 0.8111\n",
            "Epoch 45/100\n",
            "254/254 [==============================] - 1s 3ms/step - loss: 0.5954 - accuracy: 0.7528 - val_loss: 0.4981 - val_accuracy: 0.8233\n",
            "Epoch 46/100\n",
            "254/254 [==============================] - 1s 3ms/step - loss: 0.6012 - accuracy: 0.7348 - val_loss: 0.5069 - val_accuracy: 0.8089\n",
            "Epoch 47/100\n",
            "254/254 [==============================] - 1s 3ms/step - loss: 0.5966 - accuracy: 0.7427 - val_loss: 0.4977 - val_accuracy: 0.8256\n",
            "Epoch 48/100\n",
            "254/254 [==============================] - 1s 3ms/step - loss: 0.5994 - accuracy: 0.7479 - val_loss: 0.4980 - val_accuracy: 0.8267\n",
            "Epoch 49/100\n",
            "254/254 [==============================] - 1s 3ms/step - loss: 0.5871 - accuracy: 0.7438 - val_loss: 0.4888 - val_accuracy: 0.8411\n",
            "Epoch 50/100\n",
            "254/254 [==============================] - 1s 3ms/step - loss: 0.5928 - accuracy: 0.7396 - val_loss: 0.5047 - val_accuracy: 0.8156\n",
            "Epoch 51/100\n",
            "254/254 [==============================] - 1s 4ms/step - loss: 0.5983 - accuracy: 0.7436 - val_loss: 0.5068 - val_accuracy: 0.8067\n",
            "Epoch 52/100\n",
            "254/254 [==============================] - 1s 5ms/step - loss: 0.5949 - accuracy: 0.7353 - val_loss: 0.5151 - val_accuracy: 0.7911\n",
            "Epoch 53/100\n",
            "254/254 [==============================] - 1s 4ms/step - loss: 0.5903 - accuracy: 0.7384 - val_loss: 0.4987 - val_accuracy: 0.8233\n",
            "Epoch 54/100\n",
            "254/254 [==============================] - 1s 4ms/step - loss: 0.5962 - accuracy: 0.7430 - val_loss: 0.5044 - val_accuracy: 0.8044\n",
            "Epoch 55/100\n",
            "254/254 [==============================] - 1s 3ms/step - loss: 0.5931 - accuracy: 0.7374 - val_loss: 0.4868 - val_accuracy: 0.8322\n",
            "Epoch 56/100\n",
            "254/254 [==============================] - 1s 3ms/step - loss: 0.5897 - accuracy: 0.7505 - val_loss: 0.5066 - val_accuracy: 0.7933\n",
            "Epoch 57/100\n",
            "254/254 [==============================] - 1s 3ms/step - loss: 0.5879 - accuracy: 0.7379 - val_loss: 0.5061 - val_accuracy: 0.8022\n",
            "Epoch 58/100\n",
            "254/254 [==============================] - 1s 3ms/step - loss: 0.5934 - accuracy: 0.7379 - val_loss: 0.4793 - val_accuracy: 0.8300\n",
            "Epoch 59/100\n",
            "254/254 [==============================] - 1s 3ms/step - loss: 0.5839 - accuracy: 0.7425 - val_loss: 0.4706 - val_accuracy: 0.8433\n",
            "Epoch 60/100\n",
            "254/254 [==============================] - 1s 3ms/step - loss: 0.5899 - accuracy: 0.7326 - val_loss: 0.5059 - val_accuracy: 0.7922\n",
            "Epoch 61/100\n",
            "254/254 [==============================] - 1s 3ms/step - loss: 0.5908 - accuracy: 0.7347 - val_loss: 0.5005 - val_accuracy: 0.8067\n",
            "Epoch 62/100\n",
            "254/254 [==============================] - 1s 3ms/step - loss: 0.5847 - accuracy: 0.7431 - val_loss: 0.5138 - val_accuracy: 0.7778\n",
            "Epoch 63/100\n",
            "254/254 [==============================] - 1s 3ms/step - loss: 0.5903 - accuracy: 0.7335 - val_loss: 0.5036 - val_accuracy: 0.7933\n",
            "Epoch 64/100\n",
            "254/254 [==============================] - 1s 3ms/step - loss: 0.5898 - accuracy: 0.7442 - val_loss: 0.4932 - val_accuracy: 0.8100\n",
            "Epoch 65/100\n",
            "254/254 [==============================] - 1s 3ms/step - loss: 0.5968 - accuracy: 0.7488 - val_loss: 0.4855 - val_accuracy: 0.8222\n",
            "Epoch 66/100\n",
            "254/254 [==============================] - 1s 3ms/step - loss: 0.5834 - accuracy: 0.7475 - val_loss: 0.4905 - val_accuracy: 0.8211\n",
            "Epoch 67/100\n",
            "254/254 [==============================] - 1s 3ms/step - loss: 0.5813 - accuracy: 0.7462 - val_loss: 0.4736 - val_accuracy: 0.8400\n",
            "Epoch 68/100\n",
            "254/254 [==============================] - 1s 5ms/step - loss: 0.5864 - accuracy: 0.7456 - val_loss: 0.4907 - val_accuracy: 0.8133\n",
            "Epoch 69/100\n",
            "254/254 [==============================] - 1s 5ms/step - loss: 0.5801 - accuracy: 0.7406 - val_loss: 0.5026 - val_accuracy: 0.7867\n",
            "Epoch 70/100\n",
            "254/254 [==============================] - 1s 5ms/step - loss: 0.5805 - accuracy: 0.7525 - val_loss: 0.4788 - val_accuracy: 0.8256\n",
            "Epoch 71/100\n",
            "254/254 [==============================] - 1s 4ms/step - loss: 0.5818 - accuracy: 0.7477 - val_loss: 0.4804 - val_accuracy: 0.8211\n",
            "Epoch 72/100\n",
            "254/254 [==============================] - 1s 3ms/step - loss: 0.5842 - accuracy: 0.7438 - val_loss: 0.4933 - val_accuracy: 0.8089\n",
            "Epoch 73/100\n",
            "254/254 [==============================] - 1s 3ms/step - loss: 0.5796 - accuracy: 0.7520 - val_loss: 0.4889 - val_accuracy: 0.8100\n",
            "Epoch 74/100\n",
            "254/254 [==============================] - 1s 3ms/step - loss: 0.5819 - accuracy: 0.7505 - val_loss: 0.4996 - val_accuracy: 0.7689\n",
            "Epoch 75/100\n",
            "254/254 [==============================] - 1s 3ms/step - loss: 0.5804 - accuracy: 0.7452 - val_loss: 0.4996 - val_accuracy: 0.7667\n",
            "Epoch 76/100\n",
            "254/254 [==============================] - 1s 3ms/step - loss: 0.5937 - accuracy: 0.7338 - val_loss: 0.5112 - val_accuracy: 0.7533\n",
            "Epoch 77/100\n",
            "254/254 [==============================] - 1s 3ms/step - loss: 0.5929 - accuracy: 0.7342 - val_loss: 0.5094 - val_accuracy: 0.7600\n",
            "Epoch 78/100\n",
            "254/254 [==============================] - 1s 3ms/step - loss: 0.5882 - accuracy: 0.7454 - val_loss: 0.5071 - val_accuracy: 0.7689\n",
            "Epoch 79/100\n",
            "254/254 [==============================] - 1s 3ms/step - loss: 0.5900 - accuracy: 0.7247 - val_loss: 0.5111 - val_accuracy: 0.7600\n",
            "Epoch 80/100\n",
            "254/254 [==============================] - 1s 3ms/step - loss: 0.5829 - accuracy: 0.7465 - val_loss: 0.4970 - val_accuracy: 0.7800\n",
            "Epoch 81/100\n",
            "254/254 [==============================] - 1s 3ms/step - loss: 0.5922 - accuracy: 0.7384 - val_loss: 0.4853 - val_accuracy: 0.7967\n",
            "Epoch 82/100\n",
            "254/254 [==============================] - 1s 3ms/step - loss: 0.5801 - accuracy: 0.7449 - val_loss: 0.4899 - val_accuracy: 0.7911\n",
            "Epoch 83/100\n",
            "254/254 [==============================] - 1s 3ms/step - loss: 0.5894 - accuracy: 0.7389 - val_loss: 0.4822 - val_accuracy: 0.7978\n",
            "Epoch 84/100\n",
            "254/254 [==============================] - 1s 4ms/step - loss: 0.5903 - accuracy: 0.7385 - val_loss: 0.5064 - val_accuracy: 0.7633\n",
            "Epoch 85/100\n",
            "254/254 [==============================] - 1s 4ms/step - loss: 0.5871 - accuracy: 0.7373 - val_loss: 0.5084 - val_accuracy: 0.7522\n",
            "Epoch 86/100\n",
            "254/254 [==============================] - 1s 4ms/step - loss: 0.5841 - accuracy: 0.7400 - val_loss: 0.4895 - val_accuracy: 0.7811\n",
            "Epoch 87/100\n",
            "254/254 [==============================] - 1s 5ms/step - loss: 0.5780 - accuracy: 0.7399 - val_loss: 0.4677 - val_accuracy: 0.8456\n",
            "Epoch 88/100\n",
            "254/254 [==============================] - 1s 3ms/step - loss: 0.5799 - accuracy: 0.7553 - val_loss: 0.4772 - val_accuracy: 0.7911\n",
            "Epoch 89/100\n",
            "254/254 [==============================] - 1s 3ms/step - loss: 0.5854 - accuracy: 0.7367 - val_loss: 0.4975 - val_accuracy: 0.7700\n",
            "Epoch 90/100\n",
            "254/254 [==============================] - 1s 3ms/step - loss: 0.5895 - accuracy: 0.7401 - val_loss: 0.4886 - val_accuracy: 0.7822\n",
            "Epoch 91/100\n",
            "254/254 [==============================] - 1s 3ms/step - loss: 0.5868 - accuracy: 0.7430 - val_loss: 0.4999 - val_accuracy: 0.7678\n",
            "Epoch 92/100\n",
            "254/254 [==============================] - 1s 3ms/step - loss: 0.5872 - accuracy: 0.7386 - val_loss: 0.5178 - val_accuracy: 0.7422\n",
            "Epoch 93/100\n",
            "254/254 [==============================] - 1s 3ms/step - loss: 0.5900 - accuracy: 0.7353 - val_loss: 0.4851 - val_accuracy: 0.7922\n",
            "Epoch 94/100\n",
            "254/254 [==============================] - 1s 3ms/step - loss: 0.5879 - accuracy: 0.7459 - val_loss: 0.5029 - val_accuracy: 0.7822\n",
            "Epoch 95/100\n",
            "254/254 [==============================] - 1s 3ms/step - loss: 0.5799 - accuracy: 0.7415 - val_loss: 0.4984 - val_accuracy: 0.7756\n",
            "Epoch 96/100\n",
            "254/254 [==============================] - 1s 3ms/step - loss: 0.5916 - accuracy: 0.7289 - val_loss: 0.4960 - val_accuracy: 0.7678\n",
            "Epoch 97/100\n",
            "254/254 [==============================] - 1s 3ms/step - loss: 0.5791 - accuracy: 0.7456 - val_loss: 0.4835 - val_accuracy: 0.7822\n",
            "Epoch 98/100\n",
            "254/254 [==============================] - 1s 3ms/step - loss: 0.5871 - accuracy: 0.7449 - val_loss: 0.4910 - val_accuracy: 0.7778\n",
            "Epoch 99/100\n",
            "254/254 [==============================] - 1s 3ms/step - loss: 0.5843 - accuracy: 0.7417 - val_loss: 0.5048 - val_accuracy: 0.7622\n",
            "Epoch 100/100\n",
            "254/254 [==============================] - 1s 3ms/step - loss: 0.5843 - accuracy: 0.7353 - val_loss: 0.4940 - val_accuracy: 0.7656\n"
          ]
        },
        {
          "output_type": "execute_result",
          "data": {
            "text/plain": [
              "<keras.src.callbacks.History at 0x7cdbca8c1960>"
            ]
          },
          "metadata": {},
          "execution_count": 98
        }
      ]
    },
    {
      "cell_type": "code",
      "source": [
        "loss_df = pd.DataFrame(model.history.history)\n",
        "loss_df.plot()"
      ],
      "metadata": {
        "colab": {
          "base_uri": "https://localhost:8080/",
          "height": 447
        },
        "id": "CDAaBtuMP47d",
        "outputId": "2f58871b-dfd9-47fd-ebed-7ad4619df5d1"
      },
      "execution_count": 99,
      "outputs": [
        {
          "output_type": "execute_result",
          "data": {
            "text/plain": [
              "<Axes: >"
            ]
          },
          "metadata": {},
          "execution_count": 99
        },
        {
          "output_type": "display_data",
          "data": {
            "text/plain": [
              "<Figure size 640x480 with 1 Axes>"
            ],
            "image/png": "[encoded data removed]"
          },
          "metadata": {}
        }
      ]
    },
    {
      "cell_type": "code",
      "source": [
        "loss, accuracy = model.evaluate(X_test, y_test, verbose=0)\n",
        "print(\"loss : \", loss)\n",
        "print(\"accuracy : \", accuracy)"
      ],
      "metadata": {
        "colab": {
          "base_uri": "https://localhost:8080/"
        },
        "id": "d5DlQMFYP5Ku",
        "outputId": "aa97a151-0e89-4767-eae0-eaead2ab43f6"
      },
      "execution_count": 100,
      "outputs": [
        {
          "output_type": "stream",
          "name": "stdout",
          "text": [
            "loss :  0.5312960743904114\n",
            "accuracy :  0.734000027179718\n"
          ]
        }
      ]
    },
    {
      "cell_type": "code",
      "source": [
        "y_pred = model.predict(X_test) > 0.5\n",
        "#y_pred = model.predict_classes(X_test) for tf 2.5.0\n",
        "print(confusion_matrix(y_test, y_pred))\n",
        "print(classification_report(y_test, y_pred))"
      ],
      "metadata": {
        "colab": {
          "base_uri": "https://localhost:8080/"
        },
        "id": "nJKiD7t1QU04",
        "outputId": "a55142e3-6f84-4af4-921e-eb1012442326"
      },
      "execution_count": 101,
      "outputs": [
        {
          "output_type": "stream",
          "name": "stdout",
          "text": [
            "32/32 [==============================] - 0s 2ms/step\n",
            "[[571 225]\n",
            " [ 41 163]]\n",
            "              precision    recall  f1-score   support\n",
            "\n",
            "           0       0.93      0.72      0.81       796\n",
            "           1       0.42      0.80      0.55       204\n",
            "\n",
            "    accuracy                           0.73      1000\n",
            "   macro avg       0.68      0.76      0.68      1000\n",
            "weighted avg       0.83      0.73      0.76      1000\n",
            "\n"
          ]
        }
      ]
    },
    {
      "cell_type": "code",
      "source": [],
      "metadata": {
        "id": "Fv7mObbaQVDl"
      },
      "execution_count": null,
      "outputs": []
    },
    {
      "cell_type": "markdown",
      "metadata": {
        "id": "_11XdmIf3kwo"
      },
      "source": [
        "### Add Early Stop"
      ]
    },
    {
      "cell_type": "markdown",
      "metadata": {
        "id": "On3Xs9dx3kwo"
      },
      "source": [
        "#### Monitor the \"val_loss\" as metric"
      ]
    },
    {
      "cell_type": "code",
      "execution_count": 102,
      "metadata": {
        "id": "0PY2oKjY3kwp"
      },
      "outputs": [],
      "source": [
        "from tensorflow.keras.callbacks import EarlyStopping"
      ]
    },
    {
      "cell_type": "code",
      "source": [
        "tf.random.set_seed(seed)\n",
        "\n",
        "model = Sequential()\n",
        "\n",
        "model.add(Dense(20, activation = \"relu\", input_dim = X_train.shape[1]))\n",
        "model.add(Dense(10, activation = \"relu\"))\n",
        "model.add(Dense(5, activation = \"relu\"))\n",
        "model.add(Dense(1, activation = \"sigmoid\"))\n",
        "\n",
        "model.compile(optimizer = \"adam\", loss = \"binary_crossentropy\", metrics = [\"accuracy\"])"
      ],
      "metadata": {
        "id": "qyjgik3YQm94"
      },
      "execution_count": 103,
      "outputs": []
    },
    {
      "cell_type": "code",
      "source": [
        "early_stop = EarlyStopping(monitor=\"val_loss\",\n",
        "                           mode=\"min\",\n",
        "                           verbose=1,\n",
        "                           patience=25,\n",
        "                           restore_best_weights = True)"
      ],
      "metadata": {
        "id": "ta_QTsK2Qna8"
      },
      "execution_count": 104,
      "outputs": []
    },
    {
      "cell_type": "code",
      "source": [
        "model.fit(x=X_train,\n",
        "          y=y_train,\n",
        "          validation_split=.1,\n",
        "          batch_size=32,\n",
        "          epochs=100,\n",
        "          verbose=1,\n",
        "          callbacks = [early_stop],\n",
        "          class_weight=class_weights)"
      ],
      "metadata": {
        "colab": {
          "base_uri": "https://localhost:8080/"
        },
        "id": "7PaODT98Qvd7",
        "outputId": "41bb7404-4efe-4353-9f06-b996644c67d8"
      },
      "execution_count": 105,
      "outputs": [
        {
          "output_type": "stream",
          "name": "stdout",
          "text": [
            "Epoch 1/100\n",
            "254/254 [==============================] - 3s 5ms/step - loss: 0.6636 - accuracy: 0.6683 - val_loss: 0.6100 - val_accuracy: 0.6944\n",
            "Epoch 2/100\n",
            "254/254 [==============================] - 1s 4ms/step - loss: 0.6147 - accuracy: 0.6543 - val_loss: 0.5859 - val_accuracy: 0.6989\n",
            "Epoch 3/100\n",
            "254/254 [==============================] - 1s 4ms/step - loss: 0.5956 - accuracy: 0.6757 - val_loss: 0.5657 - val_accuracy: 0.7022\n",
            "Epoch 4/100\n",
            "254/254 [==============================] - 1s 3ms/step - loss: 0.5869 - accuracy: 0.6870 - val_loss: 0.5893 - val_accuracy: 0.6856\n",
            "Epoch 5/100\n",
            "254/254 [==============================] - 1s 3ms/step - loss: 0.5842 - accuracy: 0.6896 - val_loss: 0.5316 - val_accuracy: 0.7356\n",
            "Epoch 6/100\n",
            "254/254 [==============================] - 1s 4ms/step - loss: 0.5799 - accuracy: 0.6951 - val_loss: 0.5502 - val_accuracy: 0.7178\n",
            "Epoch 7/100\n",
            "254/254 [==============================] - 1s 4ms/step - loss: 0.5771 - accuracy: 0.6993 - val_loss: 0.5092 - val_accuracy: 0.7489\n",
            "Epoch 8/100\n",
            "254/254 [==============================] - 1s 4ms/step - loss: 0.5756 - accuracy: 0.7005 - val_loss: 0.6103 - val_accuracy: 0.6556\n",
            "Epoch 9/100\n",
            "254/254 [==============================] - 1s 3ms/step - loss: 0.5734 - accuracy: 0.6962 - val_loss: 0.5626 - val_accuracy: 0.7100\n",
            "Epoch 10/100\n",
            "254/254 [==============================] - 1s 3ms/step - loss: 0.5699 - accuracy: 0.7005 - val_loss: 0.5414 - val_accuracy: 0.7256\n",
            "Epoch 11/100\n",
            "254/254 [==============================] - 1s 3ms/step - loss: 0.5661 - accuracy: 0.7065 - val_loss: 0.5816 - val_accuracy: 0.6811\n",
            "Epoch 12/100\n",
            "254/254 [==============================] - 1s 3ms/step - loss: 0.5623 - accuracy: 0.7077 - val_loss: 0.5690 - val_accuracy: 0.6978\n",
            "Epoch 13/100\n",
            "254/254 [==============================] - 1s 3ms/step - loss: 0.5580 - accuracy: 0.7059 - val_loss: 0.5806 - val_accuracy: 0.6900\n",
            "Epoch 14/100\n",
            "254/254 [==============================] - 1s 3ms/step - loss: 0.5541 - accuracy: 0.7125 - val_loss: 0.5883 - val_accuracy: 0.6711\n",
            "Epoch 15/100\n",
            "254/254 [==============================] - 1s 3ms/step - loss: 0.5472 - accuracy: 0.7200 - val_loss: 0.5082 - val_accuracy: 0.7444\n",
            "Epoch 16/100\n",
            "254/254 [==============================] - 1s 3ms/step - loss: 0.5400 - accuracy: 0.7240 - val_loss: 0.5170 - val_accuracy: 0.7322\n",
            "Epoch 17/100\n",
            "254/254 [==============================] - 1s 4ms/step - loss: 0.5300 - accuracy: 0.7409 - val_loss: 0.4944 - val_accuracy: 0.7522\n",
            "Epoch 18/100\n",
            "254/254 [==============================] - 1s 4ms/step - loss: 0.5197 - accuracy: 0.7464 - val_loss: 0.5059 - val_accuracy: 0.7289\n",
            "Epoch 19/100\n",
            "254/254 [==============================] - 1s 4ms/step - loss: 0.5121 - accuracy: 0.7473 - val_loss: 0.4544 - val_accuracy: 0.7822\n",
            "Epoch 20/100\n",
            "254/254 [==============================] - 1s 4ms/step - loss: 0.5059 - accuracy: 0.7535 - val_loss: 0.4100 - val_accuracy: 0.8244\n",
            "Epoch 21/100\n",
            "254/254 [==============================] - 1s 3ms/step - loss: 0.4988 - accuracy: 0.7572 - val_loss: 0.4557 - val_accuracy: 0.7744\n",
            "Epoch 22/100\n",
            "254/254 [==============================] - 1s 3ms/step - loss: 0.4948 - accuracy: 0.7599 - val_loss: 0.4788 - val_accuracy: 0.7556\n",
            "Epoch 23/100\n",
            "254/254 [==============================] - 1s 3ms/step - loss: 0.4939 - accuracy: 0.7607 - val_loss: 0.4023 - val_accuracy: 0.8233\n",
            "Epoch 24/100\n",
            "254/254 [==============================] - 1s 3ms/step - loss: 0.4904 - accuracy: 0.7614 - val_loss: 0.5101 - val_accuracy: 0.7244\n",
            "Epoch 25/100\n",
            "254/254 [==============================] - 1s 3ms/step - loss: 0.4866 - accuracy: 0.7622 - val_loss: 0.4236 - val_accuracy: 0.8100\n",
            "Epoch 26/100\n",
            "254/254 [==============================] - 1s 3ms/step - loss: 0.4855 - accuracy: 0.7649 - val_loss: 0.4733 - val_accuracy: 0.7567\n",
            "Epoch 27/100\n",
            "254/254 [==============================] - 1s 3ms/step - loss: 0.4867 - accuracy: 0.7678 - val_loss: 0.4678 - val_accuracy: 0.7633\n",
            "Epoch 28/100\n",
            "254/254 [==============================] - 1s 3ms/step - loss: 0.4826 - accuracy: 0.7642 - val_loss: 0.4242 - val_accuracy: 0.8067\n",
            "Epoch 29/100\n",
            "254/254 [==============================] - 1s 3ms/step - loss: 0.4797 - accuracy: 0.7727 - val_loss: 0.4644 - val_accuracy: 0.7589\n",
            "Epoch 30/100\n",
            "254/254 [==============================] - 1s 3ms/step - loss: 0.4793 - accuracy: 0.7677 - val_loss: 0.4204 - val_accuracy: 0.7967\n",
            "Epoch 31/100\n",
            "254/254 [==============================] - 1s 3ms/step - loss: 0.4790 - accuracy: 0.7695 - val_loss: 0.4421 - val_accuracy: 0.7867\n",
            "Epoch 32/100\n",
            "254/254 [==============================] - 1s 3ms/step - loss: 0.4787 - accuracy: 0.7668 - val_loss: 0.4074 - val_accuracy: 0.8111\n",
            "Epoch 33/100\n",
            "254/254 [==============================] - 1s 3ms/step - loss: 0.4770 - accuracy: 0.7693 - val_loss: 0.3974 - val_accuracy: 0.8189\n",
            "Epoch 34/100\n",
            "254/254 [==============================] - 1s 3ms/step - loss: 0.4772 - accuracy: 0.7751 - val_loss: 0.4320 - val_accuracy: 0.7989\n",
            "Epoch 35/100\n",
            "254/254 [==============================] - 1s 4ms/step - loss: 0.4779 - accuracy: 0.7723 - val_loss: 0.4129 - val_accuracy: 0.8122\n",
            "Epoch 36/100\n",
            "254/254 [==============================] - 1s 4ms/step - loss: 0.4754 - accuracy: 0.7757 - val_loss: 0.4123 - val_accuracy: 0.8167\n",
            "Epoch 37/100\n",
            "254/254 [==============================] - 1s 4ms/step - loss: 0.4740 - accuracy: 0.7768 - val_loss: 0.4462 - val_accuracy: 0.7811\n",
            "Epoch 38/100\n",
            "254/254 [==============================] - 1s 4ms/step - loss: 0.4763 - accuracy: 0.7720 - val_loss: 0.4855 - val_accuracy: 0.7522\n",
            "Epoch 39/100\n",
            "254/254 [==============================] - 1s 3ms/step - loss: 0.4736 - accuracy: 0.7779 - val_loss: 0.4049 - val_accuracy: 0.8111\n",
            "Epoch 40/100\n",
            "254/254 [==============================] - 1s 3ms/step - loss: 0.4718 - accuracy: 0.7775 - val_loss: 0.3834 - val_accuracy: 0.8344\n",
            "Epoch 41/100\n",
            "254/254 [==============================] - 1s 3ms/step - loss: 0.4724 - accuracy: 0.7790 - val_loss: 0.4442 - val_accuracy: 0.7822\n",
            "Epoch 42/100\n",
            "254/254 [==============================] - 1s 3ms/step - loss: 0.4692 - accuracy: 0.7743 - val_loss: 0.4340 - val_accuracy: 0.7856\n",
            "Epoch 43/100\n",
            "254/254 [==============================] - 1s 3ms/step - loss: 0.4699 - accuracy: 0.7775 - val_loss: 0.4260 - val_accuracy: 0.8000\n",
            "Epoch 44/100\n",
            "254/254 [==============================] - 1s 3ms/step - loss: 0.4684 - accuracy: 0.7773 - val_loss: 0.4664 - val_accuracy: 0.7667\n",
            "Epoch 45/100\n",
            "254/254 [==============================] - 1s 5ms/step - loss: 0.4678 - accuracy: 0.7790 - val_loss: 0.4111 - val_accuracy: 0.8178\n",
            "Epoch 46/100\n",
            "254/254 [==============================] - 1s 5ms/step - loss: 0.4669 - accuracy: 0.7802 - val_loss: 0.4541 - val_accuracy: 0.7756\n",
            "Epoch 47/100\n",
            "254/254 [==============================] - 1s 4ms/step - loss: 0.4673 - accuracy: 0.7777 - val_loss: 0.4099 - val_accuracy: 0.8133\n",
            "Epoch 48/100\n",
            "254/254 [==============================] - 1s 3ms/step - loss: 0.4668 - accuracy: 0.7854 - val_loss: 0.4129 - val_accuracy: 0.8133\n",
            "Epoch 49/100\n",
            "254/254 [==============================] - 1s 3ms/step - loss: 0.4656 - accuracy: 0.7828 - val_loss: 0.4037 - val_accuracy: 0.8211\n",
            "Epoch 50/100\n",
            "254/254 [==============================] - 2s 9ms/step - loss: 0.4661 - accuracy: 0.7826 - val_loss: 0.4199 - val_accuracy: 0.7989\n",
            "Epoch 51/100\n",
            "254/254 [==============================] - 2s 9ms/step - loss: 0.4646 - accuracy: 0.7821 - val_loss: 0.3894 - val_accuracy: 0.8322\n",
            "Epoch 52/100\n",
            "254/254 [==============================] - 2s 7ms/step - loss: 0.4641 - accuracy: 0.7830 - val_loss: 0.4199 - val_accuracy: 0.8089\n",
            "Epoch 53/100\n",
            "254/254 [==============================] - 1s 4ms/step - loss: 0.4636 - accuracy: 0.7832 - val_loss: 0.4101 - val_accuracy: 0.8178\n",
            "Epoch 54/100\n",
            "254/254 [==============================] - 1s 3ms/step - loss: 0.4635 - accuracy: 0.7826 - val_loss: 0.3914 - val_accuracy: 0.8267\n",
            "Epoch 55/100\n",
            "254/254 [==============================] - 1s 3ms/step - loss: 0.4636 - accuracy: 0.7868 - val_loss: 0.4532 - val_accuracy: 0.7744\n",
            "Epoch 56/100\n",
            "254/254 [==============================] - 1s 3ms/step - loss: 0.4630 - accuracy: 0.7835 - val_loss: 0.4274 - val_accuracy: 0.7900\n",
            "Epoch 57/100\n",
            "254/254 [==============================] - 1s 3ms/step - loss: 0.4632 - accuracy: 0.7857 - val_loss: 0.4180 - val_accuracy: 0.8078\n",
            "Epoch 58/100\n",
            "254/254 [==============================] - 1s 3ms/step - loss: 0.4612 - accuracy: 0.7817 - val_loss: 0.4380 - val_accuracy: 0.7856\n",
            "Epoch 59/100\n",
            "254/254 [==============================] - 1s 3ms/step - loss: 0.4599 - accuracy: 0.7935 - val_loss: 0.4295 - val_accuracy: 0.7933\n",
            "Epoch 60/100\n",
            "254/254 [==============================] - 1s 3ms/step - loss: 0.4618 - accuracy: 0.7872 - val_loss: 0.4398 - val_accuracy: 0.7844\n",
            "Epoch 61/100\n",
            "254/254 [==============================] - 1s 3ms/step - loss: 0.4599 - accuracy: 0.7862 - val_loss: 0.3830 - val_accuracy: 0.8400\n",
            "Epoch 62/100\n",
            "254/254 [==============================] - 1s 3ms/step - loss: 0.4589 - accuracy: 0.7873 - val_loss: 0.4227 - val_accuracy: 0.8100\n",
            "Epoch 63/100\n",
            "254/254 [==============================] - 1s 3ms/step - loss: 0.4601 - accuracy: 0.7931 - val_loss: 0.4339 - val_accuracy: 0.7933\n",
            "Epoch 64/100\n",
            "254/254 [==============================] - 1s 3ms/step - loss: 0.4600 - accuracy: 0.7862 - val_loss: 0.4241 - val_accuracy: 0.7989\n",
            "Epoch 65/100\n",
            "254/254 [==============================] - 1s 3ms/step - loss: 0.4567 - accuracy: 0.7954 - val_loss: 0.4122 - val_accuracy: 0.8022\n",
            "Epoch 66/100\n",
            "254/254 [==============================] - 1s 4ms/step - loss: 0.4575 - accuracy: 0.7886 - val_loss: 0.4735 - val_accuracy: 0.7556\n",
            "Epoch 67/100\n",
            "254/254 [==============================] - 1s 4ms/step - loss: 0.4594 - accuracy: 0.7895 - val_loss: 0.3715 - val_accuracy: 0.8467\n",
            "Epoch 68/100\n",
            "254/254 [==============================] - 1s 4ms/step - loss: 0.4587 - accuracy: 0.7916 - val_loss: 0.3981 - val_accuracy: 0.8267\n",
            "Epoch 69/100\n",
            "254/254 [==============================] - 1s 4ms/step - loss: 0.4578 - accuracy: 0.7911 - val_loss: 0.4040 - val_accuracy: 0.8156\n",
            "Epoch 70/100\n",
            "254/254 [==============================] - 1s 3ms/step - loss: 0.4585 - accuracy: 0.7916 - val_loss: 0.4292 - val_accuracy: 0.7933\n",
            "Epoch 71/100\n",
            "254/254 [==============================] - 1s 3ms/step - loss: 0.4569 - accuracy: 0.7937 - val_loss: 0.4039 - val_accuracy: 0.8244\n",
            "Epoch 72/100\n",
            "254/254 [==============================] - 1s 3ms/step - loss: 0.4561 - accuracy: 0.7938 - val_loss: 0.4220 - val_accuracy: 0.8056\n",
            "Epoch 73/100\n",
            "254/254 [==============================] - 1s 3ms/step - loss: 0.4558 - accuracy: 0.7915 - val_loss: 0.3768 - val_accuracy: 0.8378\n",
            "Epoch 74/100\n",
            "254/254 [==============================] - 1s 3ms/step - loss: 0.4572 - accuracy: 0.7879 - val_loss: 0.3864 - val_accuracy: 0.8367\n",
            "Epoch 75/100\n",
            "254/254 [==============================] - 1s 3ms/step - loss: 0.4555 - accuracy: 0.7912 - val_loss: 0.3805 - val_accuracy: 0.8456\n",
            "Epoch 76/100\n",
            "254/254 [==============================] - 1s 3ms/step - loss: 0.4597 - accuracy: 0.7919 - val_loss: 0.3836 - val_accuracy: 0.8344\n",
            "Epoch 77/100\n",
            "254/254 [==============================] - 1s 3ms/step - loss: 0.4574 - accuracy: 0.7935 - val_loss: 0.3866 - val_accuracy: 0.8300\n",
            "Epoch 78/100\n",
            "254/254 [==============================] - 1s 3ms/step - loss: 0.4560 - accuracy: 0.7911 - val_loss: 0.3982 - val_accuracy: 0.8233\n",
            "Epoch 79/100\n",
            "254/254 [==============================] - 1s 3ms/step - loss: 0.4564 - accuracy: 0.7930 - val_loss: 0.3615 - val_accuracy: 0.8578\n",
            "Epoch 80/100\n",
            "254/254 [==============================] - 1s 3ms/step - loss: 0.4539 - accuracy: 0.7936 - val_loss: 0.3658 - val_accuracy: 0.8533\n",
            "Epoch 81/100\n",
            "254/254 [==============================] - 1s 3ms/step - loss: 0.4544 - accuracy: 0.7946 - val_loss: 0.3856 - val_accuracy: 0.8367\n",
            "Epoch 82/100\n",
            "254/254 [==============================] - 1s 3ms/step - loss: 0.4534 - accuracy: 0.7957 - val_loss: 0.4008 - val_accuracy: 0.8167\n",
            "Epoch 83/100\n",
            "254/254 [==============================] - 1s 3ms/step - loss: 0.4544 - accuracy: 0.7951 - val_loss: 0.4139 - val_accuracy: 0.7978\n",
            "Epoch 84/100\n",
            "254/254 [==============================] - 1s 3ms/step - loss: 0.4561 - accuracy: 0.7927 - val_loss: 0.4026 - val_accuracy: 0.8189\n",
            "Epoch 85/100\n",
            "254/254 [==============================] - 1s 4ms/step - loss: 0.4521 - accuracy: 0.7974 - val_loss: 0.4127 - val_accuracy: 0.8044\n",
            "Epoch 86/100\n",
            "254/254 [==============================] - 1s 4ms/step - loss: 0.4546 - accuracy: 0.7946 - val_loss: 0.4191 - val_accuracy: 0.7978\n",
            "Epoch 87/100\n",
            "254/254 [==============================] - 1s 4ms/step - loss: 0.4552 - accuracy: 0.7937 - val_loss: 0.4501 - val_accuracy: 0.7733\n",
            "Epoch 88/100\n",
            "254/254 [==============================] - 1s 4ms/step - loss: 0.4534 - accuracy: 0.7972 - val_loss: 0.4408 - val_accuracy: 0.7822\n",
            "Epoch 89/100\n",
            "254/254 [==============================] - 1s 3ms/step - loss: 0.4558 - accuracy: 0.7962 - val_loss: 0.4228 - val_accuracy: 0.7922\n",
            "Epoch 90/100\n",
            "254/254 [==============================] - 1s 3ms/step - loss: 0.4531 - accuracy: 0.7938 - val_loss: 0.4002 - val_accuracy: 0.8156\n",
            "Epoch 91/100\n",
            "254/254 [==============================] - 1s 3ms/step - loss: 0.4530 - accuracy: 0.7977 - val_loss: 0.4388 - val_accuracy: 0.7856\n",
            "Epoch 92/100\n",
            "254/254 [==============================] - 1s 3ms/step - loss: 0.4521 - accuracy: 0.7957 - val_loss: 0.4591 - val_accuracy: 0.7678\n",
            "Epoch 93/100\n",
            "254/254 [==============================] - 1s 3ms/step - loss: 0.4531 - accuracy: 0.7972 - val_loss: 0.4179 - val_accuracy: 0.7989\n",
            "Epoch 94/100\n",
            "254/254 [==============================] - 1s 3ms/step - loss: 0.4512 - accuracy: 0.7956 - val_loss: 0.4271 - val_accuracy: 0.7967\n",
            "Epoch 95/100\n",
            "254/254 [==============================] - 1s 3ms/step - loss: 0.4524 - accuracy: 0.7960 - val_loss: 0.4376 - val_accuracy: 0.7811\n",
            "Epoch 96/100\n",
            "254/254 [==============================] - 1s 5ms/step - loss: 0.4531 - accuracy: 0.7944 - val_loss: 0.4301 - val_accuracy: 0.7811\n",
            "Epoch 97/100\n",
            "254/254 [==============================] - 1s 3ms/step - loss: 0.4558 - accuracy: 0.7962 - val_loss: 0.4268 - val_accuracy: 0.7944\n",
            "Epoch 98/100\n",
            "254/254 [==============================] - 1s 3ms/step - loss: 0.4529 - accuracy: 0.7962 - val_loss: 0.3850 - val_accuracy: 0.8367\n",
            "Epoch 99/100\n",
            "254/254 [==============================] - 1s 3ms/step - loss: 0.4507 - accuracy: 0.7957 - val_loss: 0.3939 - val_accuracy: 0.8278\n",
            "Epoch 100/100\n",
            "254/254 [==============================] - 1s 3ms/step - loss: 0.4513 - accuracy: 0.8010 - val_loss: 0.4283 - val_accuracy: 0.7933\n"
          ]
        },
        {
          "output_type": "execute_result",
          "data": {
            "text/plain": [
              "<keras.src.callbacks.History at 0x7cdbcac99d80>"
            ]
          },
          "metadata": {},
          "execution_count": 105
        }
      ]
    },
    {
      "cell_type": "code",
      "source": [
        "loss_df = pd.DataFrame(model.history.history)\n",
        "loss_df.plot()"
      ],
      "metadata": {
        "colab": {
          "base_uri": "https://localhost:8080/",
          "height": 447
        },
        "id": "bPzMx1NjQ2JS",
        "outputId": "59522b5f-0eca-4f5b-faf7-74b788145e4f"
      },
      "execution_count": 106,
      "outputs": [
        {
          "output_type": "execute_result",
          "data": {
            "text/plain": [
              "<Axes: >"
            ]
          },
          "metadata": {},
          "execution_count": 106
        },
        {
          "output_type": "display_data",
          "data": {
            "text/plain": [
              "<Figure size 640x480 with 1 Axes>"
            ],
            "image/png": "[encoded data removed]"
          },
          "metadata": {}
        }
      ]
    },
    {
      "cell_type": "code",
      "source": [
        "loss, accuracy = model.evaluate(X_test, y_test, verbose=0)\n",
        "print(\"loss : \", loss)\n",
        "print(\"accuracy : \", accuracy)"
      ],
      "metadata": {
        "colab": {
          "base_uri": "https://localhost:8080/"
        },
        "id": "t2GHuw94RQXj",
        "outputId": "4c2f7f3a-7b57-4970-9319-5e67da3b0fda"
      },
      "execution_count": 107,
      "outputs": [
        {
          "output_type": "stream",
          "name": "stdout",
          "text": [
            "loss :  0.46748560667037964\n",
            "accuracy :  0.7720000147819519\n"
          ]
        }
      ]
    },
    {
      "cell_type": "markdown",
      "metadata": {
        "id": "u_kdtet23kwp"
      },
      "source": [
        "#### Monitor the \"val_recall\" as metric"
      ]
    },
    {
      "cell_type": "code",
      "execution_count": 108,
      "metadata": {
        "id": "Xxi-Fo1w3kwp",
        "colab": {
          "base_uri": "https://localhost:8080/"
        },
        "outputId": "dda26f41-efbd-4bef-f24a-af9f228dd982"
      },
      "outputs": [
        {
          "output_type": "stream",
          "name": "stdout",
          "text": [
            "32/32 [==============================] - 0s 2ms/step\n",
            "[[613 183]\n",
            " [ 45 159]]\n",
            "              precision    recall  f1-score   support\n",
            "\n",
            "           0       0.93      0.77      0.84       796\n",
            "           1       0.46      0.78      0.58       204\n",
            "\n",
            "    accuracy                           0.77      1000\n",
            "   macro avg       0.70      0.77      0.71      1000\n",
            "weighted avg       0.84      0.77      0.79      1000\n",
            "\n"
          ]
        }
      ],
      "source": [
        "y_pred = model.predict(X_test) > 0.5\n",
        "#y_pred = model.predict_classes(X_test) for tf 2.5.0\n",
        "print(confusion_matrix(y_test, y_pred))\n",
        "print(classification_report(y_test, y_pred))"
      ]
    },
    {
      "cell_type": "code",
      "source": [],
      "metadata": {
        "id": "K26Ih8u0RaCZ"
      },
      "execution_count": null,
      "outputs": []
    },
    {
      "cell_type": "markdown",
      "metadata": {
        "id": "Qw_-rXAg3kwp"
      },
      "source": [
        "## Optuna"
      ]
    },
    {
      "cell_type": "code",
      "execution_count": null,
      "metadata": {
        "id": "qYDC_-_n3kwp"
      },
      "outputs": [],
      "source": []
    },
    {
      "cell_type": "markdown",
      "metadata": {
        "id": "yPGZmFrb3kwp"
      },
      "source": [
        "### Evaluate The Model\n",
        "\n",
        "- Plot the model history to observe the changing of metrics\n",
        "- Make prediction to see \"confusion matrix\" and \"classification report\"\n",
        "- Check ROC (Receiver Operating Curve) and AUC (Area Under Curve) for the model"
      ]
    },
    {
      "cell_type": "code",
      "execution_count": 109,
      "metadata": {
        "id": "ONp4E5qP3kwp",
        "colab": {
          "base_uri": "https://localhost:8080/",
          "height": 489
        },
        "outputId": "7ae15078-549e-4609-a8e2-74405d349f01"
      },
      "outputs": [
        {
          "output_type": "stream",
          "name": "stdout",
          "text": [
            "32/32 [==============================] - 0s 2ms/step\n"
          ]
        },
        {
          "output_type": "display_data",
          "data": {
            "text/plain": [
              "<Figure size 640x480 with 1 Axes>"
            ],
            "image/png": "[encoded data removed]"
          },
          "metadata": {}
        }
      ],
      "source": [
        "y_pred_proba = model.predict(X_test)\n",
        "fpr, tpr, thresholds = roc_curve(y_test, y_pred_proba)\n",
        "plt.plot([0,1],[0,1],'k--')\n",
        "plt.plot(fpr,tpr, label='ANN')\n",
        "plt.xlabel('fpr')\n",
        "plt.ylabel('tpr')\n",
        "plt.title('ROC curve')\n",
        "plt.show()"
      ]
    },
    {
      "cell_type": "code",
      "source": [
        "roc_auc_score(y_test, y_pred_proba)"
      ],
      "metadata": {
        "colab": {
          "base_uri": "https://localhost:8080/"
        },
        "id": "CdpD5DzDRoTt",
        "outputId": "b72bdede-ec96-47d9-c495-bbeb18984b3a"
      },
      "execution_count": 110,
      "outputs": [
        {
          "output_type": "execute_result",
          "data": {
            "text/plain": [
              "0.865220711400138"
            ]
          },
          "metadata": {},
          "execution_count": 110
        }
      ]
    },
    {
      "cell_type": "code",
      "source": [
        "roc_auc_score(y_test, y_pred_proba)"
      ],
      "metadata": {
        "colab": {
          "base_uri": "https://localhost:8080/"
        },
        "id": "YYlQEHOJRt7v",
        "outputId": "364d9273-9d5e-4a4a-db66-ed3456f17dfd"
      },
      "execution_count": 112,
      "outputs": [
        {
          "output_type": "execute_result",
          "data": {
            "text/plain": [
              "0.865220711400138"
            ]
          },
          "metadata": {},
          "execution_count": 112
        }
      ]
    },
    {
      "cell_type": "markdown",
      "metadata": {
        "id": "1Vn3tJ1H3kwp"
      },
      "source": [
        "# Final Model and Model Deployment"
      ]
    },
    {
      "cell_type": "code",
      "execution_count": 113,
      "metadata": {
        "id": "Bd8211FF3kwp"
      },
      "outputs": [],
      "source": [
        "import pickle\n",
        "pickle.dump(scaler, open(\"scaler_cancer\", 'wb'))"
      ]
    },
    {
      "cell_type": "code",
      "source": [
        "tf.random.set_seed(seed)\n",
        "\n",
        "model = Sequential()\n",
        "\n",
        "model.add(Dense(20, activation = \"relu\", input_dim = X_train.shape[1]))\n",
        "model.add(Dense(10, activation = \"relu\"))\n",
        "model.add(Dense(5, activation = \"relu\"))\n",
        "model.add(Dense(1, activation = \"sigmoid\"))\n",
        "\n",
        "model.compile(optimizer = \"adam\", loss = \"binary_crossentropy\", metrics = [\"accuracy\"])"
      ],
      "metadata": {
        "id": "Dy2wb1boSBWt"
      },
      "execution_count": 114,
      "outputs": []
    },
    {
      "cell_type": "code",
      "source": [
        "early_stop = EarlyStopping(monitor = \"val_loss\", mode = \"min\", verbose = 1, patience = 15, restore_best_weights = True)"
      ],
      "metadata": {
        "id": "9fvHrd_qSBiE"
      },
      "execution_count": 115,
      "outputs": []
    },
    {
      "cell_type": "code",
      "source": [
        "model.fit(x = X_train, y = y_train, validation_data = (X_test, y_test), batch_size = 32, epochs = 200, verbose = 1,\n",
        "          callbacks = [early_stop])"
      ],
      "metadata": {
        "colab": {
          "base_uri": "https://localhost:8080/"
        },
        "id": "3yHAmsGoSKEo",
        "outputId": "f74daf1e-21d1-495a-ca08-9efd446bb220"
      },
      "execution_count": 117,
      "outputs": [
        {
          "output_type": "stream",
          "name": "stdout",
          "text": [
            "Epoch 1/200\n",
            "282/282 [==============================] - 1s 4ms/step - loss: 0.3706 - accuracy: 0.8427 - val_loss: 0.3721 - val_accuracy: 0.8400\n",
            "Epoch 2/200\n",
            "282/282 [==============================] - 1s 4ms/step - loss: 0.3615 - accuracy: 0.8486 - val_loss: 0.3755 - val_accuracy: 0.8460\n",
            "Epoch 3/200\n",
            "282/282 [==============================] - 1s 4ms/step - loss: 0.3581 - accuracy: 0.8493 - val_loss: 0.3698 - val_accuracy: 0.8450\n",
            "Epoch 4/200\n",
            "282/282 [==============================] - 1s 4ms/step - loss: 0.3554 - accuracy: 0.8523 - val_loss: 0.3655 - val_accuracy: 0.8540\n",
            "Epoch 5/200\n",
            "282/282 [==============================] - 1s 3ms/step - loss: 0.3523 - accuracy: 0.8538 - val_loss: 0.3585 - val_accuracy: 0.8500\n",
            "Epoch 6/200\n",
            "282/282 [==============================] - 1s 3ms/step - loss: 0.3506 - accuracy: 0.8522 - val_loss: 0.3567 - val_accuracy: 0.8510\n",
            "Epoch 7/200\n",
            "282/282 [==============================] - 1s 2ms/step - loss: 0.3497 - accuracy: 0.8559 - val_loss: 0.3566 - val_accuracy: 0.8530\n",
            "Epoch 8/200\n",
            "282/282 [==============================] - 1s 2ms/step - loss: 0.3481 - accuracy: 0.8550 - val_loss: 0.3566 - val_accuracy: 0.8480\n",
            "Epoch 9/200\n",
            "282/282 [==============================] - 1s 2ms/step - loss: 0.3469 - accuracy: 0.8556 - val_loss: 0.3559 - val_accuracy: 0.8530\n",
            "Epoch 10/200\n",
            "282/282 [==============================] - 1s 2ms/step - loss: 0.3446 - accuracy: 0.8558 - val_loss: 0.3539 - val_accuracy: 0.8510\n",
            "Epoch 11/200\n",
            "282/282 [==============================] - 1s 2ms/step - loss: 0.3438 - accuracy: 0.8570 - val_loss: 0.3537 - val_accuracy: 0.8520\n",
            "Epoch 12/200\n",
            "282/282 [==============================] - 1s 2ms/step - loss: 0.3429 - accuracy: 0.8568 - val_loss: 0.3566 - val_accuracy: 0.8480\n",
            "Epoch 13/200\n",
            "282/282 [==============================] - 1s 3ms/step - loss: 0.3438 - accuracy: 0.8566 - val_loss: 0.3561 - val_accuracy: 0.8480\n",
            "Epoch 14/200\n",
            "282/282 [==============================] - 1s 2ms/step - loss: 0.3416 - accuracy: 0.8567 - val_loss: 0.3508 - val_accuracy: 0.8560\n",
            "Epoch 15/200\n",
            "282/282 [==============================] - 1s 3ms/step - loss: 0.3404 - accuracy: 0.8581 - val_loss: 0.3502 - val_accuracy: 0.8530\n",
            "Epoch 16/200\n",
            "282/282 [==============================] - 1s 3ms/step - loss: 0.3406 - accuracy: 0.8569 - val_loss: 0.3531 - val_accuracy: 0.8490\n",
            "Epoch 17/200\n",
            "282/282 [==============================] - 1s 2ms/step - loss: 0.3396 - accuracy: 0.8577 - val_loss: 0.3503 - val_accuracy: 0.8510\n",
            "Epoch 18/200\n",
            "282/282 [==============================] - 1s 3ms/step - loss: 0.3389 - accuracy: 0.8587 - val_loss: 0.3522 - val_accuracy: 0.8520\n",
            "Epoch 19/200\n",
            "282/282 [==============================] - 1s 4ms/step - loss: 0.3378 - accuracy: 0.8584 - val_loss: 0.3485 - val_accuracy: 0.8520\n",
            "Epoch 20/200\n",
            "282/282 [==============================] - 1s 4ms/step - loss: 0.3380 - accuracy: 0.8596 - val_loss: 0.3556 - val_accuracy: 0.8470\n",
            "Epoch 21/200\n",
            "282/282 [==============================] - 1s 4ms/step - loss: 0.3370 - accuracy: 0.8606 - val_loss: 0.3483 - val_accuracy: 0.8600\n",
            "Epoch 22/200\n",
            "282/282 [==============================] - 1s 4ms/step - loss: 0.3364 - accuracy: 0.8598 - val_loss: 0.3478 - val_accuracy: 0.8520\n",
            "Epoch 23/200\n",
            "282/282 [==============================] - 1s 2ms/step - loss: 0.3357 - accuracy: 0.8601 - val_loss: 0.3474 - val_accuracy: 0.8530\n",
            "Epoch 24/200\n",
            "282/282 [==============================] - 1s 2ms/step - loss: 0.3360 - accuracy: 0.8587 - val_loss: 0.3477 - val_accuracy: 0.8530\n",
            "Epoch 25/200\n",
            "282/282 [==============================] - 1s 2ms/step - loss: 0.3350 - accuracy: 0.8614 - val_loss: 0.3541 - val_accuracy: 0.8480\n",
            "Epoch 26/200\n",
            "282/282 [==============================] - 1s 2ms/step - loss: 0.3351 - accuracy: 0.8619 - val_loss: 0.3463 - val_accuracy: 0.8560\n",
            "Epoch 27/200\n",
            "282/282 [==============================] - 1s 3ms/step - loss: 0.3341 - accuracy: 0.8611 - val_loss: 0.3483 - val_accuracy: 0.8560\n",
            "Epoch 28/200\n",
            "282/282 [==============================] - 1s 2ms/step - loss: 0.3343 - accuracy: 0.8604 - val_loss: 0.3475 - val_accuracy: 0.8530\n",
            "Epoch 29/200\n",
            "282/282 [==============================] - 1s 3ms/step - loss: 0.3339 - accuracy: 0.8604 - val_loss: 0.3469 - val_accuracy: 0.8530\n",
            "Epoch 30/200\n",
            "282/282 [==============================] - 1s 3ms/step - loss: 0.3339 - accuracy: 0.8619 - val_loss: 0.3488 - val_accuracy: 0.8500\n",
            "Epoch 31/200\n",
            "282/282 [==============================] - 1s 2ms/step - loss: 0.3343 - accuracy: 0.8613 - val_loss: 0.3504 - val_accuracy: 0.8550\n",
            "Epoch 32/200\n",
            "282/282 [==============================] - 1s 3ms/step - loss: 0.3321 - accuracy: 0.8596 - val_loss: 0.3468 - val_accuracy: 0.8560\n",
            "Epoch 33/200\n",
            "282/282 [==============================] - 1s 2ms/step - loss: 0.3326 - accuracy: 0.8638 - val_loss: 0.3461 - val_accuracy: 0.8530\n",
            "Epoch 34/200\n",
            "282/282 [==============================] - 1s 2ms/step - loss: 0.3330 - accuracy: 0.8616 - val_loss: 0.3443 - val_accuracy: 0.8570\n",
            "Epoch 35/200\n",
            "282/282 [==============================] - 1s 2ms/step - loss: 0.3320 - accuracy: 0.8627 - val_loss: 0.3532 - val_accuracy: 0.8510\n",
            "Epoch 36/200\n",
            "282/282 [==============================] - 1s 2ms/step - loss: 0.3320 - accuracy: 0.8628 - val_loss: 0.3465 - val_accuracy: 0.8560\n",
            "Epoch 37/200\n",
            "282/282 [==============================] - 1s 4ms/step - loss: 0.3320 - accuracy: 0.8637 - val_loss: 0.3445 - val_accuracy: 0.8560\n",
            "Epoch 38/200\n",
            "282/282 [==============================] - 1s 4ms/step - loss: 0.3322 - accuracy: 0.8629 - val_loss: 0.3439 - val_accuracy: 0.8560\n",
            "Epoch 39/200\n",
            "282/282 [==============================] - 1s 4ms/step - loss: 0.3310 - accuracy: 0.8620 - val_loss: 0.3449 - val_accuracy: 0.8550\n",
            "Epoch 40/200\n",
            "282/282 [==============================] - 1s 4ms/step - loss: 0.3302 - accuracy: 0.8663 - val_loss: 0.3454 - val_accuracy: 0.8550\n",
            "Epoch 41/200\n",
            "282/282 [==============================] - 1s 3ms/step - loss: 0.3317 - accuracy: 0.8628 - val_loss: 0.3447 - val_accuracy: 0.8570\n",
            "Epoch 42/200\n",
            "282/282 [==============================] - 1s 3ms/step - loss: 0.3310 - accuracy: 0.8629 - val_loss: 0.3489 - val_accuracy: 0.8520\n",
            "Epoch 43/200\n",
            "282/282 [==============================] - 1s 2ms/step - loss: 0.3310 - accuracy: 0.8618 - val_loss: 0.3490 - val_accuracy: 0.8550\n",
            "Epoch 44/200\n",
            "282/282 [==============================] - 1s 4ms/step - loss: 0.3309 - accuracy: 0.8644 - val_loss: 0.3450 - val_accuracy: 0.8550\n",
            "Epoch 45/200\n",
            "282/282 [==============================] - 1s 5ms/step - loss: 0.3290 - accuracy: 0.8648 - val_loss: 0.3422 - val_accuracy: 0.8620\n",
            "Epoch 46/200\n",
            "282/282 [==============================] - 1s 4ms/step - loss: 0.3297 - accuracy: 0.8658 - val_loss: 0.3440 - val_accuracy: 0.8550\n",
            "Epoch 47/200\n",
            "282/282 [==============================] - 1s 3ms/step - loss: 0.3286 - accuracy: 0.8646 - val_loss: 0.3486 - val_accuracy: 0.8570\n",
            "Epoch 48/200\n",
            "282/282 [==============================] - 1s 3ms/step - loss: 0.3291 - accuracy: 0.8650 - val_loss: 0.3418 - val_accuracy: 0.8590\n",
            "Epoch 49/200\n",
            "282/282 [==============================] - 1s 3ms/step - loss: 0.3289 - accuracy: 0.8637 - val_loss: 0.3437 - val_accuracy: 0.8580\n",
            "Epoch 50/200\n",
            "282/282 [==============================] - 1s 3ms/step - loss: 0.3285 - accuracy: 0.8639 - val_loss: 0.3416 - val_accuracy: 0.8570\n",
            "Epoch 51/200\n",
            "282/282 [==============================] - 1s 3ms/step - loss: 0.3292 - accuracy: 0.8649 - val_loss: 0.3406 - val_accuracy: 0.8600\n",
            "Epoch 52/200\n",
            "282/282 [==============================] - 1s 3ms/step - loss: 0.3292 - accuracy: 0.8641 - val_loss: 0.3421 - val_accuracy: 0.8590\n",
            "Epoch 53/200\n",
            "282/282 [==============================] - 1s 4ms/step - loss: 0.3281 - accuracy: 0.8672 - val_loss: 0.3391 - val_accuracy: 0.8600\n",
            "Epoch 54/200\n",
            "282/282 [==============================] - 1s 4ms/step - loss: 0.3276 - accuracy: 0.8652 - val_loss: 0.3524 - val_accuracy: 0.8520\n",
            "Epoch 55/200\n",
            "282/282 [==============================] - 1s 4ms/step - loss: 0.3288 - accuracy: 0.8650 - val_loss: 0.3435 - val_accuracy: 0.8570\n",
            "Epoch 56/200\n",
            "282/282 [==============================] - 1s 3ms/step - loss: 0.3263 - accuracy: 0.8679 - val_loss: 0.3420 - val_accuracy: 0.8570\n",
            "Epoch 57/200\n",
            "282/282 [==============================] - 1s 2ms/step - loss: 0.3266 - accuracy: 0.8657 - val_loss: 0.3478 - val_accuracy: 0.8550\n",
            "Epoch 58/200\n",
            "282/282 [==============================] - 1s 2ms/step - loss: 0.3265 - accuracy: 0.8667 - val_loss: 0.3401 - val_accuracy: 0.8590\n",
            "Epoch 59/200\n",
            "282/282 [==============================] - 1s 2ms/step - loss: 0.3269 - accuracy: 0.8661 - val_loss: 0.3399 - val_accuracy: 0.8590\n",
            "Epoch 60/200\n",
            "282/282 [==============================] - 1s 3ms/step - loss: 0.3271 - accuracy: 0.8660 - val_loss: 0.3434 - val_accuracy: 0.8520\n",
            "Epoch 61/200\n",
            "282/282 [==============================] - 1s 2ms/step - loss: 0.3263 - accuracy: 0.8654 - val_loss: 0.3406 - val_accuracy: 0.8570\n",
            "Epoch 62/200\n",
            "282/282 [==============================] - 1s 2ms/step - loss: 0.3272 - accuracy: 0.8664 - val_loss: 0.3422 - val_accuracy: 0.8560\n",
            "Epoch 63/200\n",
            "282/282 [==============================] - 1s 2ms/step - loss: 0.3257 - accuracy: 0.8647 - val_loss: 0.3396 - val_accuracy: 0.8570\n",
            "Epoch 64/200\n",
            "282/282 [==============================] - 1s 2ms/step - loss: 0.3259 - accuracy: 0.8673 - val_loss: 0.3431 - val_accuracy: 0.8560\n",
            "Epoch 65/200\n",
            "282/282 [==============================] - 1s 2ms/step - loss: 0.3256 - accuracy: 0.8646 - val_loss: 0.3424 - val_accuracy: 0.8570\n",
            "Epoch 66/200\n",
            "282/282 [==============================] - 1s 2ms/step - loss: 0.3265 - accuracy: 0.8651 - val_loss: 0.3464 - val_accuracy: 0.8600\n",
            "Epoch 67/200\n",
            "282/282 [==============================] - 1s 2ms/step - loss: 0.3258 - accuracy: 0.8679 - val_loss: 0.3401 - val_accuracy: 0.8590\n",
            "Epoch 68/200\n",
            "278/282 [============================>.] - ETA: 0s - loss: 0.3243 - accuracy: 0.8689Restoring model weights from the end of the best epoch: 53.\n",
            "282/282 [==============================] - 1s 3ms/step - loss: 0.3250 - accuracy: 0.8687 - val_loss: 0.3534 - val_accuracy: 0.8510\n",
            "Epoch 68: early stopping\n"
          ]
        },
        {
          "output_type": "execute_result",
          "data": {
            "text/plain": [
              "<keras.src.callbacks.History at 0x7cdbc67b64a0>"
            ]
          },
          "metadata": {},
          "execution_count": 117
        }
      ]
    },
    {
      "cell_type": "code",
      "source": [
        "loss_df = pd.DataFrame(model.history.history)\n",
        "loss_df.plot()"
      ],
      "metadata": {
        "colab": {
          "base_uri": "https://localhost:8080/",
          "height": 447
        },
        "id": "_c0Y6vqoSm7I",
        "outputId": "8ae92774-8598-44ea-a2c9-298fe511e0fd"
      },
      "execution_count": 118,
      "outputs": [
        {
          "output_type": "execute_result",
          "data": {
            "text/plain": [
              "<Axes: >"
            ]
          },
          "metadata": {},
          "execution_count": 118
        },
        {
          "output_type": "display_data",
          "data": {
            "text/plain": [
              "<Figure size 640x480 with 1 Axes>"
            ],
            "image/png": "[encoded data removed]"
          },
          "metadata": {}
        }
      ]
    },
    {
      "cell_type": "code",
      "source": [
        "loss, accuracy = model.evaluate(X_test, y_test, verbose=0)\n",
        "print(\"loss : \", loss)\n",
        "print(\"accuracy : \", accuracy)"
      ],
      "metadata": {
        "colab": {
          "base_uri": "https://localhost:8080/"
        },
        "id": "3on50_8HSs_4",
        "outputId": "742405f4-a33e-497f-daf7-65aadfc2940a"
      },
      "execution_count": 119,
      "outputs": [
        {
          "output_type": "stream",
          "name": "stdout",
          "text": [
            "loss :  0.33914321660995483\n",
            "accuracy :  0.8600000143051147\n"
          ]
        }
      ]
    },
    {
      "cell_type": "code",
      "source": [
        "y_pred = model.predict(X_test) > 0.5\n",
        "#y_pred = model.predict_classes(X_test) for tf 2.5.0\n",
        "print(confusion_matrix(y_test, y_pred))\n",
        "print(classification_report(y_test, y_pred))"
      ],
      "metadata": {
        "colab": {
          "base_uri": "https://localhost:8080/"
        },
        "id": "-7w6EDezStKV",
        "outputId": "73d8d966-9db8-4b97-e4ae-cdb789967aa2"
      },
      "execution_count": 120,
      "outputs": [
        {
          "output_type": "stream",
          "name": "stdout",
          "text": [
            "32/32 [==============================] - 0s 4ms/step\n",
            "[[763  33]\n",
            " [107  97]]\n",
            "              precision    recall  f1-score   support\n",
            "\n",
            "           0       0.88      0.96      0.92       796\n",
            "           1       0.75      0.48      0.58       204\n",
            "\n",
            "    accuracy                           0.86      1000\n",
            "   macro avg       0.81      0.72      0.75      1000\n",
            "weighted avg       0.85      0.86      0.85      1000\n",
            "\n"
          ]
        }
      ]
    },
    {
      "cell_type": "code",
      "source": [
        "model.save('model_exited.h5')"
      ],
      "metadata": {
        "colab": {
          "base_uri": "https://localhost:8080/"
        },
        "id": "urHSnXORS9V3",
        "outputId": "83374996-e77b-49f6-b7e2-8707608016ac"
      },
      "execution_count": 121,
      "outputs": [
        {
          "output_type": "stream",
          "name": "stderr",
          "text": [
            "/usr/local/lib/python3.10/dist-packages/keras/src/engine/training.py:3079: UserWarning: You are saving your model as an HDF5 file via `model.save()`. This file format is considered legacy. We recommend using instead the native Keras format, e.g. `model.save('my_model.keras')`.\n",
            "  saving_api.save_model(\n"
          ]
        }
      ]
    },
    {
      "cell_type": "markdown",
      "metadata": {
        "id": "Cq10ovAX6daY"
      },
      "source": [
        "## Prediction"
      ]
    },
    {
      "cell_type": "code",
      "execution_count": 122,
      "metadata": {
        "id": "HpcgNak73kwq"
      },
      "outputs": [],
      "source": [
        "def predict_exit(sample_value):\n",
        "\n",
        "  # Convert list to numpy array\n",
        "  sample_value = np.array(sample_value)\n",
        "\n",
        "  # Reshape because sample_value contains only 1 record\n",
        "  sample_value = sample_value.reshape(1, -1)\n",
        "\n",
        "  # Feature Scaling\n",
        "  sample_value = sc.transform(sample_value)\n",
        "\n",
        "  return classifier.predict(sample_value)"
      ]
    },
    {
      "cell_type": "code",
      "source": [
        "# Predictions\n",
        "# Value order 'CreditScore','Age','Tenure','Balance','NumOfProducts','HasCrCard','IsActiveMember','EstimatedSalary','Germany','Spain','Male'.\n",
        "sample_value = [738, 62, 10, 83008.31, 1, 1, 1, 42766.03, 1, 0, 1]\n",
        "if predict_exit(sample_value)>0.5:\n",
        "  print('Prediction: High change of exit!')\n",
        "else:\n",
        "  print('Prediction: Low change of exit.')"
      ],
      "metadata": {
        "id": "dSjCawm3Xn2l"
      },
      "execution_count": 123,
      "outputs": []
    },
    {
      "cell_type": "code",
      "source": [
        "# Predictions\n",
        "# Value order 'CreditScore','Age','Tenure','Balance','NumOfProducts','HasCrCard','IsActiveMember','EstimatedSalary','Germany','Spain','Male'.\n",
        "sample_value = [805, 45, 9, 116585.97, 1, 1, 0, 189428.75, 1, 0, 0]\n",
        "if predict_exit(sample_value)>0.5:\n",
        "  print('Prediction: High change of exit!')\n",
        "else:\n",
        "  print('Prediction: Low change of exit.')"
      ],
      "metadata": {
        "id": "W0bUZ_G5XoDs"
      },
      "execution_count": null,
      "outputs": []
    },
    {
      "cell_type": "markdown",
      "metadata": {
        "id": "-5wLG7_93kwq"
      },
      "source": [
        "___\n",
        "\n",
        "<p style=\"text-align: center;\"><img src=\"https://docs.google.com/uc?id=1lY0Uj5R04yMY3-ZppPWxqCr5pvBLYPnV\" class=\"img-fluid\" alt=\"CLRSWY\"></p>\n",
        "\n",
        "___"
      ]
    }
  ],
  "metadata": {
    "colab": {
      "provenance": []
    },
    "kernelspec": {
      "display_name": "Python 3",
      "language": "python",
      "name": "python3"
    },
    "language_info": {
      "codemirror_mode": {
        "name": "ipython",
        "version": 3
      },
      "file_extension": ".py",
      "mimetype": "text/x-python",
      "name": "python",
      "nbconvert_exporter": "python",
      "pygments_lexer": "ipython3",
      "version": "3.7.6"
    },
    "toc": {
      "base_numbering": 1,
      "nav_menu": {},
      "number_sections": false,
      "sideBar": true,
      "skip_h1_title": false,
      "title_cell": "Table of Contents",
      "title_sidebar": "Contents",
      "toc_cell": false,
      "toc_position": {},
      "toc_section_display": true,
      "toc_window_display": true
    }
  },
  "nbformat": 4,
  "nbformat_minor": 0
}